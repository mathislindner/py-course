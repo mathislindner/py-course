{
 "cells": [
  {
   "cell_type": "markdown",
   "metadata": {},
   "source": [
    "# Numpy exercises"
   ]
  },
  {
   "cell_type": "markdown",
   "metadata": {},
   "source": [
    "## $\\mu$-exercises"
   ]
  },
  {
   "cell_type": "markdown",
   "metadata": {},
   "source": [
    "### 1\n",
    "\n",
    "Below is simplified version of a GUI seen in the lecture notes.\n",
    "\n",
    "Adapt the code below as follows: add an Entry field to ask the user's real age in a number. When clicking \"Go\", check if the user entered something valid (i.e. an integer), and, if not, display an error message (`messagebox.showerror()`) and let him retry.\n",
    "\n",
    "**Hints**:\n",
    "* first instantiate a new Label and a new Entry field, then use `grid` to place them into the main window\n",
    "* the `go()` function is called when the user clicks on the Go! button\n",
    "* within `go()`, first read the content of the age Entry field (always of string type!) into a variable and then do error checking\n",
    "* to check if the user entered an integer, try casting the entered string to int and catch the error\n",
    "* you can use `return` anywhere to exit a function prematurely"
   ]
  },
  {
   "cell_type": "code",
   "execution_count": 9,
   "metadata": {},
   "outputs": [],
   "source": [
    "import tkinter\n",
    "from tkinter import messagebox\n",
    "    \n",
    "main = tkinter.Tk()\n",
    "    \n",
    "# Create a Label.\n",
    "l1 = tkinter.Label(main, text=\"Enter your name here:\", font=\"Courier 10 bold\")\n",
    "l1.grid(row=0, column=0)\n",
    "\n",
    "\n",
    "# Create an Entry.\n",
    "e1 = tkinter.Entry(main)\n",
    "e1.grid(row=0, column=1)\n",
    "\n",
    "\n",
    "\n",
    "### Enter your code for GUI elements here.\n",
    "l2 = tkinter.Label(main, text=\"Enter your age here:\", font=\"Courier 10 bold\")\n",
    "l2.grid(row=1, column=0)\n",
    "e2 = tkinter.Entry(main)\n",
    "e2.grid(row=1, column=1)\n",
    "\n",
    "# Callback functions for the buttons.\n",
    "def end():\n",
    "    main.destroy()\n",
    "\n",
    "def go():\n",
    "    \n",
    "    try:\n",
    "        age = int(e2.get())\n",
    "    except:\n",
    "        messagebox.showerror(\"please enter an integer\")\n",
    "    \n",
    "    \n",
    "    # Final message box.\n",
    "    name = e1.get()\n",
    "    greeting = 'Hello {:s} and you are {:d} years old.'.format(name, age)\n",
    "    messagebox.showinfo('Go!', greeting)\n",
    "    # Quit the GUI.\n",
    "    end()\n",
    "\n",
    "# Create two Buttons.\n",
    "bt1 = tkinter.Button(main, text=\"Quit\", command=end)\n",
    "bt1.grid(row=99, column=0)\n",
    "bt2 = tkinter.Button(main, text=\"Go!\", command=go)\n",
    "bt2.grid(row=99, column=1)\n",
    "\n",
    "main.mainloop()"
   ]
  },
  {
   "cell_type": "markdown",
   "metadata": {},
   "source": [
    "### 2\n",
    "\n",
    "Import numpy by renaming it as \"np\". Then create an array containing the numbers from 50 to 99 and transform it into a 5x10 matrix. Print the shape and the number of dimensions of the matrix. Then access the 5th element in the 2nd row."
   ]
  },
  {
   "cell_type": "code",
   "execution_count": 42,
   "metadata": {},
   "outputs": [
    {
     "name": "stdout",
     "output_type": "stream",
     "text": [
      "[[50 51 52 53 54 55 56 57 58 59]\n",
      " [60 61 62 63 64 65 66 67 68 69]\n",
      " [70 71 72 73 74 75 76 77 78 79]\n",
      " [80 81 82 83 84 85 86 87 88 89]\n",
      " [90 91 92 93 94 95 96 97 98 99]]\n",
      "64\n"
     ]
    }
   ],
   "source": [
    "import numpy as np\n",
    "\n",
    "a = np.arange(50,100)\n",
    "li = a.reshape(5,10)\n",
    "\n",
    "print (li[1][4])"
   ]
  },
  {
   "cell_type": "markdown",
   "metadata": {},
   "source": [
    "### 3\n",
    "\n",
    "Create an array containing the numbers from 50 to 100 and make a 5x10 matrix out of it. Print the shape and the number of dimensions of the matrix."
   ]
  },
  {
   "cell_type": "code",
   "execution_count": 51,
   "metadata": {},
   "outputs": [
    {
     "name": "stdout",
     "output_type": "stream",
     "text": [
      "(5, 10) \n",
      " 2\n"
     ]
    }
   ],
   "source": [
    "import numpy as np\n",
    "\n",
    "a = np.arange(50,100)\n",
    "li = []\n",
    "\n",
    "for i in range(5):\n",
    "    temp=[]\n",
    "    for j in range(10):\n",
    "        temp.append(a[(j)+(i*10)])\n",
    "    li.append(temp)\n",
    "\n",
    "matrix = np.array(li)\n",
    "\n",
    "print(matrix.shape, \"\\n\",matrix.ndim)"
   ]
  },
  {
   "cell_type": "markdown",
   "metadata": {},
   "source": [
    "### 4\n",
    "\n",
    "Create the identity matrix of shape 5x5."
   ]
  },
  {
   "cell_type": "code",
   "execution_count": 54,
   "metadata": {},
   "outputs": [
    {
     "data": {
      "text/plain": [
       "array([[1., 0., 0., 0., 0.],\n",
       "       [0., 1., 0., 0., 0.],\n",
       "       [0., 0., 1., 0., 0.],\n",
       "       [0., 0., 0., 1., 0.],\n",
       "       [0., 0., 0., 0., 1.]])"
      ]
     },
     "execution_count": 54,
     "metadata": {},
     "output_type": "execute_result"
    }
   ],
   "source": [
    "np.eye(5)"
   ]
  },
  {
   "cell_type": "markdown",
   "metadata": {},
   "source": [
    "Create an array with 10 elements with no particular initial value."
   ]
  },
  {
   "cell_type": "code",
   "execution_count": 66,
   "metadata": {},
   "outputs": [
    {
     "data": {
      "text/plain": [
       "array([1.54523733e-310, 1.81314761e-312, 6.01428143e+175, 1.19097237e+190,\n",
       "       1.23171028e+301, 1.72826610e-312, 4.10421827e-307, 2.37636467e-212,\n",
       "       4.33931561e-313, 6.57145184e-299])"
      ]
     },
     "execution_count": 66,
     "metadata": {},
     "output_type": "execute_result"
    }
   ],
   "source": [
    "np.empty(10)"
   ]
  },
  {
   "cell_type": "markdown",
   "metadata": {},
   "source": [
    "### 5\n",
    "\n",
    "Create a list of 15 integer values and transform it into a 5x3."
   ]
  },
  {
   "cell_type": "code",
   "execution_count": 65,
   "metadata": {},
   "outputs": [
    {
     "data": {
      "text/plain": [
       "array([[0., 0., 0.],\n",
       "       [0., 0., 0.],\n",
       "       [0., 0., 0.],\n",
       "       [0., 0., 0.],\n",
       "       [0., 0., 0.]])"
      ]
     },
     "execution_count": 65,
     "metadata": {},
     "output_type": "execute_result"
    }
   ],
   "source": [
    "a = np.empty(15)\n",
    "a.reshape(5,3)"
   ]
  },
  {
   "cell_type": "markdown",
   "metadata": {},
   "source": [
    "Transform the matrix back into a 1-D array."
   ]
  },
  {
   "cell_type": "code",
   "execution_count": 67,
   "metadata": {},
   "outputs": [
    {
     "data": {
      "text/plain": [
       "array([0., 0., 0., 0., 0., 0., 0., 0., 0., 0., 0., 0., 0., 0., 0.])"
      ]
     },
     "execution_count": 67,
     "metadata": {},
     "output_type": "execute_result"
    }
   ],
   "source": [
    "a.reshape(15)"
   ]
  },
  {
   "cell_type": "markdown",
   "metadata": {},
   "source": [
    "### 6\n",
    "\n",
    "Make a 3x2x6 matrix containing values from 0 to 35 in increasing order and print the third element of every first row of every dimension. "
   ]
  },
  {
   "cell_type": "code",
   "execution_count": 70,
   "metadata": {},
   "outputs": [
    {
     "data": {
      "text/plain": [
       "array([[[ 0,  1,  2,  3,  4,  5],\n",
       "        [ 6,  7,  8,  9, 10, 11]],\n",
       "\n",
       "       [[12, 13, 14, 15, 16, 17],\n",
       "        [18, 19, 20, 21, 22, 23]],\n",
       "\n",
       "       [[24, 25, 26, 27, 28, 29],\n",
       "        [30, 31, 32, 33, 34, 35]]])"
      ]
     },
     "execution_count": 70,
     "metadata": {},
     "output_type": "execute_result"
    }
   ],
   "source": [
    "l = np.array([i for i in range(36)])\n",
    "l.reshape(3,2,6)"
   ]
  },
  {
   "cell_type": "markdown",
   "metadata": {},
   "source": [
    "### 7\n",
    "\n",
    "Create an array of numbers from 0 to 25 and use it to print every second letter of the alphabet.\n",
    "\n",
    "Hint: the alphabet can be defined with:\n",
    "\n",
    "\n",
    "```python\n",
    "alphabet = np.array([chr(i) for i in range(ord('a'),ord('z')+1)])\n",
    "```"
   ]
  },
  {
   "cell_type": "code",
   "execution_count": 78,
   "metadata": {},
   "outputs": [
    {
     "name": "stdout",
     "output_type": "stream",
     "text": [
      "97\n",
      "a\n",
      "c\n",
      "e\n",
      "g\n",
      "i\n",
      "k\n",
      "m\n",
      "o\n",
      "q\n",
      "s\n",
      "u\n",
      "w\n",
      "y\n"
     ]
    }
   ],
   "source": [
    "#print(ord('a'))\n",
    "\n",
    "a = np.array([i for i in range (26)])\n",
    "for i in range(13):\n",
    "    print(chr(97+a[2*i])) #alphabet starts at chr(97)"
   ]
  },
  {
   "cell_type": "markdown",
   "metadata": {},
   "source": [
    "### 8\n",
    "\n",
    "Print the dot and elementwise multiplication of two matrices of your choice. Choose them such that the two results are not the same."
   ]
  },
  {
   "cell_type": "code",
   "execution_count": 16,
   "metadata": {},
   "outputs": [
    {
     "name": "stdout",
     "output_type": "stream",
     "text": [
      "[[  1   8  27]\n",
      " [ 64 125 216]\n",
      " [343 512 729]]\n",
      "[[ 180  246  324]\n",
      " [ 378  525  702]\n",
      " [ 576  804 1080]]\n"
     ]
    }
   ],
   "source": [
    "matrix_1 = np.array([i for i in range(1,10)]).reshape(3,3)\n",
    "matrix_2 = np.array([i**2 for i in range (1,10)]).reshape(3,3)\n",
    "\n",
    "element_mult = matrix_1 * matrix_2\n",
    "dot = matrix_1.dot(matrix_2)\n",
    "\n",
    "print(element_mult)\n",
    "print(dot)"
   ]
  },
  {
   "cell_type": "markdown",
   "metadata": {},
   "source": [
    "### 9\n",
    "\n",
    "Compute the inverse of a matrix of your choice."
   ]
  },
  {
   "cell_type": "code",
   "execution_count": 94,
   "metadata": {},
   "outputs": [
    {
     "data": {
      "text/plain": [
       "array([[ 1.29166667, -1.16666667,  0.375     ],\n",
       "       [-2.16666667,  1.66666667, -0.5       ],\n",
       "       [ 0.93055556, -0.61111111,  0.18055556]])"
      ]
     },
     "execution_count": 94,
     "metadata": {},
     "output_type": "execute_result"
    }
   ],
   "source": [
    "np.linalg.inv(matrix_2)"
   ]
  },
  {
   "cell_type": "markdown",
   "metadata": {},
   "source": [
    "## Exercise 1: speed check"
   ]
  },
  {
   "cell_type": "markdown",
   "metadata": {},
   "source": [
    "Based on the code below, compare the execution time of a matrix multiplication *with* and *without* numpy. In particular:\n",
    "\n",
    "* Create two 300x300 Matrices $A$ and $B$ and fill them with random values.\n",
    "* Implement the matrix multiplication only using lists, loops and python built-in functions (`sum`, `max`, `len` etc.)\n",
    "* Use the `numpy` provided method `.dot()` for the multiplication"
   ]
  },
  {
   "cell_type": "code",
   "execution_count": 116,
   "metadata": {},
   "outputs": [
    {
     "name": "stdout",
     "output_type": "stream",
     "text": [
      "Time used for pure python 300x300 matrix multiply: 16.155672073364258 seconds\n",
      "Time used for 300x300 matrix multiply using numpy: 0.001995563507080078 seconds\n"
     ]
    }
   ],
   "source": [
    "import time\n",
    "import random as ran\n",
    "import numpy as np\n",
    "\n",
    "A=[]\n",
    "B=[]\n",
    "C_a= [[0 for i in range(300)] for i in range(300)] #w/o np\n",
    "C_b=[] #w/ np\n",
    "\n",
    "for i in range(300):\n",
    "    temp_a = []\n",
    "    temp_b = []\n",
    "    for j in range(300):\n",
    "        temp_a.append(ran.random())\n",
    "        temp_b.append(ran.random())\n",
    "    A.append(temp_a)\n",
    "    B.append(temp_b)\n",
    "\n",
    "cur = time.time()\n",
    "\n",
    "for i in range (len(A)):\n",
    "    for j in range(len(B[0])):\n",
    "        for k in range(len(B)):\n",
    "            C_a[i][j] += A[i][k]*B[k][j]\n",
    "\n",
    "\n",
    "after = time.time()\n",
    "timedelta_pure_python = after - cur # time difference in seconds \n",
    "\n",
    "A_array = np.array(A)\n",
    "B_array = np.array(B)\n",
    "\n",
    "cur = time.time()\n",
    "\n",
    "C_b = np.matmul(A_array,B_array)\n",
    "# TODO: calculate matrix multiplication of A * B using numpy\n",
    "\n",
    "after = time.time()\n",
    "timedelta_numpy = after - cur # time difference in seconds \n",
    "\n",
    "print('Time used for pure python 300x300 matrix multiply:', timedelta_pure_python, 'seconds')\n",
    "print('Time used for 300x300 matrix multiply using numpy:', timedelta_numpy, 'seconds')"
   ]
  },
  {
   "cell_type": "code",
   "execution_count": null,
   "metadata": {},
   "outputs": [],
   "source": []
  },
  {
   "cell_type": "markdown",
   "metadata": {},
   "source": [
    "## Exercise 2: image operations"
   ]
  },
  {
   "cell_type": "markdown",
   "metadata": {},
   "source": [
    "In this exercise you should blur an image by convoluting the matrices which represent the colors of the image with a \"kernel\". See this Wikipedia page for more information:\n",
    "\n",
    "https://en.wikipedia.org/wiki/Kernel_(image_processing) \n",
    "\n",
    "The following animation illustrates how the convolution works:\n",
    "\n",
    "![Animation](https://upload.wikimedia.org/wikipedia/commons/4/4f/3D_Convolution_Animation.gif)\n",
    "Source: Wikimedia.org, https://upload.wikimedia.org/wikipedia/commons/4/4f/3D_Convolution_Animation.gif, Author: Michael Plotke\n",
    "\n",
    "In this exercise, let's define the kernel as: \n",
    "\\begin{equation*}\n",
    "A=\n",
    "\\frac{1}{9}\n",
    "\\begin{bmatrix}\n",
    "    1 & 1 & 1 \\\\\n",
    "    1 & 1 & 1 \\\\\n",
    "    1 & 1 & 1\n",
    "\\end{bmatrix}\n",
    "\\end{equation*}\n",
    "\n",
    "As source image, you can use the provided onw (`cat.png`) or anything else.\n",
    "\n",
    "_The sample picture is also available under: https://www.maxpixel.net/Funny-Cat-Cute-Wink-Animal-Fur-Adidas-Red-Pet-1333922_"
   ]
  },
  {
   "cell_type": "code",
   "execution_count": 45,
   "metadata": {},
   "outputs": [
    {
     "data": {
      "text/plain": [
       "'\\ndef pos(x,y): #returns if pixel is top(t), bottom(b), left(l), right(r), topleftcorner(tlc),toprightcorner(trc),bottomleftcorner(blc),bottom,rightcorner(tlc),normal(n)\\n    if(x == 0):\\n        if(y == 0):\\n            return \"tlc\"\\n        if (y == image_height-1):\\n            return \"blc\"\\n        return \\'l\\'\\n    if(x == image_width-1):\\n        if(y == 0):\\n            return \"trc\"\\n        if (y == image_height-1):\\n            return \"brc\"\\n        return \\'r\\'\\n    if (y == 0):\\n        return \\'t\\'\\n    if (y == image_height-1):\\n        return \\'b\\'\\n    return \\'n\\'\\n\\ndef process(x,y): #redirects to the function it can be processed to\\n    if pos(x,y) == \\'n\\':\\n        process_n(x,y)\\n    elif pos(x,y) == \\'t\\':\\n        process_t(x,y)\\n    elif pos(x,y) == \\'b\\':\\n        process_b(x,y)\\n    elif pos(x,y) == \\'l\\':\\n        process_l(x,y)\\n    elif pos(x,y) == \\'r\\':\\n        process_r(x,y)\\n    elif pos(x,y) == \"tlc\":\\n        process_tlc(x,y)\\n    elif pos(x,y) == \"trc\":\\n        process_trc(x,y)\\n    elif pos(x,y) == \"blc\":\\n        process_blc(x,y)\\n    elif pos(x,y) == \"brc\":\\n        process_brc(x,y)\\n\\n\\ndef process_n(x,y):\\n    for i in range(3): #rgb\\n        temp_matrix = np.array(image[x-1:x+1,y-1:y+1,i])\\n        image[x,y,i] = sum(kernel*temp_matrix)\\n        \\ndef process_t(x,y):\\n    pass\\ndef process_b(x,y):\\n    pass\\ndef process_l(x,y):\\n    pass\\ndef process_r(x,y):\\n    pass\\ndef process_tlc(x,y):\\n    pass\\ndef process_trc(x,y):\\n    pass\\ndef process_blc(x,y):\\n    pass\\ndef process_brc(x,y):\\n    pass\\n\\nplt.imshow(processed_image[:,:,:])      \\n\\nfor i in range (image_height):\\n    print(i)\\n    for j in range (image_width):\\n        process(i,j)\\n'"
      ]
     },
     "execution_count": 45,
     "metadata": {},
     "output_type": "execute_result"
    },
    {
     "data": {
      "image/png": "[encoded data removed]",
      "text/plain": [
       "<Figure size 432x288 with 1 Axes>"
      ]
     },
     "metadata": {
      "needs_background": "light"
     },
     "output_type": "display_data"
    }
   ],
   "source": [
    "import matplotlib.pyplot as plt\n",
    "import numpy as np\n",
    "\n",
    "image = plt.imread('./cat.png')\n",
    "image_height = image.shape[0]\n",
    "image_width = image.shape[1]\n",
    "processed_image = image\n",
    "kernel = (1/9)*np.ones((3,3))\n",
    " \n",
    "for x in range (1,image_height-1):\n",
    "    for y in range (1,image_width-1):\n",
    "        for k in range(3): #rgb\n",
    "            temp_matrix = np.array(image[x-1:x+2,y-1:y+2,k])\n",
    "            value=np.sum((kernel*temp_matrix).reshape(1,9))\n",
    "            processed_image[x,y,k] = value\n",
    "\n",
    "plt.imshow(processed_image[:,:,:])   \n",
    "\n",
    "\n",
    "\"\"\"\n",
    "def pos(x,y): #returns if pixel is top(t), bottom(b), left(l), right(r), topleftcorner(tlc),toprightcorner(trc),bottomleftcorner(blc),bottom,rightcorner(tlc),normal(n)\n",
    "    if(x == 0):\n",
    "        if(y == 0):\n",
    "            return \"tlc\"\n",
    "        if (y == image_height-1):\n",
    "            return \"blc\"\n",
    "        return 'l'\n",
    "    if(x == image_width-1):\n",
    "        if(y == 0):\n",
    "            return \"trc\"\n",
    "        if (y == image_height-1):\n",
    "            return \"brc\"\n",
    "        return 'r'\n",
    "    if (y == 0):\n",
    "        return 't'\n",
    "    if (y == image_height-1):\n",
    "        return 'b'\n",
    "    return 'n'\n",
    "\n",
    "def process(x,y): #redirects to the function it can be processed to\n",
    "    if pos(x,y) == 'n':\n",
    "        process_n(x,y)\n",
    "    elif pos(x,y) == 't':\n",
    "        process_t(x,y)\n",
    "    elif pos(x,y) == 'b':\n",
    "        process_b(x,y)\n",
    "    elif pos(x,y) == 'l':\n",
    "        process_l(x,y)\n",
    "    elif pos(x,y) == 'r':\n",
    "        process_r(x,y)\n",
    "    elif pos(x,y) == \"tlc\":\n",
    "        process_tlc(x,y)\n",
    "    elif pos(x,y) == \"trc\":\n",
    "        process_trc(x,y)\n",
    "    elif pos(x,y) == \"blc\":\n",
    "        process_blc(x,y)\n",
    "    elif pos(x,y) == \"brc\":\n",
    "        process_brc(x,y)\n",
    "\n",
    "\n",
    "def process_n(x,y):\n",
    "    for i in range(3): #rgb\n",
    "        temp_matrix = np.array(image[x-1:x+1,y-1:y+1,i])\n",
    "        image[x,y,i] = sum(kernel*temp_matrix)\n",
    "        \n",
    "def process_t(x,y):\n",
    "    pass\n",
    "def process_b(x,y):\n",
    "    pass\n",
    "def process_l(x,y):\n",
    "    pass\n",
    "def process_r(x,y):\n",
    "    pass\n",
    "def process_tlc(x,y):\n",
    "    pass\n",
    "def process_trc(x,y):\n",
    "    pass\n",
    "def process_blc(x,y):\n",
    "    pass\n",
    "def process_brc(x,y):\n",
    "    pass\n",
    "\n",
    "plt.imshow(processed_image[:,:,:])      \n",
    "\n",
    "for i in range (image_height):\n",
    "    print(i)\n",
    "    for j in range (image_width):\n",
    "        process(i,j)\n",
    "\"\"\"\n"
   ]
  }
 ],
 "metadata": {
  "kernelspec": {
   "display_name": "Python 3",
   "language": "python",
   "name": "python3"
  },
  "language_info": {
   "codemirror_mode": {
    "name": "ipython",
    "version": 3
   },
   "file_extension": ".py",
   "mimetype": "text/x-python",
   "name": "python",
   "nbconvert_exporter": "python",
   "pygments_lexer": "ipython3",
   "version": "3.7.0"
  }
 },
 "nbformat": 4,
 "nbformat_minor": 2
}
