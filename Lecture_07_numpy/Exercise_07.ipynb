{
 "cells": [
  {
   "cell_type": "markdown",
   "metadata": {},
   "source": [
    "# Numpy exercises"
   ]
  },
  {
   "cell_type": "markdown",
   "metadata": {},
   "source": [
    "## $\\mu$-exercises"
   ]
  },
  {
   "cell_type": "markdown",
   "metadata": {},
   "source": [
    "### 1\n",
    "\n",
    "Below is simplified version of a GUI seen in the lecture notes.\n",
    "\n",
    "Adapt the code below as follows: add an Entry field to ask the user's real age in a number. When clicking \"Go\", check if the user entered something valid (i.e. an integer), and, if not, display an error message (`messagebox.showerror()`) and let him retry.\n",
    "\n",
    "**Hints**:\n",
    "* first instantiate a new Label and a new Entry field, then use `grid` to place them into the main window\n",
    "* the `go()` function is called when the user clicks on the Go! button\n",
    "* within `go()`, first read the content of the age Entry field (always of string type!) into a variable and then do error checking\n",
    "* to check if the user entered an integer, try casting the entered string to int and catch the error\n",
    "* you can use `return` anywhere to exit a function prematurely"
   ]
  },
  {
   "cell_type": "code",
   "execution_count": null,
   "metadata": {},
   "outputs": [],
   "source": [
    "import tkinter\n",
    "from tkinter import messagebox\n",
    "    \n",
    "main = tkinter.Tk()\n",
    "    \n",
    "# Create a Label.\n",
    "l1 = tkinter.Label(main, text=\"Enter your name here:\", font=\"Courier 10 bold\")\n",
    "l1.grid(row=0, column=0)\n",
    "\n",
    "# Create an Entry.\n",
    "e1 = tkinter.Entry(main)\n",
    "e1.grid(row=0, column=1)\n",
    "\n",
    "\n",
    "### Enter your code for GUI elements here.\n",
    "\n",
    "\n",
    "# Callback functions for the buttons.\n",
    "def end():\n",
    "    main.destroy()\n",
    "\n",
    "def go():\n",
    "    \n",
    "    \n",
    "    ### Enter your code for error checking here.\n",
    "    age = 9999999 # just a dummy value\n",
    "    \n",
    "    \n",
    "    # Final message box.\n",
    "    name = e1.get()\n",
    "    greeting = 'Hello {:s} and you are {:d} years old.'.format(name, age)\n",
    "    messagebox.showinfo('Go!', greeting)\n",
    "    # Quit the GUI.\n",
    "    end()\n",
    "\n",
    "# Create two Buttons.\n",
    "bt1 = tkinter.Button(main, text=\"Quit\", command=end)\n",
    "bt1.grid(row=99, column=0)\n",
    "bt2 = tkinter.Button(main, text=\"Go!\", command=go)\n",
    "bt2.grid(row=99, column=1)\n",
    "\n",
    "main.mainloop()"
   ]
  },
  {
   "cell_type": "markdown",
   "metadata": {},
   "source": [
    "### 2\n",
    "\n",
    "Import numpy by renaming it as \"np\". Then create an array containing the numbers from 50 to 99 and transform it into a 5x10 matrix. Print the shape and the number of dimensions of the matrix. Then access the 5th element in the 2nd row."
   ]
  },
  {
   "cell_type": "code",
   "execution_count": null,
   "metadata": {},
   "outputs": [],
   "source": []
  },
  {
   "cell_type": "markdown",
   "metadata": {},
   "source": [
    "### 3\n",
    "\n",
    "Create an array containing the numbers from 50 to 100 and make a 5x10 matrix out of it. Print the shape and the number of dimensions of the matrix."
   ]
  },
  {
   "cell_type": "code",
   "execution_count": null,
   "metadata": {},
   "outputs": [],
   "source": []
  },
  {
   "cell_type": "markdown",
   "metadata": {},
   "source": [
    "### 4\n",
    "\n",
    "Create the identity matrix of shape 5x5."
   ]
  },
  {
   "cell_type": "code",
   "execution_count": null,
   "metadata": {},
   "outputs": [],
   "source": []
  },
  {
   "cell_type": "markdown",
   "metadata": {},
   "source": [
    "Create an array with 10 elements with no particular initial value."
   ]
  },
  {
   "cell_type": "code",
   "execution_count": null,
   "metadata": {},
   "outputs": [],
   "source": []
  },
  {
   "cell_type": "markdown",
   "metadata": {},
   "source": [
    "### 5\n",
    "\n",
    "Create a list of 15 integer values and transform it into a 5x3."
   ]
  },
  {
   "cell_type": "code",
   "execution_count": null,
   "metadata": {},
   "outputs": [],
   "source": []
  },
  {
   "cell_type": "markdown",
   "metadata": {},
   "source": [
    "Transform the matrix back into a 1-D array."
   ]
  },
  {
   "cell_type": "code",
   "execution_count": null,
   "metadata": {},
   "outputs": [],
   "source": []
  },
  {
   "cell_type": "markdown",
   "metadata": {},
   "source": [
    "### 6\n",
    "\n",
    "Make a 3x2x6 matrix containing values from 0 to 35 in increasing order and print the third element of every first row of every dimension. "
   ]
  },
  {
   "cell_type": "code",
   "execution_count": null,
   "metadata": {},
   "outputs": [],
   "source": []
  },
  {
   "cell_type": "markdown",
   "metadata": {},
   "source": [
    "### 7\n",
    "\n",
    "Create an array of numbers from 0 to 25 and use it to print every second letter of the alphabet.\n",
    "\n",
    "Hint: the alphabet can be defined with:\n",
    "\n",
    "\n",
    "```python\n",
    "alphabet = np.array([chr(i) for i in range(ord('a'),ord('z')+1)])\n",
    "```"
   ]
  },
  {
   "cell_type": "code",
   "execution_count": null,
   "metadata": {},
   "outputs": [],
   "source": []
  },
  {
   "cell_type": "markdown",
   "metadata": {},
   "source": [
    "### 8\n",
    "\n",
    "Print the dot and elementwise multiplication of two matrices of your choice. Choose them such that the two results are not the same."
   ]
  },
  {
   "cell_type": "code",
   "execution_count": null,
   "metadata": {},
   "outputs": [],
   "source": []
  },
  {
   "cell_type": "markdown",
   "metadata": {},
   "source": [
    "### 9\n",
    "\n",
    "Compute the inverse of a matrix of your choice."
   ]
  },
  {
   "cell_type": "code",
   "execution_count": null,
   "metadata": {},
   "outputs": [],
   "source": []
  },
  {
   "cell_type": "markdown",
   "metadata": {},
   "source": [
    "## Exercise 1: speed check"
   ]
  },
  {
   "cell_type": "markdown",
   "metadata": {},
   "source": [
    "Based on the code below, compare the execution time of a matrix multiplication *with* and *without* numpy. In particular:\n",
    "\n",
    "* Create two 300x300 Matrices $A$ and $B$ and fill them with random values.\n",
    "* Implement the matrix multiplication only using lists, loops and python built-in functions (`sum`, `max`, `len` etc.)\n",
    "* Use the `numpy` provided method `.dot()` for the multiplication"
   ]
  },
  {
   "cell_type": "code",
   "execution_count": null,
   "metadata": {},
   "outputs": [],
   "source": [
    "import time\n",
    "\n",
    "\n",
    "# TODO: fill your matrices A & B\n",
    "\n",
    "\n",
    "cur = time.time()\n",
    "\n",
    "# TODO: calculate matrix multiplication of A * B in pure python\n",
    "\n",
    "after = time.time()\n",
    "timedelta_pure_python = after - cur # time difference in seconds \n",
    "\n",
    "\n",
    "cur = time.time()\n",
    "\n",
    "# TODO: calculate matrix multiplication of A * B using numpy\n",
    "\n",
    "after = time.time()\n",
    "timedelta_numpy = after - cur # time difference in seconds \n",
    "\n",
    "\n",
    "print('Time used for pure python 300x300 matrix multiply:', timedelta_pure_python, 'seconds')\n",
    "print('Time used for 300x300 matrix multiply using numpy:', timedelta_numpy, 'seconds')"
   ]
  },
  {
   "cell_type": "code",
   "execution_count": null,
   "metadata": {},
   "outputs": [],
   "source": []
  },
  {
   "cell_type": "markdown",
   "metadata": {},
   "source": [
    "## Exercise 2: image operations"
   ]
  },
  {
   "cell_type": "markdown",
   "metadata": {},
   "source": [
    "In this exercise you should blur an image by convoluting the matrices which represent the colors of the image with a \"kernel\". See this Wikipedia page for more information:\n",
    "\n",
    "https://en.wikipedia.org/wiki/Kernel_(image_processing) \n",
    "\n",
    "The following animation illustrates how the convolution works:\n",
    "\n",
    "![Animation](https://upload.wikimedia.org/wikipedia/commons/4/4f/3D_Convolution_Animation.gif)\n",
    "Source: Wikimedia.org, https://upload.wikimedia.org/wikipedia/commons/4/4f/3D_Convolution_Animation.gif, Author: Michael Plotke\n",
    "\n",
    "In this exercise, let's define the kernel as: \n",
    "\\begin{equation*}\n",
    "A=\n",
    "\\frac{1}{9}\n",
    "\\begin{bmatrix}\n",
    "    1 & 1 & 1 \\\\\n",
    "    1 & 1 & 1 \\\\\n",
    "    1 & 1 & 1\n",
    "\\end{bmatrix}\n",
    "\\end{equation*}\n",
    "\n",
    "As source image, you can use the provided onw (`cat.png`) or anything else.\n",
    "\n",
    "_The sample picture is also available under: https://www.maxpixel.net/Funny-Cat-Cute-Wink-Animal-Fur-Adidas-Red-Pet-1333922_"
   ]
  },
  {
   "cell_type": "code",
   "execution_count": null,
   "metadata": {},
   "outputs": [],
   "source": []
  }
 ],
 "metadata": {
  "kernelspec": {
   "display_name": "Python 3",
   "language": "python",
   "name": "python3"
  },
  "language_info": {
   "codemirror_mode": {
    "name": "ipython",
    "version": 3
   },
   "file_extension": ".py",
   "mimetype": "text/x-python",
   "name": "python",
   "nbconvert_exporter": "python",
   "pygments_lexer": "ipython3",
   "version": "3.7.3"
  }
 },
 "nbformat": 4,
 "nbformat_minor": 2
}
