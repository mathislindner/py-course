{
 "cells": [
  {
   "cell_type": "markdown",
   "metadata": {},
   "source": [
    "# Notes about this lecture\n",
    "Because of the Corona virus outbreak, this lecture will not be held in the classroom but online only. Further, the lecture will only be available in this written form. In order to offer support for the students we will use the gitlab issue tracker as a question & answer forum: https://git.ee.ethz.ch/python-for-engineers/class-fs20-forum and individual videoconference sessions when needed.\n",
    "\n",
    "## Software\n",
    "\n",
    "### Necessary software\n",
    "Please install the following tools:\n",
    "* python3 (https://www.python.org/downloads/ version 3.8.2 is fine.\n",
    "Python is a prerequisite for jupyter)\n",
    "* jupyter-notebook (https://jupyter.org/install.html)\n",
    "* **Hint for Windows and OSX**: Try to install conda or miniconda (https://docs.conda.io/en/latest/miniconda.html) first. This will install Python and jupyter-notebook automatically.\n",
    "\n",
    "### Optional (but highly recommended) software\n",
    "* git (https://git-scm.com/download/). Git is harder to install but not strictly necessary. **Hint**: On Windows Git will automatically install a Linux compatible shell which can then be found as 'Git BASH'.\n",
    "* If git is not available, solutions shall be uploaded on https://polybox.ethz.ch instead and the folder shall be shared with the lecturers. \n",
    "\n",
    "## Support\n",
    "**For any issues please use the forum** at: https://git.ee.ethz.ch/python-for-engineers/class-fs20-forum and follow the instructions therein. In case of need, we will open a room on https://jitsi.riot.im/ and share the audio, video or the screen: make sure you have a microphone and speakers functioning. \n",
    "\n",
    "This service is offered only **during the normal lecture hours**."
   ]
  },
  {
   "cell_type": "markdown",
   "metadata": {},
   "source": [
    "# Obtaining the material for this lecture\n",
    "### If git is available on your system (preferred option)\n",
    "Pull the new material from the upstream repository:\n",
    "\n",
    "```bash\n",
    "cd class-fs20\n",
    "git pull upstream master\n",
    "```\n",
    "\n",
    "Then launch the jupyter-notebook and open the Lecture_XX file:\n",
    "\n",
    "```bash\n",
    "anaconda # Only on ETH computers to load the Python environment.\n",
    "jupyter-notebook &\n",
    "```\n",
    "\n",
    "### If git is **not** available on your system\n",
    "Download the latest material from:\n",
    "https://git.ee.ethz.ch/python-for-engineers/class-fs20/-/archive/master/class-fs20-master.zip\n",
    "and unpack it on your computer."
   ]
  },
  {
   "cell_type": "markdown",
   "metadata": {},
   "source": [
    "# Summary of previous lecture\n",
    "\n",
    "Please open the jupyter-notebook of the past lecture and read through it. This will help fixing the learned notions into the long-term memory.\n",
    "\n",
    "### ✏️ $\\mu$-exercise\n",
    "\n",
    "After having refreshed the last lecture, please switch to the Exercise notebook and complete $\\mu$-exercise **1**."
   ]
  },
  {
   "cell_type": "markdown",
   "metadata": {},
   "source": [
    "# NumPy - replacing MATLAB with Python\n",
    "## Introduction \n",
    "\n",
    "[NumPy](http://www.numpy.org/) (Numerical Python) is a Python library for numerical computation. It is often used in combination with SciPy (Scientific Python) and with Matplotlib (Python module for plotting) to replace MATLAB.\n",
    "\n",
    "Numpy provides:\n",
    "* Support for **large** multi-dimensional arrays and matrices together with a wide collections of functions which operate on them.\n",
    "* Linear algebra functions, Fourier transform, random numbers, etc.\n",
    "* Fast computation.\n",
    "* Tools for integrating C/C++ and Fortran code.\n",
    "* Support for arbitrary/custom data types through `numpy.dtypes`. This is an advanced topic which will not be covered here. For more information see: https://docs.scipy.org/doc/numpy/reference/arrays.dtypes.html and https://www.python-course.eu/numpy_dtype.php."
   ]
  },
  {
   "cell_type": "markdown",
   "metadata": {},
   "source": [
    "## Importing NumPy"
   ]
  },
  {
   "cell_type": "markdown",
   "metadata": {},
   "source": [
    "As with any other module in Python, NumPy must be imported before it can be used."
   ]
  },
  {
   "cell_type": "code",
   "execution_count": null,
   "metadata": {},
   "outputs": [],
   "source": [
    "# This is the most frequent way of importing Numpy.\n",
    "import numpy as np"
   ]
  },
  {
   "cell_type": "markdown",
   "metadata": {},
   "source": [
    "## A speed test\n",
    "\n",
    "NumPy is often faster than standard Python because it uses highly-optimized C-libraries (e.g. BLAS, intelMKL). The example below illustrates the 100x speed advantage when squaring a list of 1000 integers."
   ]
  },
  {
   "cell_type": "code",
   "execution_count": 2,
   "metadata": {},
   "outputs": [],
   "source": [
    "# Create a list with standard Python.\n",
    "L = list(range(1000))"
   ]
  },
  {
   "cell_type": "code",
   "execution_count": 3,
   "metadata": {},
   "outputs": [
    {
     "name": "stdout",
     "output_type": "stream",
     "text": [
      "375 µs ± 19.5 µs per loop (mean ± std. dev. of 7 runs, 1000 loops each)\n"
     ]
    }
   ],
   "source": [
    "%timeit [i**2 for i in L]\n",
    "# A typical answer is below,\n",
    "# but it could different on different PCs:\n",
    "# 270 µs ± 3.29 µs per loop (mean ± std. dev. of 7 runs, 1000 loops each)"
   ]
  },
  {
   "cell_type": "code",
   "execution_count": 6,
   "metadata": {},
   "outputs": [],
   "source": [
    "# Create a \"NumPy list\" with NumPy.\n",
    "import numpy as np\n",
    "a = np.arange(1000)"
   ]
  },
  {
   "cell_type": "code",
   "execution_count": 5,
   "metadata": {},
   "outputs": [
    {
     "name": "stdout",
     "output_type": "stream",
     "text": [
      "1.57 µs ± 115 ns per loop (mean ± std. dev. of 7 runs, 1000000 loops each)\n"
     ]
    }
   ],
   "source": [
    "%timeit a**2\n",
    "# A typical answer is below,\n",
    "# but it could different on different PCs:\n",
    "# 2.64 µs ± 40.2 ns per loop (mean ± std. dev. of 7 runs, 100000 loops each)"
   ]
  },
  {
   "cell_type": "markdown",
   "metadata": {},
   "source": [
    "## N-dimensional arrays (`ndarray`)\n",
    "The class `ndarray` is one of the most important classes in numpy. The term `ndarray` stands for *n-dimensional array*. Ndarrays are similar to the arrays in Matlab, and they allow operations to be performed in parallel to all elements of the list (vectorized operations).\n",
    "\n",
    "Ndarray instances have the following properties:\n",
    "\n",
    "* all elements have the **same type** (in contrast to Python list). The type can be:\n",
    "    * `bool`\n",
    "    * `int` (int8, int16, int32, int64)\n",
    "    * `float`\n",
    "    * custom datatype (`dtype`)\n",
    "* Elements are indexed (i.e. user can access them) using tuples of integers"
   ]
  },
  {
   "cell_type": "markdown",
   "metadata": {},
   "source": [
    "## Creating an ndarray\n",
    "\n",
    "The most common ways to create an ndarray are:\n",
    "\n",
    "* `np.array(list)`: this converts any sequence into a `numpy` array\n",
    "* `np.arange(number)`: this uses `range` function in Python and creates a 1D array from 0-->`number-1`\n",
    "* `np.zeros(shape)`: this creates an array with the given `shape` and fills it with zeros\n",
    "* `np.ones(shape)`: same as above, but instead of 0s the array will be filled with 1s\n",
    "* `np.empty(shape)`: same as above, but the content is random and depends on memory state of the PC\n",
    "* `np.eye(size)`: creates the `size x size` identity matrix\n",
    "\n",
    "*Observation:* All the functions above accept the `dtype=` keyword argument. It is possible therefore to define a specific datatype instead of letting NumPy assign one automatically. For a list of all supported datatypes see: https://docs.scipy.org/doc/numpy/user/basics.types.html."
   ]
  },
  {
   "cell_type": "code",
   "execution_count": 7,
   "metadata": {},
   "outputs": [
    {
     "data": {
      "text/plain": [
       "array([[ 2,  3,  4],\n",
       "       [22, 33, 44]])"
      ]
     },
     "execution_count": 7,
     "metadata": {},
     "output_type": "execute_result"
    }
   ],
   "source": [
    "# Create a simple 2-dimensional list.\n",
    "list = [[2,3,4],[22, 33, 44]]\n",
    "\n",
    "# Create arrays based on above lists\n",
    "arr = np.array(list)\n",
    "arr"
   ]
  },
  {
   "cell_type": "code",
   "execution_count": 8,
   "metadata": {},
   "outputs": [
    {
     "data": {
      "text/plain": [
       "array([0, 1, 2])"
      ]
     },
     "execution_count": 8,
     "metadata": {},
     "output_type": "execute_result"
    }
   ],
   "source": [
    "arr = np.arange(3)\n",
    "arr"
   ]
  },
  {
   "cell_type": "code",
   "execution_count": 9,
   "metadata": {},
   "outputs": [
    {
     "data": {
      "text/plain": [
       "array([[[0., 0., 0.],\n",
       "        [0., 0., 0.]],\n",
       "\n",
       "       [[0., 0., 0.],\n",
       "        [0., 0., 0.]]])"
      ]
     },
     "execution_count": 9,
     "metadata": {},
     "output_type": "execute_result"
    }
   ],
   "source": [
    "# Create a 3-dimensional array\n",
    "# with zeros as elements\n",
    "# and with 2x2x3 elements (\"shape\").\n",
    "arr = np.zeros((2,2,3))\n",
    "arr"
   ]
  },
  {
   "cell_type": "code",
   "execution_count": 10,
   "metadata": {},
   "outputs": [
    {
     "data": {
      "text/plain": [
       "array([[[1., 1., 1.],\n",
       "        [1., 1., 1.]],\n",
       "\n",
       "       [[1., 1., 1.],\n",
       "        [1., 1., 1.]]])"
      ]
     },
     "execution_count": 10,
     "metadata": {},
     "output_type": "execute_result"
    }
   ],
   "source": [
    "# Create a 3-dimensional array\n",
    "# with ones as elements\n",
    "# and with 2x2x3 elements (\"shape\").\n",
    "arr = np.ones((2,2,3))\n",
    "arr"
   ]
  },
  {
   "cell_type": "code",
   "execution_count": 11,
   "metadata": {},
   "outputs": [
    {
     "data": {
      "text/plain": [
       "array([[[1., 1., 1.],\n",
       "        [1., 1., 1.]],\n",
       "\n",
       "       [[1., 1., 1.],\n",
       "        [1., 1., 1.]]])"
      ]
     },
     "execution_count": 11,
     "metadata": {},
     "output_type": "execute_result"
    }
   ],
   "source": [
    "# Create a 3-dimensional array\n",
    "# with empty (random) elements\n",
    "# and with 2x2x3 elements (\"shape\").\n",
    "arr = np.empty((2,2,3))\n",
    "arr"
   ]
  },
  {
   "cell_type": "code",
   "execution_count": 12,
   "metadata": {},
   "outputs": [
    {
     "data": {
      "text/plain": [
       "array([[1., 0., 0.],\n",
       "       [0., 1., 0.],\n",
       "       [0., 0., 1.]])"
      ]
     },
     "execution_count": 12,
     "metadata": {},
     "output_type": "execute_result"
    }
   ],
   "source": [
    "# Create a 2-dimensional array\n",
    "# identity matrix of size 3.\n",
    "arr = np.eye(3)\n",
    "arr"
   ]
  },
  {
   "cell_type": "markdown",
   "metadata": {},
   "source": [
    "## Accessing elements of an ndarray\n",
    "\n",
    "Elements of an ndarray can be obtained in two ways:\n",
    "\n",
    "* For a one-dimensional ndarray the same slicing syntax as for lists or tuples applies: `a[start:end:step]`.\n",
    "\n",
    "* For multi-dimensional arrays the slicing syntax is the same, but the different dimensions are separated by **commas** such as `matrix[i,j]` or `matrix[start:end:stop, start:end:step]`\n",
    "* Notice that it is also possible to access an n-dimensional array by subsequent application of the slicing operator such as  `matrix[i][j]` or `matrix[start:end:stop][start:end:step]`. This is the same syntax as for normal (non-Numpy) lists. However, the **behaviour is different** from using a single slicing operator. Particularily, with this method it is not easily possible to create n-dimensional slices such as selecting a block out of a matrix.\n",
    "\n",
    "Examples:    "
   ]
  },
  {
   "cell_type": "code",
   "execution_count": null,
   "metadata": {},
   "outputs": [],
   "source": [
    "# Create a 3x3 matrix.\n",
    "matrix = np.array([[11, 12, 13], [21, 22, 23], [31, 32, 33]])\n",
    "# Separate dimensions with a commas.\n",
    "# Access a sub-block matrix.\n",
    "sub = matrix[0:2, 1:3]\n",
    "print(sub)"
   ]
  },
  {
   "cell_type": "code",
   "execution_count": null,
   "metadata": {},
   "outputs": [],
   "source": [
    "# Doing the same with subsequent application of the slicing\n",
    "# operator leads to a different result.\n",
    "matrix[0:2][1:3]"
   ]
  },
  {
   "cell_type": "markdown",
   "metadata": {},
   "source": [
    "Notice that the above syntax with square brackets is nothing else than subsequent application of the slicing operator."
   ]
  },
  {
   "cell_type": "code",
   "execution_count": null,
   "metadata": {},
   "outputs": [],
   "source": [
    "a = matrix[0:2]\n",
    "print('matrix[0:2] =\\n', a)\n",
    "b = a[1:3]\n",
    "print()\n",
    "print('matrix[0:2][1:3] = (matrix[0:2])[1:3] = a[1:3] = ', b)"
   ]
  },
  {
   "cell_type": "markdown",
   "metadata": {},
   "source": [
    "### Examples of frequently-used attributes of ndarray"
   ]
  },
  {
   "cell_type": "code",
   "execution_count": 13,
   "metadata": {},
   "outputs": [
    {
     "data": {
      "text/plain": [
       "array([ 0,  1,  2,  3,  4,  5,  6,  7,  8,  9, 10, 11, 12, 13, 14, 15, 16,\n",
       "       17, 18, 19, 20, 21, 22, 23])"
      ]
     },
     "execution_count": 13,
     "metadata": {},
     "output_type": "execute_result"
    }
   ],
   "source": [
    "import numpy as np\n",
    "# Create a 1-dimensional ndarray \n",
    "# with elements from 0-23.\n",
    "my_1d_array = np.arange(24) \n",
    "my_1d_array"
   ]
  },
  {
   "cell_type": "code",
   "execution_count": 14,
   "metadata": {},
   "outputs": [
    {
     "data": {
      "text/plain": [
       "array([[[ 0,  1,  2,  3],\n",
       "        [ 4,  5,  6,  7],\n",
       "        [ 8,  9, 10, 11]],\n",
       "\n",
       "       [[12, 13, 14, 15],\n",
       "        [16, 17, 18, 19],\n",
       "        [20, 21, 22, 23]]])"
      ]
     },
     "execution_count": 14,
     "metadata": {},
     "output_type": "execute_result"
    }
   ],
   "source": [
    "# Reshape the 1-dimensional array into \n",
    "# a 3-dimensional array.\n",
    "my_3d_tensor = my_1d_array.reshape(2,3,4)  # Notice that 2*3*4 is the size of my_1d_array.\n",
    "my_3d_tensor"
   ]
  },
  {
   "cell_type": "code",
   "execution_count": 15,
   "metadata": {},
   "outputs": [
    {
     "data": {
      "text/plain": [
       "3"
      ]
     },
     "execution_count": 15,
     "metadata": {},
     "output_type": "execute_result"
    }
   ],
   "source": [
    "# \"ndim\" returns the number of \n",
    "# axes (dimensions) of the array.\n",
    "my_3d_tensor.ndim  "
   ]
  },
  {
   "cell_type": "code",
   "execution_count": null,
   "metadata": {},
   "outputs": [],
   "source": [
    "# \"shape\" returns a tuple of integers indicating \n",
    "# the size of the array in each dimension.\n",
    "my_3d_tensor.shape "
   ]
  },
  {
   "cell_type": "code",
   "execution_count": null,
   "metadata": {},
   "outputs": [],
   "source": [
    "# \"size\" returns the total number of elements \n",
    "# of the array. This is equal to the product \n",
    "# of the elements of shape.\n",
    "my_3d_tensor.size "
   ]
  },
  {
   "cell_type": "code",
   "execution_count": null,
   "metadata": {},
   "outputs": [],
   "source": [
    "# \"dtype\" returns an object describing \n",
    "# the type of the elements in the array.\n",
    "my_3d_tensor.dtype"
   ]
  },
  {
   "cell_type": "code",
   "execution_count": null,
   "metadata": {},
   "outputs": [],
   "source": [
    "# \"itemsize\" returns the size in bytes \n",
    "# of each element of the array.\n",
    "my_3d_tensor.itemsize "
   ]
  },
  {
   "cell_type": "code",
   "execution_count": null,
   "metadata": {},
   "outputs": [],
   "source": [
    "# \"dtype.name\" returns the type stored in the array.\n",
    "my_3d_tensor.dtype.name "
   ]
  },
  {
   "cell_type": "markdown",
   "metadata": {},
   "source": [
    "### Changing the shape\n",
    "\n",
    "Some operations produce 1D arrays by default. This can happen, for example, when reading a list of `x,y,z,some_value` points from file, which should instead be re-shaped into a matrix form.\n",
    "\n",
    "NumPy allows to change the original shape of an array as follows:\n",
    "\n",
    "* `ndarray.reshape(new_shape)`: this is a method that takes the array and creates a __NEW__ array with the shape of `new_shape`\n",
    "* `ndarray.resize(new_shape)`: also modifies the shape of the array, but __changes__ the array __itself__\n",
    "* `ndarray.ravel()`: returns a flattened (shaped as 1D) array\n",
    "\n",
    "*Observation*: in the standard case, ravel loops over the last dimensions the fastest. For 2D arrays, this means that the *column* index increments before the *row* index does."
   ]
  },
  {
   "cell_type": "code",
   "execution_count": null,
   "metadata": {},
   "outputs": [],
   "source": [
    "# Create 1D array from 0-->15.\n",
    "original = np.arange(16) "
   ]
  },
  {
   "cell_type": "code",
   "execution_count": null,
   "metadata": {},
   "outputs": [],
   "source": [
    "new = original.reshape((4,4)) # This is a NEW reshaped array.\n",
    "new"
   ]
  },
  {
   "cell_type": "code",
   "execution_count": null,
   "metadata": {},
   "outputs": [],
   "source": [
    "original # This array stays intact."
   ]
  },
  {
   "cell_type": "code",
   "execution_count": null,
   "metadata": {},
   "outputs": [],
   "source": [
    "original.resize(4,4) # The method \"resize\" changes the array itself.\n",
    "original "
   ]
  },
  {
   "cell_type": "code",
   "execution_count": null,
   "metadata": {},
   "outputs": [],
   "source": [
    "flattened = original.ravel() # Returns a flattened 1D array.\n",
    "flattened"
   ]
  },
  {
   "cell_type": "markdown",
   "metadata": {},
   "source": [
    "**Hint:**\n",
    "Be aware that many manipulations do not lead to memory duplications. That would be (in most cases) lead to suboptimum performance. You can force copies in memory with the `.copy()` method."
   ]
  },
  {
   "cell_type": "markdown",
   "metadata": {},
   "source": [
    "### ✏️ $\\mu$-exercise\n",
    "\n",
    "At this point, please switch to your exercise notebook and complete $\\mu$-exercise **2 to 6**."
   ]
  },
  {
   "cell_type": "markdown",
   "metadata": {},
   "source": [
    "## Advanced features of ndarrays\n",
    "### Two-dimensional ndarrays\n",
    "\n",
    "If an ndarray is 2-dimensional, it can be used to represent a matrix. Even if numpy has a special submodule to perform linear algebra operations, some basic operations are available as part of numpy directly. For example:\n",
    "\n",
    "* `ndarray.dot(ndarray)` calculates the proper matrix multiplication between the two ndarrays\n",
    "* `ndarray.T` transposes the ndarray (NOT conjugate transpose)\n",
    "* `np.diag(ndarray)` gives you the diagonal entries"
   ]
  },
  {
   "cell_type": "code",
   "execution_count": null,
   "metadata": {},
   "outputs": [],
   "source": [
    "A = np.array([[1,2,3], [4,5,6], [7,8,9]])\n",
    "B = np.array([[7,8,9], [1,2,3], [4,5,6]])"
   ]
  },
  {
   "cell_type": "code",
   "execution_count": null,
   "metadata": {},
   "outputs": [],
   "source": [
    "C = A * B # Element-wise multiplication!\n",
    "C"
   ]
  },
  {
   "cell_type": "code",
   "execution_count": null,
   "metadata": {},
   "outputs": [],
   "source": [
    "D = A.dot(B) # Matrix multiplication!\n",
    "D"
   ]
  },
  {
   "cell_type": "code",
   "execution_count": null,
   "metadata": {},
   "outputs": [],
   "source": [
    "C.T # Transpose matrix."
   ]
  },
  {
   "cell_type": "code",
   "execution_count": null,
   "metadata": {},
   "outputs": [],
   "source": [
    "np.diag(C) # Get diagonal elements."
   ]
  },
  {
   "cell_type": "markdown",
   "metadata": {},
   "source": [
    "### Vectorized operations\n",
    "\n",
    "The term vectorized operation means that, in general, operations on arrays are performed element-wise, meaning that there is no need for writing specific `for` loops to change every single element in the array."
   ]
  },
  {
   "cell_type": "code",
   "execution_count": null,
   "metadata": {},
   "outputs": [],
   "source": [
    "data = np.arange(10)\n",
    "data"
   ]
  },
  {
   "cell_type": "code",
   "execution_count": null,
   "metadata": {},
   "outputs": [],
   "source": [
    "data + 2 # Adds two to every element, NOT an inplace operation."
   ]
  },
  {
   "cell_type": "code",
   "execution_count": null,
   "metadata": {},
   "outputs": [],
   "source": [
    "data += 2. # This generates error! The reason is that dtype of data is int, while we are adding float."
   ]
  },
  {
   "cell_type": "code",
   "execution_count": null,
   "metadata": {},
   "outputs": [],
   "source": [
    "data**2 # Every element is squared."
   ]
  },
  {
   "cell_type": "code",
   "execution_count": null,
   "metadata": {
    "scrolled": true
   },
   "outputs": [],
   "source": [
    "2*data + data # The sum of array is always element-wise."
   ]
  },
  {
   "cell_type": "markdown",
   "metadata": {},
   "source": [
    "### Function vectorization \n",
    "\n",
    "In NumPy, a universal function (or _ufunc_) is a function that performs its operation element-wise on the data in `ndarrays`. Universal functions are defined inside the `numpy` module and they are usually one or two orders-of-magnitude faster than the same function written in pure Python by performing a for loop instead.\n",
    "\n",
    "These are common unary (only one array as parameter) _ufuncs_:\n",
    "* `abs`, `fabs`: Compute abs. value element-wise. Use `fabs` for non-complex-valued arrays.\n",
    "* `sqrt`: Compute square root.\n",
    "* `square`: Compute square of array element-wise.\n",
    "* `exp`: Compute the exponent e^x of each element.\n",
    "* `log`, `log2`, `log10`, `log1p`: Logarithm (natural, base 2, base 10, base (1+x)).\n",
    "* `sign`: Sign of each element: +1(positive), 0 (zero), -1(negative).\n",
    "* `ceil`: Ceiling of each element.\n",
    "* `floor`: Floor of each element.\n",
    "* `modf`: Returns a tuple of arrays: integral and fractional part of each element.\n",
    "* `isnan`: Return boolean array indicating whether element is NaN (Not a Number).\n",
    "* `isfinite`, `isinf`: Return boolean array indicating if each element is finite.\n",
    "* `cos`, `sin`, `cosh`, `sinh`, `tan`, `tanh`: Trigonometrical functions.\n",
    "* `arcos`, ... : Inverse trigonometric functions.\n",
    "\n",
    "These are common binary (two arrays as parameter) _ufuncs_:\n",
    "* `add`, `substract`, `multiply`: +, - , * element-wise.\n",
    "* `divide`, `floor_divide`: divide or floor divide (truncating the remainder).\n",
    "* `power`: raise elements to powers indicated in second array.\n",
    "* `maximum`, `fmax`: Element-wise maximum; fmax ignores NaN.\n",
    "* `minimum`, `fmin`: Element-wise minimum; fmin ignores NaN.\n",
    "* `mod`: Element-wise modulus (remainder of division).\n",
    "\n",
    "\n",
    "### Create vectorized functions - `np.vectorize()`\n",
    "Creating vectorized functions can be done in two ways. Either by composition of other vectorized functions or with the `np.vectorize()` function. Examples are shown in the following."
   ]
  },
  {
   "cell_type": "code",
   "execution_count": null,
   "metadata": {},
   "outputs": [],
   "source": [
    "import numpy as np\n",
    "def f_composed(t):\n",
    "    \"\"\"\n",
    "    Compute the value of a damped oscillation at time t.\n",
    "    \"\"\"\n",
    "    \n",
    "    # Express the function as a combination of vectorized functions,\n",
    "    # hence this function is also vectorized.\n",
    "    return np.exp(-t) * np.cos(t) * 2\n",
    "\n",
    "# The function can be called with a single value as arguments.\n",
    "print(f_composed(0))\n",
    "\n",
    "# The function can also be called with vectors as arguments.\n",
    "t = np.array([0, np.pi/2, np.pi])\n",
    "print(f_composed(t))"
   ]
  },
  {
   "cell_type": "code",
   "execution_count": null,
   "metadata": {},
   "outputs": [],
   "source": [
    "import numpy as np\n",
    "\n",
    "def isprime(n) -> bool:\n",
    "    \"\"\"\n",
    "    Test if an integer `n` is a prime number.\n",
    "    \"\"\"\n",
    "    \n",
    "    if n < 2:\n",
    "        # Numbers smaller than 2 are never prime numbers.\n",
    "        return False\n",
    "    # Brute-force check.\n",
    "    for i in range(2, int(np.sqrt(n))+1):\n",
    "        if n % i == 0:\n",
    "            return False\n",
    "    return True\n",
    "\n",
    "# As expected this function can be called for a single value.\n",
    "print(\"isprime(7) =\", isprime(7))\n",
    "print(\"isprime(77) =\", isprime(77))\n",
    "\n",
    "# However, this function is *not* vectorized because it is not\n",
    "# composed of vectorized operations.\n",
    "\n",
    "numbers = np.arange(10)\n",
    "# This would raise a `ValueError`:\n",
    "# isprime(numbers)"
   ]
  },
  {
   "cell_type": "code",
   "execution_count": null,
   "metadata": {},
   "outputs": [],
   "source": [
    "# Create a vectorized version of `isprime`.\n",
    "isprime_vectorized = np.vectorize(isprime)\n",
    "\n",
    "# `isprime_vectorized` is now callable like a normal function \n",
    "# but can now element-wise operate on vectors.\n",
    "\n",
    "numbers = np.arange(10)\n",
    "print(numbers)\n",
    "print(isprime_vectorized(numbers))\n",
    "\n",
    "# The vectorized function can still be used like the original function.\n",
    "print(isprime_vectorized(7))"
   ]
  },
  {
   "cell_type": "markdown",
   "metadata": {},
   "source": [
    "### `np.vectorize` as 'decorator' (optional)\n",
    "`np.vectorize` takes a function as input and transforms it into another function (or into a callable object actually). This pattern is common enough that Python supports it with a special syntax named *decorators* (https://www.python.org/dev/peps/pep-0318/).\n",
    "\n",
    "\n",
    "Suppose there is a function `f` which should be transformed into another function. Without decorators this can be done as follows:\n",
    "```python\n",
    "def f(x):\n",
    "    ...\n",
    "    return y\n",
    "\n",
    "# Create a new function.\n",
    "# Notice that the old function `f` gets overwritten.\n",
    "f = transformation_function(f)\n",
    "```\n",
    "\n",
    "The decorator syntax allows to write this shorter. The both versions above and below are equivalent.\n",
    "\n",
    "```python\n",
    "@transformation_function\n",
    "def f(x):\n",
    "    ...\n",
    "    return y\n",
    "```"
   ]
  },
  {
   "cell_type": "code",
   "execution_count": null,
   "metadata": {},
   "outputs": [],
   "source": [
    "import numpy as np\n",
    "\n",
    "# Use `np.vectorize` as a *decorator* to vectorize the following function.\n",
    "@np.vectorize\n",
    "def isprime(n) -> bool:\n",
    "    \"\"\"\n",
    "    Test if an integer `n` is a prime number.\n",
    "    \"\"\"\n",
    "    \n",
    "    if n < 2:\n",
    "        # Numbers smaller than 2 are never prime numbers.\n",
    "        return False\n",
    "    # Brute-force check.\n",
    "    for i in range(2, int(np.sqrt(n))+1):\n",
    "        if n % i == 0:\n",
    "            return False\n",
    "    return True\n",
    "\n",
    "# `isprime` has been vectorized by the decorator.\n",
    "# Therefore `isprime` can now operate on `np.ndarray`s.\n",
    "numbers = np.arange(10)\n",
    "isprime(numbers)"
   ]
  },
  {
   "cell_type": "markdown",
   "metadata": {},
   "source": [
    "### Other functions for `np.ndarray`\n",
    "Numpy offers many more functions that operate on `np.ndarray` objects. A comprehensive list can be found here: https://docs.scipy.org/doc/numpy/reference/\n",
    "\n",
    "For example this includes sorting, random number generation or string operations:"
   ]
  },
  {
   "cell_type": "code",
   "execution_count": null,
   "metadata": {},
   "outputs": [],
   "source": [
    "# Numpy supports sorting of `nd.array`s.\n",
    "\n",
    "a = np.array([3, 5, 1])\n",
    "np.sort(a)"
   ]
  },
  {
   "cell_type": "code",
   "execution_count": null,
   "metadata": {},
   "outputs": [],
   "source": [
    "# Numpy supports efficient creation of pseudo-random n-dimensional data.\n",
    "\n",
    "# Generate a 2x3 matrix with numbers uniformly distributed between 0 and 1.\n",
    "uniform = np.random.rand(2,3)\n",
    "print(uniform)\n",
    "\n",
    "# Generate an array of 10 random numbers with normal distribution\n",
    "# with a mean value of 3 and a standard deviation of 0.1\n",
    "normal = np.random.normal(3, 0.1, 10)\n",
    "print(normal)"
   ]
  },
  {
   "cell_type": "code",
   "execution_count": null,
   "metadata": {},
   "outputs": [],
   "source": [
    "# Numpy supports vectorized string operations.\n",
    "strings = np.array([\"hello\", \"Python\", \"!\"])\n",
    "np.char.capitalize(strings)"
   ]
  },
  {
   "cell_type": "markdown",
   "metadata": {},
   "source": [
    "### Broadcasting\n",
    "\n",
    "Numpy performs *array broadcasting* to support operations on arrays with different dimensions.\n",
    "https://docs.scipy.org/doc/numpy/user/basics.broadcasting.html\n",
    "\n",
    "Usually, Numpy operations are done element-by-element on pairs of arrays:"
   ]
  },
  {
   "cell_type": "code",
   "execution_count": null,
   "metadata": {},
   "outputs": [],
   "source": [
    "a = np.array([1, 2, 3])\n",
    "b = np.array([1, 1, 1])\n",
    "# Perform an elementy-by-element operation.\n",
    "a + b"
   ]
  },
  {
   "cell_type": "markdown",
   "metadata": {},
   "source": [
    "The simplest example of array broadcasting is shown in the following when a one-dimensional number is added to a `np.ndarray`:"
   ]
  },
  {
   "cell_type": "code",
   "execution_count": null,
   "metadata": {},
   "outputs": [],
   "source": [
    "b = 1\n",
    "# Here the dimensions of `a` and `b` are different.\n",
    "# One can think of `b` being *broadcasted* to the dimension of `a`\n",
    "# before the operation. Which means the value of `b` is repeated to match the shape of `a`.\n",
    "a + b"
   ]
  },
  {
   "cell_type": "code",
   "execution_count": null,
   "metadata": {},
   "outputs": [],
   "source": [
    "# Create a 3x1 array and a 1x3 array.\n",
    "a = np.arange(3).reshape(3, 1)\n",
    "b = np.arange(3).reshape(1, 3)\n",
    "print(a)\n",
    "print(b)"
   ]
  },
  {
   "cell_type": "code",
   "execution_count": null,
   "metadata": {},
   "outputs": [],
   "source": [
    "# Now `a` and `b` have different dimensions.\n",
    "# Nevertheless Numpy supports pairwise operations on them.\n",
    "# Similar to the example above the arrays are repeated such that they both have the same dimension.\n",
    "c = a * b\n",
    "\n",
    "# The above operation is equivalent to the following:\n",
    "# [[0 0 0]           [[0 1 2]\n",
    "#  [1 1 1]     *      [0 1 2]\n",
    "#  [2 2 2]]           [0 1 2]]\n",
    "#     |                  |\n",
    "#    repeated columns   repeated rows\n",
    "\n",
    "print(c)"
   ]
  },
  {
   "cell_type": "markdown",
   "metadata": {},
   "source": [
    "The function `np.broadcast_arrays()` can be used to see how Numpy broadcasts the arrays prior to the operation."
   ]
  },
  {
   "cell_type": "code",
   "execution_count": null,
   "metadata": {},
   "outputs": [],
   "source": [
    "a_bc, b_bc = np.broadcast_arrays(a, b)\n",
    "print('a:', a.shape)\n",
    "print(a)\n",
    "print('')\n",
    "print('a_bc:', a_bc.shape)\n",
    "print(a_bc)\n",
    "print('')\n",
    "print('b:', b.shape)\n",
    "print(b)\n",
    "print('')\n",
    "print('b_bc:', b_bc.shape)\n",
    "print(b_bc)"
   ]
  },
  {
   "cell_type": "markdown",
   "metadata": {},
   "source": [
    "This suggests that `c` is actually equal to `a_bc` element-wise multiplied with `b_bc`.\n",
    "\n",
    "If the array shapes cannot be matched to each other a `ValueError` is raised."
   ]
  },
  {
   "cell_type": "code",
   "execution_count": null,
   "metadata": {},
   "outputs": [],
   "source": [
    "d = np.random.rand(3,5)\n",
    "e = np.random.rand(8)"
   ]
  },
  {
   "cell_type": "code",
   "execution_count": null,
   "metadata": {},
   "outputs": [],
   "source": [
    "f = d * e"
   ]
  },
  {
   "cell_type": "markdown",
   "metadata": {},
   "source": [
    "### Changing array dimension to enable broadcasting (optional)\n",
    "To make broadcasting possible in the above example `d` can be extended by a new dimension. Broadcasting then works along the new dimension.\n",
    "\n",
    "A new dimension or axis can be added by passing `np.newaxis` to the slicing operator:"
   ]
  },
  {
   "cell_type": "code",
   "execution_count": null,
   "metadata": {},
   "outputs": [],
   "source": [
    "d_na = d[...,np.newaxis]\n",
    "print('d:', d.shape)\n",
    "print(d)\n",
    "print()\n",
    "print('d with newaxis:', d_na.shape)\n",
    "print(d_na)"
   ]
  },
  {
   "cell_type": "markdown",
   "metadata": {},
   "source": [
    "Now `d_na` and `e` can be broadcasted together:"
   ]
  },
  {
   "cell_type": "code",
   "execution_count": null,
   "metadata": {},
   "outputs": [],
   "source": [
    "f = d_na * e"
   ]
  },
  {
   "cell_type": "code",
   "execution_count": null,
   "metadata": {},
   "outputs": [],
   "source": [
    "f.shape"
   ]
  },
  {
   "cell_type": "markdown",
   "metadata": {},
   "source": [
    "### Boolean indexing\n",
    "\n",
    "As mentioned above, an `ndarray` can contain logical (boolean) values. The only allowes values are: `True` or `False`.\n",
    "\n",
    "One interesting way of using boolean `ndarray` is to index some other array.\n",
    "\n",
    "A *boolean index* `i` for the `ndarray` `x` is also an `ndarray` with the same dimensions as `x`. The boolean values in the index tell which elements of `x` will be selected. This is illustrated in the following examples:"
   ]
  },
  {
   "cell_type": "code",
   "execution_count": null,
   "metadata": {},
   "outputs": [],
   "source": [
    "# Create an example array.\n",
    "numbers = np.array([1, 2, 3, 4])\n",
    "\n",
    "# Create a boolean index.\n",
    "boolean_index = [False, True, True, False]\n",
    "\n",
    "# Retreive elements from the array using the boolean index.\n",
    "# The boolean index must have the same dimensions as the array.\n",
    "# An element in the array is accessed if and only if the\n",
    "# boolean index is `True` at the corresponding position.\n",
    "numbers[boolean_index]"
   ]
  },
  {
   "cell_type": "code",
   "execution_count": null,
   "metadata": {},
   "outputs": [],
   "source": [
    "# Boolean indices can also be created by comparing an array.\n",
    "\n",
    "# Create a boolean index that points to all even numbers.\n",
    "selection = numbers % 2 == 0\n",
    "print(selection)\n",
    "\n",
    "# Get the even numbers based on the boolean index.\n",
    "even_numbers = numbers[selection]\n",
    "print(even_numbers)"
   ]
  },
  {
   "cell_type": "markdown",
   "metadata": {},
   "source": [
    "The boolean index *must* have the same dimensions as the array."
   ]
  },
  {
   "cell_type": "code",
   "execution_count": null,
   "metadata": {},
   "outputs": [],
   "source": [
    "# This fails because the index has a wrong dimension.\n",
    "numbers[[True, False]]"
   ]
  },
  {
   "cell_type": "code",
   "execution_count": null,
   "metadata": {},
   "outputs": [],
   "source": [
    "# Boolean indices can also be used to modify elements in an array.\n",
    "\n",
    "numbers = np.array([0, -1, 2, -3, 4])\n",
    "\n",
    "# Get a boolean index of the negative numbers.\n",
    "negative_numbers = numbers < 0\n",
    "\n",
    "# Set the negative numbers to 0.\n",
    "numbers[negative_numbers] = 0\n",
    "numbers"
   ]
  },
  {
   "cell_type": "markdown",
   "metadata": {},
   "source": [
    "### ✏️ $\\mu$-exercise\n",
    "\n",
    "At this point, please switch to your exercise notebook and complete $\\mu$-exercises **7**."
   ]
  },
  {
   "cell_type": "markdown",
   "metadata": {},
   "source": [
    "## Linear algebra\n",
    "NumPy supports also linear algebra. Linear algebra functions are located inside a the submodule `numpy.linalg`. These are some of most used functions:\n",
    "\n",
    "\n",
    "\n",
    "| Function        | Description |\n",
    "| ------------- |-------------| \n",
    "| `det` | Matrix determinant |\n",
    "| `trace` | Matrix trace (sum of elements on main diagonal)| \n",
    "| `eig` | Compute eigenvalues and eigenvectors of a matrix      | \n",
    "| `inv` | Compute inverse of a matrix      | \n",
    "| `pinv` | Compute pseudo-inverse      | \n",
    "| `qr` | Compute QR decomposition of a matrix     | \n",
    "| `svd` | Compute Singular Value Decomposition of a matrix      | \n",
    "| `solve` | Solve linear system A\\*x = b   for _x_   | \n",
    "\n",
    "\n",
    "Internally, these functions are implemented using established FORTRAN libraries (BLAS, LAPACK and IntelMKL). The speed of NumPy is therefore comparable with MATLAB for example."
   ]
  },
  {
   "cell_type": "code",
   "execution_count": null,
   "metadata": {},
   "outputs": [],
   "source": [
    "# Import the linear algebra submodule.\n",
    "from numpy.linalg import solve"
   ]
  },
  {
   "cell_type": "markdown",
   "metadata": {},
   "source": [
    "In the following example, we want to solve this system of equations:\n",
    "\n",
    "\\begin{equation}\n",
    "\\begin{cases}\n",
    "6x_0 + x_1 = 9 \\\\\n",
    "2x_0 + 2x_1 = 8\n",
    "\\end{cases}\n",
    "\\end{equation}\n",
    "\n",
    "We reformulate it in matrix form:\n",
    "\n",
    "\\begin{equation}\n",
    "\\text{given  } A = \\begin{bmatrix} 6 & 1 \\\\ 2 & 2 \\end{bmatrix} \\text{ and } b = \\begin{bmatrix} 9 \\\\ 8 \\end{bmatrix} \\text{solve  } Ax=b \\text{  for  } x\n",
    "\\end{equation}\n",
    "\n",
    "And solve it with numpy:"
   ]
  },
  {
   "cell_type": "code",
   "execution_count": null,
   "metadata": {},
   "outputs": [],
   "source": [
    "A = np.array([[6,1], [2,2]])\n",
    "b = np.array([9,8])\n",
    "x = np.linalg.solve(A,b)\n",
    "x"
   ]
  },
  {
   "cell_type": "code",
   "execution_count": null,
   "metadata": {},
   "outputs": [],
   "source": [
    "# Sanity check: is the solution valid?\n",
    "A.dot(x) - b"
   ]
  },
  {
   "cell_type": "markdown",
   "metadata": {},
   "source": [
    "### ✏️ $\\mu$-exercise\n",
    "\n",
    "At this point, please switch to your exercise notebook and complete $\\mu$-exercises **8** and **9**."
   ]
  },
  {
   "cell_type": "markdown",
   "metadata": {},
   "source": [
    "## Methods for statistics\n",
    "\n",
    "NumPy provides several functions (methods) for statistics. These can be applied on an entire ndarray at once, or on a single dimension at the time.\n",
    "\n",
    "For example, it is possible to compute the average value of all elements of a matrix, or of a single row, or column.\n",
    "\n",
    "Here are some examples:\n",
    "\n",
    "* `sum`: Sum of all the elements in the array, or along an axis.\n",
    "* `mean`: Arithmetic mean\n",
    "* `std`, `var`: Standard deviation and variance.\n",
    "* `min`, `max`: Minimum and maximum\n",
    "* `argmin`, `argmax`: Indices of minimum and maximum\n"
   ]
  },
  {
   "cell_type": "markdown",
   "metadata": {},
   "source": [
    "As an example, let's simulate the Brownian motion of a particle in a 3-dimensional space. Let's assume that the three coordinates of the particle (x, y, z), when measured at different time, are distributed according to a Gaussian (normal) distribution.\n",
    "\n",
    "Let's \"measure\" the location of the particle a few times and store all the coordinates in a matrix:"
   ]
  },
  {
   "cell_type": "code",
   "execution_count": null,
   "metadata": {},
   "outputs": [],
   "source": [
    "# Create a 2-dimensional ndarray (a matrix)\n",
    "# representing measured coordinates, like:\n",
    "# (x0, y0, z0)  measurement 0\n",
    "# (x1, y1, z1)  measurement 1\n",
    "# (x2, y2, z2)  measurement 2\n",
    "# .... and so on.\n",
    "n_measurements = 5\n",
    "# Generate an nparray of shape (n_measurement, 3)\n",
    "# and Gaussian distribution.\n",
    "v = np.random.normal(size = (n_measurements,3))\n",
    "print(\"Measurement 0: [x y z] = \",v[0,:])\n",
    "print(\"Measurement 1: [x y z] = \",v[1,:])\n",
    "print('')\n",
    "print(v)"
   ]
  },
  {
   "cell_type": "code",
   "execution_count": null,
   "metadata": {},
   "outputs": [],
   "source": [
    "# \"fabs\" computes the absolute value element by element.\n",
    "# Compute absolute value of each coordinate.\n",
    "print(np.fabs(v))\n",
    "#np.fabs(v).max(axis=1)"
   ]
  },
  {
   "cell_type": "code",
   "execution_count": null,
   "metadata": {},
   "outputs": [],
   "source": [
    "# Print maximum value among **all** coordinates.\n",
    "print(v.max())\n",
    "# Print maximum value along the first dimension.\n",
    "print(v.max(axis = 0)) \n",
    "# Print maximum value along the second dimension.\n",
    "print(v.max(axis = 1)) \n",
    "#print(np.max(v, axis = 1))   # Equivalent syntax."
   ]
  },
  {
   "cell_type": "code",
   "execution_count": null,
   "metadata": {},
   "outputs": [],
   "source": [
    "# compute at which point in time (i.e. which array index)\n",
    "np.fabs(v).argmax(axis=1)"
   ]
  },
  {
   "cell_type": "code",
   "execution_count": null,
   "metadata": {},
   "outputs": [],
   "source": [
    "# Calculate standard deviation\n",
    "# along the first dimension.\n",
    "v.std(axis=0)"
   ]
  },
  {
   "cell_type": "markdown",
   "metadata": {},
   "source": [
    "## NumPy for image processing\n",
    "\n",
    "In the example below we will import an image using the module `matplotlib` (which will be the topic of the next lecture) to demonstrate that matplotlib is built on top of numpy, and to demonstrate that image manipulation is equivalent to the manipulation of ndarrays."
   ]
  },
  {
   "cell_type": "code",
   "execution_count": 1,
   "metadata": {},
   "outputs": [],
   "source": [
    "import matplotlib.pyplot as plt\n",
    "import numpy as np\n",
    "# Import image as 3-dimensional ndarray.\n",
    "image = plt.imread('./cat.png')"
   ]
  },
  {
   "cell_type": "code",
   "execution_count": 3,
   "metadata": {},
   "outputs": [
    {
     "name": "stdout",
     "output_type": "stream",
     "text": [
      "<class 'numpy.ndarray'>\n",
      "float32\n",
      "(213, 240, 3)\n"
     ]
    }
   ],
   "source": [
    "# Image is now casted into the ndarray\n",
    "print(type(image))\n",
    "print(image.dtype)\n",
    "print(image.shape)"
   ]
  },
  {
   "cell_type": "markdown",
   "metadata": {},
   "source": [
    "### Short parenthesis: red, green and blue (RGB) values\n",
    "\n",
    "When importing an image with plt.imread as in the example above, the image is represented by a certain number of pixels (the first two dimensions of the ndarray) for each of the tree RGB colors (represented by the third dimension). \n",
    "\n",
    "This image has color depth of 256 (output of `image.dtype`), meaning that it can represent 256 different intensities per color."
   ]
  },
  {
   "cell_type": "code",
   "execution_count": 2,
   "metadata": {},
   "outputs": [
    {
     "data": {
      "text/plain": [
       "<matplotlib.image.AxesImage at 0x2ddb5c0b8d0>"
      ]
     },
     "execution_count": 2,
     "metadata": {},
     "output_type": "execute_result"
    },
    {
     "data": {
      "image/png": "[encoded data removed]",
      "text/plain": [
       "<Figure size 432x288 with 1 Axes>"
      ]
     },
     "metadata": {
      "needs_background": "light"
     },
     "output_type": "display_data"
    }
   ],
   "source": [
    "# Show the full image.\n",
    "# plt.axis('off')\n",
    "plt.imshow(image[:,:,:])"
   ]
  },
  {
   "cell_type": "code",
   "execution_count": null,
   "metadata": {},
   "outputs": [],
   "source": [
    "# Set to red color to zero.\n",
    "image[:,:,0] = 0\n",
    "# Set to green color to zero.\n",
    "image[:,:,1] = 0\n",
    "# Plot what remains.\n",
    "plt.imshow(image[:,:,:])\n",
    "\n",
    "# Intensity of RED component at pixel (100,200) in the image:\n",
    "print(image[100,200,0])\n",
    "\n",
    "# Intensity of GREEN component at pixel (100,200) in the image:\n",
    "print(image[100,200,1])\n",
    "\n",
    "# Intensity of BLUE component at pixel (100,200) in the image:\n",
    "print(image[100,200,2])"
   ]
  },
  {
   "cell_type": "markdown",
   "metadata": {},
   "source": [
    "# Exercises\n",
    "Please solve the rest of the exercises.\n",
    "\n",
    "# Uploading solutions\n",
    "Before the end of the class at about 16:00, please \"push\" your solutions. \n",
    "\n",
    "Please do so even if you have not solved all problems: additional\n",
    "uploads can be made in the following days. Instructions are below.\n",
    "\n",
    "### If git is available on your system (preferred option)\n",
    "Add, commit and push your changes to the remote server:\n",
    "\n",
    "`git add -A`\n",
    "\n",
    "`git commit -m 'My solutions to Lecture XX'`\n",
    "\n",
    "`git push origin master`\n",
    "\n",
    "### If git is **not** available on your system\n",
    "This is **not** the favourite solution and it should be avoided whenever possible.\n",
    "\n",
    "Upload your Lecture_XX folder (containing the Exercise file) to the polybox https://polybox.ethz.ch and share the folder with luca.alloatti@ief.ee.ethz.ch, thomas.kramer@ief.ee.ethz.ch, and raphael.schwanninger@ief.ee.ethz.ch . To share the folder go on https://polybox.ethz.ch , then on the right of the folder there is a graph with one vertex connecting to two other vertices: click on it and then type the three emails."
   ]
  },
  {
   "cell_type": "code",
   "execution_count": null,
   "metadata": {},
   "outputs": [],
   "source": []
  }
 ],
 "metadata": {
  "kernelspec": {
   "display_name": "Python 3",
   "language": "python",
   "name": "python3"
  },
  "language_info": {
   "codemirror_mode": {
    "name": "ipython",
    "version": 3
   },
   "file_extension": ".py",
   "mimetype": "text/x-python",
   "name": "python",
   "nbconvert_exporter": "python",
   "pygments_lexer": "ipython3",
   "version": "3.7.0"
  }
 },
 "nbformat": 4,
 "nbformat_minor": 2
}
