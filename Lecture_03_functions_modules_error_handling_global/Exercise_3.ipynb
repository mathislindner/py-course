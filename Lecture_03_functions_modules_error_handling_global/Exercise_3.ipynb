{
 "cells": [
  {
   "cell_type": "markdown",
   "metadata": {},
   "source": [
    "# Exercise 3: Python basics 2"
   ]
  },
  {
   "cell_type": "markdown",
   "metadata": {},
   "source": [
    "## $\\mu$-exercises"
   ]
  },
  {
   "cell_type": "markdown",
   "metadata": {},
   "source": [
    "#### 1\n",
    "\n",
    "Create a list of all numbers divisable by 3 between 1 and 100. Then print the 10th and the 20th number in this list."
   ]
  },
  {
   "cell_type": "code",
   "execution_count": null,
   "metadata": {},
   "outputs": [],
   "source": [
    "li=[]\n",
    "for i in range (3,100):\n",
    "    if(i%3 == 0):\n",
    "        li.append(i)\n",
    "print(li)\n",
    "print('10th element: ',li[9])\n",
    "print('20th element: ',li[19])"
   ]
  },
  {
   "cell_type": "markdown",
   "metadata": {},
   "source": [
    "#### 2\n",
    "\n",
    "Print the first 10 Fibonacci numbers along with their index. Calculate the Fibonacci numbers using `for` and `range(10)`."
   ]
  },
  {
   "cell_type": "code",
   "execution_count": null,
   "metadata": {},
   "outputs": [],
   "source": [
    "a=1\n",
    "b=0\n",
    "fib=0\n",
    "for i in range (10):\n",
    "    print(fib)\n",
    "    b=a\n",
    "    a=fib\n",
    "    fib=a+b"
   ]
  },
  {
   "cell_type": "markdown",
   "metadata": {},
   "source": [
    "#### 3\n",
    "\n",
    "Write a function that takes a list as an argument and returns the smallest and biggest value and the average of all elements.\n",
    "\n",
    "Try out your function on a list of your chosing.\n",
    "\n",
    "**Hint:** Python offers the built-in functions [max(), min(), sum(), len()](https://docs.python.org/3/library/functions.html#built-in-funcs)."
   ]
  },
  {
   "cell_type": "code",
   "execution_count": null,
   "metadata": {},
   "outputs": [],
   "source": [
    "def f(li):\n",
    "    average=sum(li)/len(li)\n",
    "    ma=max(li)\n",
    "    mi+min(li)\n",
    "    return average,ma,mi"
   ]
  },
  {
   "cell_type": "markdown",
   "metadata": {},
   "source": [
    "#### 4\n",
    "\n",
    "Write a function which prints a given character (or string) N times in a row. The character and N should be arguments with a default value.\n",
    "\n",
    "Then call the function three times, changing the arguments each time:\n",
    "* once with no arguments given (so the default values are used)\n",
    "* once with positional arguments given\n",
    "* once with keyword arguments given\n",
    "\n",
    "**Hint:** Remember that the `*` operator can be used to \"multiply\" string with integers."
   ]
  },
  {
   "cell_type": "code",
   "execution_count": null,
   "metadata": {},
   "outputs": [],
   "source": [
    "def f1(c='Nope',N=100):\n",
    "    for i in range(N):\n",
    "        print(c+' ')\n",
    "\n",
    "f1()"
   ]
  },
  {
   "cell_type": "markdown",
   "metadata": {},
   "source": [
    "#### 5\n",
    "\n",
    "Add a function of your choice to the python file `my_first_modules/my_math_functions.py` located in the Lecture_3 folder, for example my_sum(). Import and call the function here with arguments of your choice. Try the different ways of importing the function."
   ]
  },
  {
   "cell_type": "code",
   "execution_count": null,
   "metadata": {},
   "outputs": [],
   "source": [
    " from my_first_modules import my_math_functions"
   ]
  },
  {
   "cell_type": "markdown",
   "metadata": {},
   "source": [
    "# Task 1: Function Syntax\n",
    "\n",
    "Write a function that takes the following arguments:\n",
    "- resistance, with default value `None`\n",
    "- current, with default value `None`\n",
    "- voltage, with default value `None`\n",
    "- time\n",
    "\n",
    "The function should compute and return the energy consumption of an electronic resistor, given at least 3 arguments (Why only 3? Which ones are absolutely necessary? What does that mean for the order in which you should place the arguments?).\n",
    "\n",
    "Write and call the function with some values and print the result:"
   ]
  },
  {
   "cell_type": "code",
   "execution_count": null,
   "metadata": {},
   "outputs": [],
   "source": [
    "def f(resistance = None, current = None, voltage = None, time):\n",
    "    power=0\n",
    "    if (resistance == None):\n",
    "        power= current*voltage\n",
    "    elif (current==None):\n",
    "        power= voltage*voltage/resistance\n",
    "    else:\n",
    "        power =current*current*resistance\n",
    "    return power*time #time is abs necessary"
   ]
  },
  {
   "cell_type": "markdown",
   "metadata": {},
   "source": [
    "# Task 2: Simple error handling"
   ]
  },
  {
   "cell_type": "markdown",
   "metadata": {},
   "source": [
    "## 1) Accessing a dictionary."
   ]
  },
  {
   "cell_type": "markdown",
   "metadata": {},
   "source": [
    "When you want to directly access the value of a dictionary by providing the corresponding key, but the key doesn't exist, a ```KeyError``` is thrown. Show this behavior by first creating a dictionary of `string` keys and `int` values and, second, accessing a key that doesn't exist. "
   ]
  },
  {
   "cell_type": "code",
   "execution_count": null,
   "metadata": {},
   "outputs": [],
   "source": [
    "dic={\"key\":0}\n",
    "dic[\"wrongkey\"]"
   ]
  },
  {
   "cell_type": "markdown",
   "metadata": {},
   "source": [
    "Now we want to handle this error and instead return the standard value ```0```:"
   ]
  },
  {
   "cell_type": "code",
   "execution_count": null,
   "metadata": {},
   "outputs": [],
   "source": [
    "try:\n",
    "    dic[\"wrongkey\"]\n",
    "except:\n",
    "    print(0)"
   ]
  },
  {
   "cell_type": "markdown",
   "metadata": {},
   "source": [
    "If we had to do this every time we used a dictionary, this would be quite cumbersome. Find and use the appropriate ```dict.get```-function in the python documentation:"
   ]
  },
  {
   "cell_type": "code",
   "execution_count": null,
   "metadata": {},
   "outputs": [],
   "source": [
    "dict.get('wrongkey')"
   ]
  },
  {
   "cell_type": "markdown",
   "metadata": {},
   "source": [
    "## 2) The \"bad\" user."
   ]
  },
  {
   "cell_type": "markdown",
   "metadata": {},
   "source": [
    "Imagine you had a program that needed some ```integer``` provided by the user, but the user gives you some other ```string```  (that cannot be converted to a ```integer```) instead. What happens?\n",
    "\n",
    "Demonstrate this behavior by writing the code to get the user input (use the function `input` for this) and convert its response to an int."
   ]
  },
  {
   "cell_type": "code",
   "execution_count": null,
   "metadata": {},
   "outputs": [],
   "source": [
    "x = int(input(\"Please enter a number: \"))\n"
   ]
  },
  {
   "cell_type": "markdown",
   "metadata": {},
   "source": [
    "Add the functionality to catch that error and tell the user what (s)he did wrong:"
   ]
  },
  {
   "cell_type": "code",
   "execution_count": null,
   "metadata": {},
   "outputs": [],
   "source": [
    "try: #yes, this is from the Lecture_3 file...\n",
    "    x = int(input(\"Please enter a number: \"))\n",
    "except:  \n",
    "    print(\"Oops!That was not a valid number.\")\n",
    "    "
   ]
  },
  {
   "cell_type": "markdown",
   "metadata": {},
   "source": [
    "Now we have informed the user, that his input could not be understood. Still, we want to give the user more chances to give a correct input. How can you give the user more tries to enter a new ```int``` until his input is correct?"
   ]
  },
  {
   "cell_type": "code",
   "execution_count": null,
   "metadata": {},
   "outputs": [],
   "source": [
    "not_done=True\n",
    "while(not_done):\n",
    "    try: #yes, this is from the Lecture_3 file...\n",
    "        x = int(input(\"Please enter a number: \"))\n",
    "        not_done=False\n",
    "    except ValueError as er:  \n",
    "        print(\"Oops!That was not a valid number.\")"
   ]
  },
  {
   "cell_type": "markdown",
   "metadata": {},
   "source": [
    "Have we considered all the cases where something could go wrong? How would you implement a 'default' response to any other kind of error? Write your final error handling code below:"
   ]
  },
  {
   "cell_type": "code",
   "execution_count": null,
   "metadata": {},
   "outputs": [],
   "source": [
    "not_done=True\n",
    "while(not_done):\n",
    "    try: #yes, this is from the Lecture_3 file...\n",
    "        x = int(input(\"Please enter a number: \"))\n",
    "        not_done=False\n",
    "    except ValueError as er:  \n",
    "        print(\"Oops!That was not a valid number.\")\n",
    "    except:\n",
    "        print(\"Still not right champ.\")"
   ]
  },
  {
   "cell_type": "markdown",
   "metadata": {},
   "source": [
    "# Task 3: Putting things together - Your own shop-system"
   ]
  },
  {
   "cell_type": "markdown",
   "metadata": {},
   "source": [
    "In this task we will create a shop simulation, where the user can buy and sell products to a fictional shop. The user is the customer that wants to buy a product from the shop or sell a product to the shop. Once a product has been sold to the shop, it can be purchased again for the same price."
   ]
  },
  {
   "cell_type": "markdown",
   "metadata": {},
   "source": [
    "The following subtasks are meant to help you through the different steps."
   ]
  },
  {
   "cell_type": "markdown",
   "metadata": {},
   "source": [
    "## 1) Creating the datastructure. #ALL IN 4)"
   ]
  },
  {
   "cell_type": "markdown",
   "metadata": {},
   "source": [
    "Create a datastructure that can hold a product's name and it's price. Note that there is no unique solution to this task."
   ]
  },
  {
   "cell_type": "code",
   "execution_count": 3,
   "metadata": {},
   "outputs": [],
   "source": []
  },
  {
   "cell_type": "markdown",
   "metadata": {},
   "source": [
    "## 2) Creating a menu."
   ]
  },
  {
   "cell_type": "markdown",
   "metadata": {},
   "source": [
    "First, the user should determine whether (s)he wants to \"buy\", \"sell\" or \"print\" all available products in the stock with their prices, by typing the respective word in quotes. The user should then be guided into a submenu where (s)he should provide:\n",
    "- the product's name, if \"buy\" was chosen.\n",
    "- the product's name and price separated by a semicolon, if \"sell\" was chosen.\n",
    "- \"back\" to get back to the menu.\n",
    "- \"quit\" to leave the store.\n",
    "\n",
    "If \"print\" was chosen, all the products and their prices should be printed and the user gets back to the menu.\n",
    "\n",
    "Write the so-called main loop of this program (i.e. your menu) which reacts to the user's entries."
   ]
  },
  {
   "cell_type": "code",
   "execution_count": 2,
   "metadata": {},
   "outputs": [
    {
     "name": "stdout",
     "output_type": "stream",
     "text": [
      "'buy','sell','list',quit'?list\n",
      "milk : 2\n",
      "cheese : 3\n",
      "'buy','sell','list',quit'?quit\n"
     ]
    }
   ],
   "source": []
  },
  {
   "cell_type": "markdown",
   "metadata": {},
   "source": [
    "## 3) Adding functionality."
   ]
  },
  {
   "cell_type": "markdown",
   "metadata": {},
   "source": [
    "Determine what the user entered and add the corresponding functionality to the program. "
   ]
  },
  {
   "cell_type": "code",
   "execution_count": null,
   "metadata": {},
   "outputs": [],
   "source": []
  },
  {
   "cell_type": "markdown",
   "metadata": {},
   "source": [
    "## 4) Testing your program. "
   ]
  },
  {
   "cell_type": "markdown",
   "metadata": {},
   "source": [
    "Test your program by buying and selling products from the shop. Follow these hints:\n",
    "1. Make sure that when a product has been sold to the customer it no longer appears in the inventory. \n",
    "2. Similarly, a product sold to the shop should appear in the inventory.\n",
    "3. Check that your inventory is displayed in an easy-to-read manner."
   ]
  },
  {
   "cell_type": "code",
   "execution_count": 4,
   "metadata": {},
   "outputs": [
    {
     "name": "stdout",
     "output_type": "stream",
     "text": [
      "'buy','sell','list',quit'?buy\n",
      "Which product would you like?milk\n",
      "'buy','sell','list',quit'?list\n",
      "cheese : 3\n",
      "'buy','sell','list',quit'?quit\n"
     ]
    }
   ],
   "source": [
    "store_dic={\"milk\":2,\"cheese\":3} \n",
    "\n",
    "def get_prod_name(new_item): #takes in a string with both naem;price, returns just name as string\n",
    "    return\n",
    "def get_prod_price(new_item): #takes in a string with both name;price, return price as int\n",
    "    return\n",
    "\n",
    "def buy():\n",
    "    wanted_prod = str(input(\"Which product would you like?\"))\n",
    "    try:\n",
    "        store_dic.get(str(wanted_prod))   #apparently this doesn t work...\n",
    "        del store_dic[wanted_prod]\n",
    "    except:\n",
    "        print(\"Sorry, we do not sell this product.\")\n",
    "\n",
    "    \n",
    "def sell():\n",
    "    new_item = str(input(\"'name' ';'' 'price' ?\"))\n",
    "    parted = new_item.partition(';')\n",
    "    product=parted[0]\n",
    "    price=int(parted[2])\n",
    "    store_dic[product]=price\n",
    "    \n",
    "def list_items():\n",
    "    for key,value in store_dic.items():\n",
    "        print(key,\":\",value)\n",
    "    return\n",
    "                  \n",
    "def enter_store(inside):\n",
    "    while(inside):\n",
    "        top_level=str(input(\"'buy','sell','list',quit'?\"))\n",
    "        if(top_level == \"buy\"):\n",
    "            buy()\n",
    "        if(top_level == \"sell\"):\n",
    "            sell()\n",
    "        if(top_level == \"list\"):\n",
    "            list_items()\n",
    "        if(top_level == \"quit\"):\n",
    "            inside=False\n",
    "    return\n",
    "\n",
    "enter_store(True)"
   ]
  },
  {
   "cell_type": "markdown",
   "metadata": {},
   "source": [
    "## 5) Extra: Advanced features."
   ]
  },
  {
   "cell_type": "markdown",
   "metadata": {},
   "source": [
    "1. Our initial approach was not very realistic - neither the user nor the shop should have an unlimited amount of money at their disposal. Implement this feature.\n",
    "\n",
    "1. Furthermore, pawn shops usually ask for a certain commission - the shop should now resell every product bought from a customer for an extra 10% of its initial price. \n",
    "\n",
    "1. Finally, implement a way to print the shop's inventory sorted alphabetically by the product's name. What happens to so-called 'edge-cases' (i.e. case-sensitivity, when a product starts with a space or another special character) ?"
   ]
  },
  {
   "cell_type": "code",
   "execution_count": null,
   "metadata": {},
   "outputs": [],
   "source": []
  }
 ],
 "metadata": {
  "kernelspec": {
   "display_name": "Python 3",
   "language": "python",
   "name": "python3"
  },
  "language_info": {
   "codemirror_mode": {
    "name": "ipython",
    "version": 3
   },
   "file_extension": ".py",
   "mimetype": "text/x-python",
   "name": "python",
   "nbconvert_exporter": "python",
   "pygments_lexer": "ipython3",
   "version": "3.7.0"
  }
 },
 "nbformat": 4,
 "nbformat_minor": 2
}
