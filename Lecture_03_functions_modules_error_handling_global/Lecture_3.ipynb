{
 "cells": [
  {
   "cell_type": "markdown",
   "metadata": {},
   "source": [
    "# Notes about this lecture\n",
    "Because of the Corona virus outbreak, this lecture can be followed both in the classroom (offline) as well as from home (online). \n",
    "\n",
    "## For studens following from home\n",
    "Students following the class **from home** should have python3 and jupyter-notebook installed (see past email). If possible, also git should be installed (but it is not strictly necessary).\n",
    "\n",
    "**For any issues please use the forum** at: https://git.ee.ethz.ch/python-for-engineers/class-fs20-forum and follow the instructions therein. "
   ]
  },
  {
   "cell_type": "markdown",
   "metadata": {},
   "source": [
    "# Obtaining the material for this lecture:\n",
    "### If git is available on your system:\n",
    "Pull the new material from the upstream repository:\n",
    "\n",
    "`cd class-fs20`\n",
    "\n",
    "`git pull upstream master`\n",
    "\n",
    "Then launch the jupyter-notebook and open the Lecture_3 file:\n",
    "\n",
    "`anaconda` (to load the Python environment)\n",
    "\n",
    "`jupyter-notebook &`\n",
    "\n",
    "### If git is **not** available on your system (for some of the students at home only):\n",
    "Download the latest material from:\n",
    "https://git.ee.ethz.ch/python-for-engineers/class-fs20/-/archive/master/class-fs20-master.zip\n",
    "and unpack it on your computer."
   ]
  },
  {
   "cell_type": "markdown",
   "metadata": {},
   "source": [
    "# Tipps for better using jupyter-notebook\n",
    "* If something goes wrong (the notebook is not responsive or does not deliver the expected result), \"reset\" the notebook by clicking _Kernel _Restart & Clear Output. This will erase all previously-stored variables and set the notebook like after a new program start.\n",
    "* To run a cell, just select it with the mouse (single or double click), then press \"Shift + Enter\" , or select from the menu: _Cell _Run Cells.\n",
    "* You can insert new cells by selecting from the menu: _Insert _New Cell Above/Below. The cell type can be set to \"Code\" (for entering python code), or \"Markdown\" (for entering text in the Markdown format) -to switch see the drop-down menu above.\n",
    "\n",
    "# Summary of Lecture 2 (python basics 1)"
   ]
  },
  {
   "cell_type": "markdown",
   "metadata": {},
   "source": [
    "Before starting with new material, let's refresh the content of the last lecture."
   ]
  },
  {
   "cell_type": "markdown",
   "metadata": {},
   "source": [
    "## Types and variables\n",
    "We covered four kinds of datatypes in Python. Two number types (one integer and one floating point), one for boolean, i.e. True/False values, and the type for strings. \n",
    "\n",
    "As you read throught the text, **execute** the Python cells (press \"Shift\"+\"Enter\") and verify that Python produces the expected output:"
   ]
  },
  {
   "cell_type": "code",
   "execution_count": null,
   "metadata": {},
   "outputs": [],
   "source": [
    "# integer \n",
    "type(1)"
   ]
  },
  {
   "cell_type": "code",
   "execution_count": null,
   "metadata": {},
   "outputs": [],
   "source": [
    "# float (IEEE double precision)\n",
    "type(1.0)"
   ]
  },
  {
   "cell_type": "code",
   "execution_count": null,
   "metadata": {},
   "outputs": [],
   "source": [
    "# boolean\n",
    "type(1 == 2)"
   ]
  },
  {
   "cell_type": "code",
   "execution_count": null,
   "metadata": {},
   "outputs": [],
   "source": [
    "# string\n",
    "type(\"Hello, PythonP&S!\")"
   ]
  },
  {
   "cell_type": "markdown",
   "metadata": {},
   "source": [
    "We can assign variables with the equal sign operator. There is no type definition necessary, and type conversion happens automatically. Use the `print()` function to display on the screen strings or the value of variables. Different strings or variables inside the `print()` command can be separated by a comma."
   ]
  },
  {
   "cell_type": "code",
   "execution_count": null,
   "metadata": {},
   "outputs": [],
   "source": [
    "x = 1\n",
    "print(x)"
   ]
  },
  {
   "cell_type": "markdown",
   "metadata": {},
   "source": [
    "Types are automatically converted to best represent the results for the basic operators applied to the built-in datatypes.\n",
    "\n",
    "Example:"
   ]
  },
  {
   "cell_type": "code",
   "execution_count": null,
   "metadata": {},
   "outputs": [],
   "source": [
    "x = 1\n",
    "y = x + 2.0 # int gets converted to float\n",
    "print('x =', x, 'and y =', y)"
   ]
  },
  {
   "cell_type": "markdown",
   "metadata": {},
   "source": [
    "You can also explicitly convert types, using the functions `str()`, `int()`, `float()`, and `bool()`. This type conversion, however, can lead to data loss, for example when converting a float to an integer.\n",
    "\n",
    "Explicit type conversion is sometimes referred as *typecasting* (\"*to cast*\" means \"*to through forcefully*\" and in this context represents the eventual loss of information).\n",
    "\n",
    "Examples:"
   ]
  },
  {
   "cell_type": "code",
   "execution_count": null,
   "metadata": {},
   "outputs": [],
   "source": [
    "print(bool(3 * 2))\n",
    "print(bool(0))\n",
    "print(float(True))"
   ]
  },
  {
   "cell_type": "code",
   "execution_count": null,
   "metadata": {},
   "outputs": [],
   "source": [
    "\"\"\"Some more examples of typecasting showing\n",
    "that not all possible comibinations are covered.\"\"\"\n",
    "\n",
    "print(int(1.37)) # converts float --> int  with information loss\n",
    "print(int(\"2\"))   # converts string --> int\n",
    "#print(int(\"2.3\")) # does NOT work\n",
    "#print(int(\"1e3\"))  # does NOT work\n",
    "print(int(1e3))  \n",
    "print(int(float(\"3.7\"))) # workaround for previous step\n",
    "print(float(4))  # converts int --> float\n",
    "print(float(\"5.37\"))  # converts string --> float\n",
    "print(type(float(\"6.67\")))"
   ]
  },
  {
   "cell_type": "markdown",
   "metadata": {},
   "source": [
    "## Complex numbers\n",
    "More number types, such as complex numbers, are supported by importing specialized *modules* (collections of functions) such as `cmath`. Modules are imported with the `import` keyword. Modules will be defined in more depth later in this lecture.\n",
    "\n",
    "Example:"
   ]
  },
  {
   "cell_type": "code",
   "execution_count": null,
   "metadata": {},
   "outputs": [],
   "source": [
    "import cmath\n",
    "print('Angle of 1+1j = ', cmath.phase(1+1j)*180/cmath.pi, '°')  \n",
    "# notice that the imaginary unit is written as \"1j\". Nor \"i\", nor \"j\" nor \"1i\" work."
   ]
  },
  {
   "cell_type": "markdown",
   "metadata": {},
   "source": [
    "## Strings\n",
    "Strings store zero, one or more characters of text. Use the `len()` built-in function to access the length:"
   ]
  },
  {
   "cell_type": "code",
   "execution_count": null,
   "metadata": {},
   "outputs": [],
   "source": [
    "string_example = \"Hello,\" + \"\\n\" + \"world!\"\n",
    "print(string_example)"
   ]
  },
  {
   "cell_type": "code",
   "execution_count": null,
   "metadata": {},
   "outputs": [],
   "source": [
    "len(string_example)"
   ]
  },
  {
   "cell_type": "markdown",
   "metadata": {},
   "source": [
    "Substrings, just as subsets of lists or subsets of tuples, can be accessed with the array indexing syntax with square brackets. This process is called *slicing* and the general syntax is: \n",
    "* `my_list[start:end:step]` (most general form)\n",
    "* `my_list[start:end]` (when `step` is not specified it is defaulted to 1)\n",
    "* `my_list[:]`,`my_list[start:]`,`my_list[:end]` (when `start` and/or `end` are not specified they are defaulted to the first/last element)\n",
    "* `my_list[::]` (same result as * `my_list[:]`)\n",
    "* `my_list[index]` (for a single element)\n",
    "\n",
    "Examples:"
   ]
  },
  {
   "cell_type": "code",
   "execution_count": null,
   "metadata": {},
   "outputs": [],
   "source": [
    "print(len(string_example))\n",
    "print(string_example[0:13:2])  # step size set to 2"
   ]
  },
  {
   "cell_type": "code",
   "execution_count": null,
   "metadata": {},
   "outputs": [],
   "source": [
    "print(string_example[0:13:1]) # step size set to 1\n",
    "print(string_example[0:13])   # equal to the previous"
   ]
  },
  {
   "cell_type": "code",
   "execution_count": null,
   "metadata": {},
   "outputs": [],
   "source": [
    "print(string_example[:13])   # equal to the previous\n",
    "print(string_example[0:])   # equal to the previous (since len(string_example)=13)"
   ]
  },
  {
   "cell_type": "code",
   "execution_count": null,
   "metadata": {},
   "outputs": [],
   "source": [
    "print(string_example[:])   # equal to the previous\n",
    "print(string_example[::])  # equal to the previous"
   ]
  },
  {
   "cell_type": "markdown",
   "metadata": {},
   "source": [
    "Observation: a minus sign in the index means that counting begins from the last element backwards:"
   ]
  },
  {
   "cell_type": "code",
   "execution_count": null,
   "metadata": {},
   "outputs": [],
   "source": [
    "print(string_example[7:13])\n",
    "print(string_example[-6:13])  # equal to the previous since  13-6 = 7"
   ]
  },
  {
   "cell_type": "markdown",
   "metadata": {},
   "source": [
    "Observation: In Python, the *start index* for slicing is always *inclusive*, while the *end index* always *exclusive*:"
   ]
  },
  {
   "cell_type": "code",
   "execution_count": null,
   "metadata": {},
   "outputs": [],
   "source": [
    "string_long_two = \"Hi\"\n",
    "print(\"Element [0]: \", string_long_two[0])\n",
    "print(\"Element [1]: \", string_long_two[1])\n",
    "print(\"Substring [0:1]: \", string_long_two[0:1])  # element 0 is printed, while element 1 is not."
   ]
  },
  {
   "cell_type": "markdown",
   "metadata": {},
   "source": [
    "## Lists and tuples\n",
    "\n",
    "### Lists\n",
    "Lists are 1-D array structures which can hold any type of objects. They are created with **square brackets** or with the `list()` method (function). In contrast to tuples (described below), lists are **mutable**, i.e. can be changed after creation."
   ]
  },
  {
   "cell_type": "code",
   "execution_count": null,
   "metadata": {
    "scrolled": true
   },
   "outputs": [],
   "source": [
    "list_example = ['e', 'x', 'a', 'm', 'p', 'l', 'e']\n",
    "print('The list example', list_example, 'contains', len(list_example), 'elements.')"
   ]
  },
  {
   "cell_type": "markdown",
   "metadata": {},
   "source": [
    "The slicing syntax for accessing individual elements or sublists of *lists* is the same as with strings: `my_list[start:end:step]`"
   ]
  },
  {
   "cell_type": "code",
   "execution_count": null,
   "metadata": {},
   "outputs": [],
   "source": [
    "list_example[0:3]"
   ]
  },
  {
   "cell_type": "code",
   "execution_count": null,
   "metadata": {},
   "outputs": [],
   "source": [
    "list_example[::3]"
   ]
  },
  {
   "cell_type": "markdown",
   "metadata": {},
   "source": [
    "#### Modifying lists\n",
    "Use the `append()` and `extend()` functions to extend lists."
   ]
  },
  {
   "cell_type": "code",
   "execution_count": null,
   "metadata": {},
   "outputs": [],
   "source": [
    "list_example = ['e', 'x', 'a', 'm', 'p', 'l', 'e']\n",
    "list_example.append(['a','b']) # inplace operation! It changes the list itself and returns None\n",
    "print(list_example)\n",
    "list_example.extend(['c','d']) # inplace operation! It changes the list itself and returns None\n",
    "print(list_example)"
   ]
  },
  {
   "cell_type": "markdown",
   "metadata": {},
   "source": [
    "Elements can be removed from the list with the `del` keyword."
   ]
  },
  {
   "cell_type": "code",
   "execution_count": null,
   "metadata": {},
   "outputs": [],
   "source": [
    "del list_example[0]\n",
    "print(list_example)"
   ]
  },
  {
   "cell_type": "markdown",
   "metadata": {},
   "source": [
    "### Tuples\n",
    "In contrast to lists, **tuples** are created *without* square brackets, but with **simple commas** to separate the elements.\n",
    "\n",
    "Note: an arbitrary number of round brackets can be added, but they have no effect.\n",
    "\n",
    "Examples:"
   ]
  },
  {
   "cell_type": "code",
   "execution_count": null,
   "metadata": {},
   "outputs": [],
   "source": [
    "tuple_example = 'e', 'x', 'a', 'm', 'p', 'l', 'e'  # no parentheses.\n",
    "print(\"Tuple example: \", tuple_example)"
   ]
  },
  {
   "cell_type": "code",
   "execution_count": null,
   "metadata": {},
   "outputs": [],
   "source": [
    "tuple_example = (((('e', 'x', 'a', 'm', 'p', 'l', 'e')))) # adding 4 useless round parentheses\n",
    "print(\"Tuple example: \", tuple_example)"
   ]
  },
  {
   "cell_type": "markdown",
   "metadata": {},
   "source": [
    "The slicing syntax for accessing individual elements or sublists of *tuples* is the same as with strings or lists: `my_tuple[start:end:step]`"
   ]
  },
  {
   "cell_type": "code",
   "execution_count": null,
   "metadata": {},
   "outputs": [],
   "source": [
    "print(tuple_example[0:3]) # this is a tuple. Notice the **round brackets**\n",
    "print(list_example[0:3])  # this is a list. Notice the **square brackets**"
   ]
  },
  {
   "cell_type": "code",
   "execution_count": null,
   "metadata": {},
   "outputs": [],
   "source": [
    "print(tuple_example[::3])"
   ]
  },
  {
   "cell_type": "markdown",
   "metadata": {},
   "source": [
    "In contrast to lists, tuples are **immutable** and cannot be changed after creation:"
   ]
  },
  {
   "cell_type": "code",
   "execution_count": null,
   "metadata": {},
   "outputs": [],
   "source": [
    "tuple_example[1] = 'z'  # gives error"
   ]
  },
  {
   "cell_type": "code",
   "execution_count": null,
   "metadata": {},
   "outputs": [],
   "source": [
    "list_example = ['e', 'x', 'a', 'm', 'p', 'l', 'e']\n",
    "list_example[1] = 'z'  # no problem to change a list instead of a tuple.\n",
    "print(list_example)"
   ]
  },
  {
   "cell_type": "markdown",
   "metadata": {},
   "source": [
    "Tuples can be \"*unpacked*\" as follows:"
   ]
  },
  {
   "cell_type": "code",
   "execution_count": null,
   "metadata": {},
   "outputs": [],
   "source": [
    "letter_a, letter_b, letter_c = 'a', 'b', 'c'\n",
    "#letter_a, letter_b, letter_c = (((('a', 'b', 'c'))))  # same as above\n",
    "print(letter_b)"
   ]
  },
  {
   "cell_type": "markdown",
   "metadata": {},
   "source": [
    "## Dictionaries\n",
    "Dictionaries (or \"*dicts*\" in short) are an additional datatype available in Python. A dictionary is a set of \"*key: value*\" pairs, with the requirement that the keys are unique (within one dictionary).\n",
    "\n",
    "Unlike strings, lists or tuples, which are indexed by a range of numbers, dictionaries are indexed by *keys*. Dictionaries can store objects of any type; in particular dictionaries can store iteratively other dictionaries. Dictionaries are mutable and can therefore be changed after their creation.\n",
    "\n",
    "Consider the following example which represents the Bitcoin currency in the form of a dictionary: "
   ]
  },
  {
   "cell_type": "code",
   "execution_count": null,
   "metadata": {},
   "outputs": [],
   "source": [
    "#               key    : value\n",
    "my_currency = {'symbol': 'BTC',\n",
    "              'name': 'Bitcoin',\n",
    "              'rates': {\n",
    "                      # dict in dict!\n",
    "                      'EUR': 123.45,\n",
    "                      'USD': 678.98,\n",
    "                      'XBT': 0.0123,\n",
    "                  },\n",
    "              'assets': 0.0}\n",
    "print(my_currency)"
   ]
  },
  {
   "cell_type": "markdown",
   "metadata": {},
   "source": [
    "Elements of a dictionary can be accessed hierarchically using one or more square brackets:"
   ]
  },
  {
   "cell_type": "code",
   "execution_count": null,
   "metadata": {},
   "outputs": [],
   "source": [
    "# access the dict in the dict\n",
    "print(my_currency['rates'])\n",
    "print(my_currency['rates']['USD'])"
   ]
  },
  {
   "cell_type": "code",
   "execution_count": null,
   "metadata": {},
   "outputs": [],
   "source": [
    "# add entry to the dict in the dict\n",
    "my_currency['rates']['JPY'] = 3344\n",
    "print(my_currency)"
   ]
  },
  {
   "cell_type": "markdown",
   "metadata": {},
   "source": [
    "### Dictionary example: JSON format\n",
    "For which kind of information could one take advantage of the dictionary *datastructure*?\n",
    "\n",
    "As an example, consider todays' machine-to-machine data transfers on the internet. Many services share data in [JSON](https://en.wikipedia.org/wiki/JSON) format. This format allows to have arbitrarily nested lists and dictionary-like structures to convey data. This structure allows easy machine interpretation of their content.\n",
    "\n",
    "Example 1: exchange rate USD to XBT from coinbase.com at https://api.coinbase.com/v2/prices/spot?currency=USD.\n",
    "\n",
    "Example 2: available projects (for the logged-in user) on the gitlab at https://git.ee.ethz.ch/api/v4/projects."
   ]
  },
  {
   "cell_type": "markdown",
   "metadata": {},
   "source": [
    "## Control flow\n",
    "Use the `if` statement to *conditionally* execute code.\n",
    "\n",
    "Note that blocks are separated with a colon and indentation!"
   ]
  },
  {
   "cell_type": "code",
   "execution_count": null,
   "metadata": {},
   "outputs": [],
   "source": [
    "if 1 == 2:\n",
    "    print('something is wrong...')\n",
    "else:\n",
    "    print('all good.')"
   ]
  },
  {
   "cell_type": "markdown",
   "metadata": {
    "collapsed": true
   },
   "source": [
    "The `while` statement executes its block as long as its condition is `True`. Use the `break` keyword to prematurely abort the loop and the `continue` statement to immediately jump to the next iteration."
   ]
  },
  {
   "cell_type": "code",
   "execution_count": null,
   "metadata": {},
   "outputs": [],
   "source": [
    "count = 1\n",
    "while count <= 5:\n",
    "    print(count)\n",
    "    count += 1"
   ]
  },
  {
   "cell_type": "markdown",
   "metadata": {
    "collapsed": true
   },
   "source": [
    "The `for` statement loops through any iterable, e.g. a list, a dict, a tuple..."
   ]
  },
  {
   "cell_type": "code",
   "execution_count": null,
   "metadata": {},
   "outputs": [],
   "source": [
    "for element in [1, 3, 5, 7]:\n",
    "    print(element)"
   ]
  },
  {
   "cell_type": "markdown",
   "metadata": {},
   "source": [
    "The `range` function is used to iterate over lists of *integers*. It's first argument is the start index (inclusive), the second argument is the end index (exclusive), the third argument is the step size:"
   ]
  },
  {
   "cell_type": "code",
   "execution_count": null,
   "metadata": {},
   "outputs": [],
   "source": [
    "for number in range(2, 10, 2):\n",
    "    print(number)"
   ]
  },
  {
   "cell_type": "markdown",
   "metadata": {},
   "source": [
    "### ✏️ $\\mu$-exercise \n",
    "\n",
    "At this point, please switch to your Exercise_3 notebook and complete $\\mu$-exercises __1 and 2__."
   ]
  },
  {
   "cell_type": "markdown",
   "metadata": {},
   "source": [
    "# Lecture 3: Python basics 2 - style guide, functions, modules, error handling, local and global variables"
   ]
  },
  {
   "cell_type": "markdown",
   "metadata": {},
   "source": [
    "This lecture will cover:\n",
    "- Style guide\n",
    "- Functions (in more depth) \n",
    "- Modules\n",
    "- Error handling\n",
    "- Local and global variables"
   ]
  },
  {
   "cell_type": "markdown",
   "metadata": {},
   "source": [
    "# Style guide\n",
    "\n",
    "Some prominent Python developers, such as the original Python creator Guido van Rossum, defined the following \"Style Guide for Python Code\":\n",
    "\n",
    "https://www.python.org/dev/peps/pep-0008/ . These guidelines are part of a series of Python Enhancement Proposals (PEP). In the following we will review its most imporant parts.\n",
    "\n",
    "## Spaces vs. tabs for indentations\n",
    "\n",
    "We have already seen that *indentations* have a precise meaning in the Python syntax. In the past however, people used inconsistently tabs or spaces across their projects. Even when using spaces, and indentation could be defined by using a different number of spaces, therefore increasing confusion.\n",
    "\n",
    "According to the PEP recommendations: **Spaces are the preferred indentation method.** Use **four** spaces.\n",
    "\n",
    "Tabs should be used solely to remain consistent with code that is already indented with tabs.\n",
    "\n",
    "Python 3 disallows mixing the use of tabs and spaces for indentation.\n",
    "\n",
    "Python 2 code indented with a mixture of tabs and spaces should be converted to using spaces exclusively.\n",
    "\n",
    "When invoking the Python 2 command line interpreter with the -t option, it issues warnings about code that illegally mixes tabs and spaces. When using -tt these warnings become errors. These options are highly recommended!\n",
    "\n",
    "Source: https://www.python.org/dev/peps/pep-0008/#tabs-or-spaces"
   ]
  },
  {
   "cell_type": "markdown",
   "metadata": {},
   "source": [
    "## Naming conventions\n",
    "In principle, everybody can use any notation he wishes. However, a unified and consistent nomenclature helps exchaning code and improves readability of programs written by others. \n",
    "\n",
    "The PEP 8 naming convention are accessible at:\n",
    "\n",
    "https://www.python.org/dev/peps/pep-0008/#prescriptive-naming-conventions\n",
    "\n",
    "According to these conventions:\n",
    "\n",
    "* **Modules** (defined later in this lecture) should have **short, all-lowercase** names. Underscores can be used in the module name if it improves readability. \n",
    "* Python **packages** should also have **short, all-lowercase names**, although the use of underscores is discouraged. Exception: When an extension module written in C or C++ has an accompanying Python module that provides a higher level (e.g. more object oriented) interface, the C/C++ module has a leading underscore (e.g. _socket).\n",
    "* **Class names** should normally use the **CapWords** convention. The naming convention for functions may be used instead in cases where the interface is documented and used primarily as a callable. Note that there is a separate convention for built-in names: most built-in names are single words (or two words run together), with the CapWords convention used only for exception names and built-in constants. \n",
    "* Because exceptions should be classes, the class naming convention applies here. However, you should use the suffix \"Error\" on your exception names (if the exception actually is an error).\n",
    "\n",
    "* **Function names** should be **lowercase, with words separated by underscores** as necessary to improve readability.\n",
    "* **Variable names** follow the same convention **as function names**.\n",
    "* **Constants** are usually defined on a module level and written in **all capital letters with underscores** separating words. Examples include MAX_OVERFLOW and TOTAL.\n",
    "\n",
    "Notice: the list above is not complete. For a full list, visit the PEP 8 link."
   ]
  },
  {
   "cell_type": "markdown",
   "metadata": {},
   "source": [
    "# Functions (in more depth)\n",
    "Documentation: https://docs.python.org/3/tutorial/controlflow.html#more-on-defining-functions\n",
    "\n",
    "The concept of function was already introduced in the previous lecture with the following two examples:"
   ]
  },
  {
   "cell_type": "code",
   "execution_count": null,
   "metadata": {},
   "outputs": [],
   "source": [
    "def square(x):\n",
    "    sq = x * x\n",
    "    return sq \n",
    "\n",
    "def arithmetic_mean(x, y):\n",
    "    return (x + y) / 2\n",
    "\n",
    "# calling the two functions:\n",
    "print(5, 'squared is', square(5))\n",
    "print('The mean of 1 and 3 is: ', arithmetic_mean(1, 3))"
   ]
  },
  {
   "cell_type": "markdown",
   "metadata": {},
   "source": [
    "## The *docstring* in a function definition\n",
    "The first statement in any function can simply be a string, introduced usually with triple-quotes: \"\"\". It is located *directly after* the definition of a function. This is the so called \"*docstring*\" of the function and it documents its functionality. *There are tools which automatically compile the docstrings* to e.g. a browseable documentation website. It is good practice to add docstrings to each function.\n",
    "\n",
    "The **standards on the docstring itself** (like the use of triple quotes, single-line or multi-lines docstrings) is documented here: https://www.python.org/dev/peps/pep-0257/\n",
    "\n",
    "The **format of the text inside the docstring**, instead, is defined here: https://www.python.org/dev/peps/pep-0287/ . In particular, the Python standard format is the so-called [**reStructuredText**](https://en.wikipedia.org/wiki/ReStructuredText) format. The reStructuredText (RST) format is very similar to the  [Markdown (md)](https://en.wikipedia.org/wiki/Markdown) format. However, RST is written specifically for writing documentation, while Markdown is written for the web. We will not go in details about either format, but the interested reader will find more information about RST vs, md [here](https://www.zverovich.net/2016/06/16/rst-vs-markdown.html).\n",
    "\n",
    "For an overview on other commonly used non-standard formats see [this stack overflow post](https://stackoverflow.com/questions/3898572/what-is-the-standard-python-docstring-format#24385103)."
   ]
  },
  {
   "cell_type": "code",
   "execution_count": null,
   "metadata": {},
   "outputs": [],
   "source": [
    "# Example of RST docstring.\n",
    "def square(x):\n",
    "    \"\"\" \n",
    "    This function calculates the square of its input argument.\n",
    "    :param x: The number to be squared.\n",
    "    :return: The square of x.\n",
    "    \"\"\"\n",
    "    sq = x * x\n",
    "    return sq\n",
    "\n",
    "square(5.0)"
   ]
  },
  {
   "cell_type": "markdown",
   "metadata": {},
   "source": [
    "## Positional and keyword arguments\n",
    "Functions can receive input values in three ways:\n",
    "1. by *positional arguments*\n",
    "1. by *keyword arguments* \n",
    "1. by a mix of the two\n",
    "\n",
    "Example:"
   ]
  },
  {
   "cell_type": "code",
   "execution_count": null,
   "metadata": {},
   "outputs": [],
   "source": [
    "def my_table(width, length, thickness):\n",
    "    output_string = 'The table has a width of '  +str(width) + ', a length of ' + str(length) + ', a thickness of ' + str(thickness)\n",
    "    return output_string\n",
    "\n",
    "print(my_table(1, 2, 3)) # using \"positional arguments\"\n",
    "print(my_table(width=1, length=2, thickness=3)) # using \"keyword arguments\"\n",
    "print(my_table(length=2, width=1, thickness=3))  # notice: passing keywords can happen in random order"
   ]
  },
  {
   "cell_type": "markdown",
   "metadata": {},
   "source": [
    "Observation: using *keyword arguments* improves readability on otherwise obscure function calls."
   ]
  },
  {
   "cell_type": "markdown",
   "metadata": {},
   "source": [
    "## Mixing positional and keyword arguments\n",
    "When calling a function, it is possible to mix *positional* and *keyword* arguments. However, all positional arguments must be listed *before* any keyword arguments:"
   ]
  },
  {
   "cell_type": "code",
   "execution_count": null,
   "metadata": {},
   "outputs": [],
   "source": [
    "print(my_table(1, length=2, thickness=3))  # it is possible to mix the two methods\n",
    "print(my_table(1, 2, thickness=3))   # it is possible to mix the two methods\n",
    "#print(my_table(width=1, 2, 3)) # however, positional arguments must come FIRST. This gives ERROR\n",
    "#print(my_table(width=1, length=2)) # Error: not all arguments are passed"
   ]
  },
  {
   "cell_type": "markdown",
   "metadata": {
    "collapsed": true
   },
   "source": [
    "Take care that you do not define the same argument multiple times:"
   ]
  },
  {
   "cell_type": "code",
   "execution_count": null,
   "metadata": {},
   "outputs": [],
   "source": [
    "def my_table(width, length, thickness):\n",
    "    output_string = 'The table has a width of '+str(width)+', a length of '+str(length)+', a thickness of '+str(thickness)\n",
    "    return output_string\n",
    "\n",
    "my_table(1, 2, length=3)  # length was already assigned to '2'."
   ]
  },
  {
   "cell_type": "markdown",
   "metadata": {},
   "source": [
    "## Functions with default values\n",
    "In the examples above we have seen that when not all values are passed, the interpreter returns an error. \n",
    "\n",
    "To avoid such problems, it is possible to define *default values* as shown below:"
   ]
  },
  {
   "cell_type": "code",
   "execution_count": null,
   "metadata": {},
   "outputs": [],
   "source": [
    "def my_table_with_defaults(width, length=12, thickness=13):\n",
    "    output_string = 'The table has a width of ' + str(width) + ', a length of ' + str(length) + ', a thickness of ' + str(thickness)\n",
    "    return output_string\n",
    "\n",
    "print(my_table_with_defaults(width=1)) # does no more return an error.\n",
    "print(my_table_with_defaults(width=1, length=2, thickness=3)) # default vaules are overwritten."
   ]
  },
  {
   "cell_type": "markdown",
   "metadata": {},
   "source": [
    "**Warning:** The default values in the function definition are evaluated and defined only once at the time when the function is defined. If you have any mutable type as default argument, changes to them will persist over multiple function calls."
   ]
  },
  {
   "cell_type": "markdown",
   "metadata": {},
   "source": [
    "## Functions returning None\n",
    "Not every function has a return statement. In this case the function call returns `None` which is an object of type `NoneType`.\n",
    "\n",
    "Example:"
   ]
  },
  {
   "cell_type": "code",
   "execution_count": null,
   "metadata": {},
   "outputs": [],
   "source": [
    "def greet(name):\n",
    "    print(\"Hello, {:s}!\".format(name))\n",
    "    \n",
    "value = greet(\"students\")  # Python returns \"None\"\n",
    "\n",
    "print('returned value: ', value)\n",
    "print('returned data type: ', type(value))"
   ]
  },
  {
   "cell_type": "markdown",
   "metadata": {},
   "source": [
    "## Functions returning more than one value\n",
    "Sometimes it is convenient to return more than one value. In Python, it is common practice to \"pack\" such values together using tuples rather than lists, as in the example below."
   ]
  },
  {
   "cell_type": "code",
   "execution_count": null,
   "metadata": {},
   "outputs": [],
   "source": [
    "def return_multiple_things():\n",
    "    return 'X', 1, 1.0  # defines a tuple\n",
    "\n",
    "retval_1, retval_2, retval_3 = return_multiple_things()  # automatic tuple unpacking\n",
    "print(retval_1, 'is a', type(retval_1))\n",
    "print(retval_2, 'is a', type(retval_2))\n",
    "print(retval_3, 'is a', type(retval_3))"
   ]
  },
  {
   "cell_type": "markdown",
   "metadata": {},
   "source": [
    "If you write large functions with multiple return values, you should use [named tuples](https://docs.python.org/3/library/collections.html#collections.namedtuple) to enhance clarity, but we wont treat them here."
   ]
  },
  {
   "cell_type": "markdown",
   "metadata": {},
   "source": [
    "### Simultaneous assignments\n",
    "As another example of tuple unpacking, let's look at a unique Python feature: simultaneous assignments. You can swap or reassign variables without using temporary variables by doing the following:"
   ]
  },
  {
   "cell_type": "code",
   "execution_count": null,
   "metadata": {},
   "outputs": [],
   "source": [
    "a=1\n",
    "b=2.1\n",
    "\n",
    "print('a:', a, 'b:', b)\n",
    "\n",
    "a, b = b, a  # does not require temporary variables!\n",
    "\n",
    "print('a:', a, 'b:', b)"
   ]
  },
  {
   "cell_type": "markdown",
   "metadata": {},
   "source": [
    "### Sequence unpacking\n",
    "The examples seen above about unpacking tuples can be generalized to any sequences. *Sequence unpacking* requires that there are as many variables on the left side of the equal sign as there are elements in the sequence. For more information see: https://docs.python.org/3/tutorial/datastructures.html\n",
    "\n",
    "Example:"
   ]
  },
  {
   "cell_type": "code",
   "execution_count": 1,
   "metadata": {},
   "outputs": [
    {
     "name": "stdout",
     "output_type": "stream",
     "text": [
      "0\n",
      "1\n",
      "2\n"
     ]
    }
   ],
   "source": [
    "a, b, c = range(0,3)\n",
    "print(a)\n",
    "print(b)\n",
    "print(c)"
   ]
  },
  {
   "cell_type": "markdown",
   "metadata": {},
   "source": [
    "## Function without content: the `pass` statement\n",
    "Sometimes there is no need to execute any code, and still a statement is required syntactically. In C this can achieved using the empty block `{}`. In Python one could use the parentheses `()`, but it is recommended to use the `pass` statement instead.\n",
    "\n",
    "Example:"
   ]
  },
  {
   "cell_type": "code",
   "execution_count": null,
   "metadata": {},
   "outputs": [],
   "source": [
    "def complicated_function(some_argument, some_further_argument):\n",
    "    pass  # preferred method to do nothing\n",
    "\n",
    "def complicated_function(some_argument, some_further_argument):\n",
    "    ()  # this would work too, but not used.\n",
    "    \n",
    "#def complicated_function(some_argument, some_further_argument):\n",
    "    # leaving the space empty would not work\n",
    "    \n",
    "print(\"hello world\")"
   ]
  },
  {
   "cell_type": "markdown",
   "metadata": {},
   "source": [
    "### ✏️ $\\mu$-exercise\n",
    "\n",
    "At this point, please switch to your Exercise_3 notebook and complete $\\mu$-exercise __3__.\n",
    "\n",
    "\n"
   ]
  },
  {
   "cell_type": "markdown",
   "metadata": {},
   "source": [
    "## Functions have names which can be reassigned\n",
    "The word after the `def` statement of a function, is the `name` of the function. This name can be reassigned to another name as in the example below."
   ]
  },
  {
   "cell_type": "code",
   "execution_count": null,
   "metadata": {},
   "outputs": [],
   "source": [
    "def greetings(name):\n",
    "    print('Hello, '+str(name))\n",
    "\n",
    "g = greetings \n",
    "g('students!')\n",
    "\n",
    "# Observations:\n",
    "print('Type of the functions: ', type(greetings), type(g)) # both functions have the same type.\n",
    "print(id(greetings))  # notice the two functions have the same id.\n",
    "print(id(g))"
   ]
  },
  {
   "cell_type": "code",
   "execution_count": null,
   "metadata": {},
   "outputs": [],
   "source": [
    "greetings('creatures of the world!')  # the old name still works."
   ]
  },
  {
   "cell_type": "markdown",
   "metadata": {},
   "source": [
    "## Functions: passing lists, tuples and dictionaries in a compact way\n",
    "One more useful feature of Python is argument unpacking. It is possible to unpack **lists** and **tuples** by adding an asterisk (\\*) before the variable name. \n",
    "\n",
    "It is also possible to unpack **dictionaries** by adding a double asterisk (\\*\\*) before the dictionary name.\n",
    "\n",
    "Examples:"
   ]
  },
  {
   "cell_type": "code",
   "execution_count": null,
   "metadata": {},
   "outputs": [],
   "source": [
    "def my_table(width, length, thickness):\n",
    "    output_string = 'The table has a width of ' + str(width) + ', a length of ' + str(length) + ', a thickness of ' + str(thickness)\n",
    "    return output_string\n",
    "\n",
    "argument_list = [1, 2, 3]\n",
    "my_table(*argument_list)  # note the * operator!"
   ]
  },
  {
   "cell_type": "code",
   "execution_count": null,
   "metadata": {},
   "outputs": [],
   "source": [
    "argument_dict = {\n",
    "    'width': 1,\n",
    "    'length': 2,\n",
    "    'thickness': 3\n",
    "}\n",
    "my_table(**argument_dict)  # note the ** operator!"
   ]
  },
  {
   "cell_type": "code",
   "execution_count": null,
   "metadata": {},
   "outputs": [],
   "source": [
    "# Notice: The previous example works also if the order \n",
    "# of the elements in the dictionary is changed!\n",
    " \n",
    "argument_dict = {\n",
    "    'thickness': 3,  # order changed.\n",
    "    'length': 2,\n",
    "    'width': 1\n",
    "}\n",
    "my_table(**argument_dict)  # note the ** operator!"
   ]
  },
  {
   "cell_type": "markdown",
   "metadata": {},
   "source": [
    "### ✏️ $\\mu$-exercise\n",
    "\n",
    "At this point, please switch to your Exercise_3 notebook and complete $\\mu$-exercise __4__."
   ]
  },
  {
   "cell_type": "markdown",
   "metadata": {},
   "source": [
    "# Functions and modules\n",
    "Functions are useful because they contain code which can be used multiple times, therefore shortening the full length of a given program. Functions can be considered as black-boxes which process input values into a defined output. Generally, the more functions a programmer can reuse in the future, the more efficient his coding becomes. A programmer could be tempted to copy-paste function definitions multiple times inside a larger code, however, this practice is discouraged. In fact, shall a function be updated or corrected in the future, the programmer would need to update the code at all the locations where copy-paste occurred. \n",
    "To avoid such problems, Python allows to save such functions into so-called \"modules\", and to import such modules when needed using the `import` command.\n",
    "\n",
    "**Modules** consist of separate python files. One module can contain multiple functions. Module files can be ordered into folders, whose structure is reflected by the `import` statement.\n",
    "\n",
    "Examples:"
   ]
  },
  {
   "cell_type": "code",
   "execution_count": null,
   "metadata": {},
   "outputs": [],
   "source": [
    "''' \n",
    "Verify to be in the Lecture_3 folder. \n",
    "If not, the following cell needs to be modified accordingly\n",
    "'''\n",
    "import os\n",
    "cwd = os.getcwd()  # cwd stays for \"current working directory\"\n",
    "print(cwd)"
   ]
  },
  {
   "cell_type": "code",
   "execution_count": null,
   "metadata": {},
   "outputs": [],
   "source": [
    "'''\n",
    "Notice: inside the Lecture_3 folder, there is a folder called \"my_first_modules\" \n",
    "and inside it there is a file called my_math_functions.\n",
    "The folder structure ./my_folder/my_module.py is represented in the import statement by\n",
    "my_folder.my_module (i.e. by dropping the .py termination and replacing \"/\" --> \".\")\n",
    "'''\n",
    "from my_first_modules.my_math_functions import *\n",
    "\n",
    "print('3 * 4 = ', my_product(3, 4))\n",
    "print('3 - 1 = ', my_substraction(3, 1))\n"
   ]
  },
  {
   "cell_type": "markdown",
   "metadata": {},
   "source": [
    "## Three ways of importing a module\n",
    "Modules can be imported in three different ways:\n",
    "1. `from my_module import *`   (This method is sometimes discuraged and makes debugging harder).\n",
    "1. `from my_module import my_function_1, my_function_2`  (This method allows to import a subset of available functions in the module. It is more clear compared to the previous method).\n",
    "1. `import my_module`   (This method forces to \"cite\" the module name anytime that a function is called -see example below).\n",
    "1. `import my_module as my_favourite_name`  (This method is like the previous, but allows to choose shorter names for the module name. A typical example is the `numpy` module which is often shortened as `np`).\n",
    "\n",
    "These ways are exemplified below:"
   ]
  },
  {
   "cell_type": "code",
   "execution_count": null,
   "metadata": {},
   "outputs": [],
   "source": [
    "# Method 1  (restart the kernel before trying!)\n",
    "from my_first_modules.my_math_functions import *\n",
    "\n",
    "print('3 * 4 = ', my_product(3, 4))\n",
    "print('3 - 1 = ', my_substraction(3, 1))\n"
   ]
  },
  {
   "cell_type": "code",
   "execution_count": null,
   "metadata": {},
   "outputs": [],
   "source": [
    "# Method 2  (restart the kernel before trying!)\n",
    "from my_first_modules.my_math_functions import my_product\n",
    "\n",
    "print('3 * 4 = ', my_product(3, 4))\n",
    "#print('The difference of 3 and 1 is: ', my_substraction(3, 1))  # this would given an error."
   ]
  },
  {
   "cell_type": "code",
   "execution_count": null,
   "metadata": {},
   "outputs": [],
   "source": [
    "# Method 3  (restart the kernel before trying!)\n",
    "import my_first_modules.my_math_functions\n",
    "\n",
    "# print('The product of 3 and 4 is: ', my_product(3, 4))  # this works with Method 1 and 2, but not here.\n",
    "print('3 * 4 = ', my_first_modules.my_math_functions.my_product(3, 4)) # more explicit"
   ]
  },
  {
   "cell_type": "code",
   "execution_count": null,
   "metadata": {},
   "outputs": [],
   "source": [
    "# Method 4  (restart the kernel before trying!)\n",
    "import my_first_modules.my_math_functions as my_favourite_name\n",
    "\n",
    "# print('The product of 3 and 4 is: ', my_product(3, 4))  # this works with Method 1 and 2, but not here.\n",
    "print('3 * 4 = ', my_favourite_name.my_product(3, 4)) # more explicit"
   ]
  },
  {
   "cell_type": "markdown",
   "metadata": {},
   "source": [
    "### ✏️ $\\mu$-exercise\n",
    "\n",
    "At this point, please switch to your Exercise_3 notebook and complete $\\mu$-exercise __5__."
   ]
  },
  {
   "cell_type": "markdown",
   "metadata": {},
   "source": [
    "# Exception Handling\n",
    "\n",
    "[Documentation Link](https://docs.python.org/3/tutorial/errors.html)\n",
    "\n",
    "When the Python interpreter encounters an error, it simply stops by returning an error message. This is sometimes inconvenient.\n",
    "\n",
    "To solve this problem, Python offers the `try` and `except` statements. The commands after the `try` statement are executed as a first choice. However, if something fails when trying to execute them, the program does not stop, but instead runs the commands after the `exept` statement:"
   ]
  },
  {
   "cell_type": "code",
   "execution_count": null,
   "metadata": {},
   "outputs": [],
   "source": [
    "# Example of stopping program (enter a string when asked):\n",
    "x = int(input(\"Please enter a number: \")) # try to enter a string instead\n",
    "\n",
    "print(\"I'm here!\")  # this message is not printed if an error is encountered earlier."
   ]
  },
  {
   "cell_type": "code",
   "execution_count": null,
   "metadata": {},
   "outputs": [],
   "source": [
    "# Example of non-stopping program:\n",
    "try:\n",
    "    # put here all statements you want to catch an error for\n",
    "    x = int(input(\"Please enter a number: \"))\n",
    "except:  \n",
    "    print(\"Oops!That was not a valid number.\")\n",
    "    \n",
    "print(\"I'm here!\") # this will be executed in any case."
   ]
  },
  {
   "cell_type": "markdown",
   "metadata": {},
   "source": [
    "Python allows to trigger different \"*except*\" types of error by using buil-in *error classes* such as `ZeroDivisionError` or `ValueError`.\n",
    "For a full list of such classes, visit the [Python3 errors doccumentation](https://docs.python.org/3/library/exceptions.html) to see what kind of error classes are built-in.\n",
    "\n",
    "Examples:"
   ]
  },
  {
   "cell_type": "code",
   "execution_count": null,
   "metadata": {},
   "outputs": [],
   "source": [
    "# Try to enter \"0\" or a string to trigger the different errors:\n",
    "try:\n",
    "    x = int(input(\"Please enter a number: \"))\n",
    "    y = 1/x\n",
    "except ZeroDivisionError: # \"ZeroDivisionError\" is a special built-in error class in Python.\n",
    "    print(\"Cannot divide by zero.\")\n",
    "except ValueError: # \"ValueError\" is a special built-in error class in Python.\n",
    "    print(\"Could not convert data to an integer.\")\n",
    "\n",
    "    \n",
    "print(\"I'm here!\") # this will be executed in any case."
   ]
  },
  {
   "cell_type": "markdown",
   "metadata": {},
   "source": [
    "**Observation**: The triggered error is an object, and it is possible to assign a name to it using the `as` keyword. This allows to obtain more information about the error.\n",
    "\n",
    "Example:"
   ]
  },
  {
   "cell_type": "code",
   "execution_count": null,
   "metadata": {},
   "outputs": [],
   "source": [
    "# Same example as above, but with added \"as\" keyword.\n",
    "# Try to enter \"0\" or a string:\n",
    "try:\n",
    "    x = int(input(\"Please enter a number: \"))\n",
    "    y = 1/x\n",
    "except ZeroDivisionError as err: # notice the added \"as err\"\n",
    "    print(type(err))\n",
    "    print(\"The error is: \", err) # this prints more information about the error\n",
    "except ValueError as err:        # notice the added \"as err\"\n",
    "    print(type(err))\n",
    "    print(\"The error is: \", err) # this prints more information about the error\n",
    "except:\n",
    "    print(\"Some other error occurred.\")\n",
    "\n",
    "print(\"I'm here!\") # this will be executed in any case."
   ]
  },
  {
   "cell_type": "markdown",
   "metadata": {},
   "source": [
    "## Cleaning up with `finally`\n",
    "By adding the `finally` block after the last except statement, one can specify anything that should be execute when leaving the try block regardless if there was an exception or not. This can be useful for cleaning up things, e.g. closing files or network connections."
   ]
  },
  {
   "cell_type": "code",
   "execution_count": 1,
   "metadata": {},
   "outputs": [
    {
     "name": "stdout",
     "output_type": "stream",
     "text": [
      "Please enter a number: f\n",
      "Could not convert data to an integer. invalid literal for int() with base 10: 'f'\n",
      "-> executing finally clause <-\n"
     ]
    }
   ],
   "source": [
    "try:\n",
    "    x = int(input(\"Please enter a number: \"))\n",
    "    y = 1/x\n",
    "except ValueError as err:\n",
    "    print(\"Could not convert data to an integer.\", err)\n",
    "finally: \n",
    "    print(\"-> executing finally clause <-\")"
   ]
  },
  {
   "cell_type": "markdown",
   "metadata": {},
   "source": [
    "**Observation**: In the case of an uncaught exception (try to enter 0 in the code above), the `finally` block executes **before** reporting the exception to the console (in fact, when entering 0, the ZeroDivisionError is printed last)."
   ]
  },
  {
   "cell_type": "markdown",
   "metadata": {},
   "source": [
    "## Raising errors intentionally\n",
    "It is also possible to raise an error intentionally (i.e. not only when the interpreter failed to execute some commands). This can be useful, for example, for sending a notice to the user when a special condition occurs, for example inside a remote part of a program such as a module.\n",
    "\n",
    "Raising of exceptions can be done with the `raise` statement:"
   ]
  },
  {
   "cell_type": "code",
   "execution_count": null,
   "metadata": {},
   "outputs": [],
   "source": [
    "def greet(name):\n",
    "    if type(name) is not str:\n",
    "        raise ValueError('Can only greet strings!')\n",
    "    print('Hello, {:s}!'.format(name))"
   ]
  },
  {
   "cell_type": "code",
   "execution_count": null,
   "metadata": {},
   "outputs": [],
   "source": [
    "greet('students')"
   ]
  },
  {
   "cell_type": "code",
   "execution_count": null,
   "metadata": {},
   "outputs": [],
   "source": [
    "greet(1.1)"
   ]
  },
  {
   "cell_type": "markdown",
   "metadata": {},
   "source": [
    "## Assertions\n",
    "Especially when checking inputs or (intermediate) results, writing a whole `if` clause is a bit cumbersome.\n",
    "\n",
    "In such cases the `assert` statement comes to the rescue. When the first argument does not evaluate to `True`, an `AssertionError` is raised. It is a good practice to use this often while coding for example for verifying that certain assumptions are met. For further information, check [the Python documentation](https://docs.python.org/3/reference/simple_stmts.html#assert).\n",
    "\n",
    "Note that `assert` is a built-in keyword, not a function."
   ]
  },
  {
   "cell_type": "code",
   "execution_count": null,
   "metadata": {},
   "outputs": [],
   "source": [
    "# Try to comment the different \"assert\" lines:\n",
    "example = ['a', 'b', 'c', 'd', 'e']\n",
    "assert len(example) == 5, 'assertion does not trigger.'\n",
    "#assert len(example) == 6, 'assertion does trigger.'\n",
    "print(\"I'm here!\")"
   ]
  },
  {
   "cell_type": "markdown",
   "metadata": {},
   "source": [
    "# Local and global variables\n",
    "When a function is defined in python, a *local* namespace is defined. All variables defined inside the body of the function, as well as the arguments of the function, belong to this *local* namespace. These values are therefore not visible from outside the function, as exemplified below:"
   ]
  },
  {
   "cell_type": "code",
   "execution_count": null,
   "metadata": {},
   "outputs": [],
   "source": [
    "def example_of_local_namespace():\n",
    "    my_local_variable = 33\n",
    "    print('Function executed correctly.')\n",
    "    \n",
    "# Main program:\n",
    "example_of_local_namespace()\n",
    "try:\n",
    "    print(my_local_variable)\n",
    "except:\n",
    "    print('Error.')"
   ]
  },
  {
   "cell_type": "markdown",
   "metadata": {},
   "source": [
    "When a function is executed and a variable is invocated, the variable is first searched inside the *local* namespace of the function. If the value of the variable is not found, its value is search is the *global* namespace which consists of the variables which have been defined previously outside of the function. This property is illustrated in the following example:"
   ]
  },
  {
   "cell_type": "code",
   "execution_count": null,
   "metadata": {},
   "outputs": [],
   "source": [
    "def my_function():\n",
    "    try:\n",
    "        print(something)\n",
    "    except:\n",
    "        print('Error.')\n",
    "        \n",
    "# main program:\n",
    "my_function()\n",
    "something = 37\n",
    "my_function()"
   ]
  },
  {
   "cell_type": "markdown",
   "metadata": {},
   "source": [
    "### The `global` keyword\n",
    "If it is wished to define a variable directly as a global variable, also from within a function, it is possible to use the keyword `global`. Using global variables, however, is sometimes considered as a bad programming practice and should therefore be avoided when possible.\n",
    "\n",
    "Example:"
   ]
  },
  {
   "cell_type": "code",
   "execution_count": null,
   "metadata": {},
   "outputs": [],
   "source": [
    "def input_function():\n",
    "    global x\n",
    "    x = input('Please insert an integer: ')\n",
    "        \n",
    "        \n",
    "def print_function():\n",
    "    print(x)\n",
    "    \n",
    "# Main program:\n",
    "input_function()\n",
    "print(x)  # this shows that the variable 'x' is available inside the main program\n",
    "print_function()  # this shows that the variable 'x' is available inside other functions too"
   ]
  },
  {
   "cell_type": "markdown",
   "metadata": {},
   "source": [
    "# Exercise time!\n",
    "Now its your turn! Solve the rest of the exercises.\n",
    "\n",
    "\n",
    "# Before the end of the class:\n",
    "### If git is available on your system (preferred option):\n",
    "Add, commit and push your changes to the remote server:\n",
    "\n",
    "`git add -A`\n",
    "\n",
    "`git commit -m 'My solutions to Lecture 3'`\n",
    "\n",
    "`git push origin master`\n",
    "\n",
    "### If git is **not** available on your system (for some of the students at home only):\n",
    "This is **not** the favourite solution and it should be avoided whenever possible.\n",
    "\n",
    "Upload your Lecture_03 folder (containing the Exercise file) to the polybox https://polybox.ethz.ch and share the folder with luca.alloatti@ief.ee.ethz.ch, thomas.kramer@ief.ee.ethz.ch, and raphael.schwanninger@ief.ee.ethz.ch . To share the folder go on https://polybox.ethz.ch , then on the right of the folder there is a graph with one vertex connecting to two other vertices: click on it and then type the three emails."
   ]
  },
  {
   "cell_type": "code",
   "execution_count": null,
   "metadata": {},
   "outputs": [],
   "source": []
  }
 ],
 "metadata": {
  "kernelspec": {
   "display_name": "Python 3",
   "language": "python",
   "name": "python3"
  },
  "language_info": {
   "codemirror_mode": {
    "name": "ipython",
    "version": 3
   },
   "file_extension": ".py",
   "mimetype": "text/x-python",
   "name": "python",
   "nbconvert_exporter": "python",
   "pygments_lexer": "ipython3",
   "version": "3.7.0"
  }
 },
 "nbformat": 4,
 "nbformat_minor": 2
}
