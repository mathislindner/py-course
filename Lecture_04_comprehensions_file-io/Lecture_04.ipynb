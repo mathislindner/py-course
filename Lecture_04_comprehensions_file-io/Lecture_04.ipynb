{
 "cells": [
  {
   "cell_type": "markdown",
   "metadata": {},
   "source": [
    "# Notes about this lecture\n",
    "Because of the Corona virus outbreak, this lecture will not be held in the classroom but online only. Further, the lecture will only be available in this written form. In order to offer support for the students we will use the gitlab issue tracker as a question & answer forum: https://git.ee.ethz.ch/python-for-engineers/class-fs20-forum.\n",
    "\n",
    "## Software\n",
    "\n",
    "### Necessary software\n",
    "Please install the following tools:\n",
    "* python3 (https://www.python.org/downloads/ version 3.8.2 is fine.\n",
    "Python is a prerequisite for jupyter)\n",
    "* jupyter-notebook (https://jupyter.org/install.html)\n",
    "* **Hint for Windows and OSX**: Try to install conda or miniconda (https://docs.conda.io/en/latest/miniconda.html) first. This will install Python and jupyter-notebook automatically.\n",
    "\n",
    "### Optional (but highly recommended) software\n",
    "* git (https://git-scm.com/download/). Git is harder to install but not strictly necessary. **Hint**: On Windows Git will automatically install a Linux compatible shell which can then be found as 'Git BASH'.\n",
    "* If git is not available, solutions shall be uploaded on https://polybox.ethz.ch instead and the folder shall be shared with the lecturers. \n",
    "\n",
    "## Support\n",
    "**For any issues please use the forum** at: https://git.ee.ethz.ch/python-for-engineers/class-fs20-forum and follow the instructions therein. In case of need, we will open a room on https://jitsi.riot.im/ and share the audio, video or the screen: make sure you have a microphone and speakers functioning. \n",
    "\n",
    "This service is offered only **during the normal lecture hours**."
   ]
  },
  {
   "cell_type": "markdown",
   "metadata": {},
   "source": [
    "# Obtaining the material for this lecture\n",
    "### If git is available on your system (preferred option)\n",
    "Pull the new material from the upstream repository:\n",
    "\n",
    "```bash\n",
    "cd class-fs20\n",
    "git pull upstream master\n",
    "```\n",
    "\n",
    "Then launch the jupyter-notebook and open the Lecture_04 file:\n",
    "\n",
    "```bash\n",
    "anaconda # Only on ETH computers to load the Python environment.\n",
    "jupyter-notebook &\n",
    "```\n",
    "\n",
    "### If git is **not** available on your system\n",
    "Download the latest material from:\n",
    "https://git.ee.ethz.ch/python-for-engineers/class-fs20/-/archive/master/class-fs20-master.zip\n",
    "and unpack it on your computer."
   ]
  },
  {
   "cell_type": "markdown",
   "metadata": {},
   "source": [
    "# Summary of lecture 3 (Python basics 2 )\n",
    "Before starting with new material, let's refresh the content of the last lecture.\n",
    "\n",
    "* Functions\n",
    "* Modules\n",
    "* Error Handling"
   ]
  },
  {
   "cell_type": "markdown",
   "metadata": {},
   "source": [
    "## Advanced function syntax\n",
    "The following shows a simple example of a function definition in Python:"
   ]
  },
  {
   "cell_type": "code",
   "execution_count": null,
   "metadata": {},
   "outputs": [],
   "source": [
    "# Define a function with two arguments.\n",
    "def my_function_name(some_argument1, some_argument2):\n",
    "    some_computation_result = some_argument1 + some_argument2\n",
    "    \n",
    "    # Pass back a value to the caller.\n",
    "    return some_computation_result"
   ]
  },
  {
   "cell_type": "markdown",
   "metadata": {},
   "source": [
    "Functions can be called by their name with arguments passed in the parentesis:"
   ]
  },
  {
   "cell_type": "code",
   "execution_count": null,
   "metadata": {},
   "outputs": [],
   "source": [
    "# Call the function.\n",
    "result = my_function_name(1, 2)\n",
    "print('result =', result)"
   ]
  },
  {
   "cell_type": "markdown",
   "metadata": {},
   "source": [
    "### Default argument values\n",
    "\n",
    "Function arguments can have default values that will be used if the argument is ommitted in the function call.\n",
    "Note that arguments with default values must be defined after arguments without default values."
   ]
  },
  {
   "cell_type": "code",
   "execution_count": null,
   "metadata": {},
   "outputs": [],
   "source": [
    "def function_with_default_values(a, b = 1, c = 2):\n",
    "    print('a =', a)\n",
    "    print('b =', b)\n",
    "    print('c =', c)\n",
    "    print()\n",
    "\n",
    "# The arguments with default values can be fully ommitted.\n",
    "function_with_default_values('test 1')\n",
    "\n",
    "# The arguments with default values can be partially ommitted.\n",
    "function_with_default_values('test 2', 7) # c defaults to 2.\n",
    "\n",
    "# The arguments with default values can be overwritten.\n",
    "function_with_default_values('test 2', 7, 77)"
   ]
  },
  {
   "cell_type": "markdown",
   "metadata": {},
   "source": [
    "### Positional arguments, keyword arguments and mixed arguments\n",
    "\n",
    "* Arguments passed to the function *without* their name are called **positional arguments** because their position determines the assignment.\n",
    "* Arguments passed to the function *with* their name are called **keyword arguments**.\n",
    "\n",
    "Keywords arguments allow to pass arguments in a *different order* than in the function definition."
   ]
  },
  {
   "cell_type": "code",
   "execution_count": null,
   "metadata": {},
   "outputs": [],
   "source": [
    "# Passing keyword arguments with a different \n",
    "# order than in the function definition:\n",
    "function_with_default_values(c = 3, a = 1, b = 2)"
   ]
  },
  {
   "cell_type": "markdown",
   "metadata": {},
   "source": [
    "It is possible to **mix** *positional* and *keyword* arguments. However, all positional arguments must be listed *before* any keyword arguments:"
   ]
  },
  {
   "cell_type": "code",
   "execution_count": null,
   "metadata": {},
   "outputs": [],
   "source": [
    "# Mixed two positional and one keyword arguments\n",
    "function_with_default_values(1, c = 3, b = 2) # The first argument is mapped to `a`."
   ]
  },
  {
   "cell_type": "markdown",
   "metadata": {},
   "source": [
    "### Local and global variables\n",
    "When a function is defined in python, a *local* namespace is defined. All variables defined inside the body of the function, as well as the arguments of the function, belong to this *local* namespace. These values are therefore not visible from outside the function, as exemplified below:"
   ]
  },
  {
   "cell_type": "code",
   "execution_count": null,
   "metadata": {},
   "outputs": [],
   "source": [
    "def example_of_local_namespace():\n",
    "    my_local_variable = 33\n",
    "    print('Function executed correctly.')\n",
    "    \n",
    "# Main program:\n",
    "example_of_local_namespace()\n",
    "try:\n",
    "    print(my_local_variable)\n",
    "except:\n",
    "    print('Error.')"
   ]
  },
  {
   "cell_type": "markdown",
   "metadata": {},
   "source": [
    "When a function is executed and a variable is invocated, the variable is first searched inside the *local* namespace of the function. If the value of the variable is not found, its value is search is the *global* namespace which consists of the variables which have been defined previously outside of the function. This property is illustrated in the following example:"
   ]
  },
  {
   "cell_type": "code",
   "execution_count": null,
   "metadata": {},
   "outputs": [],
   "source": [
    "def my_function():\n",
    "    try:\n",
    "        print(something)\n",
    "    except:\n",
    "        print('Error.')\n",
    "        \n",
    "# main program:\n",
    "my_function()\n",
    "something = 37\n",
    "my_function()"
   ]
  },
  {
   "cell_type": "markdown",
   "metadata": {},
   "source": [
    "### The `global` keyword\n",
    "If it is wished to define a variable directly as a global variable, also from within a function, it is possible to use the keyword `global`. Using global variables, however, is sometimes considered as a bad programming practice and should therefore be avoided when possible.\n",
    "\n",
    "Example:"
   ]
  },
  {
   "cell_type": "code",
   "execution_count": null,
   "metadata": {},
   "outputs": [],
   "source": [
    "def input_function():\n",
    "    global x\n",
    "    x = input('Please insert an integer: ')\n",
    "        \n",
    "        \n",
    "def print_function():\n",
    "    print(x)\n",
    "    \n",
    "# Main program:\n",
    "input_function()\n",
    "print(x)  # this shows that the variable 'x' is available inside the main program\n",
    "print_function()  # this shows that the variable 'x' is available inside other functions too"
   ]
  },
  {
   "cell_type": "markdown",
   "metadata": {},
   "source": [
    "### Python's default return Value: `None`\n",
    "If the code in a function terminates without reaching a `return` statement then `None` will be returned. `None` is an object of type `NoneType`. It's main purpose is to indicate in a well-defined way the absence of a value. (Java, C or C++ programmers might be familiar with the `null`-pointer or `NULL` which is used for a similar purpose in those languages)"
   ]
  },
  {
   "cell_type": "code",
   "execution_count": null,
   "metadata": {},
   "outputs": [],
   "source": [
    "def greet(name):\n",
    "    print(\"Hello, {:s}!\".format(name))\n",
    "    \n",
    "value = greet(\"students\")\n",
    "\n",
    "print('returned value: ', value)"
   ]
  },
  {
   "cell_type": "markdown",
   "metadata": {},
   "source": [
    "To check if a variable equals `None` the `is` operator should be used instead of `==`.\n",
    "\n",
    "This is because a class can re-define the `==` operator and therefore `x == None` can in principle lead to arbitrary results. The `is` operator, instead, cannot be re-defined."
   ]
  },
  {
   "cell_type": "code",
   "execution_count": null,
   "metadata": {},
   "outputs": [],
   "source": [
    "if value is None:\n",
    "    print('value is none...')\n",
    "else:\n",
    "    print('value is NOT none...')"
   ]
  },
  {
   "cell_type": "markdown",
   "metadata": {},
   "source": [
    "### Returning more than one value\n",
    "The preferred way to return more than one value is to return a tuple."
   ]
  },
  {
   "cell_type": "code",
   "execution_count": null,
   "metadata": {},
   "outputs": [],
   "source": [
    "def return_multiple_things():\n",
    "    return 'X', 1, 1.0  # Return a tuple.\n",
    "\n",
    "\n",
    "# The returned tuple is unpacked\n",
    "# into the variables on the left.\n",
    "retval_1, retval_2, retval_3 = return_multiple_things()  \n",
    "print(retval_1, 'is a', type(retval_1))\n",
    "print(retval_2, 'is a', type(retval_2))\n",
    "print(retval_3, 'is a', type(retval_3))"
   ]
  },
  {
   "cell_type": "markdown",
   "metadata": {},
   "source": [
    "## Modules\n",
    "\n",
    "[Documentation Link](https://docs.python.org/3/tutorial/modules.html)\n",
    "\n",
    "**Modules** consist of separate Python files. One module can contain multiple functions. Module files can be ordered into folders, whose structure is reflected by the `import` statement.\n",
    "\n",
    "Modules are meant to structure code and improve it's reusability."
   ]
  },
  {
   "cell_type": "markdown",
   "metadata": {},
   "source": [
    "Modules can be imported in four different ways:\n",
    "1. `from my_module import *` \n",
    "1. `from my_module import my_function_1, my_function_2`  (This method allows to import a subset of available functions in the module).\n",
    "1. `import my_module`   (This method forces to \"cite\" the module name every time a function is called).\n",
    "1. `import my_module as my_favourite_name`  (Like the previous, but allows to rename a module)."
   ]
  },
  {
   "cell_type": "markdown",
   "metadata": {},
   "source": [
    "**Observation:** The complete search path in which Python looks for modules is in the `sys.path` list.\n",
    "\n",
    "To find the modules in a `import` statement Python searches in defined directories for modules with the same name. The directories are defined in the Python *search path* which is stored in the `sys.path` list."
   ]
  },
  {
   "cell_type": "code",
   "execution_count": null,
   "metadata": {},
   "outputs": [],
   "source": [
    "import sys\n",
    "sys.path"
   ]
  },
  {
   "cell_type": "markdown",
   "metadata": {},
   "source": [
    "The official Python documentation has [a comprehensive guide](https://docs.python.org/3/library/index.html) of all already built-in modules which are ready to be used with any standard Python installation."
   ]
  },
  {
   "cell_type": "markdown",
   "metadata": {},
   "source": [
    "## Error and exception handling\n",
    "In Python *errors* and *exceptions* are terms that often used interchangably. In the following we will consider the two terms a synonyms.\n",
    "\n",
    "Erros lead to an abrupt termination of code execution in a Python program. Errors can be caused, for example, by wrong syntax, division by zero or access to an undefined variable.\n",
    "\n",
    "Because errors abort code execution they are essentially another way of controlling the program flow. To prevent that an error terminates the whole program Python allows to 'catch' errors using the `try` and `except` blocks. Code within a `try` block is executed as a first choice. If it raises an error the program execution jumps into the `except` block. This allows to react in a meaningful way to the occurrence of an error.\n",
    "\n",
    "Additionally, multiple `except` blocks can be used to handle different types of errors separately.\n",
    "\n",
    "More information on errors can be found [here](https://docs.python.org/3/tutorial/errors.html).\n",
    "\n",
    "A short example is given in the following:"
   ]
  },
  {
   "cell_type": "code",
   "execution_count": null,
   "metadata": {},
   "outputs": [],
   "source": [
    "try:\n",
    "    x = int(input(\"Please enter a number: \")) # Here a `ValueError` can be raised if the input is not convertible into an int.\n",
    "    y = 1/x # Here a `ZeroDivisionError` could be raised if `x` is 0.\n",
    "    print('All went fine: 1/x =', y)\n",
    "except ZeroDivisionError:\n",
    "    print(\"Cannot divide by zero.\")\n",
    "except ValueError as err:  # Note the `as` statement.\n",
    "    # The raised error object can be accessed by the `err` variable.\n",
    "    print(type(err))\n",
    "    print(\"Could not convert data to an integer.\", err)\n",
    "except Exception as e:\n",
    "    # It is hard to trigger this exception in this example.\n",
    "    print(\"Unexpected error:\", e)"
   ]
  },
  {
   "cell_type": "markdown",
   "metadata": {},
   "source": [
    "### Raising errors\n",
    "\n",
    "Errors can be raised with the `raise` keyword. This is particularly usefull to handle exceptional cases which do not allow the code to be continued as intended. Raising an error enables the caller of the function to decide how to react."
   ]
  },
  {
   "cell_type": "code",
   "execution_count": 1,
   "metadata": {},
   "outputs": [
    {
     "name": "stdout",
     "output_type": "stream",
     "text": [
      "Hello, students!\n"
     ]
    },
    {
     "ename": "ValueError",
     "evalue": "Can only greet strings!",
     "output_type": "error",
     "traceback": [
      "\u001b[1;31m---------------------------------------------------------------------------\u001b[0m",
      "\u001b[1;31mValueError\u001b[0m                                Traceback (most recent call last)",
      "\u001b[1;32m<ipython-input-1-2b75753cce0c>\u001b[0m in \u001b[0;36m<module>\u001b[1;34m\u001b[0m\n\u001b[0;32m      5\u001b[0m \u001b[1;33m\u001b[0m\u001b[0m\n\u001b[0;32m      6\u001b[0m \u001b[0mgreet\u001b[0m\u001b[1;33m(\u001b[0m\u001b[1;34m'students'\u001b[0m\u001b[1;33m)\u001b[0m\u001b[1;33m\u001b[0m\u001b[0m\n\u001b[1;32m----> 7\u001b[1;33m \u001b[0mgreet\u001b[0m\u001b[1;33m(\u001b[0m\u001b[1;36m1.1\u001b[0m\u001b[1;33m)\u001b[0m\u001b[1;33m\u001b[0m\u001b[0m\n\u001b[0m",
      "\u001b[1;32m<ipython-input-1-2b75753cce0c>\u001b[0m in \u001b[0;36mgreet\u001b[1;34m(name)\u001b[0m\n\u001b[0;32m      1\u001b[0m \u001b[1;32mdef\u001b[0m \u001b[0mgreet\u001b[0m\u001b[1;33m(\u001b[0m\u001b[0mname\u001b[0m\u001b[1;33m)\u001b[0m\u001b[1;33m:\u001b[0m\u001b[1;33m\u001b[0m\u001b[0m\n\u001b[0;32m      2\u001b[0m     \u001b[1;32mif\u001b[0m \u001b[0mtype\u001b[0m\u001b[1;33m(\u001b[0m\u001b[0mname\u001b[0m\u001b[1;33m)\u001b[0m \u001b[1;32mis\u001b[0m \u001b[1;32mnot\u001b[0m \u001b[0mstr\u001b[0m\u001b[1;33m:\u001b[0m\u001b[1;33m\u001b[0m\u001b[0m\n\u001b[1;32m----> 3\u001b[1;33m         \u001b[1;32mraise\u001b[0m \u001b[0mValueError\u001b[0m\u001b[1;33m(\u001b[0m\u001b[1;34m'Can only greet strings!'\u001b[0m\u001b[1;33m)\u001b[0m\u001b[1;33m\u001b[0m\u001b[0m\n\u001b[0m\u001b[0;32m      4\u001b[0m     \u001b[0mprint\u001b[0m\u001b[1;33m(\u001b[0m\u001b[1;34m'Hello, {:s}!'\u001b[0m\u001b[1;33m.\u001b[0m\u001b[0mformat\u001b[0m\u001b[1;33m(\u001b[0m\u001b[0mname\u001b[0m\u001b[1;33m)\u001b[0m\u001b[1;33m)\u001b[0m\u001b[1;33m\u001b[0m\u001b[0m\n\u001b[0;32m      5\u001b[0m \u001b[1;33m\u001b[0m\u001b[0m\n",
      "\u001b[1;31mValueError\u001b[0m: Can only greet strings!"
     ]
    }
   ],
   "source": [
    "def greet(name):\n",
    "    if type(name) is not str:\n",
    "        raise ValueError('Can only greet strings!')\n",
    "    print('Hello, {:s}!'.format(name))\n",
    "    \n",
    "greet('students')\n",
    "greet(1.1)"
   ]
  },
  {
   "cell_type": "markdown",
   "metadata": {},
   "source": [
    "### Assertions\n",
    "\n",
    "The above pattern of checking something and conditionally raising an error is very common. The `assert` statement can be used in such cases.\n",
    "\n",
    "The `assert` statement has the following syntax:\n",
    "\n",
    "```python\n",
    "assert condition, 'Some error message.'\n",
    "```\n",
    "\n",
    "Only if the condition is *not* met (`False`) the assertion will trigger, and an `AssertionError` will be raised."
   ]
  },
  {
   "cell_type": "code",
   "execution_count": null,
   "metadata": {},
   "outputs": [],
   "source": [
    "def greet(name):\n",
    "    assert type(name) is str, 'Can only greet strings!'\n",
    "    print('Hello, {:s}!'.format(name))\n",
    "    \n",
    "greet('students')\n",
    "greet(1.1)"
   ]
  },
  {
   "cell_type": "markdown",
   "metadata": {},
   "source": [
    "### How to use errors and assertions\n",
    "\n",
    "As a rule-of-thumb errors can be divided into two classes.\n",
    "\n",
    "The **first class** are implementation flaws or errors in the code such as a function being called with wrong argument types. This type of errors can be attributed to the programmers. In this cases correct error handling is difficult because the code is not correct. Often, the only way to reasonably deal with this is to abort the program and fix the code. `assert` statements are a good way to detect this type of errors. As in the example above it makes often sense to check function arguments for the types or check that some value is not `None`.\n",
    "\n",
    "The **second class** of errors does not stem from the code itself but from the environment. This includes for example wrong user inputs, wrong file formats, interrupted network connections or a file that does not exist.\n",
    "This cases should be properly handled with `try` and `except` blocks."
   ]
  },
  {
   "cell_type": "markdown",
   "metadata": {},
   "source": [
    "### ✏️ $\\mu$-exercise\n",
    "\n",
    "At this point, please switch to your Exercise_04 notebook and complete $\\mu$-exercises __1 and 2__."
   ]
  },
  {
   "cell_type": "markdown",
   "metadata": {},
   "source": [
    "# Python basics 3 - sets, list comprehensions & file input/output (IO)"
   ]
  },
  {
   "cell_type": "markdown",
   "metadata": {},
   "source": [
    "## Sets\n",
    "\n",
    "* [Official documentation](https://docs.python.org/3/library/collections.html)\n",
    "\n",
    "So far, this course introduced three container data types: `list`, `dict` and `tuple`. *Container* or *collection* data types hold data in a structured way. Each of the container types has its advantages and disadvantages. A list, for instance, provides a memory-efficient way to store many elements and offers constant-time access to elements when addressing them by the offset in the list. Membership tests, however, are very inefficient for lists: To test if a certain element is in the list, in fact, the whole list has to be searched in general.\n",
    "\n",
    "There is another built-in container data type in Python: `set`. A set in Python behaves very similar to sets in the mathematical sense. In contrast to a list, a set does not define an ordering of the elements nor allows an element to be in the set more than once.\n",
    "\n",
    "**Observation**: in the background, however, Python usually stores the elements of the sets in and ordered fascion (using hash tables), but this ordering is not exposed to the user.\n",
    "\n",
    "A set behaves very similar to a dictionary with *keys* but without *values*. Moreover, the syntax to create sets is very similar to the one for dictionaries:"
   ]
  },
  {
   "cell_type": "code",
   "execution_count": null,
   "metadata": {},
   "outputs": [],
   "source": [
    "# The `{x, ...}` syntax defines a short-hand \n",
    "# notation for creating sets.\n",
    "a = {1, 3, 2}\n",
    "b = {3, 2, 1}\n",
    "\n",
    "# Sets can be created from sequences using the `set()` function.\n",
    "c = set([1, 3, 2])\n",
    "\n",
    "# Sets allow an element only to appear once at most.\n",
    "d = {1, 1, 1, 2, 3, 2, 3, 2, 3}\n",
    "\n",
    "# Notice the order when printing the set! It might be \n",
    "# different from the order above.\n",
    "# Sets are UNORDERED.\n",
    "print(a)\n",
    "print(b)\n",
    "print(c)\n",
    "print(d)"
   ]
  },
  {
   "cell_type": "code",
   "execution_count": null,
   "metadata": {},
   "outputs": [],
   "source": [
    "# An empty set has to be created with \n",
    "# the `set()` function because `{}` is already \n",
    "# used to define an empty dictionary.\n",
    "empty_set = set()\n",
    "print(empty_set)\n",
    "\n",
    "print('Note: {} defines not a set but a', type({}))"
   ]
  },
  {
   "cell_type": "code",
   "execution_count": null,
   "metadata": {},
   "outputs": [],
   "source": [
    "# Sets are mutable which means elements can be added and removed.\n",
    "# On average adding and removing elements is more efficient\n",
    "# for sets than for lists.\n",
    "s = {1, 2, 3}\n",
    "print(s)\n",
    "s.add(4)\n",
    "print(s)\n",
    "s.remove(1)\n",
    "print(s)\n",
    "\n",
    "# Note that the printed sets look sorted. This should not be relied upon.\n",
    "# Background: For the case of integers the reason \n",
    "# is that the hash function is trivially ordered: `hash(i) = i`."
   ]
  },
  {
   "cell_type": "code",
   "execution_count": null,
   "metadata": {},
   "outputs": [],
   "source": [
    "# For floating point values this ordering disappears most likely:\n",
    "floats = {1.0, 1.1, 1.2, 1.3, 1.4, 1.5, 1.6, 1.7, 1.8}\n",
    "print('Note the ordering of:', floats)"
   ]
  },
  {
   "cell_type": "code",
   "execution_count": null,
   "metadata": {},
   "outputs": [],
   "source": [
    "# Sets allow to check membership very efficiently.\n",
    "# Let's compare this experimentally: First we create \n",
    "# a huge list and a huge set with the same elements.\n",
    "# Then we compare the time it takes to confirm that -1 \n",
    "# is not in the list respective in the set.\n",
    "\n",
    "# Import a module for measuring time.\n",
    "import time\n",
    "from random import seed\n",
    "from random import randint\n",
    "\n",
    "# Feel free to do multiple experiments with \n",
    "# different orders of magnitude for `num_elements`. \n",
    "# What do you observe?\n",
    "num_elements = 2_000_000\n",
    "\n",
    "seed(1) # Seed random number generator.\n",
    "rand = [randint(0, 2**64-1) for i in range(num_elements)]\n",
    "\n",
    "start = time.time()\n",
    "l = [i for i in rand]\n",
    "time_to_create_list = time.time() - start\n",
    "\n",
    "seed(1)\n",
    "start = time.time()\n",
    "s = {i for i in rand} # Populate a set with the contents of the list.\n",
    "time_to_create_set = time.time() - start\n",
    "\n",
    "# Observation: The time it takes to create a list of random \n",
    "# float numbers is short compared to the time it takes \n",
    "# to convert that list to a set:\n",
    "\n",
    "print('Creating the list is {:.4f} times faster than creating the set.'.format(time_to_create_set / time_to_create_list)) # It is bigger than 1."
   ]
  },
  {
   "cell_type": "code",
   "execution_count": null,
   "metadata": {},
   "outputs": [],
   "source": [
    "# Check if -1 is in the list. -1 is not in the list.\n",
    "# Therefore the whole list has to be \n",
    "# checked to be sure it is not there.\n",
    "\n",
    "# Also measure the time it takes to search the list.\n",
    "start = time.time()\n",
    "result = -1 in l\n",
    "end = time.time()\n",
    "\n",
    "duration_list = end - start\n",
    "\n",
    "print('Duration (list): {}s'.format(duration_list))"
   ]
  },
  {
   "cell_type": "code",
   "execution_count": null,
   "metadata": {},
   "outputs": [],
   "source": [
    "# Check if -1 is in the set. In contrast\n",
    "# to a list, this is much more efficient \n",
    "# and can be done in O(log(n)) time.\n",
    "\n",
    "# Also measure the time it takes to search the set.\n",
    "start = time.time()\n",
    "result = -1 in s\n",
    "end = time.time()\n",
    "\n",
    "duration_set = end - start\n",
    "\n",
    "print('Duration (set): {}s'.format(duration_set))\n",
    "\n",
    "print('Searching in the set is {:.2f} times faster than in the list!'.format(duration_list/duration_set))"
   ]
  },
  {
   "cell_type": "markdown",
   "metadata": {},
   "source": [
    "**Observation**: Membership test is faster with sets than list but creating a set takes more time."
   ]
  },
  {
   "cell_type": "markdown",
   "metadata": {},
   "source": [
    "## Accessing set elements\n",
    "Like lists, sets are iterable which implies that a set can be looped over in a for loop."
   ]
  },
  {
   "cell_type": "code",
   "execution_count": null,
   "metadata": {},
   "outputs": [],
   "source": [
    "# Iterate over elements in a set.\n",
    "# Note that the order of iteration can be other than the order in the code.\n",
    "s = {1.1, 1.2, 1.3, 1.4, 1.5, 1.6}\n",
    "for e in s:\n",
    "    print(e)"
   ]
  },
  {
   "cell_type": "code",
   "execution_count": null,
   "metadata": {},
   "outputs": [],
   "source": [
    "# The `pop` function allows to take out one element\n",
    "# at a time from the set (undefined order!).\n",
    "s = {1.1, 1.2, 1.3, 1.4, 1.5, 1.6}\n",
    "print(s.pop())\n",
    "print(s)\n",
    "print(s.pop())\n",
    "print(s)\n",
    "print(s.pop())\n",
    "print(s)"
   ]
  },
  {
   "cell_type": "markdown",
   "metadata": {},
   "source": [
    "### Set operations\n",
    "The main benefit of sets comes with boolean set operations: Unions, intersections, differences.\n",
    "\n",
    "The set operations come in non-modifying and modifying versions. The non-modifying versions create a new set holding the result of the operation while letting the original sets unchanged. The modifying operations change a set in-place.\n",
    "\n",
    "The following code examples introduce the boolean set operations.\n",
    "\n",
    "#### Non-modifying set operations"
   ]
  },
  {
   "cell_type": "code",
   "execution_count": null,
   "metadata": {},
   "outputs": [],
   "source": [
    "# Define two sets used for the following illustrations.\n",
    "a = {1, 2}\n",
    "b = {2, 3}"
   ]
  },
  {
   "cell_type": "code",
   "execution_count": null,
   "metadata": {},
   "outputs": [],
   "source": [
    "# Union\n",
    "# Union finds the elements that are at least in `a` OR `b`.\n",
    "a_union_b = a.union(b)\n",
    "\n",
    "# Union can be written using the `|` operator.\n",
    "a_union_b = a | b\n",
    "\n",
    "# By definition the union of `a` and `b` should now be a superset of both `a` and `b`.\n",
    "assert a_union_b.issuperset(a)\n",
    "assert a_union_b.issuperset(b)\n",
    "\n",
    "print('Union: a | b = b | a = ', a_union_b)"
   ]
  },
  {
   "cell_type": "code",
   "execution_count": null,
   "metadata": {},
   "outputs": [],
   "source": [
    "# Intersection\n",
    "# Intersection finds the elements that are in `a` AND `b`.\n",
    "a_intersection_b = a.intersection(b)\n",
    "\n",
    "# Intersection can be written using the `&` operator.\n",
    "a_intersection_b = a & b\n",
    "\n",
    "# By definition the intersection of `a` and `b` should be a subset of both `a` and `b`.\n",
    "assert a_intersection_b.issubset(a)\n",
    "assert a_intersection_b.issubset(b)\n",
    "\n",
    "print('Intersection: a & b = b & a =', a_intersection_b)"
   ]
  },
  {
   "cell_type": "code",
   "execution_count": null,
   "metadata": {},
   "outputs": [],
   "source": [
    "# Difference\n",
    "# Compared to the previous set operations this is not commutative!\n",
    "a_difference_b = a.difference(b)\n",
    "\n",
    "# Difference can be written using the `-` operator.\n",
    "a_difference_b = a - b\n",
    "b_difference_a = b - a\n",
    "\n",
    "print('Difference: a - b = ', a_difference_b)\n",
    "print('Difference: b - a = ', b_difference_a, ' != a - b')"
   ]
  },
  {
   "cell_type": "code",
   "execution_count": null,
   "metadata": {},
   "outputs": [],
   "source": [
    "# Symmetric Difference (Exclusive Or)\n",
    "# Symmetric Difference finds the elements that are in EITHER `a` OR `b` (but not in both).\n",
    "# a ^ b = (a | b) - (a & b)\n",
    "a_symdiff_b = a.symmetric_difference(b)\n",
    "# Symmetric Difference can be written using the `^` operator.\n",
    "a_symdiff_b = a ^ b\n",
    "print('Symmetric Difference: a ^ b = ', a_symdiff_b)"
   ]
  },
  {
   "cell_type": "markdown",
   "metadata": {},
   "source": [
    "#### Modifying set operations\n",
    "\n",
    "The set operations introduced before do not modify the input sets and create a new output set. This set operations also come in variants that update one of the input sets to hold the results."
   ]
  },
  {
   "cell_type": "code",
   "execution_count": null,
   "metadata": {},
   "outputs": [],
   "source": [
    "# Union\n",
    "a = {1, 2}\n",
    "b = {2, 3}\n",
    "\n",
    "# There are two variants of writing the modifying set union.\n",
    "# One can also think of this as adding all elements in `b` to `a`.\n",
    "# a |= b # Equivalent form of the following.\n",
    "a.update(b)\n",
    "\n",
    "print(a)"
   ]
  },
  {
   "cell_type": "code",
   "execution_count": null,
   "metadata": {},
   "outputs": [],
   "source": [
    "# Intersection\n",
    "a = {1, 2}\n",
    "b = {2, 3}\n",
    "\n",
    "# There are two variants of writing the modifying set intersection.\n",
    "# One can also think of removing all elements from `a` that are not in `b`.\n",
    "# a &= b # Equivalent form of the following.\n",
    "a.intersection_update(b)\n",
    "\n",
    "print(a)"
   ]
  },
  {
   "cell_type": "code",
   "execution_count": null,
   "metadata": {},
   "outputs": [],
   "source": [
    "# Difference\n",
    "a = {1, 2}\n",
    "b = {2, 3}\n",
    "\n",
    "# There are two variants of writing the modifying set difference.\n",
    "# One can also think of removing all elements from `a` that are in `b`.\n",
    "# a -= b # Equivalent form of the following.\n",
    "a.difference_update(b)\n",
    "\n",
    "print(a)"
   ]
  },
  {
   "cell_type": "code",
   "execution_count": null,
   "metadata": {},
   "outputs": [],
   "source": [
    "# Symmetric Difference\n",
    "a = {1, 2}\n",
    "b = {2, 3}\n",
    "\n",
    "# There are two variants of writing the modifying set difference.\n",
    "# a ^= b # Equivalent form of the following.\n",
    "a.symmetric_difference_update(b)\n",
    "\n",
    "print(a)"
   ]
  },
  {
   "cell_type": "markdown",
   "metadata": {},
   "source": [
    "### Modifying vs. non-modifying (optional)\n",
    "\n",
    "Choosing a modifying set operation over a non-modifying one can be beneficial for example in the following cases:\n",
    "\n",
    "* One of the sets is huge and only a small change will be made (such as removing or adding a few elements). In this case a non-modifying set operation has to make a copy of most of the elements, while the modifying operation only changes a few elements.\n",
    "* A set should be passed to a function and should be modified in the function such that the modification is visible from outside of the function.\n",
    "\n",
    "The following experiment investigates advantages of the different variants in terms of speed:"
   ]
  },
  {
   "cell_type": "code",
   "execution_count": null,
   "metadata": {},
   "outputs": [],
   "source": [
    "import time\n",
    "\n",
    "# Run this experiment for different orders of magnitude of `num_elements`\n",
    "# and observe the ratio of the two durations.\n",
    "# Also try different set operations!\n",
    "# Can you find a set operation where the non-modifying variant is much slower than the modifying variant?\n",
    "# Caution: If `num_elements` is too large this could slow down your computer.\n",
    "num_elements = 1_000_000\n",
    "huge_set = set(range(num_elements))\n",
    "tiny_set = {1, 2, 3}\n",
    "\n",
    "\n",
    "start = time.time()\n",
    "result_mod = huge_set.difference(tiny_set)\n",
    "end = time.time()\n",
    "duration_nonmod = end - start\n",
    "\n",
    "start = time.time()\n",
    "huge_set.difference_update(tiny_set)\n",
    "end = time.time()\n",
    "duration_mod = end - start\n",
    "\n",
    "assert result_mod == huge_set\n",
    "\n",
    "print(\"Modifying operation was {:.4f} times faster than the non-modifying operation.\".format(duration_nonmod/duration_mod))"
   ]
  },
  {
   "cell_type": "markdown",
   "metadata": {},
   "source": [
    "### Background (advanced & optional): `__hash__` and `__eq__`\n",
    "**Reminder (hash function):** A [hash function](https://en.wikipedia.org/wiki/Hash_function) is any function that can be used to map data of arbitrary size to fixed-size values. For example:"
   ]
  },
  {
   "cell_type": "code",
   "execution_count": null,
   "metadata": {},
   "outputs": [],
   "source": [
    "import hashlib\n",
    "#help(hashlib)\n",
    "h1 = hashlib.sha1(b'short text') # note the \"b\" to encode string to byte\n",
    "h2 = hashlib.sha1(b'long long long long long long text') \n",
    "print(h1.hexdigest())\n",
    "print(h2.hexdigest())"
   ]
  },
  {
   "cell_type": "markdown",
   "metadata": {},
   "source": [
    "**Observation**: The hash functions used for sets and dicts are much simpler than `sha1`.\n",
    "\n",
    "The default sets in Python are so-called 'hash-sets'. The name refers to the algorithms used to implement the efficient set data structure. For *dictionaries* the situation is very similar.\n",
    "\n",
    "In order to be put into a set or a dict a data type must be 'hashable' (`__hash__` function must be implemented). Also the `==` operator must be implemented (`__eq__` function must be implemented).\n",
    "\n",
    "If a type implements `__hash__` then the `hash()` function can be called on this type.\n",
    "If a type implements `__eq__` then the `==` operator can be used for this type.\n",
    "\n",
    "Having the equivalence operation defined is necessary for sets. Otherwise it is not possible to perform any set operations in a meaningful way. The hash function, however, is specific to the algorithms used to implement efficient set operations. More information on the implementation of hash sets and 'hash tables' (= dicts) can be found online (https://en.wikipedia.org/wiki/Hash_table).\n"
   ]
  },
  {
   "cell_type": "code",
   "execution_count": null,
   "metadata": {},
   "outputs": [],
   "source": [
    "# Mutable collections such as list, dict and set do NOT implement __hash__.\n",
    "# Therefore this FAILS with a `TypeError` (would work for a tuple, though):\n",
    "my_list = [1, 2, 3]\n",
    "s = {my_list}"
   ]
  },
  {
   "cell_type": "markdown",
   "metadata": {},
   "source": [
    "## Comprehensions\n",
    "\n",
    "* [Official documentation](https://docs.python.org/3/tutorial/datastructures.html#list-comprehensions)\n"
   ]
  },
  {
   "cell_type": "markdown",
   "metadata": {},
   "source": [
    "Performing element-wise operations on a list or other sequence is a very common pattern. The following example shows element-wise squaring of a range implemented with a for loop:"
   ]
  },
  {
   "cell_type": "code",
   "execution_count": null,
   "metadata": {},
   "outputs": [],
   "source": [
    "squares = [] # Create empty output list.\n",
    "for x in range(1, 11): # Loop over all elements in a sequence.\n",
    "    squares.append(x ** 2) # Perform an element-wise operation and append the result to the output list.\n",
    "    \n",
    "print(squares)"
   ]
  },
  {
   "cell_type": "markdown",
   "metadata": {},
   "source": [
    "A much simpler and more readable way is using so-called list comprehensions. The following code if functionally equivalent to the one above. One can think of it as a shorter way to write this type of for-loops."
   ]
  },
  {
   "cell_type": "code",
   "execution_count": null,
   "metadata": {},
   "outputs": [],
   "source": [
    "#         square brackets\n",
    "#         |operation\n",
    "#         ||          loop variable\n",
    "#         ||          |    sequence for looping over\n",
    "#         ||          |    |\n",
    "squares = [x ** 2 for x in range(1, 11)]\n",
    "\n",
    "print(squares)"
   ]
  },
  {
   "cell_type": "markdown",
   "metadata": {},
   "source": [
    "A list comprehension consists of brackets (denoting the generation of a list), and therein a `for` statement followed by zero or more `for` or `if` statements. This allows to implement nested loops together with filtering as follows:"
   ]
  },
  {
   "cell_type": "code",
   "execution_count": null,
   "metadata": {},
   "outputs": [],
   "source": [
    "pairs = []\n",
    "for x in [1, 2, 3]:\n",
    "    for y in [3, 1, 4]:\n",
    "        if x != y:\n",
    "            pairs.append((x, y))\n",
    "print(pairs)"
   ]
  },
  {
   "cell_type": "markdown",
   "metadata": {},
   "source": [
    "The above nested loop can be translated into a list comprehension with multiple `for` statements. Note that the order of the for and if are the same."
   ]
  },
  {
   "cell_type": "code",
   "execution_count": null,
   "metadata": {},
   "outputs": [],
   "source": [
    "pairs = [(x, y) for x in [1, 2, 3] for y in [3, 1, 4] if x != y]\n",
    "print(pairs)"
   ]
  },
  {
   "cell_type": "markdown",
   "metadata": {},
   "source": [
    "## Applying functions and filtering elements\n",
    "The syntax shown here allows to achieve many different goals with a concise and short notation.\n",
    "\n",
    "For example, a nested list can be flattened by appending all elements of the sub-lists into one single list:"
   ]
  },
  {
   "cell_type": "code",
   "execution_count": null,
   "metadata": {},
   "outputs": [],
   "source": [
    "# List-in-list structure could be used to define a class room.\n",
    "rows_of_students = [['Alphonse', 'Betty', 'Charles'], ['Dora', 'Elias', 'Fabienne'], ['Gustav', 'Harry', 'Ian']]\n",
    "# Get a list of all students.\n",
    "class_room = [student for row in rows_of_students for student in row]\n",
    "print(class_room)"
   ]
  },
  {
   "cell_type": "markdown",
   "metadata": {},
   "source": [
    "A function can be evaluated for each element."
   ]
  },
  {
   "cell_type": "code",
   "execution_count": null,
   "metadata": {},
   "outputs": [],
   "source": [
    "[x.upper() for x in class_room]"
   ]
  },
  {
   "cell_type": "markdown",
   "metadata": {},
   "source": [
    "The `if` statement allows to filter a list and only take the elements into the output which satisfy the condition."
   ]
  },
  {
   "cell_type": "code",
   "execution_count": null,
   "metadata": {},
   "outputs": [],
   "source": [
    "[x for x in class_room if len(x) <= 4]"
   ]
  },
  {
   "cell_type": "markdown",
   "metadata": {},
   "source": [
    "### ✏️ $\\mu$-exercise\n",
    "\n",
    "At this point, please switch to your Exercise_04 notebook and complete $\\mu$-exercises __3 and 4__."
   ]
  },
  {
   "cell_type": "markdown",
   "metadata": {},
   "source": [
    "## The `zip()` function\n",
    "\n",
    "Sometimes it is desired to loop over two or more lists \"simultaneously\" incrementing the index of all lists at the same time. The `zip` function can be used for such cases:"
   ]
  },
  {
   "cell_type": "code",
   "execution_count": null,
   "metadata": {},
   "outputs": [],
   "source": [
    "chocolates = ['dark', 'brown', 'white']\n",
    "calories = [5, 10, 15]\n",
    "\n",
    "list(zip(chocolates, calories))"
   ]
  },
  {
   "cell_type": "markdown",
   "metadata": {},
   "source": [
    "Again, *unpacking* can be used when looping:"
   ]
  },
  {
   "cell_type": "code",
   "execution_count": null,
   "metadata": {},
   "outputs": [],
   "source": [
    "for name, cal in zip(chocolates, calories):\n",
    "    print('{:s} chocolate has {:d} calories'.format(name, cal))"
   ]
  },
  {
   "cell_type": "markdown",
   "metadata": {},
   "source": [
    "## Nested list comprehensions\n",
    "\n",
    "In a list comprehension the expression to generate the elements of the new lists can as well be another list comprehension.\n",
    "\n",
    "For example, we can define the identity 3x3 matrix as follows:"
   ]
  },
  {
   "cell_type": "code",
   "execution_count": 2,
   "metadata": {},
   "outputs": [
    {
     "data": {
      "text/plain": [
       "[[1, 0, 0], [0, 1, 0], [0, 0, 1]]"
      ]
     },
     "execution_count": 2,
     "metadata": {},
     "output_type": "execute_result"
    }
   ],
   "source": [
    "# List comprehensions can be written on multiple lines to improve readability.\n",
    "[\n",
    "    [1 if col_idx == row_idx else 0 for col_idx in range(3)] \n",
    "    for row_idx in range(3)\n",
    "]"
   ]
  },
  {
   "cell_type": "markdown",
   "metadata": {},
   "source": [
    "## Dict comprehensions\n",
    "A syntax similar to list comprehensions also exists for dictionary comprehensions, set comprehensions and generators. Generators are shortly treated in the optional last section of this lecture.\n",
    "\n",
    "Dict comprehensions allow to create a dictionary entry for each element in a sequence.\n",
    "\n",
    "The basic syntax is as follows:\n",
    "```python\n",
    "new_dict = {key_function(e): value_function(e) # Create a key and a value for the dictionary entry.\n",
    "            for e in some_sequence\n",
    "            if condition(e) # Condition is optional.\n",
    "           }\n",
    "\n",
    "```\n",
    "In contrast to list comprehensions not only a new list element is created but a key-value pair. `key_function(e)` is a placeholder for any expression that generates a key for the entry and `value_function(e)` is a placeholder for any expression that generates the value of the dictionary entry. Key and value can depend on `e` but don't have to. As with list comprehensions it is possible to conditionally create a dictionary entry. The condition can depend on `e`.\n",
    "\n",
    "The above code could as well be written in a for loop:\n",
    "\n",
    "```python\n",
    "new_dict = dict()\n",
    "for e in some_sequence:\n",
    "    if condition(e):\n",
    "        new_dict[key_function(e)] = value_function(e)\n",
    "```"
   ]
  },
  {
   "cell_type": "markdown",
   "metadata": {},
   "source": [
    "The following shows a simple example of generating a look-up table for square numbers."
   ]
  },
  {
   "cell_type": "code",
   "execution_count": 3,
   "metadata": {},
   "outputs": [
    {
     "name": "stdout",
     "output_type": "stream",
     "text": [
      "{0: 0, 1: 1, 2: 4, 3: 9, 4: 16, 5: 25, 6: 36, 7: 49, 8: 64, 9: 81}\n"
     ]
    }
   ],
   "source": [
    "# Example: Compute look-up table for square numbers using a dict comprehension.\n",
    "squares = {i: i**2 for i in range(10)}\n",
    "print(squares)"
   ]
  },
  {
   "cell_type": "markdown",
   "metadata": {},
   "source": [
    "Like list comprehensions, dict comprehensions can be used for many different applications. The following example shows how a dict comprehension can be used to swap keys with values of a dictionary. This essentially creates a reverse look-up table."
   ]
  },
  {
   "cell_type": "code",
   "execution_count": null,
   "metadata": {},
   "outputs": [],
   "source": [
    "# Example: Exchange keys and values and create an inverse look-up table.\n",
    "roots = {value: key for key, value in squares.items()}\n",
    "print(roots)\n",
    "print(\"The square root of 64 is {}.\".format(roots[64]))"
   ]
  },
  {
   "cell_type": "markdown",
   "metadata": {},
   "source": [
    "# Set comprehensions\n",
    "Set comprehensions are very similar to list or dictionary comprehensions with the only difference that they create a set instead of a list or dict. The syntax is exactly the same as for list comprehension with the only difference that curly brackets `{}` are used instead of square brackets `[]`."
   ]
  },
  {
   "cell_type": "code",
   "execution_count": null,
   "metadata": {},
   "outputs": [],
   "source": [
    "# Create a set using a comprehension.\n",
    "\n",
    "# Take a list with strings and maybe some data types that we don't want.\n",
    "faulty_name_list = ['alice', 'Alice', 'ALICE', 'bob', 'boB', 'BOB', 123, 1.234]\n",
    "\n",
    "# Now create a set of names after converting them to lower case.\n",
    "# Filter out everyting that is not a string.\n",
    "unique_names = {name.lower() for name in faulty_name_list if type(name) == str}\n",
    "\n",
    "print(unique_names)"
   ]
  },
  {
   "cell_type": "markdown",
   "metadata": {},
   "source": [
    "### ✏️ $\\mu$-exercise\n",
    "\n",
    "At this point, please switch to your Exercise_04 notebook and complete $\\mu$-exercises __5 and 6__."
   ]
  },
  {
   "cell_type": "markdown",
   "metadata": {},
   "source": [
    "# Navigating folders and file input/output (IO)\n",
    "\n",
    "This section explains how Python can be used to interact with the file system. This includes navigating in the directory tree, creating folders and reading and writing files."
   ]
  },
  {
   "cell_type": "markdown",
   "metadata": {},
   "source": [
    "## The `os` module\n",
    "[Documentation Link](https://docs.python.org/3/library/os.html)\n",
    "\n",
    "With the `os` module Python offers a way to interact with operating-system dependent functionality in a portable way. In the following `os` will be used mainly to interact with the file system.\n",
    "\n",
    "When working with file paths, the `os` module is to some extent independent from the operating system. For instance, paths under Linux are separated with `/` and under Windows with `\\`. The `os` module will automatically convert the file paths into the right form.\n"
   ]
  },
  {
   "cell_type": "markdown",
   "metadata": {},
   "source": [
    "The most fundamental commands to interact with the file system are shown in the following examples."
   ]
  },
  {
   "cell_type": "code",
   "execution_count": null,
   "metadata": {},
   "outputs": [],
   "source": [
    "import os\n",
    "\n",
    "# Get the 'current working directory'. This works like the `pwd` command in the Linux shell.\n",
    "os.getcwd()"
   ]
  },
  {
   "cell_type": "code",
   "execution_count": null,
   "metadata": {},
   "outputs": [],
   "source": [
    "# Get a list of the content of the current working directory.\n",
    "os.listdir()"
   ]
  },
  {
   "cell_type": "code",
   "execution_count": null,
   "metadata": {},
   "outputs": [],
   "source": [
    "# Get a list of the content of some other directory.\n",
    "# For linux:\n",
    "os.listdir('/tmp')\n",
    "# For windows:\n",
    "# os.listdir('C:/')"
   ]
  },
  {
   "cell_type": "code",
   "execution_count": null,
   "metadata": {},
   "outputs": [],
   "source": [
    "# Create a new directory.\n",
    "os.mkdir('a_new_directory')"
   ]
  },
  {
   "cell_type": "code",
   "execution_count": null,
   "metadata": {},
   "outputs": [],
   "source": [
    "# Get an updated list of directories.\n",
    "os.listdir()"
   ]
  },
  {
   "cell_type": "code",
   "execution_count": null,
   "metadata": {},
   "outputs": [],
   "source": [
    "# Check if the new directory is actually there.\n",
    "os.path.exists('a_new_directory')"
   ]
  },
  {
   "cell_type": "code",
   "execution_count": null,
   "metadata": {},
   "outputs": [],
   "source": [
    "# Clean-up, remove the new directory.\n",
    "os.rmdir('a_new_directory')\n",
    "os.path.exists('a_new_directory')"
   ]
  },
  {
   "cell_type": "markdown",
   "metadata": {},
   "source": [
    "### File paths\n",
    "\n",
    "File locations are specified with a 'path' like `./some_folder/some_other_folder/some_file.xyz`. A path defines a sequence of folders that one must go through in order to find a file.\n",
    "\n",
    "There are two classes of paths, namely absolute and relative paths.\n",
    "\n",
    "* Absolute paths start with a slash `/` which stands for the root of the file system tree (Linux and OSX). An absolute path is not dependent on the current working directory.\n",
    "* A relative path does *not* start with a slash (root). Relative paths start in the current working directory.\n",
    "\n",
    "In every directory there are two special directory entries (for Linux and OSX): '`.`' and '`..`'.\n",
    "The single dot '`.`' is an alias for the directory itself while the double dots `..` is an alias for the parent directory. '`..`' can therefore be used to go towards the root of the file system tree."
   ]
  },
  {
   "cell_type": "code",
   "execution_count": null,
   "metadata": {},
   "outputs": [],
   "source": [
    "# Check if a path is absolute (Linux and OSX).\n",
    "os.path.isabs('/etc/')"
   ]
  },
  {
   "cell_type": "code",
   "execution_count": null,
   "metadata": {},
   "outputs": [],
   "source": [
    "# This path is not absolute.\n",
    "os.path.isabs('../Lecture_04/')"
   ]
  },
  {
   "cell_type": "markdown",
   "metadata": {},
   "source": [
    "It gets interesting when we convert paths, especially to get the absolute path from a relative one:"
   ]
  },
  {
   "cell_type": "code",
   "execution_count": null,
   "metadata": {},
   "outputs": [],
   "source": [
    "# Convert a relative path into an absolute path starting from the current working directory.\n",
    "os.path.abspath('../Lecture_04/')"
   ]
  },
  {
   "cell_type": "markdown",
   "metadata": {},
   "source": [
    "The `shutil` module provides many functions for manipulating files and directories. Essentially, it offers similar functionality as the Linux *sh*ell does with commands like `cp`, `mv`, `rm` and `rmdir`."
   ]
  },
  {
   "cell_type": "code",
   "execution_count": null,
   "metadata": {},
   "outputs": [],
   "source": [
    "import shutil\n",
    "shutil.copy('Lecture_04.ipynb', 'Lecture_04.ipynb.backup')  # Copy a file.\n",
    "os.mkdir('a_new_directory') # Create a new directory.\n",
    "os.rename('a_new_directory', 'a_newer_directory')  # Rename a directory or a file.\n",
    "os.remove('Lecture_04.ipynb.backup')  # Remove a file.\n",
    "os.rmdir('a_newer_directory')  # Remove an empty folder."
   ]
  },
  {
   "cell_type": "markdown",
   "metadata": {},
   "source": [
    "### ✏️ $\\mu$-exercise\n",
    "\n",
    "At this point, please switch to your Exercise_04 notebook and complete $\\mu$-exercise __7__."
   ]
  },
  {
   "cell_type": "markdown",
   "metadata": {},
   "source": [
    "## Reading and writing files\n",
    "[Documentation Link](https://docs.python.org/3/library/io.html)\n",
    "\n",
    "The next logical step is to interact with files. In Python, we use the built-in `open()` function to get a file-stream object:"
   ]
  },
  {
   "cell_type": "code",
   "execution_count": null,
   "metadata": {},
   "outputs": [],
   "source": [
    "with open('example-people.csv', 'r') as file_stream:\n",
    "    content = file_stream.read()\n",
    "\n",
    "content"
   ]
  },
  {
   "cell_type": "markdown",
   "metadata": {},
   "source": [
    "Whenever a file is opened, it should be closed after use. This releases system resources and, in case of writing, makes sure that changes are actually saved on the hard disk.\n",
    "\n",
    "The `with` statement is a control-flow structure and it is called a **Context Manager**. Among other purposes, it can be used to *automatically* close a file after it has been read. The `with` statement guarantees that the file is closed, even if an error is raised.\n",
    "\n",
    "A more manual approach for opening and closing the file could be:"
   ]
  },
  {
   "cell_type": "code",
   "execution_count": null,
   "metadata": {},
   "outputs": [],
   "source": [
    "# NOT RECOMMENDED way of opening files.\n",
    "file_stream = open('example-people.csv', 'r') # Open the file for reading ('r').\n",
    "content = file_stream.read()  # Reads the entire file.\n",
    "file_stream.close()  # Manually close the file.\n",
    "\n",
    "content"
   ]
  },
  {
   "cell_type": "markdown",
   "metadata": {},
   "source": [
    "The `open` function takes two arguments: i) the filename and ii) the mode. The mode is a string of one or two characters describing the desired file access:\n",
    "\n",
    "- 'r' = read access\n",
    "- 'w' = write access (any written data will overwrite an existing file!)\n",
    "- 'a' = append access (any written data will be appended to the end of an existing file.)\n",
    "\n",
    "These regular modes open files which contain (encoded) text, such as text files, source code, latex files, etc. For opening other files (like JPG, PDF, ...), it is possible to append a 'b' to the mode to open them as *binaries*. Example: `open('photo.jpg', 'rb')`.\n",
    "\n",
    "Whenever a file is opened, it should be closed when no more needed. This liberates system resources and to makes sure, in case of writing, that the changes are saved to the hard drive."
   ]
  },
  {
   "cell_type": "markdown",
   "metadata": {},
   "source": [
    "Apart from using `file_stream.read()` above which reads the whole file content into a string in memory, reading text files can be done line-by-line. Going through files line-by-line can be advantageous from a memory perspective because not all of the file has to be loaded into memory at the same time. This allows to process files larger that the available memory."
   ]
  },
  {
   "cell_type": "code",
   "execution_count": null,
   "metadata": {
    "scrolled": true
   },
   "outputs": [],
   "source": [
    "with open('example-people.csv', 'r') as file_stream:\n",
    "    something = \"\"\n",
    "    for line_string in file_stream:  # Access the file line-by-line, i.e. only save one line in memory at a time.\n",
    "        # Do example operation on the line_string.\n",
    "        something += line_string[1:4]\n",
    "    \n",
    "something"
   ]
  },
  {
   "cell_type": "markdown",
   "metadata": {},
   "source": [
    "### Writing to files"
   ]
  },
  {
   "cell_type": "markdown",
   "metadata": {},
   "source": [
    "For writing, access is very similar: either use `write` to write a single string or `writelines` to write whole lists of strings. You find many more write functions in the Python documentation."
   ]
  },
  {
   "cell_type": "code",
   "execution_count": null,
   "metadata": {},
   "outputs": [],
   "source": [
    "with open('writing-to-file.csv', 'w') as f:\n",
    "    f.writelines(content)"
   ]
  },
  {
   "cell_type": "markdown",
   "metadata": {},
   "source": [
    "### Structured data files: CSV and JSON\n",
    "\n",
    "In many cases we encounter formated data files, like CSV [(Comma Separated Values)](https://en.wikipedia.org/wiki/Comma-separated_values) for table-style data or JSON [(JavaScript Object Notation)](https://en.wikipedia.org/wiki/JSON) for other structures. Both are human readable but also made such that programs can easily interprete it too.\n",
    "\n",
    "Python has built-in support for these two standards.\n",
    "- for CSV, use the `csv` module [(docs)](https://docs.python.org/3/library/csv.html)\n",
    "- for JSON, use the `json` module [(docs)](https://docs.python.org/3/library/json.html)"
   ]
  },
  {
   "cell_type": "markdown",
   "metadata": {},
   "source": [
    "# Bonus: Generators (optional & advanced)\n",
    "\n",
    "* [Official documentation](https://docs.python.org/3/howto/functional.html#generators)\n",
    "\n",
    "For may types of operations on sequences it is not necessary and possibly not even possible to have the full sequence in memory at once. This shall be illustrated in the following example."
   ]
  },
  {
   "cell_type": "code",
   "execution_count": null,
   "metadata": {},
   "outputs": [],
   "source": [
    "# This will probably crash on an average personal computer because it will consume multiple exa bytes of memory.\n",
    "# sequence = [x**2 for x in range(1000_000_000_000_000_000)]\n",
    "\n",
    "# An alternative way is to create a 'generator' sequence with a very similar syntax to list comprehensions.\n",
    "# In contrast to a list or other container, generators are evaluated lazily.\n",
    "# (`range` is also evaluated lazily as well as `zip` and `enumerate`).\n",
    "# This means, elements are only computed when they are requested.\n",
    "\n",
    "huge_sequence = range(1000_000_000_000_000_000)\n",
    "\n",
    "# A generator is created with a similar syntax like a comprehension.\n",
    "# It requires round brackets.\n",
    "generator = (x**2 for x in huge_sequence if x%2 == 0)\n",
    "\n",
    "print('Type of generator:', type(generator))\n",
    "\n",
    "print(next(generator)) # Compute first element.\n",
    "print(next(generator)) # ... now the second.\n",
    "print(next(generator)) # ... now the third."
   ]
  },
  {
   "cell_type": "code",
   "execution_count": null,
   "metadata": {},
   "outputs": [],
   "source": [
    "# To highlight the lazy evaluation a line shall be printed as soon as an element is requested.\n",
    "\n",
    "def f(x):\n",
    "    print('evaluating f({})'.format(x))\n",
    "    return x**2\n",
    "\n",
    "huge_sequence = range(1000_000_000_000_000_000)\n",
    "generator = (f(x) for x in huge_sequence if x%2 == 0)\n",
    "\n",
    "print(\"Until now, f has NOT yet been evaluated at all!\")\n",
    "\n",
    "# Note that the line is only printed when an element is accessed.\n",
    "print(next(generator)) # Here the first element is computed.\n",
    "print(next(generator)) # ... now the second.\n",
    "print(next(generator)) # ... now the third."
   ]
  },
  {
   "cell_type": "code",
   "execution_count": null,
   "metadata": {},
   "outputs": [],
   "source": [
    "# If we use a list comprehension, things look different.\n",
    "list_instead_generator = [f(x) for x in range(10) if x%2 == 0]"
   ]
  },
  {
   "cell_type": "code",
   "execution_count": null,
   "metadata": {},
   "outputs": [],
   "source": [
    "# When passed to functions which take an iterable sequence as argument, the round parenteses can be ommitted.\n",
    "# Note that for computing this sum there is no need to have all summands in memory at the same time.\n",
    "sum(x**2 for x in range(1_000_000) if x%2 == 0)"
   ]
  },
  {
   "cell_type": "markdown",
   "metadata": {},
   "source": [
    "### Create generator functions with the `yield` keyword\n",
    "\n",
    "There is another way to define generators or 'generator functions' using the `yield` keyword."
   ]
  },
  {
   "cell_type": "code",
   "execution_count": 4,
   "metadata": {},
   "outputs": [
    {
     "name": "stdout",
     "output_type": "stream",
     "text": [
      "Return type of the function:  <class 'generator'>\n",
      "before `yield`: i = 0\n",
      "0\n",
      "after `yield`: i = 0\n",
      "before `yield`: i = 2\n",
      "2\n",
      "after `yield`: i = 2\n",
      "before `yield`: i = 4\n",
      "4\n",
      "after `yield`: i = 4\n",
      "before `yield`: i = 6\n",
      "6\n"
     ]
    }
   ],
   "source": [
    "\n",
    "def infinite_range_function(start: int = 0, step: int = 1):\n",
    "    \"\"\"\n",
    "    This function looks like it will never return!\n",
    "    \"\"\"\n",
    "    i = start\n",
    "    while True: # Infinite loop.\n",
    "        print('before `yield`: i =', i)\n",
    "        yield i # <-- Note the `yield` keyword.\n",
    "        print('after `yield`: i =', i)\n",
    "        i += step\n",
    "\n",
    "# Calling a function which contains `yield` keywords will create a new generator object\n",
    "# instead of evaluating the function as one might expect for normal functions.\n",
    "# Multiple independent generator objects could be created here.\n",
    "infinite = infinite_range_function(0, 2)\n",
    "\n",
    "print('Return type of the function: ', type(infinite))\n",
    "\n",
    "# Print the first few elements of the infinite sequence.\n",
    "for _ in range(4):\n",
    "    print(next(infinite))\n",
    "    "
   ]
  },
  {
   "cell_type": "markdown",
   "metadata": {},
   "source": [
    "One can think of a generator as a function whose execution can be paused and continued at `yield` statements. When the execution is interrupted the internal function state is preserved. Therefore the function evaluation can be continued at any time later."
   ]
  },
  {
   "cell_type": "code",
   "execution_count": null,
   "metadata": {},
   "outputs": [],
   "source": [
    "# Generator functions don't have to be infinite. The generator sequence will end once the function returns.\n",
    "\n",
    "def infinite_range_function(start: int = 0, step: int = 1, stop: int=None):\n",
    "    \"\"\"\n",
    "    Note that this is very similar to the `range` function.\n",
    "    \"\"\"\n",
    "    i = start\n",
    "    while True: # Infinite loop.\n",
    "        \n",
    "        if i == stop:\n",
    "            # End of the sequence.\n",
    "            return\n",
    "        \n",
    "        yield i\n",
    "        i += step\n",
    "\n",
    "# This will create a finite list.\n",
    "list(infinite_range_function(start=0, step=2, stop=20))"
   ]
  },
  {
   "cell_type": "code",
   "execution_count": null,
   "metadata": {},
   "outputs": [],
   "source": [
    "# Generators can also be combined with other generators.\n",
    "\n",
    "squares = (x**2 for x in infinite_range_function())\n",
    "\n",
    "for _ in range(20):\n",
    "    print(next(squares))"
   ]
  },
  {
   "cell_type": "markdown",
   "metadata": {},
   "source": [
    "### Optional further reading\n",
    "\n",
    "Generators fit nicely into the 'functional' programming paradigms. More on this can be found in the official documentation: https://docs.python.org/3/howto/functional.html"
   ]
  },
  {
   "cell_type": "markdown",
   "metadata": {},
   "source": [
    "# Exercise time!\n",
    "Now its your turn! Solve the rest of the exercises."
   ]
  },
  {
   "cell_type": "markdown",
   "metadata": {},
   "source": [
    "# Uploading solutions\n",
    "Before the end of the class at about 16:00, please \"push\" your solutions. \n",
    "\n",
    "Please do so even if you have not solved all problems: additional\n",
    "uploads can be made in the following days. Instructions are below.\n",
    "\n",
    "### If git is available on your system (preferred option)\n",
    "Add, commit and push your changes to the remote server:\n",
    "\n",
    "`git add -A`\n",
    "\n",
    "`git commit -m 'My solutions to Lecture 04'`\n",
    "\n",
    "`git push origin master`\n",
    "\n",
    "### If git is **not** available on your system\n",
    "This is **not** the favourite solution and it should be avoided whenever possible.\n",
    "\n",
    "Upload your Lecture_04 folder (containing the Exercise file) to the polybox https://polybox.ethz.ch and share the folder with luca.alloatti@ief.ee.ethz.ch, thomas.kramer@ief.ee.ethz.ch, and raphael.schwanninger@ief.ee.ethz.ch . To share the folder go on https://polybox.ethz.ch , then on the right of the folder there is a graph with one vertex connecting to two other vertices: click on it and then type the three emails."
   ]
  }
 ],
 "metadata": {
  "kernelspec": {
   "display_name": "Python 3",
   "language": "python",
   "name": "python3"
  },
  "language_info": {
   "codemirror_mode": {
    "name": "ipython",
    "version": 3
   },
   "file_extension": ".py",
   "mimetype": "text/x-python",
   "name": "python",
   "nbconvert_exporter": "python",
   "pygments_lexer": "ipython3",
   "version": "3.7.0"
  }
 },
 "nbformat": 4,
 "nbformat_minor": 2
}
