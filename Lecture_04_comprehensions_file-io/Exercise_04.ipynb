{
 "cells": [
  {
   "cell_type": "markdown",
   "metadata": {},
   "source": [
    "# Python basics 3 - exercises"
   ]
  },
  {
   "cell_type": "markdown",
   "metadata": {},
   "source": [
    "## $\\mu$-exercises"
   ]
  },
  {
   "cell_type": "markdown",
   "metadata": {},
   "source": [
    "#### 1\n",
    "\n",
    "Write a function which adds `x` to all elements of a given list where `x` is also an argument to the function with a default value of 5. When testing your function, provide `x` as a keyword argument."
   ]
  },
  {
   "cell_type": "code",
   "execution_count": null,
   "metadata": {},
   "outputs": [],
   "source": [
    "def f(l, ...TODO...):\n",
    "    \"\"\"\n",
    "    Add `x` to all elements of the list `l`.\n",
    "    The elements in `l` get modified!\n",
    "    \"\"\"\n",
    "    assert isinstance(l, list)\n",
    "    \n",
    "    ...TODO...\n",
    "\n",
    "test_list = [0, 1, 2]\n",
    "\n",
    "# Add 5 to each element (default).\n",
    "f(test_list)\n",
    "print(test_list)\n",
    "\n",
    "# Add 10 to each element.\n",
    "f(test_list, 10)\n",
    "print(test_list)"
   ]
  },
  {
   "cell_type": "markdown",
   "metadata": {},
   "source": [
    "#### 2\n",
    "\n",
    "Write any error handler for the IndexError around the marked line of Python code but make sure that the variable `favourite` has something assigned to it in any case."
   ]
  },
  {
   "cell_type": "code",
   "execution_count": null,
   "metadata": {},
   "outputs": [],
   "source": [
    "N = 3\n",
    "my_friends = ['Alice', 'Bob', 'Eve']\n",
    "\n",
    "favourite = my_friends[N]  # <--------\n",
    "    \n",
    "print(favourite)"
   ]
  },
  {
   "cell_type": "markdown",
   "metadata": {},
   "source": [
    "#### 3\n",
    "\n",
    "From the list given below, create a new list containing only the first letter of each word using a list comprehension."
   ]
  },
  {
   "cell_type": "code",
   "execution_count": null,
   "metadata": {},
   "outputs": [],
   "source": [
    "words = ['another', 'cryptic', 'rendition', 'of', 'nomenclature', 'you', 'memorize']\n",
    "\n",
    "[ ... WRITE A LIST COMPREHENSION HERE ... ]\n"
   ]
  },
  {
   "cell_type": "markdown",
   "metadata": {},
   "source": [
    "#### 4\n",
    "\n",
    "From the list given below, create a new list containing only the even integers using a list comprehension."
   ]
  },
  {
   "cell_type": "code",
   "execution_count": null,
   "metadata": {},
   "outputs": [],
   "source": [
    "integers = [1, 3, 4, 5, 6, 7, 9, 12, 14, 15]\n",
    "\n",
    "[ ... WRITE A LIST COMPREHENSION WITH FILTERING ... ]"
   ]
  },
  {
   "cell_type": "markdown",
   "metadata": {},
   "source": [
    "#### 5\n",
    "\n",
    "Zip the two given lists from $\\mu$-exercises 3 and 4 together into another new list containing tuples."
   ]
  },
  {
   "cell_type": "code",
   "execution_count": null,
   "metadata": {},
   "outputs": [],
   "source": []
  },
  {
   "cell_type": "markdown",
   "metadata": {},
   "source": [
    "#### 6\n",
    "\n",
    "From the tuples list in $\\mu$-exercise 5, create a dictionary with the integers as keys, and the letters as values using dict-comprehension."
   ]
  },
  {
   "cell_type": "code",
   "execution_count": null,
   "metadata": {},
   "outputs": [],
   "source": []
  },
  {
   "cell_type": "markdown",
   "metadata": {},
   "source": [
    "#### 7\n",
    "\n",
    "Print a list of all files in your user-home directory."
   ]
  },
  {
   "cell_type": "code",
   "execution_count": null,
   "metadata": {},
   "outputs": [],
   "source": [
    "import os\n",
    "\n",
    "# Hint for Linux (probably also for Windows and OSX): user_home = os.path.expanduser('~')\n",
    "\n",
    "# Print a list of the home directory content."
   ]
  },
  {
   "cell_type": "markdown",
   "metadata": {},
   "source": [
    "# Task 1: Comprehensions"
   ]
  },
  {
   "cell_type": "markdown",
   "metadata": {},
   "source": [
    "## 1) Basic"
   ]
  },
  {
   "cell_type": "markdown",
   "metadata": {},
   "source": [
    "Generate a list containing all integer numbers from 1 to 100 and print it."
   ]
  },
  {
   "cell_type": "code",
   "execution_count": null,
   "metadata": {},
   "outputs": [],
   "source": [
    "l = [] # Use a list comprehension.\n",
    "print(l)"
   ]
  },
  {
   "cell_type": "markdown",
   "metadata": {},
   "source": [
    "Define and fill a dictionary with a few *key:value* items. Then, generate a list that contains all the values of the dictionary, without using the ```values()``` function. Use a list comprehension instead and check your implementation by printing it."
   ]
  },
  {
   "cell_type": "code",
   "execution_count": null,
   "metadata": {},
   "outputs": [],
   "source": [
    "d = {... : ..., ...} # Fill the dictionary with something\n",
    "values = [...] # List comprehension here\n",
    "print(values)"
   ]
  },
  {
   "cell_type": "markdown",
   "metadata": {},
   "source": [
    "## 2) Conditions"
   ]
  },
  {
   "cell_type": "markdown",
   "metadata": {},
   "source": [
    "_Hint:_ Here two different types of `if` statements will be used. One is used to define a condition for filtering (`[... for x in range if x == ...]`). The other is an _inline_ `if`/`else` expression for generating output values (`[ 'A' if someCondition else 'B' for ... in ... ]`).\n"
   ]
  },
  {
   "cell_type": "markdown",
   "metadata": {},
   "source": [
    "Generate a list containing all integer numbers from 1 to 100 that can be divided by 5 and print it. _Note:_ use an ```if``` statement and no more than 2 arguments for the ```range``` function."
   ]
  },
  {
   "cell_type": "code",
   "execution_count": null,
   "metadata": {},
   "outputs": [],
   "source": [
    "l = [...] # List comprehension with `range` and `if`,\n",
    "print(l)"
   ]
  },
  {
   "cell_type": "markdown",
   "metadata": {},
   "source": [
    "Generate a list containing all integer numbers from 1 to 100. If the number can be divided by 5, replace the number with ```-1```; if the number cannot be divided by 5, replace the number with ```False```. Print the resulting list.\n",
    "\n",
    "_Note:_ Using a list comprehension, this can fit in two lines (one for generation of the list and one for printing it)."
   ]
  },
  {
   "cell_type": "code",
   "execution_count": null,
   "metadata": {},
   "outputs": [],
   "source": [
    "l = [...] # List comprehension with in-line `if`.\n",
    "print(l)"
   ]
  },
  {
   "cell_type": "markdown",
   "metadata": {},
   "source": [
    "## 3) Generators (optional & advanced)\n",
    "\n",
    "Create a generator function to generate an infinite sequence of the Fibonacci numbers.\n",
    "\n",
    "The Fibonacci sequence is defined as follows: `fib(0) = 0`, `fib(1) = 1`, `fib(n) = fib(n-1) + fib(n-2)`"
   ]
  },
  {
   "cell_type": "code",
   "execution_count": null,
   "metadata": {},
   "outputs": [],
   "source": [
    "def fib():\n",
    "    n_minus_1 = 1\n",
    "    n_minus_2 = 0\n",
    "    \n",
    "    # Manually yield the first two values.\n",
    "    yield n_minus_2\n",
    "    yield n_minus_1\n",
    "    \n",
    "    while True:\n",
    "        # Compute the next value, yield it and update n_minus_1 and n_minus_2.\n",
    "        yield '...'\n",
    "    \n",
    "fib_instance = fib()\n",
    "    \n",
    "for _ in range(12):\n",
    "    print(next(fib_instance))"
   ]
  },
  {
   "cell_type": "markdown",
   "metadata": {},
   "source": [
    "Create a generator function `take` which takes as arguments non-negative integer `n` and another input sequence `s`. The generator should yield the elements of `s`. After `n` elements have been yielded or the end of `s` is reached the generator should stop.\n",
    "\n",
    "Use this to create a list of the first 20 Fibonacci number."
   ]
  },
  {
   "cell_type": "code",
   "execution_count": null,
   "metadata": {},
   "outputs": [],
   "source": [
    "def take(n: int, s):\n",
    "    \"\"\"\n",
    "    Yield the first n elements of s.\n",
    "    \"\"\"\n",
    "    assert n >= 0\n",
    "    \n",
    "    yield 'TODO'\n",
    "\n",
    "# Use the take function to 'take' the first 20 elements of a Fibonacci sequence generator.\n",
    "fib_20 = list(\n",
    "    take(20, fib())\n",
    ")\n",
    "print(fib_20)\n",
    "\n",
    "assert len(fib_20) == 20, \"Length of output is not 20!\""
   ]
  },
  {
   "cell_type": "markdown",
   "metadata": {},
   "source": [
    "Now create a similar generator function `skip` which takes as argments again a non-negative integer `n` and a sequence `s`. This generator should skip the first `n` elements of `s` and then yield all following elements of `s` until `s` ends.\n",
    "\n",
    "Hint: One way to solve this is to use the `enumerate` function to get sequence items together with their index. Then elements can be returned conditionally on their index. (A better way to achive this would be to use `iter` to create an iterator object of the sequence because `enumerate` will theoretically not work for infinite sequences. However, this was never covered in the lecture).\n",
    "\n",
    "Use this generator to print the 100th until the 120th fibonacci number."
   ]
  },
  {
   "cell_type": "code",
   "execution_count": null,
   "metadata": {},
   "outputs": [],
   "source": [
    "\n",
    "def skip(n: int, s):\n",
    "    \"\"\"\n",
    "    Skip the first n elements of s, then yield all following ones until the end of s.\n",
    "    \"\"\"\n",
    "    assert n >= 0\n",
    "    \n",
    "    yield 'TODO'\n",
    "\n",
    "# Get the 100th until 120th Fibonacci number.\n",
    "fib_100_120 = list(\n",
    "    # Insert a combination of take and skip here!\n",
    ")\n",
    "\n",
    "print(fib_100_120)\n",
    "assert len(fib_100_120) == 20, \"Length of output is not 20!\""
   ]
  },
  {
   "cell_type": "markdown",
   "metadata": {},
   "source": [
    "# Task 2: File IO\n",
    "\n",
    "In the presentation we have seen how to manipulate files and to import them into Python datastructures. \n"
   ]
  },
  {
   "cell_type": "markdown",
   "metadata": {},
   "source": [
    "## 1) Telephone directory\n",
    "### 1. Giving people numbers\n",
    "Read the file `example-people.csv` from the lecture into Python. For each person, generate a random telephone number starting with 079. Save the resulting list of people in CSV format into a new file. \n",
    "\n",
    "**Hints:** \n",
    "\n",
    "i) For generating random numbers use:\n",
    "\n",
    "```python\n",
    "import random\n",
    "random_number = random.randint(0, 10)\n",
    "```\n",
    "\n",
    "ii) To make your life easier, consider using the `csv` module.\n",
    "\n",
    "iii) It might be easier using relative (and not absolute) paths to access the file.\n",
    "\n",
    "iv) Contrary to the obvious choice of integers, telephone numbers are best stored as strings since they start with a 0."
   ]
  },
  {
   "cell_type": "code",
   "execution_count": null,
   "metadata": {},
   "outputs": [],
   "source": []
  },
  {
   "cell_type": "markdown",
   "metadata": {},
   "source": [
    "### 2. Giving people genders\n",
    "\n",
    "Extend your \"Telephone directory\" by a new column called `gender`. Determine for each entry if the person is `male` or `female` (where possible) using the file `names.csv` and save your updated \"telephone directory\" in a new file `telephone-directory.csv`.\n",
    "\n",
    "**Hints**: \n",
    "\n",
    "i) Make sure your \"telephone directory\" is consistent by not leaving the column `gender` empty, if the gender cannot be determined. Find a suitable value to put if you don't.\n",
    "\n",
    "ii) Note that `names.csv` uses a different separator for the columns than `example-people.csv`. The `csv` module has suitable functionality to handle this via the `csv.reader` class."
   ]
  },
  {
   "cell_type": "code",
   "execution_count": null,
   "metadata": {},
   "outputs": [],
   "source": []
  },
  {
   "cell_type": "markdown",
   "metadata": {},
   "source": [
    "## 2) Make your store persistent\n",
    "Take the code from your item store program from Exercise 2 and modify it that the state of the store program (i.e. what items it has, the money in your and the stores wallet, etc...) is saved into a file when when exiting the program. Read in the file when re-entering the store, so you can continue where you left off.\n",
    "\n",
    "**Hints:**\n",
    "\n",
    "i) Use the `json` module to easily store lists and dicts in files.\n",
    "\n",
    "ii) Take care that your program does not crash, even if errors happen with file reading / writing."
   ]
  },
  {
   "cell_type": "code",
   "execution_count": null,
   "metadata": {},
   "outputs": [],
   "source": []
  }
 ],
 "metadata": {
  "kernelspec": {
   "display_name": "Python 3",
   "language": "python",
   "name": "python3"
  },
  "language_info": {
   "codemirror_mode": {
    "name": "ipython",
    "version": 3
   },
   "file_extension": ".py",
   "mimetype": "text/x-python",
   "name": "python",
   "nbconvert_exporter": "python",
   "pygments_lexer": "ipython3",
   "version": "3.7.3"
  }
 },
 "nbformat": 4,
 "nbformat_minor": 2
}
