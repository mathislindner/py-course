{
 "cells": [
  {
   "cell_type": "markdown",
   "metadata": {},
   "source": [
    "# Python basics 3 - exercises"
   ]
  },
  {
   "cell_type": "markdown",
   "metadata": {},
   "source": [
    "## $\\mu$-exercises"
   ]
  },
  {
   "cell_type": "markdown",
   "metadata": {},
   "source": [
    "#### 1\n",
    "\n",
    "Write a function which adds `x` to all elements of a given list where `x` is also an argument to the function with a default value of 5. When testing your function, provide `x` as a keyword argument."
   ]
  },
  {
   "cell_type": "code",
   "execution_count": 14,
   "metadata": {},
   "outputs": [
    {
     "name": "stdout",
     "output_type": "stream",
     "text": [
      "[5, 6, 7]\n",
      "[15, 16, 17]\n"
     ]
    }
   ],
   "source": [
    "def f(l,x=5):\n",
    "    \"\"\"\n",
    "    Add `x` to all elements of the list `l`.\n",
    "    The elements in `l` get modified!\n",
    "    \"\"\"\n",
    "    assert isinstance(l, list)\n",
    "    newl=[]\n",
    "    for i in range(len(l)):\n",
    "        l[i]=l[i]+int(x)\n",
    "    \n",
    "test_list = [0, 1, 2]\n",
    "\n",
    "# Add 5 to each element (default).\n",
    "f(test_list)\n",
    "print(test_list)\n",
    "\n",
    "# Add 10 to each element.\n",
    "f(test_list, 10)\n",
    "print(test_list)"
   ]
  },
  {
   "cell_type": "markdown",
   "metadata": {},
   "source": [
    "#### 2\n",
    "\n",
    "Write any error handler for the IndexError around the marked line of Python code but make sure that the variable `favourite` has something assigned to it in any case."
   ]
  },
  {
   "cell_type": "code",
   "execution_count": 16,
   "metadata": {},
   "outputs": [
    {
     "name": "stdout",
     "output_type": "stream",
     "text": [
      "sorry mate, you don't have that many friends :/\n"
     ]
    }
   ],
   "source": [
    "N = 3\n",
    "my_friends = ['Alice', 'Bob', 'Eve']\n",
    "try:\n",
    "    favourite = my_friends[N]  # <--------\n",
    "    print(favourite)\n",
    "except IndexError:\n",
    "    print(\"sorry mate, you don't have that many friends :/\")\n"
   ]
  },
  {
   "cell_type": "markdown",
   "metadata": {},
   "source": [
    "#### 3\n",
    "\n",
    "From the list given below, create a new list containing only the first letter of each word using a list comprehension."
   ]
  },
  {
   "cell_type": "code",
   "execution_count": 43,
   "metadata": {},
   "outputs": [
    {
     "data": {
      "text/plain": [
       "['a', 'c', 'r', 'o', 'n', 'y', 'm']"
      ]
     },
     "execution_count": 43,
     "metadata": {},
     "output_type": "execute_result"
    }
   ],
   "source": [
    "words = ['another', 'cryptic', 'rendition', 'of', 'nomenclature', 'you', 'memorize']\n",
    "[i[0] for i in words]"
   ]
  },
  {
   "cell_type": "markdown",
   "metadata": {},
   "source": [
    "#### 4\n",
    "\n",
    "From the list given below, create a new list containing only the even integers using a list comprehension."
   ]
  },
  {
   "cell_type": "code",
   "execution_count": 72,
   "metadata": {},
   "outputs": [
    {
     "data": {
      "text/plain": [
       "[4, 6, 12, 14]"
      ]
     },
     "execution_count": 72,
     "metadata": {},
     "output_type": "execute_result"
    }
   ],
   "source": [
    "integers = [1, 3, 4, 5, 6, 7, 9, 12, 14, 15]\n",
    "[integers[i] for i in range(len(integers)) if integers[i]%2==0]"
   ]
  },
  {
   "cell_type": "markdown",
   "metadata": {},
   "source": [
    "#### 5\n",
    "\n",
    "Zip the two given lists from $\\mu$-exercises 3 and 4 together into another new list containing tuples."
   ]
  },
  {
   "cell_type": "code",
   "execution_count": 68,
   "metadata": {},
   "outputs": [],
   "source": [
    "zipped =list(zip(words,integers))"
   ]
  },
  {
   "cell_type": "markdown",
   "metadata": {},
   "source": [
    "#### 6\n",
    "\n",
    "From the tuples list in $\\mu$-exercise 5, create a dictionary with the integers as keys, and the letters as values using dict-comprehension."
   ]
  },
  {
   "cell_type": "code",
   "execution_count": 82,
   "metadata": {},
   "outputs": [
    {
     "name": "stdout",
     "output_type": "stream",
     "text": [
      "{1: 'another', 3: 'cryptic', 4: 'rendition', 5: 'of', 6: 'nomenclature', 7: 'you', 9: 'memorize'}\n"
     ]
    }
   ],
   "source": [
    "dictionary={zipped[i][1] : zipped[i][0]\n",
    "            for i in range(len(zipped))}\n",
    "print(dictionary)"
   ]
  },
  {
   "cell_type": "markdown",
   "metadata": {},
   "source": [
    "#### 7\n",
    "\n",
    "Print a list of all files in your user-home directory."
   ]
  },
  {
   "cell_type": "code",
   "execution_count": 97,
   "metadata": {},
   "outputs": [
    {
     "ename": "NameError",
     "evalue": "name 'user_hme' is not defined",
     "output_type": "error",
     "traceback": [
      "\u001b[1;31m---------------------------------------------------------------------------\u001b[0m",
      "\u001b[1;31mNameError\u001b[0m                                 Traceback (most recent call last)",
      "\u001b[1;32m<ipython-input-97-8dfa5123e57b>\u001b[0m in \u001b[0;36m<module>\u001b[1;34m\u001b[0m\n\u001b[0;32m      2\u001b[0m \u001b[1;33m\u001b[0m\u001b[0m\n\u001b[0;32m      3\u001b[0m \u001b[0muser_home\u001b[0m \u001b[1;33m=\u001b[0m \u001b[0mos\u001b[0m\u001b[1;33m.\u001b[0m\u001b[0mpath\u001b[0m\u001b[1;33m.\u001b[0m\u001b[0mexpanduser\u001b[0m\u001b[1;33m(\u001b[0m\u001b[1;34m'~'\u001b[0m\u001b[1;33m)\u001b[0m\u001b[1;33m\u001b[0m\u001b[0m\n\u001b[1;32m----> 4\u001b[1;33m \u001b[0mos\u001b[0m\u001b[1;33m.\u001b[0m\u001b[0mlistdir\u001b[0m\u001b[1;33m(\u001b[0m\u001b[0mstr\u001b[0m\u001b[1;33m(\u001b[0m\u001b[0muser_hme\u001b[0m\u001b[1;33m)\u001b[0m\u001b[1;33m)\u001b[0m\u001b[1;33m\u001b[0m\u001b[0m\n\u001b[0m\u001b[0;32m      5\u001b[0m \u001b[1;33m\u001b[0m\u001b[0m\n\u001b[0;32m      6\u001b[0m \u001b[1;31m# Hint for Linux (probably also for Windows and OSX): user_home = os.path.expanduser('~')\u001b[0m\u001b[1;33m\u001b[0m\u001b[1;33m\u001b[0m\u001b[0m\n",
      "\u001b[1;31mNameError\u001b[0m: name 'user_hme' is not defined"
     ]
    }
   ],
   "source": [
    "import os\n",
    "\n",
    "user_home = os.path.expanduser('~')\n",
    "os.listdir(str(user_home))\n",
    "\n",
    "# Hint for Linux (probably also for Windows and OSX): user_home = os.path.expanduser('~')\n",
    "\n",
    "# Print a list of the home directory content."
   ]
  },
  {
   "cell_type": "markdown",
   "metadata": {},
   "source": [
    "# Task 1: Comprehensions"
   ]
  },
  {
   "cell_type": "markdown",
   "metadata": {},
   "source": [
    "## 1) Basic"
   ]
  },
  {
   "cell_type": "markdown",
   "metadata": {},
   "source": [
    "Generate a list containing all integer numbers from 1 to 100 and print it."
   ]
  },
  {
   "cell_type": "code",
   "execution_count": 109,
   "metadata": {},
   "outputs": [
    {
     "name": "stdout",
     "output_type": "stream",
     "text": [
      "[1, 2, 3, 4, 5, 6, 7, 8, 9, 10, 11, 12, 13, 14, 15, 16, 17, 18, 19, 20, 21, 22, 23, 24, 25, 26, 27, 28, 29, 30, 31, 32, 33, 34, 35, 36, 37, 38, 39, 40, 41, 42, 43, 44, 45, 46, 47, 48, 49, 50, 51, 52, 53, 54, 55, 56, 57, 58, 59, 60, 61, 62, 63, 64, 65, 66, 67, 68, 69, 70, 71, 72, 73, 74, 75, 76, 77, 78, 79, 80, 81, 82, 83, 84, 85, 86, 87, 88, 89, 90, 91, 92, 93, 94, 95, 96, 97, 98, 99, 100]\n"
     ]
    }
   ],
   "source": [
    "l = [i for i in (range(101)) if i>0] # Use a list comprehension.\n",
    "print(l)"
   ]
  },
  {
   "cell_type": "markdown",
   "metadata": {},
   "source": [
    "Define and fill a dictionary with a few *key:value* items. Then, generate a list that contains all the values of the dictionary, without using the ```values()``` function. Use a list comprehension instead and check your implementation by printing it."
   ]
  },
  {
   "cell_type": "code",
   "execution_count": 116,
   "metadata": {},
   "outputs": [
    {
     "name": "stdout",
     "output_type": "stream",
     "text": [
      "['cheese', 'some more cheese', 'old cheese', 'sorry, cheese is all we have apprently']\n"
     ]
    }
   ],
   "source": [
    "d = {\"3\" : \"cheese\", \"5\" : \"some more cheese\", \"4\" : \"old cheese\", \"90\": \"sorry, cheese is all we have apprently\"} # Fill the dictionary with something\n",
    "values = [value for (key,value) in d.items()] # List comprehension here\n",
    "print(values)"
   ]
  },
  {
   "cell_type": "markdown",
   "metadata": {},
   "source": [
    "## 2) Conditions"
   ]
  },
  {
   "cell_type": "markdown",
   "metadata": {},
   "source": [
    "_Hint:_ Here two different types of `if` statements will be used. One is used to define a condition for filtering (`[... for x in range if x == ...]`). The other is an _inline_ `if`/`else` expression for generating output values (`[ 'A' if someCondition else 'B' for ... in ... ]`).\n"
   ]
  },
  {
   "cell_type": "markdown",
   "metadata": {},
   "source": [
    "Generate a list containing all integer numbers from 1 to 100 that can be divided by 5 and print it. _Note:_ use an ```if``` statement and no more than 2 arguments for the ```range``` function."
   ]
  },
  {
   "cell_type": "code",
   "execution_count": 124,
   "metadata": {},
   "outputs": [
    {
     "name": "stdout",
     "output_type": "stream",
     "text": [
      "[5, 10, 15, 20, 25, 30, 35, 40, 45, 50, 55, 60, 65, 70, 75, 80, 85, 90, 95, 100]\n"
     ]
    }
   ],
   "source": [
    "l = [i for i in range(1,101) if i%5==0] # List comprehension with `range` and `if`,\n",
    "print(l)"
   ]
  },
  {
   "cell_type": "markdown",
   "metadata": {},
   "source": [
    "Generate a list containing all integer numbers from 1 to 100. If the number can be divided by 5, replace the number with ```-1```; if the number cannot be divided by 5, replace the number with ```False```. Print the resulting list.\n",
    "\n",
    "_Note:_ Using a list comprehension, this can fit in two lines (one for generation of the list and one for printing it)."
   ]
  },
  {
   "cell_type": "code",
   "execution_count": 136,
   "metadata": {},
   "outputs": [
    {
     "name": "stdout",
     "output_type": "stream",
     "text": [
      "[False, False, False, False, -1, False, False, False, False, -1, False, False, False, False, -1, False, False, False, False, -1, False, False, False, False, -1, False, False, False, False, -1, False, False, False, False, -1, False, False, False, False, -1, False, False, False, False, -1, False, False, False, False, -1, False, False, False, False, -1, False, False, False, False, -1, False, False, False, False, -1, False, False, False, False, -1, False, False, False, False, -1, False, False, False, False, -1, False, False, False, False, -1, False, False, False, False, -1, False, False, False, False, -1, False, False, False, False, -1]\n"
     ]
    }
   ],
   "source": [
    "l = [-1 if i%5 == 0 else False for i in range(1,101)] # List comprehension with in-line `if`\n",
    "print(l)"
   ]
  },
  {
   "cell_type": "markdown",
   "metadata": {},
   "source": [
    "## 3) Generators (optional & advanced)\n",
    "\n",
    "Create a generator function to generate an infinite sequence of the Fibonacci numbers.\n",
    "\n",
    "The Fibonacci sequence is defined as follows: `fib(0) = 0`, `fib(1) = 1`, `fib(n) = fib(n-1) + fib(n-2)`"
   ]
  },
  {
   "cell_type": "code",
   "execution_count": null,
   "metadata": {},
   "outputs": [],
   "source": [
    "def fib():\n",
    "    n_minus_1 = 1\n",
    "    n_minus_2 = 0\n",
    "    \n",
    "    # Manually yield the first two values.\n",
    "    yield n_minus_2\n",
    "    yield n_minus_1\n",
    "    \n",
    "    while True:\n",
    "        # Compute the next value, yield it and update n_minus_1 and n_minus_2.\n",
    "        yield '...'\n",
    "    \n",
    "fib_instance = fib()\n",
    "    \n",
    "for _ in range(12):\n",
    "    print(next(fib_instance))"
   ]
  },
  {
   "cell_type": "markdown",
   "metadata": {},
   "source": [
    "Create a generator function `take` which takes as arguments non-negative integer `n` and another input sequence `s`. The generator should yield the elements of `s`. After `n` elements have been yielded or the end of `s` is reached the generator should stop.\n",
    "\n",
    "Use this to create a list of the first 20 Fibonacci number."
   ]
  },
  {
   "cell_type": "code",
   "execution_count": null,
   "metadata": {},
   "outputs": [],
   "source": [
    "def take(n: int, s):\n",
    "    \"\"\"\n",
    "    Yield the first n elements of s.\n",
    "    \"\"\"\n",
    "    assert n >= 0\n",
    "    \n",
    "    yield 'TODO'\n",
    "\n",
    "# Use the take function to 'take' the first 20 elements of a Fibonacci sequence generator.\n",
    "fib_20 = list(\n",
    "    take(20, fib())\n",
    ")\n",
    "print(fib_20)\n",
    "\n",
    "assert len(fib_20) == 20, \"Length of output is not 20!\""
   ]
  },
  {
   "cell_type": "markdown",
   "metadata": {},
   "source": [
    "Now create a similar generator function `skip` which takes as argments again a non-negative integer `n` and a sequence `s`. This generator should skip the first `n` elements of `s` and then yield all following elements of `s` until `s` ends.\n",
    "\n",
    "Hint: One way to solve this is to use the `enumerate` function to get sequence items together with their index. Then elements can be returned conditionally on their index. (A better way to achive this would be to use `iter` to create an iterator object of the sequence because `enumerate` will theoretically not work for infinite sequences. However, this was never covered in the lecture).\n",
    "\n",
    "Use this generator to print the 100th until the 120th fibonacci number."
   ]
  },
  {
   "cell_type": "code",
   "execution_count": null,
   "metadata": {},
   "outputs": [],
   "source": [
    "\n",
    "def skip(n: int, s):\n",
    "    \"\"\"\n",
    "    Skip the first n elements of s, then yield all following ones until the end of s.\n",
    "    \"\"\"\n",
    "    assert n >= 0\n",
    "    \n",
    "    yield 'TODO'\n",
    "\n",
    "# Get the 100th until 120th Fibonacci number.\n",
    "fib_100_120 = list(\n",
    "    # Insert a combination of take and skip here!\n",
    ")\n",
    "\n",
    "print(fib_100_120)\n",
    "assert len(fib_100_120) == 20, \"Length of output is not 20!\""
   ]
  },
  {
   "cell_type": "markdown",
   "metadata": {},
   "source": [
    "# Task 2: File IO\n",
    "\n",
    "In the presentation we have seen how to manipulate files and to import them into Python datastructures. \n"
   ]
  },
  {
   "cell_type": "markdown",
   "metadata": {},
   "source": [
    "## 1) Telephone directory\n",
    "### 1. Giving people numbers\n",
    "Read the file `example-people.csv` from the lecture into Python. For each person, generate a random telephone number starting with 079. Save the resulting list of people in CSV format into a new file. \n",
    "\n",
    "**Hints:** \n",
    "\n",
    "i) For generating random numbers use:\n",
    "\n",
    "```python\n",
    "import random\n",
    "random_number = random.randint(0, 10)\n",
    "```\n",
    "\n",
    "ii) To make your life easier, consider using the `csv` module.\n",
    "\n",
    "iii) It might be easier using relative (and not absolute) paths to access the file.\n",
    "\n",
    "iv) Contrary to the obvious choice of integers, telephone numbers are best stored as strings since they start with a 0."
   ]
  },
  {
   "cell_type": "code",
   "execution_count": 38,
   "metadata": {},
   "outputs": [
    {
     "ename": "TypeError",
     "evalue": "'DictReader' object is not subscriptable",
     "output_type": "error",
     "traceback": [
      "\u001b[1;31m---------------------------------------------------------------------------\u001b[0m",
      "\u001b[1;31mTypeError\u001b[0m                                 Traceback (most recent call last)",
      "\u001b[1;32m<ipython-input-38-79ac5b9045d8>\u001b[0m in \u001b[0;36m<module>\u001b[1;34m\u001b[0m\n\u001b[0;32m     15\u001b[0m     \u001b[0mwriter\u001b[0m \u001b[1;33m=\u001b[0m \u001b[0mcsv\u001b[0m\u001b[1;33m.\u001b[0m\u001b[0mDictWriter\u001b[0m\u001b[1;33m(\u001b[0m\u001b[0mppl\u001b[0m\u001b[1;33m,\u001b[0m \u001b[1;33m[\u001b[0m\u001b[1;34m'First Name'\u001b[0m\u001b[1;33m,\u001b[0m\u001b[1;34m'Last Name'\u001b[0m\u001b[1;33m,\u001b[0m\u001b[1;34m'Country'\u001b[0m\u001b[1;33m,\u001b[0m\u001b[1;34m'age'\u001b[0m\u001b[1;33m,\u001b[0m\u001b[1;34m'number'\u001b[0m\u001b[1;33m]\u001b[0m\u001b[1;33m)\u001b[0m\u001b[1;33m\u001b[0m\u001b[0m\n\u001b[0;32m     16\u001b[0m     \u001b[0mwriter\u001b[0m\u001b[1;33m.\u001b[0m\u001b[0mwriteheader\u001b[0m\u001b[1;33m(\u001b[0m\u001b[1;33m)\u001b[0m\u001b[1;33m\u001b[0m\u001b[0m\n\u001b[1;32m---> 17\u001b[1;33m     \u001b[0mwriter\u001b[0m\u001b[1;33m.\u001b[0m\u001b[0mwriterow\u001b[0m\u001b[1;33m(\u001b[0m\u001b[1;33m{\u001b[0m\u001b[1;34m'First Name'\u001b[0m\u001b[1;33m:\u001b[0m \u001b[0mreader\u001b[0m\u001b[1;33m[\u001b[0m\u001b[1;34m'First Name'\u001b[0m\u001b[1;33m]\u001b[0m\u001b[1;33m}\u001b[0m\u001b[1;33m)\u001b[0m\u001b[1;33m\u001b[0m\u001b[0m\n\u001b[0m\u001b[0;32m     18\u001b[0m     \u001b[1;32mfor\u001b[0m \u001b[0mi\u001b[0m \u001b[1;32min\u001b[0m \u001b[0mrange\u001b[0m\u001b[1;33m(\u001b[0m\u001b[1;36m7\u001b[0m\u001b[1;33m)\u001b[0m\u001b[1;33m:\u001b[0m\u001b[1;33m\u001b[0m\u001b[0m\n\u001b[0;32m     19\u001b[0m         \u001b[0mran\u001b[0m\u001b[1;33m=\u001b[0m\u001b[0mrand\u001b[0m\u001b[1;33m(\u001b[0m\u001b[1;33m)\u001b[0m\u001b[1;33m\u001b[0m\u001b[0m\n",
      "\u001b[1;31mTypeError\u001b[0m: 'DictReader' object is not subscriptable"
     ]
    }
   ],
   "source": [
    "import os\n",
    "import random\n",
    "import csv\n",
    "\n",
    "os.path.abspath(\"Lecture_04_comprehensions_file-io\")\n",
    "\n",
    "def rand():\n",
    "    return str(random.randint(10000000,99999999))\n",
    "with open('example-people.csv', newline='') as re:\n",
    "    reader = csv.DictReader(re)\n",
    "    for row in reader:\n",
    "        print(row['First Name'],row['Last Name'],row['Country'],row['age'])\n",
    "###############################################################################\n",
    "with open('example-people.csv', 'w', newline='') as ppl:\n",
    "    writer = csv.DictWriter(ppl, ['First Name','Last Name','Country','age','number'])\n",
    "    writer.writeheader()\n",
    "    writer.writerow({'First Name': reader['First Name']})\n",
    "    for i in range(7):\n",
    "        ran=rand()\n",
    "        writer.writerow({'number':\"079\"+ran})\n",
    "###############################################################################3        \n",
    "with open('example-people.csv', newline='') as re:\n",
    "    reader = csv.DictReader(re)\n",
    "    for row in reader:\n",
    "        print(row['First Name'],row['Last Name'],row['Country'],row['age'],row['number'])"
   ]
  },
  {
   "cell_type": "markdown",
   "metadata": {},
   "source": [
    "### 2. Giving people genders\n",
    "\n",
    "Extend your \"Telephone directory\" by a new column called `gender`. Determine for each entry if the person is `male` or `female` (where possible) using the file `names.csv` and save your updated \"telephone directory\" in a new file `telephone-directory.csv`.\n",
    "\n",
    "**Hints**: \n",
    "\n",
    "i) Make sure your \"telephone directory\" is consistent by not leaving the column `gender` empty, if the gender cannot be determined. Find a suitable value to put if you don't.\n",
    "\n",
    "ii) Note that `names.csv` uses a different separator for the columns than `example-people.csv`. The `csv` module has suitable functionality to handle this via the `csv.reader` class."
   ]
  },
  {
   "cell_type": "code",
   "execution_count": null,
   "metadata": {},
   "outputs": [],
   "source": []
  },
  {
   "cell_type": "markdown",
   "metadata": {},
   "source": [
    "## 2) Make your store persistent\n",
    "Take the code from your item store program from Exercise 2 and modify it that the state of the store program (i.e. what items it has, the money in your and the stores wallet, etc...) is saved into a file when when exiting the program. Read in the file when re-entering the store, so you can continue where you left off.\n",
    "\n",
    "**Hints:**\n",
    "\n",
    "i) Use the `json` module to easily store lists and dicts in files.\n",
    "\n",
    "ii) Take care that your program does not crash, even if errors happen with file reading / writing."
   ]
  },
  {
   "cell_type": "code",
   "execution_count": null,
   "metadata": {},
   "outputs": [],
   "source": []
  }
 ],
 "metadata": {
  "kernelspec": {
   "display_name": "Python 3",
   "language": "python",
   "name": "python3"
  },
  "language_info": {
   "codemirror_mode": {
    "name": "ipython",
    "version": 3
   },
   "file_extension": ".py",
   "mimetype": "text/x-python",
   "name": "python",
   "nbconvert_exporter": "python",
   "pygments_lexer": "ipython3",
   "version": "3.7.0"
  }
 },
 "nbformat": 4,
 "nbformat_minor": 2
}
