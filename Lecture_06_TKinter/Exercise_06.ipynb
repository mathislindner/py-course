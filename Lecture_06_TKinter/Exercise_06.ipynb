{
 "cells": [
  {
   "cell_type": "markdown",
   "metadata": {},
   "source": [
    "## $\\mu$-exercises\n",
    "\n",
    "#### 1\n",
    "\n",
    "Modify and test the `CalendarWithClock` example given below by adding the *year* attribute to the Calendar class. Then let the `CalendarWithClock` class inherit this new attribute."
   ]
  },
  {
   "cell_type": "code",
   "execution_count": null,
   "metadata": {},
   "outputs": [],
   "source": [
    "# The \"CalendarWithClock\" example.\n",
    "# This example shows that it is possible to inherit \n",
    "# from more than one class, in which case all the \n",
    "# Attributes and all Methods are inherited together \n",
    "# as illustrated below.\n",
    "\n",
    "# First parent class.\n",
    "class Calendar:\n",
    "    def __init__(self, month, day):\n",
    "        self.month = month\n",
    "        self.day = day\n",
    "    def calibrate_calendar(self):\n",
    "        self.month = 3\n",
    "        self.day = 25\n",
    "\n",
    "# Second parent class.\n",
    "class Clock:\n",
    "    def __init__(self, hours, minutes):\n",
    "        self.hours = hours\n",
    "        self.minutes = minutes\n",
    "    def calibrate_clock(self):\n",
    "        self.hours = 14\n",
    "        self.minutes = 37\n",
    "        \n",
    "# Child class with two parents.       \n",
    "class CalendarWithClock(Calendar, Clock):\n",
    "    def __init__(self, month = 0, day = 0, hours = 0, minutes = 0):\n",
    "        # Notice that `super()` cannot be used in the same way as when inheriting from one class only.\n",
    "        # It is now not clear anymore which is *the* super-class.\n",
    "        # Therefore the super-class has to be specified as follows:\n",
    "        Calendar.__init__(self, month, day)\n",
    "        Clock.__init__(self, hours, minutes)\n",
    "    def now(self):  # This is a new method added on top of the inherited methods.\n",
    "        print('month: '+str(self.month)+', day: '+str(self.day)+', time: '+str(self.hours)+':'+str(self.minutes))\n",
    "        \n",
    "# Create an instance.    \n",
    "MyNewAgenda = CalendarWithClock()\n",
    "\n",
    "# Tests.\n",
    "MyNewAgenda.now()  # This prints the first line with default values.\n",
    "MyNewAgenda.calibrate_calendar()  # this method is inherited form the Calendar class.\n",
    "MyNewAgenda.now()\n",
    "MyNewAgenda.calibrate_clock()  # This method is inherited from the Clock class.\n",
    "MyNewAgenda.now()"
   ]
  },
  {
   "cell_type": "code",
   "execution_count": null,
   "metadata": {},
   "outputs": [],
   "source": [
    "# Solution:\n"
   ]
  },
  {
   "cell_type": "markdown",
   "metadata": {},
   "source": [
    "#### 2\n",
    "Create a label and change its properties such that its design satisfies your personal taste:"
   ]
  },
  {
   "cell_type": "code",
   "execution_count": null,
   "metadata": {},
   "outputs": [],
   "source": []
  },
  {
   "cell_type": "markdown",
   "metadata": {},
   "source": [
    "\n",
    "#### 3\n",
    "Create a GUI which contains a field for inserting some text (e.g. the \"Entry\" widget), a button and a place for printing text (for example the \"Label\" widget). When the button is pressed, the text from the input window should appear on the output window.\n"
   ]
  },
  {
   "cell_type": "code",
   "execution_count": null,
   "metadata": {},
   "outputs": [],
   "source": []
  },
  {
   "cell_type": "markdown",
   "metadata": {
    "collapsed": true
   },
   "source": [
    "# Exercise 1: A simple calculator\n",
    "Create a simple calculator using the `pack()` geometry manager which can perform three operations on single numbers, such as calculating the inverse, the square or the root. The text shall be entered by pressing the operation button on the GUI. An example of how this calculator could look like is given in the last lecture slide.\n",
    "\n"
   ]
  },
  {
   "cell_type": "code",
   "execution_count": null,
   "metadata": {},
   "outputs": [],
   "source": []
  },
  {
   "cell_type": "markdown",
   "metadata": {},
   "source": [
    "# Exercise 2: Change the calculator code such as to use the `grid()` method instead than the `pack()` method."
   ]
  },
  {
   "cell_type": "code",
   "execution_count": null,
   "metadata": {},
   "outputs": [],
   "source": [
    "\n",
    "        "
   ]
  }
 ],
 "metadata": {
  "kernelspec": {
   "display_name": "Python 3",
   "language": "python",
   "name": "python3"
  },
  "language_info": {
   "codemirror_mode": {
    "name": "ipython",
    "version": 3
   },
   "file_extension": ".py",
   "mimetype": "text/x-python",
   "name": "python",
   "nbconvert_exporter": "python",
   "pygments_lexer": "ipython3",
   "version": "3.7.3"
  }
 },
 "nbformat": 4,
 "nbformat_minor": 2
}
