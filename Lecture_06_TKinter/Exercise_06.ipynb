{
 "cells": [
  {
   "cell_type": "markdown",
   "metadata": {},
   "source": [
    "## $\\mu$-exercises\n",
    "\n",
    "#### 1\n",
    "\n",
    "Modify and test the `CalendarWithClock` example given below by adding the *year* attribute to the Calendar class. Then let the `CalendarWithClock` class inherit this new attribute."
   ]
  },
  {
   "cell_type": "code",
   "execution_count": 4,
   "metadata": {},
   "outputs": [
    {
     "name": "stdout",
     "output_type": "stream",
     "text": [
      "year: 0, month: 0, day: 0, time: 0:0\n",
      "year: 2020, month: 3, day: 25, time: 0:0\n",
      "year: 2020, month: 3, day: 25, time: 14:37\n"
     ]
    }
   ],
   "source": [
    "# The \"CalendarWithClock\" example.\n",
    "# This example shows that it is possible to inherit \n",
    "# from more than one class, in which case all the \n",
    "# Attributes and all Methods are inherited together \n",
    "# as illustrated below.\n",
    "\n",
    "# First parent class.\n",
    "class Calendar:\n",
    "    def __init__(self, year, month, day):\n",
    "        self.year = year\n",
    "        self.month = month\n",
    "        self.day = day\n",
    "    def calibrate_calendar(self):\n",
    "        self.year = 2020\n",
    "        self.month = 3\n",
    "        self.day = 25\n",
    "\n",
    "# Second parent class.\n",
    "class Clock:\n",
    "    def __init__(self, hours, minutes):\n",
    "        self.hours = hours\n",
    "        self.minutes = minutes\n",
    "    def calibrate_clock(self):\n",
    "        self.hours = 14\n",
    "        self.minutes = 37\n",
    "        \n",
    "# Child class with two parents.       \n",
    "class CalendarWithClock(Calendar, Clock):\n",
    "    def __init__(self, year = 0, month = 0, day = 0, hours = 0, minutes = 0):\n",
    "        # Notice that `super()` cannot be used in the same way as when inheriting from one class only.\n",
    "        # It is now not clear anymore which is *the* super-class.\n",
    "        # Therefore the super-class has to be specified as follows:\n",
    "        Calendar.__init__(self, year, month, day)\n",
    "        Clock.__init__(self, hours, minutes)\n",
    "    def now(self):  # This is a new method added on top of the inherited methods.\n",
    "        print('year: '+ str(self.year) + ', month: '+str(self.month)+', day: '+str(self.day)+', time: '+str(self.hours)+':'+str(self.minutes))\n",
    "        \n",
    "# Create an instance.    \n",
    "MyNewAgenda = CalendarWithClock()\n",
    "\n",
    "# Tests.\n",
    "MyNewAgenda.now()  # This prints the first line with default values.\n",
    "MyNewAgenda.calibrate_calendar()  # this method is inherited form the Calendar class.\n",
    "MyNewAgenda.now()\n",
    "MyNewAgenda.calibrate_clock()  # This method is inherited from the Clock class.\n",
    "MyNewAgenda.now()"
   ]
  },
  {
   "cell_type": "code",
   "execution_count": null,
   "metadata": {},
   "outputs": [],
   "source": [
    "# Solution: above\n"
   ]
  },
  {
   "cell_type": "markdown",
   "metadata": {},
   "source": [
    "#### 2\n",
    "Create a label and change its properties such that its design satisfies your personal taste:"
   ]
  },
  {
   "cell_type": "code",
   "execution_count": 15,
   "metadata": {},
   "outputs": [],
   "source": [
    "import tkinter\n",
    "\n",
    "main= tkinter.Tk()\n",
    "\n",
    "def end():\n",
    "    main.destroy()\n",
    "    \n",
    "label = tkinter.Label(main, text =\"This is a cool Label!\")\n",
    "label[\"font\"] = \"Comic_Sans 50 bold\"\n",
    "label[\"height\"] = 5\n",
    "label[\"width\"] = 30\n",
    "label[\"borderwidth\"] = 3 \n",
    "label[\"bg\"] = \"#0000FF\"  # Background color. Hexadecimal #000000 is black. #FFFFFF is white.\n",
    "label[\"fg\"] = \"#FF0000\"  # Foreground color.\n",
    "label[\"anchor\"] = \"n\" # Alignment, \"w\" stays for \"west\". Allowed: n,e,s,w,ne,nw,... .\n",
    "\n",
    "label.pack()\n",
    "\n",
    "main.mainloop()"
   ]
  },
  {
   "cell_type": "markdown",
   "metadata": {},
   "source": [
    "\n",
    "#### 3\n",
    "Create a GUI which contains a field for inserting some text (e.g. the \"Entry\" widget), a button and a place for printing text (for example the \"Label\" widget). When the button is pressed, the text from the input window should appear on the output window.\n"
   ]
  },
  {
   "cell_type": "code",
   "execution_count": 28,
   "metadata": {},
   "outputs": [],
   "source": [
    "import tkinter\n",
    "\n",
    "def button_pressed():\n",
    "    entered_text = my_entry.get()\n",
    "    print_window = tkinter.Tk()\n",
    "    my_label = tkinter.Label(print_window)\n",
    "    my_label[\"font\"] = \"Courier 40 bold\"\n",
    "    my_label[\"text\"] = str(entered_text)\n",
    "    my_label.pack()\n",
    "    \n",
    "main = tkinter.Tk() \n",
    "    \n",
    "\n",
    "#field\n",
    "my_entry = tkinter.Entry(main)\n",
    "my_entry[\"font\"] = \"Courier 30 bold\"\n",
    "#button\n",
    "my_button = tkinter.Button(main, font = \"Courier 18 bold\", text = \"Print!\", command = button_pressed) \n",
    "\n",
    "\n",
    "my_entry.pack()\n",
    "my_button.pack()\n",
    "main.mainloop()\n",
    "\n"
   ]
  },
  {
   "cell_type": "markdown",
   "metadata": {
    "collapsed": true
   },
   "source": [
    "# Exercise 1: A simple calculator\n",
    "Create a simple calculator using the `pack()` geometry manager which can perform three operations on single numbers, such as calculating the inverse, the square or the root. The text shall be entered by pressing the operation button on the GUI. An example of how this calculator could look like is given in the last lecture slide.\n",
    "\n"
   ]
  },
  {
   "cell_type": "code",
   "execution_count": 35,
   "metadata": {},
   "outputs": [],
   "source": [
    "import tkinter\n",
    "import math\n",
    "\n",
    "def inv():\n",
    "    n = float(my_entry.get())\n",
    "    result = 1/n\n",
    "    my_label[\"text\"] = str(result)\n",
    "    my_entry.insert(0, \"\")\n",
    "    \n",
    "def sqr():\n",
    "    n = float(my_entry.get())\n",
    "    result = n**2\n",
    "    my_label[\"text\"] = str(result)\n",
    "    \n",
    "def sqrt():\n",
    "    n = float(my_entry.get())\n",
    "    result = math.sqrt(n)\n",
    "    my_label[\"text\"] = str(result)\n",
    "    \n",
    "    \n",
    "    \n",
    "main = tkinter.Tk() \n",
    "\n",
    "#field\n",
    "my_entry = tkinter.Entry(main)\n",
    "my_entry[\"font\"] = \"Courier 30 bold\"\n",
    "#buttons\n",
    "sqr = tkinter.Button(main, font = \"Courier 18 bold\", text = \"squared\", command = sqr)\n",
    "sqrt = tkinter.Button(main, font = \"Courier 18 bold\", text = \"squareroot\", command = sqrt)\n",
    "inv = tkinter.Button(main, font = \"Courier 18 bold\", text = \"inverse\", command = inv)\n",
    "#label\n",
    "my_label = tkinter.Label(main)\n",
    "my_label[\"font\"] = \"Courier 40 bold\"\n",
    "\n",
    "\n",
    "my_entry.pack()\n",
    "sqr.pack()\n",
    "sqrt.pack()\n",
    "inv.pack()\n",
    "my_label.pack()\n",
    "main.mainloop()\n"
   ]
  },
  {
   "cell_type": "markdown",
   "metadata": {},
   "source": [
    "# Exercise 2: Change the calculator code such as to use the `grid()` method instead than the `pack()` method."
   ]
  },
  {
   "cell_type": "code",
   "execution_count": 39,
   "metadata": {},
   "outputs": [],
   "source": [
    "import tkinter\n",
    "import math\n",
    "\n",
    "def inv():\n",
    "    n = float(my_entry.get())\n",
    "    result = 1/n\n",
    "    my_label[\"text\"] = str(result)\n",
    "    my_entry.insert(0, \"\")\n",
    "    \n",
    "def sqr():\n",
    "    n = float(my_entry.get())\n",
    "    result = n**2\n",
    "    my_label[\"text\"] = str(result)\n",
    "    \n",
    "def sqrt():\n",
    "    n = float(my_entry.get())\n",
    "    result = math.sqrt(n)\n",
    "    my_label[\"text\"] = str(result)\n",
    "    \n",
    "    \n",
    "    \n",
    "main = tkinter.Tk() \n",
    "\n",
    "#field\n",
    "my_entry = tkinter.Entry(main)\n",
    "my_entry[\"font\"] = \"Courier 10\"\n",
    "my_entry.grid(row = 0, columnspan = 3, sticky =\"ne\")\n",
    "#label\n",
    "my_label = tkinter.Label(main)\n",
    "my_label[\"font\"] = \"Courier 10\"\n",
    "#button\n",
    "tkinter.Button(main, text = \"squared\", command = sqr).grid(row = 1, column = 0)\n",
    "tkinter.Button(main, text = \"squareroot\", command = sqrt).grid(row = 1, column = 1)\n",
    "tkinter.Button(main, text = \"inverse\", command = inv).grid(row = 1, column = 2)\n",
    "my_label.grid(row = 2, columnspan = 3, sticky =\"ne\")\n",
    "\n",
    "\n",
    "main.mainloop()"
   ]
  }
 ],
 "metadata": {
  "kernelspec": {
   "display_name": "Python 3",
   "language": "python",
   "name": "python3"
  },
  "language_info": {
   "codemirror_mode": {
    "name": "ipython",
    "version": 3
   },
   "file_extension": ".py",
   "mimetype": "text/x-python",
   "name": "python",
   "nbconvert_exporter": "python",
   "pygments_lexer": "ipython3",
   "version": "3.7.0"
  }
 },
 "nbformat": 4,
 "nbformat_minor": 2
}
