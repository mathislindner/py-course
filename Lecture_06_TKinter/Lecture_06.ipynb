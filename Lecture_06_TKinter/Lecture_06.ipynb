{
 "cells": [
  {
   "cell_type": "markdown",
   "metadata": {},
   "source": [
    "# Notes about this lecture\n",
    "Because of the Corona virus outbreak, this lecture will not be held in the classroom but online only. Further, the lecture will only be available in this written form. In order to offer support for the students we will use the gitlab issue tracker as a question & answer forum: https://git.ee.ethz.ch/python-for-engineers/class-fs20-forum and individual videoconference sessions when needed.\n",
    "\n",
    "## Software\n",
    "\n",
    "### Necessary software\n",
    "Please install the following tools:\n",
    "* python3 (https://www.python.org/downloads/ version 3.8.2 is fine.\n",
    "Python is a prerequisite for jupyter)\n",
    "* jupyter-notebook (https://jupyter.org/install.html)\n",
    "* **Hint for Windows and OSX**: Try to install conda or miniconda (https://docs.conda.io/en/latest/miniconda.html) first. This will install Python and jupyter-notebook automatically.\n",
    "\n",
    "### Optional (but highly recommended) software\n",
    "* git (https://git-scm.com/download/). Git is harder to install but not strictly necessary. **Hint**: On Windows Git will automatically install a Linux compatible shell which can then be found as 'Git BASH'.\n",
    "* If git is not available, solutions shall be uploaded on https://polybox.ethz.ch instead and the folder shall be shared with the lecturers. \n",
    "\n",
    "## Support\n",
    "**For any issues please use the forum** at: https://git.ee.ethz.ch/python-for-engineers/class-fs20-forum and follow the instructions therein. In case of need, we will open a room on https://jitsi.riot.im/ and share the audio, video or the screen: make sure you have a microphone and speakers functioning. \n",
    "\n",
    "This service is offered only **during the normal lecture hours**."
   ]
  },
  {
   "cell_type": "markdown",
   "metadata": {},
   "source": [
    "# Obtaining the material for this lecture\n",
    "### If git is available on your system (preferred option)\n",
    "Pull the new material from the upstream repository:\n",
    "\n",
    "```bash\n",
    "cd class-fs20\n",
    "git pull upstream master\n",
    "```\n",
    "\n",
    "Then launch the jupyter-notebook and open the Lecture_XX file:\n",
    "\n",
    "```bash\n",
    "anaconda # Only on ETH computers to load the Python environment.\n",
    "jupyter-notebook &\n",
    "```\n",
    "\n",
    "### If git is **not** available on your system\n",
    "Download the latest material from:\n",
    "https://git.ee.ethz.ch/python-for-engineers/class-fs20/-/archive/master/class-fs20-master.zip\n",
    "and unpack it on your computer."
   ]
  },
  {
   "cell_type": "markdown",
   "metadata": {},
   "source": [
    "# Summary of previous lecture\n",
    "\n",
    "Please open the jupyter-notebook of the past lecture and read through it. This will help fixing the learned notions into the long-term memory."
   ]
  },
  {
   "cell_type": "markdown",
   "metadata": {},
   "source": [
    "### ✏️ $\\mu$-exercise\n",
    "\n",
    "After having refreshed the last lecture, please switch to the Exercise notebook and complete $\\mu$-exercise **1**."
   ]
  },
  {
   "cell_type": "markdown",
   "metadata": {},
   "source": [
    "# Graphical User Interfaces (GUIs): Tkinter\n",
    "\n",
    "## Most common cross-platform GUIs in python \n",
    "* PyQT (pronounced “Py cute”) \n",
    "    * is a Python binding of the Qt application framework\n",
    "    * developed by the Finnish “The Qt Company”\n",
    "    * multiple licenses, different GPL version and commercial. Used by KLayout.de.\n",
    "    \n",
    "* wxPython\n",
    "    * binding to wxWidgets\n",
    "    * License: own licenses compatible with GPL and proprietary software\n",
    "\n",
    "* pyGTK\n",
    "    * binding to Gimp-Toolkit (GTK+)\n",
    "    * originally created to develop Gimp\n",
    "    * license: LGPL\n",
    "\n"
   ]
  },
  {
   "cell_type": "markdown",
   "metadata": {},
   "source": [
    "## Python’s interface to Tk: Tkinter\n",
    "* Tkinter (Tk interface) is a Python binding to Tk.\n",
    "* It comes pre-installed with standard python installations in Linux, Microsoft and Max OS X.\n",
    "* License: Python license (free software).\n",
    "* tkinter is the **standard GUI in python**."
   ]
  },
  {
   "cell_type": "markdown",
   "metadata": {},
   "source": [
    "## Introduction to how GUIs work\n",
    "* The creation of a Graphical User Interface (GUI) generally involves three steps:\n",
    "    1. the creation of a **main window** containing all graphical elements\n",
    "    1. the creation and the placement of individual **graphical elements** within the main window\n",
    "    1. starting of an **endless loop** which makes sure that the program can **react** (seamlessly instantaneously) to the stimuli of the user over the GUI"
   ]
  },
  {
   "cell_type": "markdown",
   "metadata": {},
   "source": [
    "## Tkinter from the command line\n",
    "Notice: Tkinter is **not fully supported** by Jupyter notebooks (an example is given below).\n",
    "\n",
    "To edit a python file, use your favourite editor such as:\n",
    "    * gedit myFile.py &\n",
    "\n",
    "To execute the code, run in the terminal:\n",
    "    * python3 myFile.py &\n",
    "  "
   ]
  },
  {
   "cell_type": "markdown",
   "metadata": {},
   "source": [
    "## A first Tkinter program"
   ]
  },
  {
   "cell_type": "code",
   "execution_count": null,
   "metadata": {},
   "outputs": [],
   "source": [
    "# Import the tkinter module.\n",
    "import tkinter\n",
    "\n",
    "# Create main window object.\n",
    "main = tkinter.Tk()  # Creating an instance of the `Tk()` object.\n",
    "\n",
    "# Define a simple function which destroys(closes) the main window.\n",
    "def end():\n",
    "    main.destroy()  # `destroy()` is part of the \"dialect\" of tkinter. It is a method of the Tk class.\n",
    "\n",
    "# With the help of the method `Button()` we create the object `my_button`.\n",
    "# The first parameter tells in which window the button shall be made,\n",
    "# the second parameter tells which text shall be inserted in the button,\n",
    "# the third parameter defines which function shall be executed when the button is pressed.\n",
    "# Notice: The function must be written **without** the parentheses: `end` instead of `end()`\n",
    "# because the function itself should be passed and not the evaluated function.\n",
    "my_button = tkinter.Button(main, text = \"End\", command = end)\n",
    "\n",
    "# On the object `my_button` the method `pack()` is called\n",
    "# which places the button inside the window according\n",
    "# to an algorithm explained later in the lecture.\n",
    "# If `pack()` is omitted, no button appears in the main window.\n",
    "my_button.pack()\n",
    "\n",
    "\n",
    "# Endless loop.\n",
    "# This function will wait for user inputs and react on them in a loop.\n",
    "main.mainloop()"
   ]
  },
  {
   "cell_type": "markdown",
   "metadata": {
    "collapsed": true
   },
   "source": [
    "The result appears differently in different operating systems, as it reflects the local standard appearance of the graphical elements."
   ]
  },
  {
   "cell_type": "markdown",
   "metadata": {},
   "source": [
    "## Looking for help\n",
    "Help can be found online at https://docs.python.org/3/library/tkinter.html\n",
    "\n",
    "or from the command line by typing:"
   ]
  },
  {
   "cell_type": "code",
   "execution_count": null,
   "metadata": {},
   "outputs": [],
   "source": [
    "import tkinter\n",
    "help(tkinter)\n",
    "# or for specific object:\n",
    "help(tkinter.Button)\n",
    "help(tkinter.Label)\n",
    "#..."
   ]
  },
  {
   "cell_type": "markdown",
   "metadata": {},
   "source": [
    "# Changing properties of tkinter objects\n",
    "In the example above, the properties of the button object, such as `text` or `command` where set when the instance was created. These properties however can also be set *after* the creation of the instance, and can be modified later on as illustrated in the example below."
   ]
  },
  {
   "cell_type": "code",
   "execution_count": null,
   "metadata": {},
   "outputs": [],
   "source": [
    "import tkinter\n",
    "\n",
    "main = tkinter.Tk()\n",
    "\n",
    "def end():\n",
    "      main.destroy()\n",
    "        \n",
    "# Set all properties at the time of creation of the object.\n",
    "button_1 = tkinter.Button(main, text = \"End 1\", command = end)\n",
    "\n",
    "# Create first a button object.\n",
    "button_2 = tkinter.Button(main)\n",
    "# THEN changing its properties:\n",
    "button_2[\"text\"] = \"End 2\"\n",
    "button_2[\"command\"] = end\n",
    "button_2[\"font\"] = \"Courier 24 italic\"\n",
    "\n",
    "# Alternative way of changing the properties of the button\n",
    "# using the method \"configure\":\n",
    "button_3 = tkinter.Button(main)\n",
    "button_3.configure(text = \"End 3\", command = end)\n",
    "\n",
    "# Pack the first three buttons.\n",
    "button_1.pack()\n",
    "button_2.pack()\n",
    "button_3.pack()\n",
    "\n",
    "# The method `pack()` can also be applied directly.\n",
    "tkinter.Button(main, text = \"End 4\", command = end).pack()\n",
    "\n",
    "# Endless loop.\n",
    "main.mainloop()\n"
   ]
  },
  {
   "cell_type": "markdown",
   "metadata": {},
   "source": [
    "# Widget types\n",
    "In the context of GUIs, control elements such as the button above, scroll-bars, text-boxes, etc., are called **widgets**. In this section the standard tkinter widgets are presented.\n",
    "\n",
    "## The \"Label\" widget: a display panel\n",
    "This widget is used to display information such as text or images. In contrast to the `Entry` widget described later in the lecture, the `Label` widget does not allow the user to change such text from the GUI."
   ]
  },
  {
   "cell_type": "code",
   "execution_count": null,
   "metadata": {},
   "outputs": [],
   "source": [
    "import tkinter\n",
    "    \n",
    "main = tkinter.Tk()\n",
    "\n",
    "def end():\n",
    "    main.destroy()\n",
    "    \n",
    "# A first label, with default properties.\n",
    "l1 = tkinter.Label(main, text = \"First label\")\n",
    "\n",
    "# A second label, with custom properties.\n",
    "l2 = tkinter.Label(main, text = \"Second label\")\n",
    "l2[\"font\"] = \"Courier 18 bold\"\n",
    "l2[\"height\"] = 2\n",
    "l2[\"width\"] = 22\n",
    "l2[\"borderwidth\"] = 4 \n",
    "l2[\"relief\"] = \"groove\" # Alternatives: \"raised\", \"sunken\", \"flat\", \"ridge\", \"groove\".\n",
    "#l2[\"image\"] = \n",
    "l2[\"bg\"] = \"#000000\"  # Background color. Hexadecimal #000000 is black. #FFFFFF is white.\n",
    "l2[\"fg\"] = \"red\"  # Foreground color.\n",
    "l2[\"anchor\"] = \"w\" # Alignment, \"w\" stays for \"west\". Allowed: n,e,s,w,ne,nw,... .\n",
    "\n",
    "# CAREFUL: the image example below might NOT work \n",
    "# within Jupyter, but it does work from the terminal.\n",
    "# A third label - an image.\n",
    "l3 = tkinter.Label(main)\n",
    "my_image = tkinter.PhotoImage(file = \"logo_ETH.png\")\n",
    "l3[\"image\"] = my_image\n",
    "\n",
    "# Packing:\n",
    "l1.pack()\n",
    "l2.pack()\n",
    "l3.pack()\n",
    "\n",
    "main.mainloop()"
   ]
  },
  {
   "cell_type": "markdown",
   "metadata": {},
   "source": [
    "### ✏️ $\\mu$-exercise\n",
    "\n",
    "At this point, please switch to the Exercise notebook and complete $\\mu$-exercise **2**."
   ]
  },
  {
   "cell_type": "markdown",
   "metadata": {},
   "source": [
    "# The \"Button\" widget\n",
    "This widget has been used above already. One of the most important properties of a Button object is `command`.\n",
    "\n",
    "Unfortunately, the `command` property can only contain a *reference* to a function, but **not the argument or the parameters** of such a function. This can be solved for example by using the `lambda` function as shown in the example below."
   ]
  },
  {
   "cell_type": "code",
   "execution_count": null,
   "metadata": {},
   "outputs": [],
   "source": [
    "import tkinter\n",
    "\n",
    "def func_with_arg(argument):\n",
    "    try:\n",
    "        my_label[\"text\"] += str(argument)\n",
    "    except:\n",
    "        print('some error occurred.')\n",
    "        \n",
    "        \n",
    "main = tkinter.Tk()\n",
    "\n",
    "my_label = tkinter.Label(main,  font = \"Courier 18 bold\", text = \"Some initial text\")\n",
    "my_label.pack()\n",
    "\n",
    "my_button = tkinter.Button(main, font = \"Courier 18 bold\", text = \"Press me\", command = lambda:func_with_arg(\" added \"))\n",
    "my_button.pack()\n",
    "\n",
    "\n",
    "main.mainloop()\n",
    "\n",
    "        "
   ]
  },
  {
   "cell_type": "markdown",
   "metadata": {},
   "source": [
    "# A parenthesis: \"lambda\" functions\n",
    "Lambda functions are functions that are defined without `def`. They are also called *anonymous* functions because they don't necessarily have to be assigned to a variable.\n",
    "\n",
    "A lambda function object is created as follows:\n",
    "\n",
    "```python\n",
    "lambda argument1, argument2, ...: result\n",
    "```\n",
    "\n",
    "An example is given below. More information: https://docs.python.org/3/tutorial/controlflow.html#lambda-expressions"
   ]
  },
  {
   "cell_type": "code",
   "execution_count": null,
   "metadata": {},
   "outputs": [],
   "source": [
    "# Examples of function definitions \n",
    "# using the lambda function.\n",
    "my_product = lambda x, y: x * y  # The function my_product has two parameters, x and y, and the result is x*y\n",
    "print('Type of a lambda function:', type(my_product))\n",
    "\n",
    "my_sum = lambda x, y: x + y\n",
    "\n",
    "# Test.\n",
    "print(my_product(2, 3))\n",
    "print(my_sum(2, 2))"
   ]
  },
  {
   "cell_type": "markdown",
   "metadata": {},
   "source": [
    "Notice that the above function definitions with `lambda` are equivalent to writing:\n",
    "```python\n",
    "def my_product(x, y):\n",
    "    return x * y\n",
    "```\n",
    "\n",
    "The true advantage of `lambda` functions is that they can be used to create functions on the fly with little syntax overhead. This is usefull when a function needs to be created to pass to another function:"
   ]
  },
  {
   "cell_type": "code",
   "execution_count": null,
   "metadata": {},
   "outputs": [],
   "source": [
    "function_list = []\n",
    "# Create some *anonymous* functions and add them to the list.\n",
    "# Notice that the lambda function objects never get assigned to a variable.\n",
    "# Hence they are *anonymous*.\n",
    "function_list.append(lambda x: 42)\n",
    "function_list.append(lambda x: x**3.4021735027328797)\n",
    "function_list.append(lambda x: 'The function argument x is {}.'.format(x))\n",
    "\n",
    "# Iterate over all the functions and evaluate them with `x = 3`\n",
    "for f in function_list:\n",
    "    # Call the function.\n",
    "    result = f(3)\n",
    "    print(result)"
   ]
  },
  {
   "cell_type": "markdown",
   "metadata": {
    "collapsed": true
   },
   "source": [
    "## The \"Entry\" widget: short input\n",
    "The Entry widget is a **single-line** text box used as an input for short texts or numbers.\n",
    "\n",
    "The example below will double the entered number."
   ]
  },
  {
   "cell_type": "code",
   "execution_count": null,
   "metadata": {},
   "outputs": [],
   "source": [
    "import tkinter\n",
    "    \n",
    "def doubling():\n",
    "    entered_text = my_entry.get() # \"get()\" is the method used to read the inserted text into the program.\n",
    "    try:\n",
    "        entered_number = float(entered_text)\n",
    "        my_label[\"text\"] = \"The double is: \" + str(2 * entered_number)\n",
    "    except:\n",
    "        my_label[\"text\"] = \"Please enter a number above.\"\n",
    "        \n",
    "        \n",
    "main = tkinter.Tk()\n",
    "\n",
    "# Create the entry widget.\n",
    "my_entry = tkinter.Entry(main)\n",
    "my_entry[\"font\"] = \"Courier 18 bold\"\n",
    "# Optional to hide the entered text:\n",
    "#my_entry[\"show\"] = \"*\"\n",
    "\n",
    "# Create the label widget.\n",
    "my_label = tkinter.Label(main)\n",
    "my_label[\"font\"] = \"Courier 18 bold\"\n",
    "\n",
    "# Create a button which runs the doubling() function when pressed.\n",
    "my_button = tkinter.Button(main, font = \"Courier 18 bold\", text = \"Calculate the double!\", command = doubling) # do not write \"doubling()\" with the parenteses!\n",
    "\n",
    "# Pack all widget objects.\n",
    "my_entry.pack()\n",
    "my_label.pack()\n",
    "my_button.pack()\n",
    "\n",
    "main.mainloop()"
   ]
  },
  {
   "cell_type": "markdown",
   "metadata": {},
   "source": [
    "### ✏️ $\\mu$-exercise\n",
    "\n",
    "At this point, please switch to the Exercise notebook and complete $\\mu$-exercise **3**."
   ]
  },
  {
   "cell_type": "markdown",
   "metadata": {},
   "source": [
    "## The \"Text\" widget: long input\n",
    "This widget is used to insert more than just a single line of text."
   ]
  },
  {
   "cell_type": "code",
   "execution_count": null,
   "metadata": {},
   "outputs": [],
   "source": [
    "import tkinter\n",
    "\n",
    "def end():\n",
    "    main.destroy()\n",
    "    \n",
    "# Define a function to be called by \"tkinter.Button\", and\n",
    "# utilizing the Text widget.\n",
    "def import_and_display():\n",
    "    my_file = open(\"example_text.txt\")\n",
    "    z = my_file.readline() # Initialization\n",
    "    while z:\n",
    "        my_scrolledtext.insert(\"end\", z)   # <-- The Text widget is used here.\n",
    "        z = my_file.readline()        \n",
    "    my_file.close()\n",
    "    \n",
    "    \n",
    "main = tkinter.Tk()\n",
    "\n",
    "# Create a Text widget.\n",
    "my_scrolledtext = tkinter.Text(main, width = 40, height = 5, font = \"Courier 18 bold\")\n",
    "my_scrolledtext.pack()\n",
    "\n",
    "\n",
    "# Create button to load the content of the example file.\n",
    "tkinter.Button(main, font = \"Courier 18 bold\", text = \"Load\", command = import_and_display).pack()\n",
    "\n",
    "\n",
    "# Create \"End\" button.\n",
    "tkinter.Button(main, font = \"Courier 18 bold\", text = \"End\", command=end).pack()\n",
    "\n",
    "main.mainloop()"
   ]
  },
  {
   "cell_type": "markdown",
   "metadata": {},
   "source": [
    "## The \"ScrolledText\" widget\n",
    "This widget is similar to the \"Text\" widget, but it adds a scrolling function, which is practical when the text does not fit in a single widget. An example which reads and displays the content of a file is given below."
   ]
  },
  {
   "cell_type": "code",
   "execution_count": null,
   "metadata": {},
   "outputs": [],
   "source": [
    "import tkinter, tkinter.scrolledtext\n",
    "\n",
    "def end():\n",
    "    main.destroy()\n",
    "\n",
    "# Same function as above, but using\n",
    "# the ScrolledText widget instead of the\n",
    "# Text widget.\n",
    "def import_and_display():\n",
    "    my_file = open(\"example_text.txt\")\n",
    "    z = my_file.readline() # Initialization.\n",
    "    while z:\n",
    "        my_scrolledtext.insert(\"end\", z)    # <-- The ScrolledText widget is used here.\n",
    "        z = my_file.readline() \n",
    "    my_file.close()\n",
    "   \n",
    "    \n",
    "main = tkinter.Tk()\n",
    "\n",
    "# Create a ScrolledText.\n",
    "my_scrolledtext = tkinter.scrolledtext.ScrolledText(main, width = 40, height = 5, font = \"Courier 18 bold\") \n",
    "my_scrolledtext.pack()\n",
    "\n",
    "# Create button to load the content of the example file.\n",
    "tkinter.Button(main, font = \"Courier 18 bold\", text = \"Load\", command = import_and_display).pack()\n",
    "\n",
    "# Create \"End\" button.\n",
    "tkinter.Button(main, font = \"Courier 18 bold\", text = \"End\", command=end).pack()\n",
    "\n",
    "main.mainloop()"
   ]
  },
  {
   "cell_type": "markdown",
   "metadata": {},
   "source": [
    "## The `Listbox` widget\n",
    "The `Listbox` widget presents a list of items which can be selected by the user. The key method is the `get()` method which allows to retrieve the selected item. "
   ]
  },
  {
   "cell_type": "code",
   "execution_count": null,
   "metadata": {},
   "outputs": [],
   "source": [
    "import tkinter\n",
    "\n",
    "def end():\n",
    "    main.destroy()\n",
    "    \n",
    "def show():\n",
    "    my_label[\"text\"] = \"Choice: \" + my_listbox.get(\"active\")\n",
    "    \n",
    "main = tkinter.Tk()\n",
    "\n",
    "# Create a Listbox with four elements.\n",
    "my_listbox = tkinter.Listbox(main, height = 0, font = \"Courier 18 bold\",)\n",
    "my_listbox.insert(\"end\", \"Apple\")  # The insert() methods requires two parameters, the position, and the item.\n",
    "my_listbox.insert(\"end\", \"Pear\")\n",
    "my_listbox.insert(\"end\", \"Banana\")\n",
    "my_listbox.insert(\"end\", \"Coconut\")\n",
    "my_listbox.pack()\n",
    "\n",
    "# Create button to show the selection\n",
    "my_button = tkinter.Button(main, font = \"Courier 18 bold\", text=\"Show selection\", command=show)\n",
    "my_button.pack()\n",
    "\n",
    "# Display the selection with a Label.\n",
    "my_label = tkinter.Label(main, font = \"Courier 18 bold\", text = \"Chosen fruit: \")\n",
    "my_label.pack()\n",
    "\n",
    "# Create \"End\" button.\n",
    "tkinter.Button(main, font = \"Courier 18 bold\", text = \"End\", command=end).pack()\n",
    "\n",
    "main.mainloop()"
   ]
  },
  {
   "cell_type": "markdown",
   "metadata": {},
   "source": [
    "## The `Scrollbar` widget\n",
    "Some widgets can be displayed with a scrollbar. To do this it is necessary to create a `Scrollbar` widget and to connect it with the target. An example is given below for the case of a `Scrollbar` connected to a `Listbox`."
   ]
  },
  {
   "cell_type": "code",
   "execution_count": null,
   "metadata": {},
   "outputs": [],
   "source": [
    "import tkinter\n",
    "\n",
    "def end():\n",
    "    main.destroy()\n",
    "    \n",
    "main = tkinter.Tk()\n",
    "\n",
    "button = tkinter.Button(main, font = \"Courier 18 bold\", text = \"End\", command = end)\n",
    "button.pack()\n",
    "\n",
    "# Create a scrollbar.\n",
    "my_scrollbar = tkinter.Scrollbar(main, orient = \"vertical\")\n",
    "\n",
    "# Create a Listbox and connect it with the Scrollbar.\n",
    "my_listbok = tkinter.Listbox(main, font = \"Courier 18 bold\", height = 4, yscrollcommand = my_scrollbar.set) # yscrollcommand is a property of the Listbox widget.\n",
    "my_scrollbar[\"command\"] = my_listbok.yview  # yview() is a method of the widget Listbox. It is linked to the \"command\" property of sb.\n",
    "\n",
    "elements = [\"one\", \"2\", \"three\", \"4\", \"five\", \"6\"]\n",
    "for element in elements:\n",
    "    my_listbok.insert(\"end\", element)    \n",
    "    \n",
    "# Show the Listbox and the Scrollbar.\n",
    "my_listbok.pack(side = \"left\")\n",
    "my_scrollbar.pack(side = \"left\", fill = \"y\")\n",
    "\n",
    "main.mainloop()"
   ]
  },
  {
   "cell_type": "markdown",
   "metadata": {},
   "source": [
    "## The `Radiobutton` widget\n",
    "`Radiobuttons` are useful to create a list of pre-selected elements and let the user choose one of them."
   ]
  },
  {
   "cell_type": "code",
   "execution_count": null,
   "metadata": {},
   "outputs": [],
   "source": [
    "import tkinter\n",
    "\n",
    "def end():\n",
    "    main.destroy()\n",
    "    \n",
    "    \n",
    "def show():\n",
    "    my_label[\"text\"] = \"Choice: \" + color.get()\n",
    "    \n",
    "main = tkinter.Tk()\n",
    "\n",
    "# Define a \"widget-variable\".\n",
    "color = tkinter.StringVar()\n",
    "color.set(\"red\")\n",
    "\n",
    "# Create some Radiobuttons.\n",
    "rb1 = tkinter.Radiobutton(main, font = \"Courier 18 bold\", text = \"red\", variable = color, value = \"red\")\n",
    "rb2 = tkinter.Radiobutton(main, font = \"Courier 18 bold\", text = \"green\", variable = color, value = \"green\")\n",
    "rb3 = tkinter.Radiobutton(main, font = \"Courier 18 bold\", text = \"blue\", variable = color, value = \"blue\")\n",
    "\n",
    "# Pack the Radiobuttons.\n",
    "rb1.pack()\n",
    "rb2.pack()\n",
    "rb3.pack()\n",
    "\n",
    "# Create button to show the chosen color.\n",
    "my_button = tkinter.Button(main, font = \"Courier 18 bold\", text = \"Show selection\", command = show)\n",
    "my_button.pack()\n",
    "\n",
    "# Display the chosen color with a Label.\n",
    "my_label = tkinter.Label(main, font = \"Courier 18 bold\", text = \"Chosen color: \")\n",
    "my_label.pack()\n",
    "\n",
    "# Create \"End\" button.\n",
    "tkinter.Button(main, font = \"Courier 18 bold\", text = \"End\", command = end).pack()\n",
    "\n",
    "main.mainloop()"
   ]
  },
  {
   "cell_type": "markdown",
   "metadata": {},
   "source": [
    "# The geometric arrangement of widgets\n",
    "So far, the `pack()` method has been used to place widgets such as `Button` or `Text` inside the main window. This is just an example of a **geometry management** mechanism. More generally, geometry managers are used to specify the position of slaves (such as widgets) inside a parent or master (such as the main window or the `Frame` widget specified below).\n",
    "\n",
    "After introducing the `Frame` widgets, the three main geometry managers, namely the methods `pack()`, `place()`, and `grid()` will be described.\n",
    "\n",
    "## The `Frame` widget\n",
    "The `Frame` widget is a special widget which can act as parents for the `Button`, `Text`, etc. widgets just like the main window does. It is useful for splitting the main window into separate areas which can be treated individually."
   ]
  },
  {
   "cell_type": "code",
   "execution_count": null,
   "metadata": {},
   "outputs": [],
   "source": [
    "import tkinter\n",
    "\n",
    "main = tkinter.Tk()\n",
    "\n",
    "# Create first frame, and pack it on the left.\n",
    "frame_1 = tkinter.Frame(main, relief = \"sunken\", bd = 1, bg = \"white\")\n",
    "frame_1.pack(side = \"left\")\n",
    "\n",
    "# Create some buttons inside the first frame.\n",
    "frame_1_button_1 = tkinter.Button(frame_1,  font = \"Courier 18 bold\", text = \"Frame 1, button 1\")\n",
    "frame_1_button_1.pack()\n",
    "\n",
    "# Create a second frame, and pack it on the right.\n",
    "frame_2 = tkinter.Frame(main, relief = \"sunken\", bd = 2, bg = \"yellow\")\n",
    "frame_2.pack(side = \"right\")\n",
    "\n",
    "# Divide the second frame into two more frames.\n",
    "frame_2_1 = tkinter.Frame(frame_2, relief = \"sunken\", bd = 2,bg = \"red\")\n",
    "frame_2_2 = tkinter.Frame(frame_2, relief = \"sunken\", bd = 2,bg = \"blue\")\n",
    "frame_2_1.pack(side=\"top\", expand = 1, fill = \"both\")\n",
    "frame_2_2.pack(side=\"bottom\", expand = 0, fill = \"both\")\n",
    "\n",
    "# Create a button inside the second frame, and inside its subframes.\n",
    "tkinter.Button(frame_2,  font = \"Courier 18 bold\", text = \"Frame 2, button 1\").pack()\n",
    "tkinter.Button(frame_2_1,  font = \"Courier 18 bold\", text = \"Frame 2_1, button 1\").pack()\n",
    "tkinter.Button(frame_2_2,  font = \"Courier 18 bold\", text = \"Frame 2_2, button 1\").pack()\n",
    "\n",
    "# Notice: in this example the size of the \"master\" frame is \n",
    "# defined by the size of the \"slave\" widgets inside,\n",
    "# i.e. by the size of the buttons.\n",
    "\n",
    "main.mainloop()\n"
   ]
  },
  {
   "cell_type": "markdown",
   "metadata": {},
   "source": [
    "## The `pack()` method\n",
    "The `pack()` method, or packer, is possibly the **most used** geometry-management mechanism in tkinter. In contrast to the more complicated method `place()`, it only takes **qualitative** positional specifications such as *above*, *left*, or *filling*.\n",
    "\n",
    "The **size of the master** is defined by the size of the \"slave widgets\". Therefore any `width` or `height` specification of the master will be rewritten. This occurs without any error or warning message as exemplified below (comment/uncomment the forelast line)."
   ]
  },
  {
   "cell_type": "code",
   "execution_count": null,
   "metadata": {},
   "outputs": [],
   "source": [
    "import tkinter\n",
    "\n",
    "main = tkinter.Tk()\n",
    "\n",
    "# Create first frame, and pack it on the left.\n",
    "frame_1 = tkinter.Frame(main, relief = \"sunken\", bd = 1, bg = \"white\", width = 200, height = 100)\n",
    "frame_1.pack(side = \"left\")\n",
    "\n",
    "# Create a second frame, and pack it on the right.\n",
    "frame_2 = tkinter.Frame(main, relief = \"sunken\", bd = 2, bg = \"yellow\", width = 500, height = 500)\n",
    "frame_2.pack(side = \"right\")\n",
    "\n",
    "# If uncommented, the line below will cause a shrinking of the second frame:\n",
    "#tkinter.Button(frame_2, text = \"Frame 2, button 1\").pack()\n",
    "\n",
    "main.mainloop()"
   ]
  },
  {
   "cell_type": "markdown",
   "metadata": {},
   "source": [
    "# The `grid()` method\n",
    "The `grid()` method is used to arrange widgets in a **regular grid**, similarly to an Excel table. Every cell in the grid is identified by the **coordinate** of the row and of the column, with the index starting from zero."
   ]
  },
  {
   "cell_type": "code",
   "execution_count": null,
   "metadata": {},
   "outputs": [],
   "source": [
    "import tkinter\n",
    "    \n",
    "main = tkinter.Tk()        \n",
    "\n",
    "def end():\n",
    "    main.destroy()\n",
    "    \n",
    "# Create some Buttons.\n",
    "tkinter.Button(main, text=\"End 1\", command=end).grid(row=0, column=0)\n",
    "tkinter.Button(main, text=\"End 2\", command=end).grid(row=0, column=1)\n",
    "tkinter.Button(main, text=\"End 3\", command=end).grid(row=1, column=0)\n",
    "tkinter.Button(main, text=\"End 4\", command=end).grid(row=1, column=1)\n",
    "tkinter.Button(main, text=\"End 5\", command=end).grid(row=2, columnspan=1, sticky=\"w\")\n",
    "tkinter.Button(main, text=\"End 6\", command=end).grid(row=3, columnspan=1, sticky=\"we\")\n",
    "tkinter.Button(main, text=\"End 7\", command=end).grid(row=4, columnspan=2, sticky=\"w\")\n",
    "tkinter.Button(main, text=\"End 8\", command=end).grid(row=5, columnspan=2, sticky=\"we\") # Stick from west to east.\n",
    "\n",
    "# Further options are:\n",
    "# columnspan = N, defines over how many grids the widget should span\n",
    "# sticky = \"w\", the widget will be placed west (left) of the master element.\n",
    "\n",
    "\n",
    "main.mainloop()"
   ]
  },
  {
   "cell_type": "markdown",
   "metadata": {},
   "source": [
    "# The `place()` method\n",
    "The `place()` method allows to place widgets at **absolutes or relative coordinates** as shown in the examples below."
   ]
  },
  {
   "cell_type": "code",
   "execution_count": null,
   "metadata": {},
   "outputs": [],
   "source": [
    "# Example of placement at **absolute** coordinates.\n",
    "import tkinter\n",
    "    \n",
    "main = tkinter.Tk()\n",
    "\n",
    "def end():\n",
    "    main.destroy()\n",
    "    \n",
    "b1 = tkinter.Button(main, text = \"b1\", command = end)\n",
    "b1.place(x = 50, y = 50, anchor = \"se\")  # The anchor point is the point of the widget which will be at x,y.\n",
    "\n",
    "b2 = tkinter.Button(main, text = \"b2\", command = end)\n",
    "b2.place(x = 50, y = 50, anchor = \"sw\")\n",
    "\n",
    "b3 = tkinter.Button(main, text = \"b3\", command = end)\n",
    "b3.place(x = 50, y = 50, anchor = \"ne\")\n",
    "\n",
    "b4 = tkinter.Button(main, text = \"b4\", command = end)\n",
    "b4.place(x = 50, y = 50, anchor = \"nw\")\n",
    "\n",
    "main.mainloop()"
   ]
  },
  {
   "cell_type": "code",
   "execution_count": null,
   "metadata": {},
   "outputs": [],
   "source": [
    "# Example of placement at **relative** coordinates.\n",
    "# `relx` has values between 0 (left) and 1 (right),\n",
    "# `rely` has values between 0 (up) and 1 (down),\n",
    "# these values refer to the position within the master element.\n",
    "import tkinter\n",
    "\n",
    "def end():\n",
    "    main.destroy()\n",
    "    \n",
    "main = tkinter.Tk()\n",
    "\n",
    "b1 = tkinter.Button(main, text = \"b1\", command = end)\n",
    "b1.place(relx = 0.5, rely = 0, anchor = \"n\")  # \"anchor n\" anchors the middle of the upper side\n",
    "\n",
    "b2 = tkinter.Button(main, text = \"b2\", command = end)\n",
    "b2.place(relx = 0.5, rely = 0.25, anchor = \"w\")  \n",
    "\n",
    "b3 = tkinter.Button(main, text = \"b3\", command = end)\n",
    "b3.place(relx = 0, rely = 0.5, anchor = \"w\")\n",
    "\n",
    "b4 = tkinter.Button(main, text = \"b4\", command = end)\n",
    "b4.place(relx = 0, rely = 0.75, anchor = \"w\")\n",
    "\n",
    "b5 = tkinter.Button(main, text = \"b5\", command = end)\n",
    "b5.place(relx = 0.5, rely = 1, anchor = \"s\")\n",
    "\n",
    "main.mainloop()"
   ]
  },
  {
   "cell_type": "markdown",
   "metadata": {},
   "source": [
    "# Exercises\n",
    "Please solve the rest of the exercises."
   ]
  },
  {
   "cell_type": "markdown",
   "metadata": {},
   "source": [
    "# Uploading solutions\n",
    "Before the end of the class at about 16:00, please \"push\" your solutions. \n",
    "\n",
    "Please do so even if you have not solved all problems: additional\n",
    "uploads can be made in the following days. Instructions are below.\n",
    "\n",
    "### If git is available on your system (preferred option)\n",
    "Add, commit and push your changes to the remote server:\n",
    "\n",
    "`git add -A`\n",
    "\n",
    "`git commit -m 'My solutions to Lecture XX'`\n",
    "\n",
    "`git push origin master`\n",
    "\n",
    "### If git is **not** available on your system\n",
    "This is **not** the favourite solution and it should be avoided whenever possible.\n",
    "\n",
    "Upload your Lecture_XX folder (containing the Exercise file) to the polybox https://polybox.ethz.ch and share the folder with luca.alloatti@ief.ee.ethz.ch, thomas.kramer@ief.ee.ethz.ch, and raphael.schwanninger@ief.ee.ethz.ch . To share the folder go on https://polybox.ethz.ch , then on the right of the folder there is a graph with one vertex connecting to two other vertices: click on it and then type the three emails."
   ]
  }
 ],
 "metadata": {
  "kernelspec": {
   "display_name": "Python 3",
   "language": "python",
   "name": "python3"
  },
  "language_info": {
   "codemirror_mode": {
    "name": "ipython",
    "version": 3
   },
   "file_extension": ".py",
   "mimetype": "text/x-python",
   "name": "python",
   "nbconvert_exporter": "python",
   "pygments_lexer": "ipython3",
   "version": "3.7.3"
  }
 },
 "nbformat": 4,
 "nbformat_minor": 2
}
