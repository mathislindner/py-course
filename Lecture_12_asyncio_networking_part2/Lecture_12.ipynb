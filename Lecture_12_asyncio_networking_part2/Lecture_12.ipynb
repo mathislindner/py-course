{
 "cells": [
  {
   "cell_type": "markdown",
   "metadata": {},
   "source": [
    "# Notes about this lecture\n",
    "Because of the Corona virus outbreak, this lecture will not be held in the classroom but online only. Further, the lecture will only be available in this written form. In order to offer support for the students we will use the gitlab issue tracker as a question & answer forum: https://git.ee.ethz.ch/python-for-engineers/class-fs20-forum and individual videoconference sessions when needed.\n",
    "\n",
    "## Software\n",
    "\n",
    "### Necessary software\n",
    "Please install the following tools:\n",
    "* python3 (https://www.python.org/downloads/ version 3.8.2 is fine.\n",
    "Python is a prerequisite for jupyter)\n",
    "* jupyter-notebook (https://jupyter.org/install.html)\n",
    "* **Hint for Windows and OSX**: Try to install conda or miniconda (https://docs.conda.io/en/latest/miniconda.html) first. This will install Python and jupyter-notebook automatically.\n",
    "\n",
    "### Optional (but highly recommended) software\n",
    "* git (https://git-scm.com/download/). Git is harder to install but not strictly necessary. **Hint**: On Windows Git will automatically install a Linux compatible shell which can then be found as 'Git BASH'.\n",
    "* If git is not available, solutions shall be uploaded on https://polybox.ethz.ch instead and the folder shall be shared with the lecturers. \n",
    "\n",
    "## Support\n",
    "**For any issues please use the forum** at: https://git.ee.ethz.ch/python-for-engineers/class-fs20-forum and follow the instructions therein. In case of need, we will open a room using Jitsi or BigBlueButton and share the audio, video or the screen: make sure you have a microphone and speakers functioning. \n",
    "\n",
    "This service is offered only **during the normal lecture hours**."
   ]
  },
  {
   "cell_type": "markdown",
   "metadata": {},
   "source": [
    "# Obtaining the material for this lecture\n",
    "### If git is available on your system (preferred option)\n",
    "Pull the new material from the upstream repository:\n",
    "\n",
    "```bash\n",
    "cd class-fs20\n",
    "git pull upstream master\n",
    "```\n",
    "\n",
    "Then launch the jupyter-notebook and open the Lecture_XX file:\n",
    "\n",
    "```bash\n",
    "anaconda # Only on ETH computers to load the Python environment.\n",
    "jupyter-notebook &\n",
    "```\n",
    "\n",
    "### If git is **not** available on your system\n",
    "Download the latest material from:\n",
    "https://git.ee.ethz.ch/python-for-engineers/class-fs20/-/archive/master/class-fs20-master.zip\n",
    "and unpack it on your computer."
   ]
  },
  {
   "cell_type": "markdown",
   "metadata": {},
   "source": [
    "# Refreshing previous lectures\n",
    "\n",
    "Please open the jupyter-notebook of the past lecture and read through it. This will help fixing the learned notions into the long-term memory.\n",
    "\n",
    "**Also make sure to refresh the lecture 10 \"Asyncio & Networking Part 1\". It is a prerequisite for this lecture.**\n",
    "\n",
    "### ✏️ $\\mu$-exercise\n",
    "\n",
    "After having refreshed the past lecture, switch to the Exercise notebook and complete $\\mu$-exercise **0**."
   ]
  },
  {
   "cell_type": "markdown",
   "metadata": {},
   "source": [
    "# Networking with `asyncio` (part 2)"
   ]
  },
  {
   "cell_type": "markdown",
   "metadata": {},
   "source": [
    "## Data serialization\n",
    "\n",
    "When data is sent over the network or written to a file it must be transformed or *serialized* into a sequence of bytes. On the side of the receiver the bytes must be correctly interpreted or *deserialized* to reconstruct the original data. In practice it is often convenient to be able to serialize structured data types such as lists, dicts or even objects. There are a myriad of possible ways to serialize an object.\n",
    "\n",
    "A very common way for serializing base types, lists and dicts is the JSON (JavaScript Object Notation) format. JSON encodes data as a human-readable string that resembles very strongly the Python syntax. The data types supported by JSON are limited to base types, lists and dicts. Lists and dicts can be nested. The `json` module is an integral part of Python and hence, JSON can easily be used as shown in the following code.\n"
   ]
  },
  {
   "cell_type": "code",
   "execution_count": null,
   "metadata": {},
   "outputs": [],
   "source": [
    "import json\n",
    "\n",
    "# Serialize nested data types.\n",
    "\n",
    "# Create a dict that will be serialized.\n",
    "data = {\n",
    "    # This can contain base types and also lists and dicts.\n",
    "    \"a\": 1,\n",
    "    \"b\": 1.2,\n",
    "    \"c\": None,\n",
    "    \"d\": True,\n",
    "    \"e\": [1, 2],\n",
    "    \"f\": {1: \"one\"}\n",
    "}\n",
    "\n",
    "\n",
    "# Serialize the dict into a string.\n",
    "serialized = json.dumps(data)\n",
    "print(\"serialized =\", serialized)\n",
    "print(\"type(serialized) = \", type(serialized)) # This should be a string.\n",
    "\n",
    "# If needed for networking the string can easily be encoded as a byte string.\n",
    "serialized_bytes = serialized.encode()\n",
    "assert type(serialized_bytes) == bytes\n",
    "\n",
    "print() \n",
    "\n",
    "# Deserialize the string into a dict.\n",
    "deserialized = json.loads(serialized)\n",
    "print(\"deserialized =\", deserialized)\n",
    "\n",
    "print(\"type(deserialized) = \", type(deserialized)) # This should be a dict."
   ]
  },
  {
   "cell_type": "markdown",
   "metadata": {},
   "source": [
    "### ✏️ $\\mu$-exercise\n",
    "Solve $\\mu$-exercise 1!\n",
    "\n",
    "## Data serialization with `pickle`\n",
    "\n",
    "JSON is limited to base types, lists and dicts. Sometimes it is convenient to serialize full objects. For that Python ships packages such as `pickle` or `marshal`. Both provide easy ways to serialize full objects or even functions in the case of `marshal`. **Both modules are not fully safe to use as the next section will explain.**\n",
    "\n",
    "The following shows how an object can be serialized and deserialized using the `pickle` module."
   ]
  },
  {
   "cell_type": "code",
   "execution_count": null,
   "metadata": {},
   "outputs": [],
   "source": [
    "import pickle\n",
    "\n",
    "# Create a dummy class for illustration purpose.\n",
    "class MyClass:\n",
    "    \n",
    "    def __init__(self, attr_a, attr_b):\n",
    "        self.attr_a = attr_a\n",
    "        self.attr_b = attr_b\n",
    "        \n",
    "    def __str__(self):\n",
    "        return \"A({}, {})\".format(self.attr_a, self.attr_b)\n",
    "\n",
    "# Create an object.\n",
    "myObject = MyClass(\"hello\", 42)\n",
    "print('Type of myObject: ', type(myObject))\n",
    "\n",
    "# Serialize the object into a byte string.\n",
    "serialized = pickle.dumps(myObject)\n",
    "print(\"serialized =\", serialized)\n",
    "print('Type of serialized: ', type(serialized))\n",
    "\n",
    "print()\n",
    "\n",
    "# Deserialize byte string back into an object.\n",
    "deserialized = pickle.loads(serialized)\n",
    "# \n",
    "print(\"deserialized =\", deserialized)\n",
    "\n",
    "# Check that \"deserialized\" is indeed an object.\n",
    "print('Type of deserialized: ', type(deserialized))"
   ]
  },
  {
   "cell_type": "markdown",
   "metadata": {},
   "source": [
    "### ✏️ $\\mu$-exercise\n",
    "Solve $\\mu$-exercise 2!"
   ]
  },
  {
   "cell_type": "markdown",
   "metadata": {},
   "source": [
    "## Problems with `pickle`\n",
    "\n",
    "While being convenient, the `pickle` module has it's disadvantages as stated by the [official documentation](https://docs.python.org/3/library/pickle.html):\n",
    "\n",
    "\"**Warning**\n",
    "\n",
    "**The pickle module is not secure.** Only unpickle data you trust.\n",
    "\n",
    "It is possible to construct malicious pickle data which will **execute arbitrary code during unpickling**. Never unpickle data that could have come from an untrusted source, or that could have been tampered with.\n",
    "\"\n",
    "\n",
    "The *exercises* will look at this issue in more detail.\n",
    "\n",
    "Further, `pickle` and `marshal` are Python specific and the formats are not supported by other programming languages.\n",
    "\n",
    "As a rule of thumb, `pickle` and `marshal` should not be used in productive software. Their use is justified only in cases where the data is fully trusted. For example if the data has been generated by the same program instance that also interprets it."
   ]
  },
  {
   "cell_type": "markdown",
   "metadata": {},
   "source": [
    "## Other serialization packages\n",
    "\n",
    "There are also other ways to serialize data that are not covered in this lecture but explained or used in the exercises such as the following:\n",
    "\n",
    "* `struct` https://docs.python.org/3/library/struct.html\n",
    "* `numpy` https://docs.scipy.org/doc/numpy/reference/generated/numpy.ndarray.tobytes.html"
   ]
  },
  {
   "cell_type": "markdown",
   "metadata": {},
   "source": [
    "## HTTP with `aiohttp`\n",
    "The *Hyper Text Transfer Protocol* or *HTTP* is a protocol that builds up on TCP. HTTP is the protocol used for transfering websites from the server to the browser. HTTP*S* adds a layer of security by encryption around the unencrypted HTTP.\n",
    "\n",
    "Instead of sending only payload data over the TCP connection, HTTP first sends a few lines of meta information called *header*. For example, the header allows the browser to tell the server which page to send. This works by writing a part of the URL into the header. Also HTTP defines multiple commands such as *GET* for getting data or *PUT* for uploading data.\n",
    "\n",
    "HTTP in its basic form is quite easy to implement manually. Fortunately, there is the Python package `aiohttp` which simplifies writing HTTP client and server code.\n",
    "\n",
    "The rest of the section shows by example how `aiohttp` can be used. The examples here are largely inspired by the official documentation (https://docs.aiohttp.org/en/stable/client_quickstart.html).\n",
    "\n",
    "If the package `aiohttp` may require to be installed."
   ]
  },
  {
   "cell_type": "code",
   "execution_count": null,
   "metadata": {},
   "outputs": [],
   "source": [
    "# Simple HTTP client.\n",
    "# This code loads a web page similar to a browser.\n",
    "# Instead of generating graphical output, the source of the page is displayed.\n",
    "#\n",
    "# Example from https://docs.aiohttp.org/en/stable/client_quickstart.html\n",
    "\n",
    "import aiohttp\n",
    "\n",
    "# httpbin.org is a website that sends back information about the request.\n",
    "# This includes the request headers, the arguments in the URL and the source IP address.\n",
    "# The data will be formatted as JSON.\n",
    "url = \"https://httpbin.org/get\"\n",
    "\n",
    "# Send an HTTP GET request to load content from a web page.\n",
    "async with aiohttp.ClientSession() as session:\n",
    "    async with session.get(url) as resp: # Send a get request\n",
    "        # Print the HTTP status. The status is part of the server response header.\n",
    "        # It tells wether the GET request was successful or what kind of error has occurred.\n",
    "        # The status `200` means that everything was fine.\n",
    "        # The status `404` means that the page was not found. \n",
    "        # (If you like, append a few random characters to the url and observe the status code.)\n",
    "        print(\"HTTP status:\", resp.status)\n",
    "        print(\"Response:\", await resp.text())"
   ]
  },
  {
   "cell_type": "code",
   "execution_count": null,
   "metadata": {},
   "outputs": [],
   "source": [
    "# Using GET parameters.\n",
    "# Send an HTTP GET request with parameters to load content from a web page.\n",
    "\n",
    "import aiohttp\n",
    "\n",
    "url = \"https://httpbin.org/get\"\n",
    "\n",
    "# HTTP urls can contain parameters after the '?' character.\n",
    "# To load the url 'https://httpbin.org/get?parameter1=valueOfParameter1'\n",
    "# the parameters can be passed to `sessions.get()` as follows.\n",
    "params = {\"parameter1\": \"valueOfParameter1\"}\n",
    "\n",
    "async with aiohttp.ClientSession() as session:\n",
    "    async with session.get(url, params = params) as resp: # Send a get request\n",
    "        print(\"HTTP status:\", resp.status)\n",
    "        print(\"Response:\", await resp.text())\n",
    "        \n",
    "# Notice how the keys and values of `params` are encoded in the \"url\"."
   ]
  },
  {
   "cell_type": "markdown",
   "metadata": {},
   "source": [
    "### ✏️ $\\mu$-exercise\n",
    "Solve $\\mu$-exercise 3!\n",
    "\n",
    "### Simple webserver with `aiohttp`\n",
    "`aiohttp` als provides a simple way to create HTTP web servers. The core concept is the `web.Application` object. It makes the connection from the URL path to an `async` function that creates the page belonging to this URL.\n",
    "\n",
    "Launch the following code and test the web server with your browser:\n",
    "\n",
    "http://localhost:8080/\n",
    "\n",
    "\n",
    "http://localhost:8080/myPath\n",
    "\n",
    "\n",
    "http://localhost:8080/someOtherPath"
   ]
  },
  {
   "cell_type": "code",
   "execution_count": null,
   "metadata": {},
   "outputs": [],
   "source": [
    "# Modified example from https://docs.aiohttp.org/en/stable/client_quickstart.html\n",
    "\n",
    "from aiohttp import web\n",
    "\n",
    "# Define async functions that will create the web pages.\n",
    "# Later, URL paths will be connected to this functions.\n",
    "\n",
    "async def index(request):\n",
    "    text = \"This is the main page!\"\n",
    "    return web.Response(text=text)\n",
    "\n",
    "async def handle_myPath(request):\n",
    "    text = \"This is the 'myPath' page!\"\n",
    "    return web.Response(text=text)\n",
    "\n",
    "async def handle_name(request):\n",
    "    # Get the string after the first '/' in the URL.\n",
    "    name = request.match_info.get('name', \"Anonymous\")\n",
    "    text = \"Hello, \" + name\n",
    "    return web.Response(text=text)\n",
    "    \n",
    "app = web.Application()\n",
    "# Define how the different paths of the URL are handled.\n",
    "# Connect URL paths to async functions.\n",
    "# This example only deals with HTTP GET requests.\n",
    "app.add_routes([\n",
    "    web.get('/', index), # http://servername/ will be forwarded to `index()`\n",
    "    web.get('/myPath', handle_myPath), # http://servername/myPath will be forwarded to `handle()`\n",
    "    web.get('/{name}', handle_name), # http://servername/{name} will be forwarded to `handle_name()` where {name} is a variable.\n",
    "])\n",
    "\n",
    "await web._run_app(app) # This works in Jupyter notebook.\n",
    "\n",
    "# Run the web app from a normal Python script:\n",
    "# web.run_app(app) # This does not work in Jupyter notebook."
   ]
  },
  {
   "cell_type": "markdown",
   "metadata": {},
   "source": [
    "### ✏️ $\\mu$-exercise\n",
    "Solve $\\mu$-exercise 4!"
   ]
  },
  {
   "cell_type": "markdown",
   "metadata": {},
   "source": [
    "## Using the `Transport/Protocol` networking API for UDP (optional)\n",
    "This lecture covers only the `stream` *application programming interface* (API) of `asyncio` which is a good abstraction for TCP streams. However, this is not suited for the connection-less UDP protocol. `asyncio` also exposes another API based on `Transport` and `Protocol` objects. Study the official documentation page on this API: https://docs.python.org/3/library/asyncio-protocol.html\n",
    "\n",
    "Focus on the examples \"UDP Echo Server\" and \"UDP Echo client\":\n",
    "\n",
    "https://docs.python.org/3/library/asyncio-protocol.html#udp-echo-server\n",
    "\n",
    "https://docs.python.org/3/library/asyncio-protocol.html#udp-echo-client\n",
    "\n",
    "# Exercises\n",
    "Solve the exercises!"
   ]
  },
  {
   "cell_type": "code",
   "execution_count": null,
   "metadata": {},
   "outputs": [],
   "source": []
  }
 ],
 "metadata": {
  "kernelspec": {
   "display_name": "Python 3",
   "language": "python",
   "name": "python3"
  },
  "language_info": {
   "codemirror_mode": {
    "name": "ipython",
    "version": 3
   },
   "file_extension": ".py",
   "mimetype": "text/x-python",
   "name": "python",
   "nbconvert_exporter": "python",
   "pygments_lexer": "ipython3",
   "version": "3.7.3"
  }
 },
 "nbformat": 4,
 "nbformat_minor": 4
}
