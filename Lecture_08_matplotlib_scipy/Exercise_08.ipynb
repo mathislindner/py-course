{
 "cells": [
  {
   "cell_type": "markdown",
   "metadata": {},
   "source": [
    "# Matplotlib & Scipy exercises\n",
    "\n",
    "## $\\mu$-exercises\n",
    "### 0: Numpy refresher\n",
    "Use numpy to compute numerically the integral $ \\int_0^\\pi \\sin(x) dx $.\n",
    "Proceed as follow:\n",
    "\n",
    "* Create a numpy array with the $x$ values ranging from 0 to $\\pi$ using a step size `step`.\n",
    "* Compute the values of $y = \\sin(x)$.\n",
    "* Compute the integral as the sum of all $y$ values multiplied by the step size.\n",
    "\n",
    "This makes use of the following:\n",
    "\n",
    "$$ \\lim_{\\Delta x \\rightarrow 0} \\sum_{i=0}^{\\lfloor \\pi / \\Delta x \\rfloor} \\sin(\\pi  i / n) \\cdot \\Delta x = \\int_0^\\pi \\sin(x) dx$$\n",
    "\n",
    "Don't write any loops, use the following numpy functions: `np.arange`, `np.sin`, `np.sum`"
   ]
  },
  {
   "cell_type": "code",
   "execution_count": null,
   "metadata": {},
   "outputs": [],
   "source": [
    "import numpy as np\n",
    "\n",
    "step = 0.001\n",
    "\n",
    "# Write the solution here.\n",
    "\n",
    "\n",
    "\n",
    "print(f'integral = {integral}')\n",
    "print(f'error = {abs(integral-2):0.50f}')"
   ]
  },
  {
   "cell_type": "markdown",
   "metadata": {},
   "source": [
    "### 1: Interactive plot with Matplotlib\n",
    "\n",
    "When plotting with Matplotlib in a Jupyter notebook the plot is embedded as a static image in the notebook. However, Matplotlib allows plots to be interactive, i.e. not just static images. To achieve this, copy the code of the example plot in the lecture into a separate file `example_plot.py` and then run this script from the terminal with the command `python3 example_plot.py`.\n",
    "\n",
    "A window with the plot should appear showing the same plot as in the lecture example. This time, however, the plot is interactive, e.g. can be shifted and zoomed."
   ]
  },
  {
   "cell_type": "markdown",
   "metadata": {},
   "source": [
    "### 2: Plot a circle\n",
    "\n",
    "Use matplotlib to plot the shape of a circle. The circle shall be parametrized by a parameter `t` such that `x` and `y` points can be computed as follows:\n",
    "\n",
    "$$ x(t) = \\cos(t) $$\n",
    "$$ y(t) = \\sin(t) $$"
   ]
  },
  {
   "cell_type": "code",
   "execution_count": null,
   "metadata": {},
   "outputs": [],
   "source": [
    "import matplotlib.pyplot as plt\n",
    "import numpy as np\n",
    "\n",
    "\n",
    "# Use np.linspace to create values for t ranging from `0` to `2*np.pi`\n",
    "t = np.linspace(0, 2*np.pi, num=64)\n",
    "\n",
    "# TODO: Compute x and y\n",
    "# Then create a XY plot of x and y\n",
    "\n",
    "# Write the solution here.\n",
    "\n",
    "\n",
    "\n",
    "# Set aspect ratio of x and y axis.\n",
    "ax = plt.gca() # Get a handle to the axis.\n",
    "ax.set_aspect(1)\n",
    "\n",
    "plt.show()\n"
   ]
  },
  {
   "cell_type": "markdown",
   "metadata": {},
   "source": [
    "### 3: Run an example from the gallery\n",
    "\n",
    "Pick an example of your choice from the matplotlib gallery (https://matplotlib.org/gallery.html), copy the code and paste it here.\n",
    "\n",
    "For instance this example illustrates how to make *sub-plots*: https://matplotlib.org/examples/subplots_axes_and_figures/subplot_demo.html\n",
    "\n",
    "**Caveat**: *Don't blindly run code copied from the internet* in general. First have a quick look at it and make sure it is not doing anything suspicious. Code executed in this Jupyter notebook can gain full control over your computer and could potentially do harm. Code from the matplotlib gallery should be trustworthy."
   ]
  },
  {
   "cell_type": "code",
   "execution_count": null,
   "metadata": {},
   "outputs": [],
   "source": [
    "# Paste code from the gallery here!"
   ]
  },
  {
   "cell_type": "markdown",
   "metadata": {},
   "source": [
    "# Exercise 1 - `scipy.optimize`\n",
    "Implement your own version of `scipy.optimize.curve_fit` by using the `scipy.optimize.minimize` function!\n",
    "\n",
    "Measurement points `xdata` and `ydata` are given. Now the parameters of the function $ f(x) = b \\exp(a x)+c $ should be fitted to match the measurement points such that the sum of squared errors is minimzed.\n",
    "\n",
    "Use `scipy.optimize.minimize` to find `parameters` such that the follwing sum is minimized:\n",
    "\n",
    "$$ error(parameters) =\\sum (y_i - f(x_i, parameters) )^2 $$\n",
    "\n",
    "Where $y_i$ and $x_i$ are the measurement points.\n"
   ]
  },
  {
   "cell_type": "code",
   "execution_count": null,
   "metadata": {},
   "outputs": [],
   "source": [
    "import scipy.optimize\n",
    "import numpy as np\n",
    "\n",
    "# Measurement data.\n",
    "xdata = np.array([1, 2, 3, 4, 5])\n",
    "ydata = np.array([2.0, 2.8, 5.2, 8.9, 17.1])\n",
    "\n",
    "# Curve to be fitted.\n",
    "def f(x, parameters):\n",
    "    a, b, c = parameters\n",
    "    return b*np.exp(x*a)+c\n",
    "\n",
    "# STUDENT TASK\n",
    "\n",
    "# Find parameters for `f` that minimize the sum of the squared errors.\n",
    "# Define the 'error' function which computes the sum of squared errors.\n",
    "# Then use `scipy.optimize.minimize` to find the optimal parameters that minimize the value of the error function.\n",
    "# Also an initial guess `x0` for the minimization function must be provided.\n",
    "\n",
    "# Write the solution here.\n",
    "\n",
    "\n",
    "\n",
    "# END OF STUDENT TASK\n",
    "\n",
    "# Print optimization result message.\n",
    "print(result.message)\n",
    "\n",
    "\n",
    "# Plot the results if the optimization was successful.\n",
    "if not result.success:\n",
    "    print(\"Optimization failed!\")\n",
    "else:\n",
    "    a, b, c = result.x\n",
    "    print(f'a = {a}, b = {b}, c = {c}')\n",
    "    x = np.linspace(0, 5, num=20)\n",
    "    y = f(x, [a, b, c])\n",
    "    \n",
    "    # Plot the fitted curve together with the measurements.\n",
    "    import matplotlib.pyplot as plt\n",
    "    plt.plot(x, y, label='Fitted curve')\n",
    "    plt.plot(xdata, ydata, 'x', label='Measurement points')\n",
    "    plt.legend()\n",
    "    plt.show()\n"
   ]
  },
  {
   "cell_type": "markdown",
   "metadata": {},
   "source": [
    "# Exercise 2 - `scipy.integrate`\n",
    "\n",
    "Exponential growth is usually described by a differential equation like $ \\dot{y} = ay~$  (where $\\dot{y}$ is the time derivative of $y$). In nature growth of populations is often not perfectly exponential but saturates at some point. This is also called *logistic growth* and can be described by a slightly different equation:\n",
    "\n",
    "$$ y(t_0) = y_0 $$\n",
    "$$ \\dot{y} = a y (1 - y/b) $$\n",
    "\n",
    "Where $a$ specifies the natural growth rate, i.e. the growth rate if there would be no saturation effects, and $b$ determines the saturation level.\n",
    "\n",
    "## 2.1\n",
    "Find and plot numerical solutions to the logistic growth equation for \n",
    "\n",
    "$$ y_0 = 1 $$\n",
    "$$ a = 1 $$\n",
    "$$ b \\in [1, 11, 21, ..., 91] $$\n",
    "\n",
    "and $t$ ranging from 0 to 10."
   ]
  },
  {
   "cell_type": "code",
   "execution_count": null,
   "metadata": {},
   "outputs": [],
   "source": [
    "import numpy as np\n",
    "import scipy.integrate\n",
    "import matplotlib.pyplot as plt\n",
    "\n",
    "# Hint: Use `solve_ivp` to solve this initial value problem.\n",
    "\n",
    "def logistic_growth_rate(t, y, a, b):\n",
    "    return a*y*(1-y/b)\n",
    "\n",
    "# Set the initial values of of the state variable y.\n",
    "y0 = [1]\n",
    "\n",
    "t_start = 0\n",
    "t_end = 10\n",
    "\n",
    "# Write the solution here.\n",
    "\n"
   ]
  },
  {
   "cell_type": "markdown",
   "metadata": {},
   "source": [
    "## 2.2 Lotka–Volterra equation (optional):\n",
    "Consider a population of rabbits and a population of foxes. Growth is described for both by the equation from above, except that now the two populations are coupled: Rabbits are eaten by the foxes which leads to the term $ - c y_r y_f$ and the grows rate of foxes is proportional to the size of the rabbit population. Foxes die with a rate $e$.\n",
    "$$ y_r(t_0) = y_{r0} $$\n",
    "$$ y_f(t_0) = y_{f0} $$\n",
    "$$ \\dot{y_r} = a y_r (1 - y_r/b) - c y_r y_f$$\n",
    "$$ \\dot{y_f} = d  y_r  y_f - e y_f $$\n",
    "\n",
    "Compute and plot numerical solutions of the population sizes for different initial values.\n"
   ]
  },
  {
   "cell_type": "code",
   "execution_count": null,
   "metadata": {},
   "outputs": [],
   "source": [
    "import numpy as np\n",
    "import scipy.integrate\n",
    "import matplotlib.pyplot as plt\n",
    "\n",
    "# Hint: Use `solve_ivp` to solve this initial value problem.\n",
    "\n",
    "# Use this parameters:\n",
    "# (Values taken from http://math.smith.edu/~callahan/cic/ch4.pdf section 4.1)\n",
    "a = 0.1   # Growth rate of rabbit population.\n",
    "b = 10000 # Saturation level of rabbit population.\n",
    "c = 0.005 # Eat-rate per rabit*fox.\n",
    "d = 0.00004  # Growth rate of fox population.\n",
    "e = 0.04  # Fox death rate.\n",
    "\n",
    "# Set the initial values of of the state variable y.\n",
    "# Start with 20 rabbits and 10 foxes.\n",
    "y0 = [20, 10]\n",
    "\n",
    "# Time span of simulation.\n",
    "t_start = 0\n",
    "t_end = 1000\n",
    "\n",
    "# Write the solution here.\n",
    "\n",
    "\n",
    "# Plot the results.\n",
    "\n",
    "plt.plot(sol.t, sol.y[0], label='Rabbits')\n",
    "plt.plot(sol.t, sol.y[1], label='Foxes')\n",
    "\n",
    "# Format the plot.\n",
    "plt.legend()\n",
    "plt.xlabel('$t$')\n",
    "plt.ylabel('$y(t)$')"
   ]
  },
  {
   "cell_type": "markdown",
   "metadata": {},
   "source": [
    "# Exercise 3: `scipy.signal`\n",
    "\n",
    "This exercise will walk you through how to record and play audio signals using `PyAudio`. The essential part is the processing of this audio signal. For this example the Fast Fourier Transform (FFT) shall be used to implement a low-pass filter in the frequency domain.\n",
    "\n",
    "* `pyaudio` must be installed first. (In a terminal run `pip install pyaudio` or `conda install pyaudio` or `apt-get install python3-pyaudio`)\n",
    "\n",
    "First a piece of audio has to be recorded. Make sure you have the microphone enabled."
   ]
  },
  {
   "cell_type": "code",
   "execution_count": null,
   "metadata": {},
   "outputs": [],
   "source": [
    "# Record an audio signal from the microphone.\n",
    "\n",
    "import numpy as np\n",
    "import pyaudio\n",
    "\n",
    "# Create an instance of PyAudio.\n",
    "audio = pyaudio.PyAudio()\n",
    "\n",
    "# Audio settings.\n",
    "sample_rate = 16000\n",
    "num_channels = 1 # Use only one channel.\n",
    "audio_format = pyaudio.paInt16 # Use 16-bit signed integers.\n",
    "\n",
    "# Open an audio input stream.\n",
    "stream_in = audio.open(format=audio_format,\n",
    "                       channels=num_channels,\n",
    "                       rate=sample_rate,\n",
    "                       input=True)\n",
    "\n",
    "duration = 2.0 # Recording duration in seconds.\n",
    "print(f\"Start recording for {duration} seconds...\")\n",
    "audio_data = stream_in.read(int(sample_rate * duration))\n",
    "print(\"done\")\n",
    "\n",
    "# Convert the audio data in a numpy array.\n",
    "dtype = np.dtype(np.int16).newbyteorder('<')\n",
    "signal = np.frombuffer(audio_data, dtype=dtype).astype(np.float)\n"
   ]
  },
  {
   "cell_type": "markdown",
   "metadata": {},
   "source": [
    "The following plots the time domain signal together with a spectrogram."
   ]
  },
  {
   "cell_type": "code",
   "execution_count": null,
   "metadata": {},
   "outputs": [],
   "source": [
    "# Plot the recorded audio signal together with the spectrum.\n",
    "\n",
    "import scipy.signal\n",
    "import matplotlib.pyplot as plt\n",
    "\n",
    "def plot_signal(signal: np.ndarray):\n",
    "    \"\"\"\n",
    "    Plot the signal in time domain and time/frequency domain.\n",
    "    \"\"\"\n",
    "    \n",
    "    # Compute the 'STFT'.\n",
    "    # This is similar to computing the FFT over a sliding window.\n",
    "    # Here, this is only done for illustration.\n",
    "    fs = 1\n",
    "    f, t, Zxx = scipy.signal.stft(signal, fs, nperseg=256)\n",
    "    magnitude = np.abs(Zxx)\n",
    "\n",
    "    fig, (ax0, ax1) = plt.subplots(nrows=2, sharex=True)\n",
    "    ax0.set_title('Time domain signal')\n",
    "    ax0.plot(signal)\n",
    "\n",
    "    ax1.pcolormesh(t, f, np.log(magnitude))\n",
    "    ax1.set_title('STFT Magnitude')\n",
    "    ax1.set_ylabel('Frequency')\n",
    "    ax1.set_xlabel('Time')\n",
    "    plt.show()\n",
    "    \n",
    "plot_signal(signal)"
   ]
  },
  {
   "cell_type": "markdown",
   "metadata": {},
   "source": [
    "### Task 3.1\n",
    "Implement a low-pass filter in frequency domain!"
   ]
  },
  {
   "cell_type": "code",
   "execution_count": null,
   "metadata": {},
   "outputs": [],
   "source": [
    "\n",
    "# Student task: Use the FFT to implement a low-pass filter.\n",
    "# Hint: use `np.fft.rfft` to compute the FFT of a real-valued signal.\n",
    "# Use `np.fft.irfft` to compute the inverse FFT. Use `np.real` to get the\n",
    "# real part of a complex signal.\n",
    "# Once the FFT is computed a low-pass filter can be implemented simply by \n",
    "# setting high frequencies to zero. Then the modified frequency-domain signal\n",
    "# is converted back to time domain.\n",
    "#\n",
    "# Plot the absolute value (`np.abs`) of the FFT data before and after applying the filter\n",
    "# to visualize the effect.\n",
    "\n",
    "# By default don't do any processing.\n",
    "# This has to be changed!\n",
    "processed_signal = signal\n",
    "\n",
    "# Write the solution here.\n",
    "\n",
    "\n",
    "# Plot the processed signal.\n",
    "plot_signal(processed_signal)"
   ]
  },
  {
   "cell_type": "code",
   "execution_count": null,
   "metadata": {},
   "outputs": [],
   "source": [
    "# Play back the audio.\n",
    "def play_signal(signal: np.ndarray):\n",
    "    stream_out = audio.open(format=audio_format,\n",
    "                            channels=num_channels,\n",
    "                            rate=sample_rate,\n",
    "                            output=True)\n",
    "    print(\"Play signal...\")\n",
    "    stream_out.write(signal.astype(np.int16), len(signal))\n",
    "    print(\"done\")\n",
    "\n",
    "print(\"Play original signal.\")\n",
    "play_signal(signal)\n",
    "print(\"Play processed signal.\")\n",
    "play_signal(processed_signal)"
   ]
  },
  {
   "cell_type": "code",
   "execution_count": null,
   "metadata": {},
   "outputs": [],
   "source": []
  }
 ],
 "metadata": {
  "kernelspec": {
   "display_name": "Python 3",
   "language": "python",
   "name": "python3"
  },
  "language_info": {
   "codemirror_mode": {
    "name": "ipython",
    "version": 3
   },
   "file_extension": ".py",
   "mimetype": "text/x-python",
   "name": "python",
   "nbconvert_exporter": "python",
   "pygments_lexer": "ipython3",
   "version": "3.7.3"
  }
 },
 "nbformat": 4,
 "nbformat_minor": 4
}
