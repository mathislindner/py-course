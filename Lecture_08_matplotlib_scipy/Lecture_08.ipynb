{
 "cells": [
  {
   "cell_type": "markdown",
   "metadata": {},
   "source": [
    "# Notes about this lecture\n",
    "Because of the Corona virus outbreak, this lecture will not be held in the classroom but online only. Further, the lecture will only be available in this written form. In order to offer support for the students we will use the gitlab issue tracker as a question & answer forum: https://git.ee.ethz.ch/python-for-engineers/class-fs20-forum and individual videoconference sessions when needed.\n",
    "\n",
    "## Software\n",
    "\n",
    "### Necessary software\n",
    "Please install the following tools:\n",
    "* python3 (https://www.python.org/downloads/ version 3.8.2 is fine.\n",
    "Python is a prerequisite for jupyter)\n",
    "* jupyter-notebook (https://jupyter.org/install.html)\n",
    "* **Hint for Windows and OSX**: Try to install conda or miniconda (https://docs.conda.io/en/latest/miniconda.html) first. This will install Python and jupyter-notebook automatically.\n",
    "\n",
    "### Optional (but highly recommended) software\n",
    "* git (https://git-scm.com/download/). Git is harder to install but not strictly necessary. **Hint**: On Windows Git will automatically install a Linux compatible shell which can then be found as 'Git BASH'.\n",
    "* If git is not available, solutions shall be uploaded on https://polybox.ethz.ch instead and the folder shall be shared with the lecturers. \n",
    "\n",
    "## Support\n",
    "**For any issues please use the forum** at: https://git.ee.ethz.ch/python-for-engineers/class-fs20-forum and follow the instructions therein. In case of need, we will open a room on https://jitsi.riot.im/ and share the audio, video or the screen: make sure you have a microphone and speakers functioning. \n",
    "\n",
    "This service is offered only **during the normal lecture hours**."
   ]
  },
  {
   "cell_type": "markdown",
   "metadata": {},
   "source": [
    "# Obtaining the material for this lecture\n",
    "### If git is available on your system (preferred option)\n",
    "Pull the new material from the upstream repository:\n",
    "\n",
    "```bash\n",
    "cd class-fs20\n",
    "git pull upstream master\n",
    "```\n",
    "\n",
    "Then launch the jupyter-notebook and open the Lecture_XX file:\n",
    "\n",
    "```bash\n",
    "anaconda # Only on ETH computers to load the Python environment.\n",
    "jupyter-notebook &\n",
    "```\n",
    "\n",
    "### If git is **not** available on your system\n",
    "Download the latest material from:\n",
    "https://git.ee.ethz.ch/python-for-engineers/class-fs20/-/archive/master/class-fs20-master.zip\n",
    "and unpack it on your computer."
   ]
  },
  {
   "cell_type": "markdown",
   "metadata": {},
   "source": [
    "# Summary of previous lecture\n",
    "\n",
    "Please open the jupyter-notebook of the past lecture and read through it. This will help fixing the learned notions into the long-term memory.\n",
    "\n",
    "The following part on *Scipy* builds up on *Numpy*. Therefore it is highly recommended to refresh the *Numpy* lecture.\n",
    "\n",
    "### ✏️ $\\mu$-exercise\n",
    "\n",
    "After having refreshed the last lecture, please switch to the Exercise notebook and complete $\\mu$-exercise **0**."
   ]
  },
  {
   "cell_type": "markdown",
   "metadata": {},
   "source": [
    "# Matplotlib\n",
    "\"[Matplotlib](https://matplotlib.org/index.html) is a comprehensive library for creating static, animated, and interactive visualizations in Python.\" The capabilities of Matplotlib are so broad that in this lecture we will only be able to cover the very basics, namely plotting of one-dimensional data using the `pyplot` module.\n",
    "\n",
    "There is a myriad of different plot types and formatting options available. A good way to find code examples for specific needs is to look at the example [gallery](https://matplotlib.org/gallery.html), which provides example pictures together with their code.\n",
    "\n",
    "In the following example two one-dimensional data sets are plotted into the same XY plot."
   ]
  },
  {
   "cell_type": "code",
   "execution_count": 1,
   "metadata": {},
   "outputs": [
    {
     "data": {
      "image/png": "[encoded data removed]",
      "text/plain": [
       "<Figure size 432x288 with 1 Axes>"
      ]
     },
     "metadata": {
      "needs_background": "light"
     },
     "output_type": "display_data"
    }
   ],
   "source": [
    "# Notice that matplotlib is not necessarily installed by default.\n",
    "# Possibly it has to be installed with `pip install matplotlib`.\n",
    "import matplotlib.pyplot as plt\n",
    "\n",
    "import numpy as np\n",
    "\n",
    "# Create x values of the curves.\n",
    "x = np.linspace(-1, 1, num=10)\n",
    "\n",
    "# Create y values of the curves.\n",
    "y1 = x**2\n",
    "y2 = x**3\n",
    "\n",
    "# Plot the two curves.\n",
    "# There are many settings available. Among the most important are\n",
    "# * label: The text to be shown in the legend.\n",
    "# * marker: Symbol to be used to mark the data points.\n",
    "# * color: Color of the curve.\n",
    "# Notice: Text between `$$` is treated as Latex code.\n",
    "plt.plot(x, y1, label=\"$x^2$ (blue)\", marker='x')\n",
    "plt.plot(x, y2, label=\"$x^3$ (red)\", color='red', marker='.')\n",
    "\n",
    "# Set axis labels.\n",
    "plt.xlabel(\"$x$\")\n",
    "plt.ylabel(\"$y$\")\n",
    "\n",
    "# Set plot title.\n",
    "plt.title(\"Simple Plot of $x^2$ and $x^3$\")\n",
    "\n",
    "# Enable the legend.\n",
    "plt.legend()\n",
    "\n",
    "# Enable the grid.\n",
    "plt.grid(True)\n",
    "\n",
    "# Show the plot.\n",
    "plt.show()\n",
    "\n",
    "# Hint: If you don't see an image run the code a second time."
   ]
  },
  {
   "cell_type": "markdown",
   "metadata": {},
   "source": [
    "Notice that the picture of the plot is directly embedded in the Jupyter notebook. It is also possible to create plots from Python script files. For this see the $\\mu$-exercise!\n",
    "\n",
    "### ✏️ $\\mu$-exercise 1, 2 and 3"
   ]
  },
  {
   "cell_type": "markdown",
   "metadata": {},
   "source": [
    "# Scipy - Scientific Python\n",
    "\n",
    "\"[SciPy](https://www.scipy.org/) (pronounced ˈsaɪpaɪ') is a Python-based ecosystem of open-source software for mathematics, science, and engineering.\" Numpy and Matplotlib belong to this ecosystem while the n-dimensional arrays of Numpy form the foundation of most parts of Scipy. The *Scipy library* as it will be introduced here \"provides many user-friendly and efficient numerical routines, such as routines for numerical integration, interpolation, optimization, linear algebra, and statistics\". Also basic signal processing (fast fourier transform FFT) and solving of ordinary differential equations will be covered here."
   ]
  },
  {
   "cell_type": "markdown",
   "metadata": {},
   "source": [
    "## Optimization - `scipy.optimize`\n",
    "The [`scipy.optimize`](https://docs.scipy.org/doc/scipy/reference/optimize.html) package contains many functions for numerical optimization (finding local or global extrema) and for numerical *root finding* (solving equations).\n",
    "\n",
    "The following example shows how `sicpy.optimize` can be used to find a local minimum of a scalar function:"
   ]
  },
  {
   "cell_type": "code",
   "execution_count": 3,
   "metadata": {},
   "outputs": [
    {
     "name": "stdout",
     "output_type": "stream",
     "text": [
      "Evaluate f at  0.0\n",
      "Evaluate f at  1.0\n",
      "Evaluate f at  2.6180339999999998\n",
      "Evaluate f at  1.0\n",
      "Evaluate f at  1.6180339748439998\n",
      "Evaluate f at  0.618034\n",
      "Evaluate f at  1.00000001481\n",
      "Evaluate f at  0.99999998519\n",
      "Success of optimiztion:  True\n",
      "Number of optimization iterations: 4\n",
      "Number of functions evaluations (of f): 8\n",
      "Result: x =  1.0\n",
      "Result: f(x) =  0.0\n"
     ]
    }
   ],
   "source": [
    "from scipy import optimize\n",
    "\n",
    "def f(x):\n",
    "    \"\"\"\n",
    "    Define the function to be used as optimization objective.\n",
    "    \"\"\"\n",
    "    print(\"Evaluate f at \", x)\n",
    "    return (x-1)**2\n",
    "\n",
    "# Find a local minimum of a function with a single parameter.\n",
    "# This should find the minimum at x = 1.\n",
    "result = optimize.minimize_scalar(f)\n",
    "\n",
    "print('Success of optimiztion: ', result.success)\n",
    "print('Number of optimization iterations:', result.nit)\n",
    "print('Number of functions evaluations (of f):', result.nfev)\n",
    "print('Result: x = ', result.x)\n",
    "print('Result: f(x) = ', result.fun)"
   ]
  },
  {
   "cell_type": "markdown",
   "metadata": {},
   "source": [
    "Because `minimize_scalar` finds *local* minima in some cases it is necessary to specify in which region to search for the minima. For example a cosine has many local minima:"
   ]
  },
  {
   "cell_type": "code",
   "execution_count": null,
   "metadata": {},
   "outputs": [],
   "source": [
    "from scipy import optimize\n",
    "import numpy as np\n",
    "\n",
    "def f(x):\n",
    "    \"\"\"\n",
    "    Define the function to be used as optimization objective.\n",
    "    \"\"\"\n",
    "    # This has *many* local minima.\n",
    "    return np.cos(x)\n",
    "\n",
    "# Find a local minimum of a function with a single parameter.\n",
    "# With `method='bounded'` bounds for `x` can be given. In this case\n",
    "# this allows to specify which of the many local minima we are interested in.\n",
    "result = optimize.minimize_scalar(f, method='bounded', bounds=[-4, 0])\n",
    "\n",
    "print('Result =', result.x)\n",
    "\n",
    "# Notice that here the result is not perfect.\n",
    "# There is a numerical error. The error could\n",
    "# be controlled with the `tol` tolerance parameter.\n",
    "\n",
    "print('Numerical error =', result.x - (-np.pi))"
   ]
  },
  {
   "cell_type": "markdown",
   "metadata": {},
   "source": [
    "### Finding local minima of functions with multiple arguments\n",
    "The examples above only optimized functions with a single argument. The `minimize` function is more general and supports finding minima for functions with multiple arguments. Notice that *multiple arguments* here means that the argument is a vector (`np.ndarray`)."
   ]
  },
  {
   "cell_type": "code",
   "execution_count": null,
   "metadata": {},
   "outputs": [],
   "source": [
    "from scipy import optimize\n",
    "import numpy as np\n",
    "\n",
    "# Find local minimum of a multi-variate function.\n",
    "\n",
    "def f(x: np.ndarray): # This syntax is called a 'type hint'.\n",
    "    \n",
    "    # The two variables are encoded in a ndarray.\n",
    "    return (x[0]-1)**2 + (x[1]-2)**2\n",
    "\n",
    "# An initial guess must be provided.\n",
    "# The guess should be somewhere close to the minimum we want to find.\n",
    "initial_guess = [1, 0]\n",
    "result = optimize.minimize(f, x0=initial_guess)\n",
    "\n",
    "print(result)"
   ]
  },
  {
   "cell_type": "markdown",
   "metadata": {},
   "source": [
    "### Solving equations numerically\n",
    "The `scipy.optimize` method also provides methods for *root finding* to solve equations numerically. This method finds for a given a function $f$ the arguments $x$ such that $f(x) = 0 + error$. Where the $error$ should be very small.\n",
    "\n",
    "In the following examle *root finding* is used on the function $\\exp(x) = 2$."
   ]
  },
  {
   "cell_type": "code",
   "execution_count": null,
   "metadata": {},
   "outputs": [],
   "source": [
    "import scipy.optimize\n",
    "\n",
    "def f(x):\n",
    "    \"\"\"\n",
    "    This is the function of which we want to find the root (f(x) = 0).\n",
    "    \"\"\"\n",
    "    # exp(x) = 2\n",
    "    # becomes\n",
    "    # exp(x) - 2 = 0\n",
    "    return np.exp(x) - 2 # = 0\n",
    "\n",
    "# Solve the equation numerically.\n",
    "# An initial guess x0 has to be provided which should be \n",
    "# sufficiently close to the solution.\n",
    "result = scipy.optimize.root(f, x0=0)\n",
    "\n",
    "# Compute expected solution.\n",
    "expected_solution = np.log(2)\n",
    "print(f\"success = {result.success}\")\n",
    "\n",
    "if result.success:\n",
    "    print(f\"x = {result.x}\")\n",
    "    print(f\"f(x) = {f(result.x)}\")\n",
    "    error = np.abs(result.x - expected_solution)\n",
    "    print(f\"numerical error = {error}\")"
   ]
  },
  {
   "cell_type": "markdown",
   "metadata": {},
   "source": [
    "There are many different algorithms available to numerically solve equations. More information on them can be found here: https://docs.scipy.org/doc/scipy/reference/generated/scipy.optimize.root.html.\n",
    "\n",
    "Notice that $f$ can be a vector function."
   ]
  },
  {
   "cell_type": "markdown",
   "metadata": {},
   "source": [
    "## Curve fitting with `scipy.optimize` \n",
    "\n",
    "A common application of optimization methods is *curve fitting*, i.e. finding parameters of a function based on known measurement values.\n",
    "\n",
    "The following example shows how the parameters of a parabola can be found such that the parabola lies close to pre-defined points. The function [`curve_fit()`](https://docs.scipy.org/doc/scipy/reference/generated/scipy.optimize.curve_fit.html) effectively finds parameters for a function that minimize the quadratic error between the function and the measurement points.\n",
    "\n",
    "The following shows how to use `curve_fit` to fit function parameters based on noisy measurement data."
   ]
  },
  {
   "cell_type": "code",
   "execution_count": null,
   "metadata": {},
   "outputs": [],
   "source": [
    "import scipy\n",
    "from scipy import optimize\n",
    "import numpy as np\n",
    "import matplotlib.pyplot as plt\n",
    "\n",
    "# Noisy measurement data.\n",
    "xdata = np.array([1, 3, 3, 7, 5, 2, 6, 5])\n",
    "ydata = np.array([3.4, 5.1, 4.2, 0.9, 4.7, 4.1, 2.5, 4.0])\n",
    "\n",
    "def f(x, a, b, c):\n",
    "    \"\"\"\n",
    "    Function to be fitted.\n",
    "    \"\"\"\n",
    "    return a*x**2 + b*x + c\n",
    "\n",
    "# Find parameters that minimize the squared error\n",
    "# between the fitted curve and the measurements.\n",
    "popt, pcov = scipy.optimize.curve_fit(f, xdata, ydata)\n",
    "\n",
    "print(\"Fitted parameters a, b, c = \", popt)\n",
    "\n",
    "# Plot the fitted curve.\n",
    "x = np.linspace(0, 8, 100)\n",
    "y = f(x, *popt)\n",
    "plt.plot(x, y, label='Fitted curve')\n",
    "\n",
    "# Plot the measurements\n",
    "plt.scatter(xdata, ydata, marker='x', label='Measurement points')\n",
    "plt.xlabel('$x$')\n",
    "plt.ylabel('$y = f(x)$')\n",
    "plt.legend()"
   ]
  },
  {
   "cell_type": "markdown",
   "metadata": {},
   "source": [
    "## Numerical integration - `scipy.integrate`\n",
    "\n",
    "Scipy provides functions for numerical integration or *quadrature*.\n",
    "\n",
    "    Wikipedia: \"In mathematics, *quadrature* is a historical term which means the process of determining area.\"\n",
    "    \n",
    "For example the function `quad` can be used to compute definite integrals numerically as shown in the following."
   ]
  },
  {
   "cell_type": "code",
   "execution_count": null,
   "metadata": {},
   "outputs": [],
   "source": [
    "import scipy.integrate\n",
    "\n",
    "def f(x):\n",
    "    # Define the function to be integrated.\n",
    "    # Here we also know the analytical solution \n",
    "    # which allows us to verify the numerical solution.\n",
    "    return x\n",
    "\n",
    "# Compute the definite integral (or 'quadrature') of f.\n",
    "# Define start and end of the integral.\n",
    "a, b = 0, 1\n",
    "quadrature, error = scipy.integrate.quad(f, a, b)\n",
    "\n",
    "analytical_quadrature = 1/2*b**2 - 1/2*a**2\n",
    "print(f\"Analytical integral of f from {a} to {b} is: {analytical_quadrature}\")\n",
    "print(f\"Numerical integral of f from {a} to {b} is: {quadrature}\")\n",
    "print(f\"The absolute error is: {error}\")\n"
   ]
  },
  {
   "cell_type": "markdown",
   "metadata": {},
   "source": [
    "## Solving ordinary differential equations (ODEs) - Initial value problem\n",
    "Solving ODEs is tightly related with numerical integration. The following example will show how to numerically solve an *initial value problem* with Scipy.\n",
    "\n",
    "(An *initial value problem* consists of a differential equation wich describes the rate of change of the *state* variables. Additionally the *initial* state is known.  Solving this problem means to determine the state of the variables depending on time.)\n",
    "\n",
    "The function [`scipy.integrate.solve_ivp`](\n",
    "https://docs.scipy.org/doc/scipy/reference/generated/scipy.integrate.solve_ivp.html#scipy.integrate.solve_ivp) (*IVP* = Initial Value Problem) can be used to find a numerical solution for `y` such that the following holds within some small error:\n",
    "```\n",
    "dy / dt = f(t, y)\n",
    "y(t0) = y0\n",
    "```\n",
    "The state variable `y` can be a single number as well as a *state vector*.\n",
    "\n",
    "The following example shows how the differential equation $ \\dot{y} = -y ~ $ with $ ~ y(0) = 1 $ can be solved numerically."
   ]
  },
  {
   "cell_type": "code",
   "execution_count": 4,
   "metadata": {},
   "outputs": [
    {
     "data": {
      "text/plain": [
       "Text(0, 0.5, '$y(t)$')"
      ]
     },
     "execution_count": 4,
     "metadata": {},
     "output_type": "execute_result"
    },
    {
     "data": {
      "image/png": "[encoded data removed]",
      "text/plain": [
       "<Figure size 432x288 with 1 Axes>"
      ]
     },
     "metadata": {
      "needs_background": "light"
     },
     "output_type": "display_data"
    }
   ],
   "source": [
    "import numpy as np\n",
    "import scipy.integrate\n",
    "import matplotlib.pyplot as plt\n",
    "\n",
    "def exponential_decay(t, y):\n",
    "    \"\"\"\n",
    "    Define the derivative of y at time t.\n",
    "    \"\"\"\n",
    "    # dy/dt = -y\n",
    "    return -y\n",
    "\n",
    "# Set the initial values of of the state variable y.\n",
    "y0 = [1]\n",
    "\n",
    "t_start = 0\n",
    "t_end = 10\n",
    "\n",
    "# Optionally define at which values of t the solution should be returned.\n",
    "# The accuracy of the solution is not affected by the choice of `t_eval`.\n",
    "num_output_samples = 8 # Enlarge this for a smoother plot.\n",
    "t_eval = np.linspace(t_start, t_end, num_output_samples)\n",
    "\n",
    "# Solve the ODE.\n",
    "sol = scipy.integrate.solve_ivp(exponential_decay, [t_start, t_end], y0, \n",
    "                                t_eval=t_eval # This is optional\n",
    "                               )\n",
    "\n",
    "# Plot the results.\n",
    "import matplotlib.pyplot as plt\n",
    "\n",
    "# Plot each component of y. (y is a vector).\n",
    "for i, y in enumerate(sol.y):\n",
    "    plt.plot(sol.t, y, label=f'$y_{i}$')\n",
    "\n",
    "# Format the plot.\n",
    "plt.legend()\n",
    "plt.xlabel('$t$')\n",
    "plt.ylabel('$y(t)$')"
   ]
  },
  {
   "cell_type": "markdown",
   "metadata": {},
   "source": [
    "## Solving differential equations of higher order\n",
    "\n",
    "Differential equations with more than one state variable can be solved as shown in the following example.\n",
    "\n",
    "A linear inhomogenous differential equation of degree 2 shall be considered:\n",
    "\n",
    "$$ \\ddot{x} + a \\dot{x} + bx = u(t) $$\n",
    "\n",
    "Physcially this could describe the behaviour of a damped harmonic oscillator where $x$ corresponds to the amplitude.\n",
    "The `solve_ivp()` function does not directly support solving differential equations of second order. Therefore the equation has to be reformulated into a differential equation of first order using a state vector with two elements.\n",
    "\n",
    "The equation above should be brought into the following form where $ \\mathbf{y} $ is the *state vector* (vectors are marked in bold font):\n",
    "\n",
    "$$ \\dot{\\mathbf{y}} = f(t, \\mathbf{y}) $$\n",
    "\n",
    "First we isolate $\\ddot{x}$ on the left side:\n",
    "\n",
    "$$ \\ddot{x} = - a \\dot{x} - bx + u(t) $$\n",
    "\n",
    "Now we define the *state vector* as:\n",
    "\n",
    "$$ \\mathbf{y} = (y_1, y_2) = (x, \\dot{x}) $$\n",
    "\n",
    "And hence:\n",
    "\n",
    "$$ \\dot{\\mathbf{y}} = (\\dot{x}, \\ddot{x}) $$\n",
    "\n",
    "Because $x = y_1$, $\\dot{x} = y_2$ and $\\ddot{x} = - a \\dot{x} - bx + u(t)$ we can write:\n",
    "\n",
    "$$ \\dot{\\mathbf{y}} = (y_2, - a y_2 - b y_1 + u(t)) $$\n",
    "\n",
    "which now has the required form and can be directly translated into a Python function as shown in the example below."
   ]
  },
  {
   "cell_type": "code",
   "execution_count": null,
   "metadata": {},
   "outputs": [],
   "source": [
    "import scipy.integrate\n",
    "import matplotlib.pyplot as plt\n",
    "\n",
    "def u(t):\n",
    "    \"\"\"\n",
    "    In this example this is a step function.\n",
    "    \"\"\"\n",
    "    if 10 < t:\n",
    "        return 1\n",
    "    else:\n",
    "        return 0\n",
    "\n",
    "def damped_harmonic_oscillator(t, y):\n",
    "    \"\"\"\n",
    "    Define the derivative of y at time t.\n",
    "    This is the `f(t, y)`.\n",
    "    \"\"\"\n",
    "    \n",
    "    # Constants.\n",
    "    a, b = 0.2, 1\n",
    "    \n",
    "    # Unpack the state vector for easier accessing of the elements.\n",
    "    y1, y2 = y\n",
    "    \n",
    "    # Compute derivative of the state vector as derived above.\n",
    "    dy_dt = [\n",
    "        y2,\n",
    "        -a*y2 - b*y1 + u(t)\n",
    "    ]\n",
    "    return dy_dt\n",
    "\n",
    "# Set the initial values of of the state variable y.\n",
    "y0 = [0, 0]\n",
    "\n",
    "# Define start and end time of the solution.\n",
    "t_start = 0\n",
    "t_end = 40\n",
    "\n",
    "# Optionally define at which values of t the solution should be returned.\n",
    "# The accuracy of the solution is not affected by the choice of `t_eval`.\n",
    "num_output_samples = 100 # Enlarge this for a smoother plot.\n",
    "t_eval = np.linspace(t_start, t_end, num_output_samples)\n",
    "\n",
    "# Solve the ODE.\n",
    "# Find a solution to `dy/dt = f(t, y)`.\n",
    "sol = scipy.integrate.solve_ivp(damped_harmonic_oscillator, [t_start, t_end], y0, \n",
    "                                t_eval=t_eval # This is optional\n",
    "                               )\n",
    "\n",
    "# Plot the results.\n",
    "\n",
    "# Plot each component of y. (y is a vector).\n",
    "\n",
    "plt.plot(sol.t, sol.y[0], label='$y_1 = x(t)$')\n",
    "plt.plot(sol.t, sol.y[1], label='$y_2 = \\dot{x}(t)$')\n",
    "\n",
    "# Plot u(t).\n",
    "plt.plot(sol.t, np.vectorize(u)(sol.t), label=\"$u(t)$\")\n",
    "\n",
    "# Format the plot.\n",
    "plt.legend()\n",
    "plt.xlabel('$t$')\n",
    "plt.ylabel('$y(t)$')"
   ]
  },
  {
   "cell_type": "markdown",
   "metadata": {},
   "source": [
    "## Signal processing - `numpy.fft` and `scipy.signal`\n",
    "Scipy offers a wide range of functions for signal processing such as filtering. In the following only an example of the FFT is shown even though `scipy.signal` comes with many functions for signal processing including for example convolutions and filters such as FIR (finite impulse response) and IIR (infinite impulse response) filters together with methods to compute the filter coefficients. For more information see [`scipy.fft`](https://docs.scipy.org/doc/scipy/reference/fft.html), [`scipy.signal`](https://docs.scipy.org/doc/scipy/reference/signal.html)."
   ]
  },
  {
   "cell_type": "code",
   "execution_count": null,
   "metadata": {},
   "outputs": [],
   "source": [
    "from numpy.fft import rfft # Scipy relies on FFT in Numpy.\n",
    "\n",
    "sample_rate = 100\n",
    "t = np.arange(0, 1, step=1/sample_rate)\n",
    "\n",
    "# Create a signal as the sum of two cosine oscillations.\n",
    "\n",
    "# Frequencies of the oscillations.\n",
    "f1 = 10\n",
    "f2 = 20\n",
    "\n",
    "# Create the two oscillating signals.\n",
    "y1 = np.cos(2*np.pi*f1*t)\n",
    "y2 = np.cos(2*np.pi*f2*t)\n",
    "\n",
    "# Add the signals.\n",
    "y = y1 + y2\n",
    "\n",
    "plt.title(\"Signal in time domain\")\n",
    "plt.xlabel(\"t\")\n",
    "plt.ylabel(\"Amplitude\")\n",
    "plt.plot(t, y, '--.')\n",
    "plt.show()\n",
    "\n",
    "# Calculate the FFT of the signal.\n",
    "# `rfft` can be used if the input signal is real.\n",
    "# For complex signals `fft` should be used.\n",
    "fft_data = rfft(y)\n",
    "\n",
    "# Plot the squared absolute of the FFT.\n",
    "# This will show two peaks at 10 and 20 corresponding to the two cosines.\n",
    "plt.plot(np.abs(fft_data)**2, '--.')\n",
    "\n",
    "plt.title(\"Signal in frequency domain\")\n",
    "plt.xlabel(\"f\")\n",
    "plt.ylabel(\"Amplitude\")\n",
    "\n",
    "plt.show()"
   ]
  },
  {
   "cell_type": "markdown",
   "metadata": {},
   "source": [
    "# Exercises\n",
    "Please solve the rest of the exercises.\n",
    "\n",
    "# Uploading solutions\n",
    "Before the end of the class at about 16:00, please \"push\" your solutions. \n",
    "\n",
    "Please do so even if you have not solved all problems: additional\n",
    "uploads can be made in the following days. Instructions are below.\n",
    "\n",
    "### If git is available on your system (preferred option)\n",
    "Add, commit and push your changes to the remote server:\n",
    "\n",
    "`git add -A`\n",
    "\n",
    "`git commit -m 'My solutions to Lecture XX'`\n",
    "\n",
    "`git push origin master`\n",
    "\n",
    "### If git is **not** available on your system\n",
    "This is **not** the favourite solution and it should be avoided whenever possible.\n",
    "\n",
    "Upload your Lecture_XX folder (containing the Exercise file) to the polybox https://polybox.ethz.ch and share the folder with luca.alloatti@ief.ee.ethz.ch, thomas.kramer@ief.ee.ethz.ch, and raphael.schwanninger@ief.ee.ethz.ch . To share the folder go on https://polybox.ethz.ch , then on the right of the folder there is a graph with one vertex connecting to two other vertices: click on it and then type the three emails."
   ]
  },
  {
   "cell_type": "code",
   "execution_count": null,
   "metadata": {},
   "outputs": [],
   "source": []
  }
 ],
 "metadata": {
  "kernelspec": {
   "display_name": "Python 3",
   "language": "python",
   "name": "python3"
  },
  "language_info": {
   "codemirror_mode": {
    "name": "ipython",
    "version": 3
   },
   "file_extension": ".py",
   "mimetype": "text/x-python",
   "name": "python",
   "nbconvert_exporter": "python",
   "pygments_lexer": "ipython3",
   "version": "3.7.6"
  }
 },
 "nbformat": 4,
 "nbformat_minor": 4
}
