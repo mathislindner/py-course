{
 "cells": [
  {
   "cell_type": "markdown",
   "metadata": {},
   "source": [
    "# Exercise 1: Find password of administrator page\n",
    "\n",
    "In this exercise, we will try to find the correct password to access an Administrator-only area on a webpage.\n",
    "\n",
    "Since it's ungentlemanly to just attack a webpage in the public WWW, we have created our own little test webpage for you to try your password cracking: http://163.172.177.190:2819. The goal of this exercise is to find the Flag text on the Admin page.\n",
    "\n",
    "Generally, you will need to do the following:\n",
    "1. Find a good source of potential passwords, e.g. the password dictionary from before.\n",
    "1. Find out with what HTTP requests your browser executes to login to the victim homepage.\n",
    "1. Automate these requests using the `requests` module to try different passwords.\n",
    "1. If necessary, speed up the password-cracking using a `ThreadPoolExecutor`"
   ]
  },
  {
   "cell_type": "markdown",
   "metadata": {},
   "source": [
    "For the first step, investigate the victim site with your browser. You see that we need to provide a password to login. \n",
    "Hint: Try to login with a random guess and inspect the URL."
   ]
  },
  {
   "cell_type": "markdown",
   "metadata": {},
   "source": [
    "Let's use the password dictionary `john.txt` described in the lecture to find the actual password. Load the potential passwords into Python."
   ]
  },
  {
   "cell_type": "code",
   "execution_count": null,
   "metadata": {},
   "outputs": [],
   "source": [
    "# Example of opening the password list.\n",
    "with open('john.txt', 'r') as f:\n",
    "    passwords = [pw[:-1] for pw in f.readlines()]\n",
    "    \n",
    "passwords[:5]  # Print the first few passwords."
   ]
  },
  {
   "cell_type": "markdown",
   "metadata": {},
   "source": [
    "For the next step find out what request to send to mimic your browser behaviour. Make sure that especially the URL and the data fields match your browser request.\n",
    "\n",
    "Using the `requests` module, use Python to send the same request to the victim homepage. Use the response to check if the login was successful or not. For example one could test if the word \"Unauthorized\" appears in the response."
   ]
  },
  {
   "cell_type": "markdown",
   "metadata": {},
   "source": [
    "Write the found flag here (double-click to edit): ..."
   ]
  },
  {
   "cell_type": "markdown",
   "metadata": {
    "collapsed": true
   },
   "source": [
    "# Exercise 2: make a Distributed Denial-of-Service (DDoS) attack (optional)\n",
    "\n",
    "Unfortunately we have not obtained permission from the ETH network administrators to run a massive attack from the Tardis machines. Therefore we will run just a scaled-down version of a Low Orbit Ion Cannon (LOIC, https://en.wikipedia.org/wiki/Low_Orbit_Ion_Cannon). The extension is trivial however.\n",
    "\n",
    "\n",
    "1. Write a Python script which communicates with the server http://51.158.103.167:2819/ (this runs the same software as in Exercise 1 but it is meant to be taken down by DDoS). You can adapt the simple socket-based GET example seen in the lecture, or you can use the ```requests``` module and experiment with large payloads.\n",
    "2. Launch AT MOST 1000 such requests from each of the tardis-cXX machines (try to run first only 100 requests). In other words: **do not** use any endless loop to iterate at a high-speed such attacks from each server: **we have not the permission to try this out!**\n",
    "3. Try to load the page and see if it still loads.\n",
    "4. Also launch an attack from your own computer and if possible coordinate with your colleagues.\n",
    "\n",
    "What you could do, but **are not allowed to do**:\n",
    "* Use and endless loop to iterate the requests.\n",
    "* Use the module ThreadPoolExecutor to increase the throughput.\n",
    "\n",
    "The code should run outside jupyter-notebook."
   ]
  },
  {
   "cell_type": "code",
   "execution_count": null,
   "metadata": {},
   "outputs": [],
   "source": [
    "# SOLUTION:"
   ]
  },
  {
   "cell_type": "markdown",
   "metadata": {},
   "source": [
    "# Exercise 3 (advanced): login into reddit.com (optional)\n",
    "If you have experience with HTTP and with the requests or robobrowser modules, write a script which logs into reddit.com *without* using their API, but using one of these two modules.\n",
    "\n",
    "You need to open an account on reddit.com ."
   ]
  },
  {
   "cell_type": "code",
   "execution_count": null,
   "metadata": {},
   "outputs": [],
   "source": []
  }
 ],
 "metadata": {
  "kernelspec": {
   "display_name": "Python 3",
   "language": "python",
   "name": "python3"
  },
  "language_info": {
   "codemirror_mode": {
    "name": "ipython",
    "version": 3
   },
   "file_extension": ".py",
   "mimetype": "text/x-python",
   "name": "python",
   "nbconvert_exporter": "python",
   "pygments_lexer": "ipython3",
   "version": "3.7.3"
  }
 },
 "nbformat": 4,
 "nbformat_minor": 2
}
