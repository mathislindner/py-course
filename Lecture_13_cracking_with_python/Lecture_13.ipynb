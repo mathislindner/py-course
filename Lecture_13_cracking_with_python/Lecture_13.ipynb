{
 "cells": [
  {
   "cell_type": "markdown",
   "metadata": {},
   "source": [
    "# Notes about this lecture\n",
    "Because of the Corona virus outbreak, this lecture will not be held in the classroom but online only. Further, the lecture will only be available in this written form. In order to offer support for the students we will use the gitlab issue tracker as a question & answer forum: https://git.ee.ethz.ch/python-for-engineers/class-fs20-forum and individual videoconference sessions when needed.\n",
    "\n",
    "## Software\n",
    "\n",
    "### Necessary software\n",
    "Please install the following tools:\n",
    "* python3 (https://www.python.org/downloads/ version 3.8.2 is fine.\n",
    "Python is a prerequisite for jupyter)\n",
    "* jupyter-notebook (https://jupyter.org/install.html)\n",
    "* **Hint for Windows and OSX**: Try to install conda or miniconda (https://docs.conda.io/en/latest/miniconda.html) first. This will install Python and jupyter-notebook automatically.\n",
    "\n",
    "### Optional (but highly recommended) software\n",
    "* git (https://git-scm.com/download/). Git is harder to install but not strictly necessary. **Hint**: On Windows Git will automatically install a Linux compatible shell which can then be found as 'Git BASH'.\n",
    "* If git is not available, solutions shall be uploaded on https://polybox.ethz.ch instead and the folder shall be shared with the lecturers. \n",
    "\n",
    "## Support\n",
    "**For any issues please use the forum** at: https://git.ee.ethz.ch/python-for-engineers/class-fs20-forum and follow the instructions therein. In case of need, we will open a room using Jitsi or BigBlueButton and share the audio, video or the screen: make sure you have a microphone and speakers functioning. \n",
    "\n",
    "This service is offered only **during the normal lecture hours**."
   ]
  },
  {
   "cell_type": "markdown",
   "metadata": {},
   "source": [
    "# Obtaining the material for this lecture\n",
    "### If git is available on your system (preferred option)\n",
    "Pull the new material from the upstream repository:\n",
    "\n",
    "```bash\n",
    "cd class-fs20\n",
    "git pull upstream master\n",
    "```\n",
    "\n",
    "Then launch the jupyter-notebook and open the Lecture_XX file:\n",
    "\n",
    "```bash\n",
    "anaconda # Only on ETH computers to load the Python environment.\n",
    "jupyter-notebook &\n",
    "```\n",
    "\n",
    "### If git is **not** available on your system\n",
    "Download the latest material from:\n",
    "https://git.ee.ethz.ch/python-for-engineers/class-fs20/-/archive/master/class-fs20-master.zip\n",
    "and unpack it on your computer."
   ]
  },
  {
   "cell_type": "markdown",
   "metadata": {},
   "source": [
    "# Announcement:  Open \"Hilfsassistenten\" position for upcoming P&S class\n",
    "\n",
    "We are looking for \"Hilfsassistenten\" for the next edition for this Python P&S. If you enjoyed the lecture and you are interested to help us out in the next semester, please write us an email!"
   ]
  },
  {
   "cell_type": "markdown",
   "metadata": {},
   "source": [
    "# Refreshing previous lectures\n",
    "\n",
    "Please open the jupyter-notebook of the past lecture and read through it. This will help fixing the learned notions into the long-term memory."
   ]
  },
  {
   "cell_type": "markdown",
   "metadata": {},
   "source": [
    "# Lecture 13: Selected topics about cracking with Python\n",
    "\n",
    "## A note on the definition of the words *hacking* and *cracking*\n",
    "\n",
    "Quoting Richard Stallman, \"*it is hard to write a simple definition of something as varied as hacking, but I think what these activities have in common is playfulness, cleverness, and exploration. Thus, hacking means exploring the limits of what is possible, in a spirit of playful cleverness. Activities that display playful cleverness have \"hack value\".*\" https://stallman.org/articles/on-hacking.html.\n",
    "\n",
    "According to this definition, using three chopsticks instead of two for having fun during a dinner would be a form of *hacking* for example.\n",
    "\n",
    "Quoting again https://stallman.org/articles/on-hacking.html: \"*Around 1980, when the news media took notice of hackers, they fixated on one narrow aspect of real hacking: the security breaking which some hackers occasionally did. They ignored all the rest of hacking, and took the term to mean breaking security, no more and no less. The media have since spread that definition, disregarding our attempts to correct them. As a result, most people have a mistaken idea of what we hackers actually do and what we think.*\" \n",
    "\n",
    "The Cambridge Dictionary reports a definition not too far from the one of Stallman:\n",
    "\n",
    "**hacker:** *a person who is skilled in the use of computer systems, often one who illegally obtains access to private computer systems* https://dictionary.cambridge.org/dictionary/english/hacker\n",
    "\n",
    "While the [fake?] Oxford *living* dictionary reports just the narrow meaning of security breaking: \n",
    "\n",
    "**hacking:** *the gaining of unauthorized access to data in a system or computer.* https://en.oxforddictionaries.com/definition/hacking\n",
    "\n",
    "Quoting again Stallman: \"*You can help correct the misunderstanding simply by making a distinction between security breaking and hacking—by using the term \"cracking\" for security breaking. The people who do it are \"crackers\". Some of them may also be hackers, just as some of them may be chess players or golfers; most of them are not.*\""
   ]
  },
  {
   "cell_type": "markdown",
   "metadata": {},
   "source": [
    "## Analysing SQLite databases of Firefox \n",
    "We will begin the lecture with a simple example of *digital forensics*, which is the science of recovering and investigating material found on digital devices https://en.wikipedia.org/wiki/Digital_forensics. \n",
    "\n",
    "Such techniques are sometimes used by attackers to gather knowledge on their victims, and attack them with *social engineering* https://en.wikipedia.org/wiki/Social_engineering_(security) techniques.\n",
    "\n",
    "The following example reads some data stored in some SQL databases of Firefox. For more information about the Firefox databases, visit https://developer.mozilla.org/en-US/docs/Mozilla/Tech/Places/Database ."
   ]
  },
  {
   "cell_type": "code",
   "execution_count": null,
   "metadata": {},
   "outputs": [],
   "source": [
    "import sqlite3\n",
    "\n",
    "def print_places(database):\n",
    "    print('Printing places:', database)\n",
    "    connection = sqlite3.connect(database)\n",
    "    cursor = connection.cursor()\n",
    "    cursor.execute('SELECT url FROM moz_places;')\n",
    "    for row in cursor:\n",
    "        print(row[0])\n",
    "        \n",
    "def print_historyvisits(database):\n",
    "    print('Printing hitoryvisits:', database)\n",
    "    connection = sqlite3.connect(database)\n",
    "    cursor = connection.cursor()\n",
    "    cursor.execute('SELECT id, from_visit, visit_date FROM moz_historyvisits;')\n",
    "    for row in cursor:\n",
    "        print(row[0], row[1])\n",
    "\n",
    "# Use unix-style path name pattern extension to find the 'places.sqlite' databases.\n",
    "from os.path import expanduser\n",
    "import glob\n",
    "homedir = expanduser(\"~\")\n",
    "paths = glob.glob(homedir + \"/.mozilla/firefox/*.*/places.sqlite\")\n",
    "\n",
    "# Alternatively, enter the path manually.\n",
    "# paths = ['/home/XXXXX/.mozilla/firefox/XXXXX.default/places.sqlite']  # Replace with your own path.\n",
    "\n",
    "print(paths)\n",
    "\n",
    "if len(paths) == 0:\n",
    "    print(\"No path could be found. Enter the path manually!\")\n",
    "\n",
    "# Extract the browsing history for each database found.\n",
    "for path in paths:\n",
    "    try:\n",
    "        print_places(path)\n",
    "        print_historyvisits(path)\n",
    "    except Exception as e:\n",
    "        print(\"Error:\", e)\n",
    "        \n",
    "# An error \"database is locked\" means that Firefox is currently running \n",
    "# and the database should not be accessed by another program."
   ]
  },
  {
   "cell_type": "markdown",
   "metadata": {},
   "source": [
    "## Micro exercise 1\n",
    "Run the above code and adapt it as you wish. If no `paths` can be found you may have to set the paths manually by replacing the XXXXX with the correct values or by entering a totally different path to the `places.sqlite` database.\n",
    "\n",
    "To simplify the seach task, it is possible to run in a terminal:\n",
    "\n",
    "```find . -name 'places.sqlite'```\n",
    "\n",
    "**For your privacy: restart the kernel after having run this exercise and do not save your personal data in this notebook.**"
   ]
  },
  {
   "cell_type": "code",
   "execution_count": null,
   "metadata": {},
   "outputs": [],
   "source": []
  },
  {
   "cell_type": "markdown",
   "metadata": {},
   "source": [
    "## Cracking passwords\n",
    "We will start with cracking a file residing on our hard-drive for avoiding the problems related to the low bandwidth of the network."
   ]
  },
  {
   "cell_type": "markdown",
   "metadata": {},
   "source": [
    "## Brute-force cracking a password-protected zip file\n",
    "\n",
    "We will look at two methods: \n",
    "1. scanning at all possible combination of passwords\n",
    "1. using a dictionary (downloadable from the internet) of common passwords"
   ]
  },
  {
   "cell_type": "markdown",
   "metadata": {},
   "source": [
    "### The ```zipfile``` module\n",
    "The ```zipfile``` module provides a convenient interface to zip files. The method ```extractall``` allows to open a password-protected file, and it returns error if the passwords is *not* correct. \n",
    "\n",
    "The example below shows the basic functionality of this method. \n",
    "\n",
    "First, however, let's compress and encrypt a file uzing zip. \n",
    "\n",
    "In a terminal:\n",
    "\n",
    "```zip --encrypt crackme.txt.zip crackme.txt ```\n",
    "\n",
    "If you have troubles encrypting a zip file on your system, you can use the file `crackme.txt.zip` which is already present in your folder, and which is encrypted with the password `zzz`."
   ]
  },
  {
   "cell_type": "code",
   "execution_count": null,
   "metadata": {},
   "outputs": [],
   "source": [
    "# Let's check if it works:\n",
    "import zipfile\n",
    "\n",
    "def crack(file, my_pwd):\n",
    "    try:\n",
    "        file.extractall(pwd=str.encode(my_pwd))\n",
    "        print('Success! The password is: ', my_pwd)\n",
    "    except:\n",
    "        print('Wrong password.')\n",
    "    \n",
    "file = zipfile.ZipFile('crackme.txt.zip')\n",
    "crack(file, 'zzz')\n"
   ]
  },
  {
   "cell_type": "markdown",
   "metadata": {},
   "source": [
    "### Scanning all possible passwords of a given length (slow but complete)\n",
    "The module ```itertools``` and ```string``` come to help in this task. The module ```itertools``` provides the method ```product()``` which creates all possible permutations of a given length (set by the parameter ```repeat```) of some predefined symbols.\n",
    "\n",
    "As predefined symbols we take all possible characters, including letters, numbers and special characters. There is no need to write them by hand, since the module ```string``` provides them with the calls ```string.ascii_letters```, ```string.digits``` and ```string.punctuation``` respectively."
   ]
  },
  {
   "cell_type": "code",
   "execution_count": null,
   "metadata": {},
   "outputs": [],
   "source": [
    "# It takes 0.63 seconds to scan all 2-letters combinations.\n",
    "# It takes 53 seconds to scan all 3-letters combinations.\n",
    "# It takes 15 seconds to find 'zzz' passwords when scanning 3-letters pwds.\n",
    "# Notice: It is possible to speed up the search by parallelizing it.\n",
    "import zipfile\n",
    "import string\n",
    "import itertools\n",
    "import time\n",
    "\n",
    "\n",
    "def crack(file, my_pwd):\n",
    "    try:\n",
    "        #print('tryint this: ', my_pwd)\n",
    "        file.extractall(pwd=str.encode(my_pwd))\n",
    "        print('Success! The password is: ', my_pwd)\n",
    "        end_time = time.time()\n",
    "        print('Done. Time used [s]: ', str(end_time -start_time))\n",
    "    except:\n",
    "        #print('Wrong password.')\n",
    "        pass\n",
    "    \n",
    "file = zipfile.ZipFile('crackme.txt.zip')\n",
    "my_letters = string.ascii_letters + string.digits + string.punctuation\n",
    "print(my_letters)\n",
    "\n",
    "start_time = time.time()\n",
    "\n",
    "for permutation in map(''.join, itertools.product(my_letters, repeat = 3)):\n",
    "    crack(file, permutation)\n",
    "    \n",
    "    \n",
    "end_time = time.time()\n",
    "print('No password found. Time used [s]: ', str(end_time - start_time))"
   ]
  },
  {
   "cell_type": "markdown",
   "metadata": {
    "collapsed": true
   },
   "source": [
    "### Scanning the most common passwords\n",
    "By analysing several leaks, people on the internet have compiled several databases of most common passwords. Some of these are:\n",
    "\n",
    "\n",
    "1. John the Ripper (20kB) http://downloads.skullsecurity.org/passwords/john.txt.bz2\n",
    "1. SVNDigger (2MB)\n",
    "https://www.netsparker.com/s/research/SVNDigger.zip\n",
    "1. DirBuster-Project (38MB)\n",
    "http://downloads.sourceforge.net/dirbuster/DirBuster-Lists.tar.bz\n",
    "1. Breach Compilation (44GB). On December 11 2018 there has been a leak of 1.4 billion email/password pairs. These have been circulating freely on the internet and can be downloaded for example here: ** magnet:?xt=urn:btih:5a9ba318a5478769ddc7393f1e4ac928d9aa4a71&dn=breachcompilation.txt.7z ** (in Debian: launch \"Transmission\" then \"File\" --> \"Open URL\")\n",
    "\n",
    "\n",
    "You can download them on your own. For convenience, a copy of the two smallest databases is provided in ```Lecture_13/john.txt``` and ```Lecture_13/SVNDigger```."
   ]
  },
  {
   "cell_type": "code",
   "execution_count": null,
   "metadata": {},
   "outputs": [],
   "source": [
    "# It takes 1.2 seconds to check all passwords in John the Ripper\n",
    "# It takes 20 seconds to check all passwords in 'SVNDigger/all-extensionless.txt'\n",
    "import zipfile\n",
    "import string\n",
    "import time\n",
    "\n",
    "\n",
    "def crack(file, my_pwd):\n",
    "    try:\n",
    "        #print('tryint this: ', my_pwd)\n",
    "        file.extractall(pwd=str.encode(my_pwd))\n",
    "        print('Success! The password is: ', my_pwd)\n",
    "        end_time = time.time()\n",
    "        print('Done. Time used [s]: ', str(end_time - start_time))\n",
    "    except:\n",
    "        #print('Wrong password.')\n",
    "        pass\n",
    "    \n",
    "file = zipfile.ZipFile('crackme.txt.zip')\n",
    "\n",
    "\n",
    "# reading passwords from the database:\n",
    "with open('john.txt') as f:\n",
    "#with open('SVNDigger/all-extensionless.txt') as f:\n",
    "    read_data = f.read()   \n",
    "    read_data = read_data.split('\\n')\n",
    "    len(read_data)\n",
    "    \n",
    "print('The database contains so many elements: ', len(read_data))\n",
    "#print(read_data)\n",
    "\n",
    "start_time = time.time()\n",
    "\n",
    "for password in read_data:\n",
    "    crack(file, password)\n",
    "    \n",
    "    \n",
    "end_time = time.time()\n",
    "print('No password found. Time used [s]: ', str(end_time - start_time))\n"
   ]
  },
  {
   "cell_type": "markdown",
   "metadata": {},
   "source": [
    "# Mastering `http` with Python: the `requests` module\n",
    "\n",
    "Is it possible to answer an online poll using a Python script?\n",
    "\n",
    "Is it possible to login to a website with Python?\n",
    "\n",
    "The module `requests` comes to help.\n",
    "\n",
    "Documentation: https://2.python-requests.org/"
   ]
  },
  {
   "cell_type": "markdown",
   "metadata": {},
   "source": [
    "### The HyperText Transfer Protocol\n",
    "\n",
    "The HyperText Transfer Protocol (HTTP) today is everywhere. Common web browsers use almost exclusively HTTP for visiting web pages. Even most mobile phone \"apps\" communicate to their home-servers using HTTP. \n",
    "\n",
    "When using HTTP, the client and server communicate by sending plain-text messages. The client sends *requests* to the server and the server sends *responses*. Here is a minimal example of the *request* that browsers send to the ETH web server when visiting the page www.ethz.ch:\n",
    "\n",
    "```\n",
    "GET / HTTP/1.1\n",
    "Host: www.ethz.ch\n",
    "```"
   ]
  },
  {
   "cell_type": "markdown",
   "metadata": {},
   "source": [
    "#### Response Status Codes\n",
    "\n",
    "In each response, there is a HTTP status code which indicates the type of result. The status code is `200` in most cases: it means no error, everything OK. The famous `404` status code indicates that no resource was found at the requested URL. See [Wikipedia](https://en.wikipedia.org/wiki/List_of_HTTP_status_codes) for a full list of defined status codes.\n",
    "\n",
    "#### Request Methods\n",
    "\n",
    "HTTP defines methods to indicate the desired action to be performed. There are seven methods in total:\n",
    "1. **GET**\n",
    "1. **POST**\n",
    "1. PUT\n",
    "1. HEAD\n",
    "1. DELETE\n",
    "1. PATCH\n",
    "1. OPTIONS\n",
    "\n",
    "with GET and POST being the most commonly used. The GET method is used to retrieve information, POST is used to send information to the web server, e.g. when you entered your shipping address into an online shop form. The complete and official documentation is available here: https://www.w3schools.com/tags/ref_httpmethods.asp\n",
    "\n",
    "The ```requests``` module has methods which corresponds exactly to the HTTP methods, as exemplified below.\n",
    "\n",
    "For more information visit the official documentation on \n",
    "https://2.python-requests.org/ . Notice that there is a new version (III) at \n",
    "https://3.python-requests.org/ but which is not installed on the `tardis` machines."
   ]
  },
  {
   "cell_type": "markdown",
   "metadata": {},
   "source": [
    "### A simple example of GET: low-level socket vs. ```requests```\n",
    "In the past lectures, we have already seen the code below which sends a GET request to the www.ethz.ch web page. The ```socket``` module gives low-level access to the ethernet interface, and of course everything that the ```requests``` module does could be done with the ```socket``` module instead."
   ]
  },
  {
   "cell_type": "code",
   "execution_count": null,
   "metadata": {},
   "outputs": [],
   "source": [
    "import socket\n",
    "\n",
    "# Create a client socket and connect to the server.\n",
    "# AF = Address Family\n",
    "# INET = IPv4\n",
    "# SOCK_STREAM = TCP\n",
    "s = socket.socket(socket.AF_INET, socket.SOCK_STREAM)\n",
    "s.connect((\"ethz.ch\", 80))\n",
    "\n",
    "# Send an 'HTTP GET' request to the server.\n",
    "message_to_send = \"GET /index.html HTTP/1.1\\r\\nHost: ethz.ch\\r\\n\\r\\n\"\n",
    "# Encode the message as bytes.\n",
    "message_bytes = message_to_send.encode('utf-8')\n",
    "s.sendall(message_bytes) # Send the bytes.\n",
    "\n",
    "# Receive at most 4096 bytes of the response.\n",
    "response = s.recv(4096)\n",
    "\n",
    "print(\"Server response:\")\n",
    "# The expected response is an HTTP header telling\n",
    "# us that the page has moved to https://ethz.ch/index.html.\n",
    "print(response.decode('utf-8'))\n",
    "\n",
    "# The response should be an HTTP header."
   ]
  },
  {
   "cell_type": "markdown",
   "metadata": {},
   "source": [
    "This is instead how the same code above looks like when using the ```requests``` module:"
   ]
  },
  {
   "cell_type": "code",
   "execution_count": null,
   "metadata": {},
   "outputs": [],
   "source": [
    "import requests\n",
    "\n",
    "target_host = 'http://www.ethz.ch'  # Notice the \"http://\" added to the socket example.\n",
    "\n",
    "response = requests.get(target_host)\n",
    "\n",
    "print('Response url: ', response.url)  # Print just the \"url\" part of the response\n",
    "print('Response status code: ', response.status_code)  \n",
    "print('All available attributes: ', dir(response)) "
   ]
  },
  {
   "cell_type": "markdown",
   "metadata": {},
   "source": [
    "### Firefox tools to analyse web pages\n",
    "Firefox offers the following tools which are very practical for examining web pages:\n",
    "1. ***Inspector***: right click on an item in a web page, then click *Inspect Element*. A window opens at the bottom of the screen highlighting the HTML code part which is responsible of the selected item. The Inspector can be launched also with *Tools --> Web Developer --> Inspector* from the top menu (press the ```Alt``` key to visualize it).\n",
    "1. ***Network (Inspector)*** In the Inspector window there is a *Network* option which allows to follow the HTTP exchange as items are clicked in the page"
   ]
  },
  {
   "cell_type": "markdown",
   "metadata": {},
   "source": [
    "### Micro exercise 2\n",
    "Open the site https://dudle.inf.tu-dresden.de/python-class-123/ with Firefox. Then place the mouse on the white entry box, right-click, and choose \"Inspect Element\". An extra window appears on the bottom showing the HTML code of the site. From the highlighted text we learn that the entry element has the property `name=add_participant` (which will be useful later on).\n",
    "\n",
    "If we scroll the code slightly up, we find that the entry element belongs to a *form* of type *POST*. In fact, we find the text `<form method=\"post\" action=\".\" accept-charset=\"utf-8\">`.\n",
    "\n",
    "If we now click one of the green, red or orange radio buttons and inspect these elements, we find their related names (such as `add_participant_checked_blue` when inspecting the `blue` column) and values (such as `a_yes__`, `c_no__` or `b_maybe`).\n",
    "\n",
    "Run therefore the following example which runs the ```post``` method of the module ```requests``` to vote on the dudle:"
   ]
  },
  {
   "cell_type": "code",
   "execution_count": null,
   "metadata": {},
   "outputs": [],
   "source": [
    "# NOTICE: RUN MAXIMUM TWO TIMES THIS CODE! Otherwise the admin\n",
    "# of the server will notice strange traffic and block the page (it\n",
    "# aldready happened).\n",
    "#\n",
    "# Vote on a dudle using \"requests\" and three lines of python code.\n",
    "import requests\n",
    "\n",
    "# Replace 'Python student 1' with your nickname.\n",
    "payload = {'add_participant': 'Python student 1', 'add_participant_checked_blue' : 'a_yes__' , 'add_participant_checked_green' : 'a_no__'}\n",
    "\n",
    "'''\n",
    "Notice that using the Firefox Inspector the entry reveals to be:\n",
    "<form method=\"post\" action=....>  so: notice the POST!\n",
    "This means that it should be used \n",
    "requests.posts, and not requests.get or requests.put.\n",
    "'''\n",
    "response = requests.post('https://dudle.inf.tu-dresden.de/python-class-123/', data = payload)\n",
    "\n",
    "# Printing the response from the server. If successful, it returns \"200\":\n",
    "print(response)\n",
    "\n",
    "print(\"Refresh the html page to see if the vote has been registered correctly. Use a different participant name if necessary.\")"
   ]
  },
  {
   "cell_type": "markdown",
   "metadata": {},
   "source": [
    "## A slightly more powerful module, but less low-level: RoboBrowser\n",
    "The same functionality described above can be achieved utilizing the module ```robobrowser```. To install this module and its dependence try with `pip install robobrowser`, `pip install bs4`, `pip install werkzeug`).\n",
    "\n",
    "The robobroser module does not require to understand the HTML language as the ```requests``` module, and it can handle, for example, form types automatically as shown below:"
   ]
  },
  {
   "cell_type": "code",
   "execution_count": null,
   "metadata": {},
   "outputs": [],
   "source": [
    "# NOTICE: RUN MAXIMUM ONE TIME THIS CODE!\n",
    "#\n",
    "import werkzeug\n",
    "werkzeug.cached_property = werkzeug.utils.cached_property  # Fix a bug in werkzeug.\n",
    "from robobrowser import RoboBrowser\n",
    "\n",
    "browser = RoboBrowser()\n",
    "browser.open('https://dudle.inf.tu-dresden.de/python-class-123/')\n",
    "\n",
    "forms= browser.get_forms()\n",
    "form = forms[0]   # not strictly necessary since there is only ONE form in this page\n",
    "\n",
    "print('')\n",
    "print('This is the form - find here the input names: ' , form)\n",
    "print('')\n",
    "form['add_participant'] = 'RoboBrowser python student 1'\n",
    "form['add_participant_checked_blue'] = 'a_yes__'  # To find what to write here use Firefox Inspector after clicking on an option.\n",
    "\n",
    "browser.submit_form(form)\n"
   ]
  },
  {
   "cell_type": "markdown",
   "metadata": {},
   "source": [
    "# Micro exercise 3:\n",
    "Visit the site https://dudle.inf.tu-dresden.de and create a new \"Normal poll\" at the address https://dudle.inf.tu-dresden.de/YOUR_NICKNAME. Then modify the code presented during the lecture to vote 3 times automatically (using a loop for example). **CAREFUL:** do not vote more times not to create trouble on the remote server!\n",
    "\n",
    "This example proves that bots can interact massively with web interfaces without any human intervention.\n",
    "\n",
    "Write your solution here:"
   ]
  },
  {
   "cell_type": "code",
   "execution_count": null,
   "metadata": {},
   "outputs": [],
   "source": [
    "# Solution:\n"
   ]
  },
  {
   "cell_type": "markdown",
   "metadata": {},
   "source": [
    "# Micro exercise 4 (advanced and optional)\n",
    "The site http://httpbin.org/ has been created by the same author of the module ```requests``` and it is an excellent site to test the functionality of the module.\n",
    "\n",
    "For example, at the address:\n",
    "\n",
    "http://httpbin.org/basic-auth/some_user/some_password (click on the link and log in with 'some_user' and 'some_password')\n",
    "\n",
    "it is possible to test the authentication method with the chosen user name and password.\n",
    "\n",
    "For more information watch this video at minute 10:\n",
    "* Python Requests Tutorial: Request Web Pages, Download Images, POST Data, Read JSON, and More https://www.youtube.com/watch?v=tb8gHvYlCFs \n",
    "\n",
    "Run a few examples of your choice using the httpbin.org website."
   ]
  },
  {
   "cell_type": "code",
   "execution_count": null,
   "metadata": {},
   "outputs": [],
   "source": []
  },
  {
   "cell_type": "markdown",
   "metadata": {},
   "source": [
    "# Multithreading with `concurrent.futures.ThreadPoolExecutor`\n",
    "\n",
    "[Documentation Link](https://docs.python.org/3/library/concurrent.futures.html?highlight=concurrent%20future#module-concurrent.futures)\n",
    "\n",
    "According to the documentation, \"the `concurrent.futures` module provides a high-level interface for asynchronously executing callables\". In this sentence, \"asynchronously executing callables\" means launching functions but do not wait for them to return before continuing. It provides a high-level way for multithreading.\n",
    "\n",
    "Let's look at the following example:"
   ]
  },
  {
   "cell_type": "code",
   "execution_count": null,
   "metadata": {},
   "outputs": [],
   "source": [
    "from concurrent.futures import ThreadPoolExecutor"
   ]
  },
  {
   "cell_type": "code",
   "execution_count": null,
   "metadata": {},
   "outputs": [],
   "source": [
    "with ThreadPoolExecutor(max_workers=1) as executor:\n",
    "    future = executor.submit(pow, 323, 1235)  # (1)\n",
    "    print(future.result())  # (2)"
   ]
  },
  {
   "cell_type": "markdown",
   "metadata": {},
   "source": [
    "In the above example:\n",
    "\n",
    "* line (1): starts a thread in the background which calculates the 1235th power of 323, but the main program continues!\n",
    "* line (2): stops the main program until the future (i.e. the return value of pow()) is available.\n",
    "\n",
    "So you submit callable objects (`pow` in the example above) to the `executor.submit()` function alongside its arguments. N.b.: You can also use `executor.map` for multiple sets of arguments.\n",
    "\n",
    "There is also a `ProcessPoolExecutor` which starts a new process for every submission, instead of a new thread.\n",
    "\n",
    "**Warning:** The usual multi-threading difficulties apply also here. Make sure you don't actually produce overhead by having to create threads/processes compared to your actual time of the task.\n",
    "\n",
    "For a simple web-access, the networking time is usually the time-limiting factor and it could pay off to parallelize the network accesses. In the following example, we want to get the total size of the HTML of some webpages. For that, we are using the `requests` package."
   ]
  },
  {
   "cell_type": "code",
   "execution_count": null,
   "metadata": {},
   "outputs": [],
   "source": [
    "import requests\n",
    "\n",
    "pages = [\n",
    "    'http://www.cnn.com/',\n",
    "    'http://europe.wsj.com/',\n",
    "    'http://www.bbc.co.uk/',\n",
    "    'http://www.nzz.ch/',\n",
    "    'http://some-non-existing-example.domain/'\n",
    "]\n",
    "\n",
    "def load_url(url, timeout):\n",
    "    response = requests.get(url, timeout=timeout)\n",
    "    return response.text"
   ]
  },
  {
   "cell_type": "code",
   "execution_count": null,
   "metadata": {
    "scrolled": true
   },
   "outputs": [],
   "source": [
    "# Launch requests to pages in parallel\n",
    "with ThreadPoolExecutor(max_workers=5) as executor:\n",
    "    futures_to_url = {executor.submit(load_url, url, 10): url for url in pages}\n",
    "    \n",
    "# For every future, investigate result\n",
    "for future, url in futures_to_url.items():\n",
    "    try:\n",
    "        data = future.result()\n",
    "    except Exception as exc:\n",
    "        print('%r generated an exception: %s' % (url, exc))\n",
    "    else:\n",
    "        print('%r page is %d bytes' % (url, len(data)))"
   ]
  },
  {
   "cell_type": "markdown",
   "metadata": {},
   "source": [
    "Let's compare the runtime between multi-threaded and serial execution."
   ]
  },
  {
   "cell_type": "code",
   "execution_count": null,
   "metadata": {},
   "outputs": [],
   "source": [
    "%%timeit \n",
    "\n",
    "with ThreadPoolExecutor(max_workers=100) as executor:\n",
    "    futures_to_url = {executor.submit(load_url, url, 10): url for url in pages}\n",
    "    \n",
    "for future, url in futures_to_url.items():\n",
    "    try:\n",
    "        data = future.result()\n",
    "    except Exception as exc:\n",
    "        #print('%r generated an exception: %s' % (url, exc)) # not printing for more precise time measurement\n",
    "        pass\n",
    "    else:\n",
    "        #print('%r page is %d bytes' % (url, len(data)))\n",
    "        pass"
   ]
  },
  {
   "cell_type": "code",
   "execution_count": null,
   "metadata": {},
   "outputs": [],
   "source": [
    "%%timeit\n",
    "\n",
    "results = {}\n",
    "for page in pages:\n",
    "    try:\n",
    "        data = load_url(page, 10)\n",
    "    except:\n",
    "        # non-existing-exmple.domain will raise error\n",
    "        pass"
   ]
  },
  {
   "cell_type": "markdown",
   "metadata": {},
   "source": [
    "Depending on your OS and CPU configuration, the results will of course vary."
   ]
  },
  {
   "cell_type": "markdown",
   "metadata": {},
   "source": [
    "# Exercise 1: Find password of administrator page\n",
    "\n",
    "Switch to the \"Exercise_13.ipynb\" notebook and solve exercise 1."
   ]
  },
  {
   "cell_type": "markdown",
   "metadata": {},
   "source": [
    "# SSH botnet\n",
    "Most servers implement a simple security feature to prevent password-cracking attacks like the one above: they simply notice a too large number of requests from the same IP and block it for a certain amount of time. Fail2ban (https://www.fail2ban.org) is an example of program implementing such a feature.\n",
    "\n",
    "A possible solution to this problem, is to automate connections from a large pool of different servers, a so-called *botnet*.\n",
    "\n",
    "Python allows to run SSH connections therefore simplifying the construction of a large number of computers on the network controllable from a single terminal."
   ]
  },
  {
   "cell_type": "markdown",
   "metadata": {},
   "source": [
    "### Running SSH with the ```paramiko``` module\n",
    "Some computers have not the ssh libraries installed and do not work as ssh servers. This is common for Windows computers, unless software such as Putty has been installed.\n",
    "\n",
    "However, if the remote computer has Python and the module paramiko installed, it is possible to transform it to either a client or server for ssh connections. \n",
    "\n",
    "The example below is a client which connects to a remote server.\n",
    "\n",
    "The `paramiko` module may have to be installed first. For example with `pip install paramiko`."
   ]
  },
  {
   "cell_type": "code",
   "execution_count": null,
   "metadata": {},
   "outputs": [],
   "source": [
    "# The module paramiko does not require special installation:\n",
    "# it is available in the folder paramiko inside the Lecture_13 folder.\n",
    "# Best copy-paste this code to a separate file. Otherwise\n",
    "# your NETHZ credentials could accidentially end up into the git repo.\n",
    "import paramiko\n",
    "\n",
    "ip = '129.132.3.158'  # tardis-c23.ee.ethz.ch is 129.132.3.158\n",
    "def ssh_command(ip, user, pwd, command):\n",
    "    client = paramiko.SSHClient()\n",
    "    \n",
    "    client.set_missing_host_key_policy(paramiko.AutoAddPolicy())\n",
    "    client.connect(ip, username = user, password = pwd)\n",
    "    ssh_session = client.get_transport().open_session()\n",
    "    if ssh_session.active:\n",
    "        ssh_session.exec_command(command)\n",
    "        print(ssh_session.recv(1024))\n",
    "    return\n",
    "\n",
    "command = 'ls -la'\n",
    "# command = 'python3 write.py'  # notice that it is possible to launch python scripts too!\n",
    "print(\"CLEAR THIS CELL BEFORE UPLOADING YOUR USERNAME AND PASSWORD TO THE GIT REPO!\")\n",
    "\n",
    "print(\"Enter your ETH username:\")\n",
    "username = input()\n",
    "\n",
    "print(\"Enter your ETH password:\")\n",
    "password = input()\n",
    "\n",
    "from IPython.display import clear_output\n",
    "clear_output() # Wipe the output such that the password does not get printed there.\n",
    "\n",
    "ssh_command(ip, username, password, command)\n"
   ]
  },
  {
   "cell_type": "code",
   "execution_count": null,
   "metadata": {},
   "outputs": [],
   "source": []
  },
  {
   "cell_type": "markdown",
   "metadata": {},
   "source": [
    "### Domain name resolution\n",
    "It is possible to use the domain name instead and let Python respolve the IP address:"
   ]
  },
  {
   "cell_type": "code",
   "execution_count": null,
   "metadata": {},
   "outputs": [],
   "source": [
    "import socket\n",
    "\n",
    "domain_name = 'tardis-c23.ee.ethz.ch'\n",
    "\n",
    "data = socket.gethostbyname_ex(domain_name)\n",
    "print (\"The representation of the answer is : \", repr(data) )  \n",
    "print (\"The IP Address of the Domain Name is: \", data[2][0])\n"
   ]
  },
  {
   "cell_type": "markdown",
   "metadata": {},
   "source": [
    "### Running multiple commands\n",
    "\n",
    "In `paramiko`, a session is a remote execution of a program. The program may be a shell, an application, a system command, or some built-in subsystem. Once the command has executed, the session is finished. Therefore, it is not possible to execute multiple commands in one session. What is possible, however, is to start a remote shell (which is *one* command), and interact with that shell through stdin etc. This is exemplified below:"
   ]
  },
  {
   "cell_type": "code",
   "execution_count": null,
   "metadata": {},
   "outputs": [],
   "source": [
    "\n",
    "import paramiko\n",
    "import socket\n",
    "\n",
    "# Use socket to resolve the domain name into an IP address.\n",
    "domain_name = 'tardis-cXX.ee.ethz.ch'  # Choose a random XX = 01 to 38 here, do not overload a single PC!\n",
    "data = socket.gethostbyname_ex(domain_name)\n",
    "ip = data[2][0] \n",
    "\n",
    "def ssh_connect(ip, user, pwd):\n",
    "    client = paramiko.SSHClient()    \n",
    "    client.set_missing_host_key_policy(paramiko.AutoAddPolicy())\n",
    "    client.connect(ip, username = user, password = pwd)\n",
    "    #ssh_session = client.get_transport().open_session()\n",
    "    channel = client.invoke_shell()\n",
    "    return client, channel\n",
    "\n",
    "print(\"Enter your ETH username:\")\n",
    "username = input()\n",
    "\n",
    "print(\"Enter your ETH password:\")\n",
    "password = input()\n",
    "\n",
    "from IPython.display import clear_output\n",
    "clear_output() # Wipe the output such that the password does not get printed there.\n",
    "\n",
    "client, channel = ssh_connect(ip, username, password)\n",
    "\n",
    "stdin = channel.makefile('wb')\n",
    "stdout = channel.makefile('rb')\n",
    "\n",
    "# Send multiple commands:\n",
    "# the \"exit\" command seems important\n",
    "stdin.write('''\n",
    "id\n",
    "ls\n",
    "exit\n",
    "''')\n",
    "\n",
    "print(stdout.read())\n",
    "\n",
    "# closing everything:\n",
    "stdout.close()\n",
    "stdin.close()\n",
    "client.close()"
   ]
  },
  {
   "cell_type": "markdown",
   "metadata": {},
   "source": [
    "### Micro exercise 5\n",
    "The Python code below writes into a file the host name (like \"tardis-c01\") of the machine which is executing the code.\n",
    "\n",
    "Write a code which logs into each of the 38 tardis computers and appends in the same file the current hostname.\n",
    "\n",
    "Notice that all tardis-cXX computers share the **same network-attached drive**. Hence a file written on a remote machine will immediately be visible on the local machine as well."
   ]
  },
  {
   "cell_type": "code",
   "execution_count": null,
   "metadata": {},
   "outputs": [],
   "source": [
    "# Hint: Run this on each tardis machine.\n",
    "\n",
    "import socket\n",
    "\n",
    "hostname = socket.gethostname() # For example \"tardis-c01\".\n",
    "with open('bot-micro-exercise.txt', 'a') as f:\n",
    "    f.write(hostname)\n",
    "    f.write('\\n')\n",
    "\n",
    "f.close()"
   ]
  },
  {
   "cell_type": "code",
   "execution_count": null,
   "metadata": {},
   "outputs": [],
   "source": []
  },
  {
   "cell_type": "markdown",
   "metadata": {},
   "source": [
    "# Exercise 2: Simulate a DDoS attack\n",
    "Switch to the \"Exercise_13.ipynb\" notebook and solve exercise 2."
   ]
  }
 ],
 "metadata": {
  "kernelspec": {
   "display_name": "Python 3",
   "language": "python",
   "name": "python3"
  },
  "language_info": {
   "codemirror_mode": {
    "name": "ipython",
    "version": 3
   },
   "file_extension": ".py",
   "mimetype": "text/x-python",
   "name": "python",
   "nbconvert_exporter": "python",
   "pygments_lexer": "ipython3",
   "version": "3.7.3"
  }
 },
 "nbformat": 4,
 "nbformat_minor": 2
}
