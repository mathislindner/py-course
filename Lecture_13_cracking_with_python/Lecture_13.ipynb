{
 "cells": [
  {
   "cell_type": "markdown",
   "metadata": {},
   "source": [
    "# Notes about this lecture\n",
    "Because of the Corona virus outbreak, this lecture will not be held in the classroom but online only. Further, the lecture will only be available in this written form. In order to offer support for the students we will use the gitlab issue tracker as a question & answer forum: https://git.ee.ethz.ch/python-for-engineers/class-fs20-forum and individual videoconference sessions when needed.\n",
    "\n",
    "## Software\n",
    "\n",
    "### Necessary software\n",
    "Please install the following tools:\n",
    "* python3 (https://www.python.org/downloads/ version 3.8.2 is fine.\n",
    "Python is a prerequisite for jupyter)\n",
    "* jupyter-notebook (https://jupyter.org/install.html)\n",
    "* **Hint for Windows and OSX**: Try to install conda or miniconda (https://docs.conda.io/en/latest/miniconda.html) first. This will install Python and jupyter-notebook automatically.\n",
    "\n",
    "### Optional (but highly recommended) software\n",
    "* git (https://git-scm.com/download/). Git is harder to install but not strictly necessary. **Hint**: On Windows Git will automatically install a Linux compatible shell which can then be found as 'Git BASH'.\n",
    "* If git is not available, solutions shall be uploaded on https://polybox.ethz.ch instead and the folder shall be shared with the lecturers. \n",
    "\n",
    "## Support\n",
    "**For any issues please use the forum** at: https://git.ee.ethz.ch/python-for-engineers/class-fs20-forum and follow the instructions therein. In case of need, we will open a room using Jitsi or BigBlueButton and share the audio, video or the screen: make sure you have a microphone and speakers functioning. \n",
    "\n",
    "This service is offered only **during the normal lecture hours**."
   ]
  },
  {
   "cell_type": "markdown",
   "metadata": {},
   "source": [
    "# Obtaining the material for this lecture\n",
    "### If git is available on your system (preferred option)\n",
    "Pull the new material from the upstream repository:\n",
    "\n",
    "```bash\n",
    "cd class-fs20\n",
    "git pull upstream master\n",
    "```\n",
    "\n",
    "Then launch the jupyter-notebook and open the Lecture_XX file:\n",
    "\n",
    "```bash\n",
    "anaconda # Only on ETH computers to load the Python environment.\n",
    "jupyter-notebook &\n",
    "```\n",
    "\n",
    "### If git is **not** available on your system\n",
    "Download the latest material from:\n",
    "https://git.ee.ethz.ch/python-for-engineers/class-fs20/-/archive/master/class-fs20-master.zip\n",
    "and unpack it on your computer."
   ]
  },
  {
   "cell_type": "markdown",
   "metadata": {},
   "source": [
    "# Announcement:  Open \"Hilfsassistenten\" position for upcoming P&S class\n",
    "\n",
    "We are looking for \"Hilfsassistenten\" for the next edition for this Python P&S. If you enjoyed the lecture and you are interested to help us out in the next semester, please write us an email!"
   ]
  },
  {
   "cell_type": "markdown",
   "metadata": {},
   "source": [
    "# Refreshing previous lectures\n",
    "\n",
    "Please open the jupyter-notebook of the past lecture and read through it. This will help fixing the learned notions into the long-term memory."
   ]
  },
  {
   "cell_type": "markdown",
   "metadata": {},
   "source": [
    "# Lecture 13: Selected topics about cracking with Python\n",
    "\n",
    "## A note on the definition of the words *hacking* and *cracking*\n",
    "\n",
    "Quoting Richard Stallman, \"*it is hard to write a simple definition of something as varied as hacking, but I think what these activities have in common is playfulness, cleverness, and exploration. Thus, hacking means exploring the limits of what is possible, in a spirit of playful cleverness. Activities that display playful cleverness have \"hack value\".*\" https://stallman.org/articles/on-hacking.html.\n",
    "\n",
    "According to this definition, using three chopsticks instead of two for having fun during a dinner would be a form of *hacking* for example.\n",
    "\n",
    "Quoting again https://stallman.org/articles/on-hacking.html: \"*Around 1980, when the news media took notice of hackers, they fixated on one narrow aspect of real hacking: the security breaking which some hackers occasionally did. They ignored all the rest of hacking, and took the term to mean breaking security, no more and no less. The media have since spread that definition, disregarding our attempts to correct them. As a result, most people have a mistaken idea of what we hackers actually do and what we think.*\" \n",
    "\n",
    "The Cambridge Dictionary reports a definition not too far from the one of Stallman:\n",
    "\n",
    "**hacker:** *a person who is skilled in the use of computer systems, often one who illegally obtains access to private computer systems* https://dictionary.cambridge.org/dictionary/english/hacker\n",
    "\n",
    "While the [fake?] Oxford *living* dictionary reports just the narrow meaning of security breaking: \n",
    "\n",
    "**hacking:** *the gaining of unauthorized access to data in a system or computer.* https://en.oxforddictionaries.com/definition/hacking\n",
    "\n",
    "Quoting again Stallman: \"*You can help correct the misunderstanding simply by making a distinction between security breaking and hacking—by using the term \"cracking\" for security breaking. The people who do it are \"crackers\". Some of them may also be hackers, just as some of them may be chess players or golfers; most of them are not.*\""
   ]
  },
  {
   "cell_type": "markdown",
   "metadata": {},
   "source": [
    "## Analysing SQLite databases of Firefox \n",
    "We will begin the lecture with a simple example of *digital forensics*, which is the science of recovering and investigating material found on digital devices https://en.wikipedia.org/wiki/Digital_forensics. \n",
    "\n",
    "Such techniques are sometimes used by attackers to gather knowledge on their victims, and attack them with *social engineering* https://en.wikipedia.org/wiki/Social_engineering_(security) techniques.\n",
    "\n",
    "The following example reads some data stored in some SQL databases of Firefox. For more information about the Firefox databases, visit https://developer.mozilla.org/en-US/docs/Mozilla/Tech/Places/Database ."
   ]
  },
  {
   "cell_type": "code",
   "execution_count": 12,
   "metadata": {},
   "outputs": [
    {
     "name": "stdout",
     "output_type": "stream",
     "text": [
      "['Users\\\\mathi\\\\AppData\\\\Roaming\\\\Mozilla\\\\Firefox\\\\Profiles\\nuhriviq.default-release\\\\places.sqlite']\n",
      "Printing places: Users\\mathi\\AppData\\Roaming\\Mozilla\\Firefox\\Profiles\n",
      "uhriviq.default-release\\places.sqlite\n",
      "Error: unable to open database file\n"
     ]
    }
   ],
   "source": [
    "import sqlite3\n",
    "\n",
    "def print_places(database):\n",
    "    print('Printing places:', database)\n",
    "    connection = sqlite3.connect(database)\n",
    "    cursor = connection.cursor()\n",
    "    cursor.execute('SELECT url FROM moz_places;')\n",
    "    for row in cursor:\n",
    "        print(row[0])\n",
    "        \n",
    "def print_historyvisits(database):\n",
    "    print('Printing hitoryvisits:', database)\n",
    "    connection = sqlite3.connect(database)\n",
    "    cursor = connection.cursor()\n",
    "    cursor.execute('SELECT id, from_visit, visit_date FROM moz_historyvisits;')\n",
    "    for row in cursor:\n",
    "        print(row[0], row[1])\n",
    "\n",
    "# Use unix-style path name pattern extension to find the 'places.sqlite' databases.\n",
    "from os.path import expanduser\n",
    "import glob\n",
    "homedir = expanduser(\"~\")\n",
    "paths = glob.glob(homedir + \"/.mozilla/firefox/*.*/places.sqlite\")\n",
    "\n",
    "# Alternatively, enter the path manually.\n",
    "paths = [\"Users\\mathi\\AppData\\Roaming\\Mozilla\\Firefox\\Profiles\\nuhriviq.default-release\\places.sqlite\"]  # Replace with your own path.\n",
    "#found the file but doesn t want to be opened...\n",
    "print(paths)\n",
    "\n",
    "if len(paths) == 0:\n",
    "    print(\"No path could be found. Enter the path manually!\")\n",
    "\n",
    "# Extract the browsing history for each database found.\n",
    "for path in paths:\n",
    "    try:\n",
    "        print_places(path)\n",
    "        print_historyvisits(path)\n",
    "    except Exception as e:\n",
    "        print(\"Error:\", e)\n",
    "        \n",
    "# An error \"database is locked\" means that Firefox is currently running \n",
    "# and the database should not be accessed by another program."
   ]
  },
  {
   "cell_type": "markdown",
   "metadata": {},
   "source": [
    "## Micro exercise 1\n",
    "Run the above code and adapt it as you wish. If no `paths` can be found you may have to set the paths manually by replacing the XXXXX with the correct values or by entering a totally different path to the `places.sqlite` database.\n",
    "\n",
    "To simplify the seach task, it is possible to run in a terminal:\n",
    "\n",
    "```find . -name 'places.sqlite'```\n",
    "\n",
    "**For your privacy: restart the kernel after having run this exercise and do not save your personal data in this notebook.**"
   ]
  },
  {
   "cell_type": "code",
   "execution_count": null,
   "metadata": {},
   "outputs": [],
   "source": []
  },
  {
   "cell_type": "markdown",
   "metadata": {},
   "source": [
    "## Cracking passwords\n",
    "We will start with cracking a file residing on our hard-drive for avoiding the problems related to the low bandwidth of the network."
   ]
  },
  {
   "cell_type": "markdown",
   "metadata": {},
   "source": [
    "## Brute-force cracking a password-protected zip file\n",
    "\n",
    "We will look at two methods: \n",
    "1. scanning at all possible combination of passwords\n",
    "1. using a dictionary (downloadable from the internet) of common passwords"
   ]
  },
  {
   "cell_type": "markdown",
   "metadata": {},
   "source": [
    "### The ```zipfile``` module\n",
    "The ```zipfile``` module provides a convenient interface to zip files. The method ```extractall``` allows to open a password-protected file, and it returns error if the passwords is *not* correct. \n",
    "\n",
    "The example below shows the basic functionality of this method. \n",
    "\n",
    "First, however, let's compress and encrypt a file uzing zip. \n",
    "\n",
    "In a terminal:\n",
    "\n",
    "```zip --encrypt crackme.txt.zip crackme.txt ```\n",
    "\n",
    "If you have troubles encrypting a zip file on your system, you can use the file `crackme.txt.zip` which is already present in your folder, and which is encrypted with the password `zzz`."
   ]
  },
  {
   "cell_type": "code",
   "execution_count": 16,
   "metadata": {},
   "outputs": [
    {
     "name": "stdout",
     "output_type": "stream",
     "text": [
      "Success! The password is:  zzz\n"
     ]
    }
   ],
   "source": [
    "# Let's check if it works:\n",
    "import zipfile\n",
    "\n",
    "def crack(file, my_pwd):\n",
    "    try:\n",
    "        file.extractall(pwd=str.encode(my_pwd))\n",
    "        print('Success! The password is: ', my_pwd)\n",
    "    except:\n",
    "        print('Wrong password.')\n",
    "    \n",
    "file = zipfile.ZipFile('crackme.txt.zip')\n",
    "crack(file, 'zzz')\n"
   ]
  },
  {
   "cell_type": "markdown",
   "metadata": {},
   "source": [
    "### Scanning all possible passwords of a given length (slow but complete)\n",
    "The module ```itertools``` and ```string``` come to help in this task. The module ```itertools``` provides the method ```product()``` which creates all possible permutations of a given length (set by the parameter ```repeat```) of some predefined symbols.\n",
    "\n",
    "As predefined symbols we take all possible characters, including letters, numbers and special characters. There is no need to write them by hand, since the module ```string``` provides them with the calls ```string.ascii_letters```, ```string.digits``` and ```string.punctuation``` respectively."
   ]
  },
  {
   "cell_type": "code",
   "execution_count": 17,
   "metadata": {},
   "outputs": [
    {
     "name": "stdout",
     "output_type": "stream",
     "text": [
      "abcdefghijklmnopqrstuvwxyzABCDEFGHIJKLMNOPQRSTUVWXYZ0123456789!\"#$%&'()*+,-./:;<=>?@[\\]^_`{|}~\n",
      "Success! The password is:  zzz\n",
      "Done. Time used [s]:  42.393322467803955\n",
      "No password found. Time used [s]:  164.5825686454773\n"
     ]
    }
   ],
   "source": [
    "# It takes 0.63 seconds to scan all 2-letters combinations.\n",
    "# It takes 53 seconds to scan all 3-letters combinations.\n",
    "# It takes 15 seconds to find 'zzz' passwords when scanning 3-letters pwds.\n",
    "# Notice: It is possible to speed up the search by parallelizing it.\n",
    "import zipfile\n",
    "import string\n",
    "import itertools\n",
    "import time\n",
    "\n",
    "\n",
    "def crack(file, my_pwd):\n",
    "    try:\n",
    "        #print('tryint this: ', my_pwd)\n",
    "        file.extractall(pwd=str.encode(my_pwd))\n",
    "        print('Success! The password is: ', my_pwd)\n",
    "        end_time = time.time()\n",
    "        print('Done. Time used [s]: ', str(end_time -start_time))\n",
    "    except:\n",
    "        #print('Wrong password.')\n",
    "        pass\n",
    "    \n",
    "file = zipfile.ZipFile('crackme.txt.zip')\n",
    "my_letters = string.ascii_letters + string.digits + string.punctuation\n",
    "print(my_letters)\n",
    "\n",
    "start_time = time.time()\n",
    "\n",
    "for permutation in map(''.join, itertools.product(my_letters, repeat = 3)):\n",
    "    crack(file, permutation)\n",
    "    \n",
    "    \n",
    "end_time = time.time()\n",
    "print('No password found. Time used [s]: ', str(end_time - start_time))"
   ]
  },
  {
   "cell_type": "markdown",
   "metadata": {
    "collapsed": true
   },
   "source": [
    "### Scanning the most common passwords\n",
    "By analysing several leaks, people on the internet have compiled several databases of most common passwords. Some of these are:\n",
    "\n",
    "\n",
    "1. John the Ripper (20kB) http://downloads.skullsecurity.org/passwords/john.txt.bz2\n",
    "1. SVNDigger (2MB)\n",
    "https://www.netsparker.com/s/research/SVNDigger.zip\n",
    "1. DirBuster-Project (38MB)\n",
    "http://downloads.sourceforge.net/dirbuster/DirBuster-Lists.tar.bz\n",
    "1. Breach Compilation (44GB). On December 11 2018 there has been a leak of 1.4 billion email/password pairs. These have been circulating freely on the internet and can be downloaded for example here: ** magnet:?xt=urn:btih:5a9ba318a5478769ddc7393f1e4ac928d9aa4a71&dn=breachcompilation.txt.7z ** (in Debian: launch \"Transmission\" then \"File\" --> \"Open URL\")\n",
    "\n",
    "\n",
    "You can download them on your own. For convenience, a copy of the two smallest databases is provided in ```Lecture_13/john.txt``` and ```Lecture_13/SVNDigger```."
   ]
  },
  {
   "cell_type": "code",
   "execution_count": 20,
   "metadata": {},
   "outputs": [
    {
     "name": "stdout",
     "output_type": "stream",
     "text": [
      "The database contains so many elements:  25420\n",
      "No password found. Time used [s]:  6.162144899368286\n"
     ]
    }
   ],
   "source": [
    "# It takes 1.2 seconds to check all passwords in John the Ripper\n",
    "# It takes 20 seconds to check all passwords in 'SVNDigger/all-extensionless.txt'\n",
    "import zipfile\n",
    "import string\n",
    "import time\n",
    "\n",
    "\n",
    "def crack(file, my_pwd):\n",
    "    try:\n",
    "        #print('tryint this: ', my_pwd)\n",
    "        file.extractall(pwd=str.encode(my_pwd))\n",
    "        print('Success! The password is: ', my_pwd)\n",
    "        end_time = time.time()\n",
    "        print('Done. Time used [s]: ', str(end_time - start_time))\n",
    "    except:\n",
    "        #print('Wrong password.')\n",
    "        pass\n",
    "    \n",
    "file = zipfile.ZipFile('crackme.txt.zip')\n",
    "\n",
    "\n",
    "# reading passwords from the database:\n",
    "#with open('john.txt') as f:\n",
    "with open('SVNDigger/all-extensionless.txt') as f:\n",
    "    read_data = f.read()   \n",
    "    read_data = read_data.split('\\n')\n",
    "    len(read_data)\n",
    "    \n",
    "print('The database contains so many elements: ', len(read_data))\n",
    "#print(read_data)\n",
    "\n",
    "start_time = time.time()\n",
    "\n",
    "for password in read_data:\n",
    "    crack(file, password)\n",
    "    \n",
    "    \n",
    "end_time = time.time()\n",
    "print('No password found. Time used [s]: ', str(end_time - start_time))\n"
   ]
  },
  {
   "cell_type": "markdown",
   "metadata": {},
   "source": [
    "# Mastering `http` with Python: the `requests` module\n",
    "\n",
    "Is it possible to answer an online poll using a Python script?\n",
    "\n",
    "Is it possible to login to a website with Python?\n",
    "\n",
    "The module `requests` comes to help.\n",
    "\n",
    "Documentation: https://2.python-requests.org/"
   ]
  },
  {
   "cell_type": "markdown",
   "metadata": {},
   "source": [
    "### The HyperText Transfer Protocol\n",
    "\n",
    "The HyperText Transfer Protocol (HTTP) today is everywhere. Common web browsers use almost exclusively HTTP for visiting web pages. Even most mobile phone \"apps\" communicate to their home-servers using HTTP. \n",
    "\n",
    "When using HTTP, the client and server communicate by sending plain-text messages. The client sends *requests* to the server and the server sends *responses*. Here is a minimal example of the *request* that browsers send to the ETH web server when visiting the page www.ethz.ch:\n",
    "\n",
    "```\n",
    "GET / HTTP/1.1\n",
    "Host: www.ethz.ch\n",
    "```"
   ]
  },
  {
   "cell_type": "markdown",
   "metadata": {},
   "source": [
    "#### Response Status Codes\n",
    "\n",
    "In each response, there is a HTTP status code which indicates the type of result. The status code is `200` in most cases: it means no error, everything OK. The famous `404` status code indicates that no resource was found at the requested URL. See [Wikipedia](https://en.wikipedia.org/wiki/List_of_HTTP_status_codes) for a full list of defined status codes.\n",
    "\n",
    "#### Request Methods\n",
    "\n",
    "HTTP defines methods to indicate the desired action to be performed. There are seven methods in total:\n",
    "1. **GET**\n",
    "1. **POST**\n",
    "1. PUT\n",
    "1. HEAD\n",
    "1. DELETE\n",
    "1. PATCH\n",
    "1. OPTIONS\n",
    "\n",
    "with GET and POST being the most commonly used. The GET method is used to retrieve information, POST is used to send information to the web server, e.g. when you entered your shipping address into an online shop form. The complete and official documentation is available here: https://www.w3schools.com/tags/ref_httpmethods.asp\n",
    "\n",
    "The ```requests``` module has methods which corresponds exactly to the HTTP methods, as exemplified below.\n",
    "\n",
    "For more information visit the official documentation on \n",
    "https://2.python-requests.org/ . Notice that there is a new version (III) at \n",
    "https://3.python-requests.org/ but which is not installed on the `tardis` machines."
   ]
  },
  {
   "cell_type": "markdown",
   "metadata": {},
   "source": [
    "### A simple example of GET: low-level socket vs. ```requests```\n",
    "In the past lectures, we have already seen the code below which sends a GET request to the www.ethz.ch web page. The ```socket``` module gives low-level access to the ethernet interface, and of course everything that the ```requests``` module does could be done with the ```socket``` module instead."
   ]
  },
  {
   "cell_type": "code",
   "execution_count": 21,
   "metadata": {},
   "outputs": [
    {
     "name": "stdout",
     "output_type": "stream",
     "text": [
      "Server response:\n",
      "HTTP/1.1 301 \r\n",
      "Date: Tue, 26 May 2020 11:43:53 GMT\r\n",
      "Server: Varnish\r\n",
      "X-Varnish: 90933817\r\n",
      "location: https://ethz.ch/index.html\r\n",
      "Content-Length: 0\r\n",
      "Connection: keep-alive\r\n",
      "\r\n",
      "\n"
     ]
    }
   ],
   "source": [
    "import socket\n",
    "\n",
    "# Create a client socket and connect to the server.\n",
    "# AF = Address Family\n",
    "# INET = IPv4\n",
    "# SOCK_STREAM = TCP\n",
    "s = socket.socket(socket.AF_INET, socket.SOCK_STREAM)\n",
    "s.connect((\"ethz.ch\", 80))\n",
    "\n",
    "# Send an 'HTTP GET' request to the server.\n",
    "message_to_send = \"GET /index.html HTTP/1.1\\r\\nHost: ethz.ch\\r\\n\\r\\n\"\n",
    "# Encode the message as bytes.\n",
    "message_bytes = message_to_send.encode('utf-8')\n",
    "s.sendall(message_bytes) # Send the bytes.\n",
    "\n",
    "# Receive at most 4096 bytes of the response.\n",
    "response = s.recv(4096)\n",
    "\n",
    "print(\"Server response:\")\n",
    "# The expected response is an HTTP header telling\n",
    "# us that the page has moved to https://ethz.ch/index.html.\n",
    "print(response.decode('utf-8'))\n",
    "\n",
    "# The response should be an HTTP header."
   ]
  },
  {
   "cell_type": "markdown",
   "metadata": {},
   "source": [
    "This is instead how the same code above looks like when using the ```requests``` module:"
   ]
  },
  {
   "cell_type": "code",
   "execution_count": 22,
   "metadata": {},
   "outputs": [
    {
     "name": "stdout",
     "output_type": "stream",
     "text": [
      "Response url:  https://www.ethz.ch/\n",
      "Response status code:  404\n",
      "All available attributes:  ['__attrs__', '__bool__', '__class__', '__delattr__', '__dict__', '__dir__', '__doc__', '__eq__', '__format__', '__ge__', '__getattribute__', '__getstate__', '__gt__', '__hash__', '__init__', '__init_subclass__', '__iter__', '__le__', '__lt__', '__module__', '__ne__', '__new__', '__nonzero__', '__reduce__', '__reduce_ex__', '__repr__', '__setattr__', '__setstate__', '__sizeof__', '__str__', '__subclasshook__', '__weakref__', '_content', '_content_consumed', 'apparent_encoding', 'close', 'connection', 'content', 'cookies', 'elapsed', 'encoding', 'headers', 'history', 'is_permanent_redirect', 'is_redirect', 'iter_content', 'iter_lines', 'json', 'links', 'ok', 'raise_for_status', 'raw', 'reason', 'request', 'status_code', 'text', 'url']\n"
     ]
    }
   ],
   "source": [
    "import requests\n",
    "\n",
    "target_host = 'http://www.ethz.ch'  # Notice the \"http://\" added to the socket example.\n",
    "\n",
    "response = requests.get(target_host)\n",
    "\n",
    "print('Response url: ', response.url)  # Print just the \"url\" part of the response\n",
    "print('Response status code: ', response.status_code)  \n",
    "print('All available attributes: ', dir(response)) "
   ]
  },
  {
   "cell_type": "markdown",
   "metadata": {},
   "source": [
    "### Firefox tools to analyse web pages\n",
    "Firefox offers the following tools which are very practical for examining web pages:\n",
    "1. ***Inspector***: right click on an item in a web page, then click *Inspect Element*. A window opens at the bottom of the screen highlighting the HTML code part which is responsible of the selected item. The Inspector can be launched also with *Tools --> Web Developer --> Inspector* from the top menu (press the ```Alt``` key to visualize it).\n",
    "1. ***Network (Inspector)*** In the Inspector window there is a *Network* option which allows to follow the HTTP exchange as items are clicked in the page"
   ]
  },
  {
   "cell_type": "markdown",
   "metadata": {},
   "source": [
    "### Micro exercise 2\n",
    "Open the site https://dudle.inf.tu-dresden.de/python-class-123/ with Firefox. Then place the mouse on the white entry box, right-click, and choose \"Inspect Element\". An extra window appears on the bottom showing the HTML code of the site. From the highlighted text we learn that the entry element has the property `name=add_participant` (which will be useful later on).\n",
    "\n",
    "If we scroll the code slightly up, we find that the entry element belongs to a *form* of type *POST*. In fact, we find the text `<form method=\"post\" action=\".\" accept-charset=\"utf-8\">`.\n",
    "\n",
    "If we now click one of the green, red or orange radio buttons and inspect these elements, we find their related names (such as `add_participant_checked_blue` when inspecting the `blue` column) and values (such as `a_yes__`, `c_no__` or `b_maybe`).\n",
    "\n",
    "Run therefore the following example which runs the ```post``` method of the module ```requests``` to vote on the dudle:"
   ]
  },
  {
   "cell_type": "code",
   "execution_count": 24,
   "metadata": {},
   "outputs": [
    {
     "name": "stdout",
     "output_type": "stream",
     "text": [
      "<Response [200]>\n",
      "Refresh the html page to see if the vote has been registered correctly. Use a different participant name if necessary.\n"
     ]
    }
   ],
   "source": [
    "# NOTICE: RUN MAXIMUM TWO TIMES THIS CODE! Otherwise the admin\n",
    "# of the server will notice strange traffic and block the page (it\n",
    "# aldready happened).\n",
    "#\n",
    "# Vote on a dudle using \"requests\" and three lines of python code.\n",
    "import requests\n",
    "\n",
    "# Replace 'Python student 1' with your nickname.\n",
    "payload = {'add_participant': 'fOlLoW_mY_iNStaGrAm_:@defonotme', 'add_participant_checked_blue' : 'a_no__' , 'add_participant_checked_green' : 'a_no__'}\n",
    "\n",
    "'''\n",
    "Notice that using the Firefox Inspector the entry reveals to be:\n",
    "<form method=\"post\" action=....>  so: notice the POST!\n",
    "This means that it should be used \n",
    "requests.posts, and not requests.get or requests.put.\n",
    "'''\n",
    "response = requests.post('https://dudle.inf.tu-dresden.de/python-class-123/', data = payload)\n",
    "\n",
    "# Printing the response from the server. If successful, it returns \"200\":\n",
    "print(response)\n",
    "\n",
    "print(\"Refresh the html page to see if the vote has been registered correctly. Use a different participant name if necessary.\")"
   ]
  },
  {
   "cell_type": "markdown",
   "metadata": {},
   "source": [
    "## A slightly more powerful module, but less low-level: RoboBrowser\n",
    "The same functionality described above can be achieved utilizing the module ```robobrowser```. To install this module and its dependence try with `pip install robobrowser`, `pip install bs4`, `pip install werkzeug`).\n",
    "\n",
    "The robobroser module does not require to understand the HTML language as the ```requests``` module, and it can handle, for example, form types automatically as shown below:"
   ]
  },
  {
   "cell_type": "code",
   "execution_count": 26,
   "metadata": {},
   "outputs": [
    {
     "name": "stdout",
     "output_type": "stream",
     "text": [
      "\n",
      "This is the form - find here the input names:  <RoboForm olduser=, add_participant=, add_participant_checked_blue=c_no___, add_participant_checked_green=c_no___>\n",
      "\n"
     ]
    }
   ],
   "source": [
    "# NOTICE: RUN MAXIMUM ONE TIME THIS CODE!\n",
    "#\n",
    "import werkzeug\n",
    "werkzeug.cached_property = werkzeug.utils.cached_property  # Fix a bug in werkzeug.\n",
    "from robobrowser import RoboBrowser\n",
    "\n",
    "browser = RoboBrowser()\n",
    "browser.open('https://dudle.inf.tu-dresden.de/python-class-123/')\n",
    "\n",
    "forms= browser.get_forms()\n",
    "form = forms[0]   # not strictly necessary since there is only ONE form in this page\n",
    "\n",
    "print('')\n",
    "print('This is the form - find here the input names: ' , form)\n",
    "print('')\n",
    "form['add_participant'] = 'RoboBOBO'\n",
    "form['add_participant_checked_blue'] = 'a_yes__'  # To find what to write here use Firefox Inspector after clicking on an option.\n",
    "\n",
    "browser.submit_form(form)\n"
   ]
  },
  {
   "cell_type": "markdown",
   "metadata": {},
   "source": [
    "# Micro exercise 3:\n",
    "Visit the site https://dudle.inf.tu-dresden.de and create a new \"Normal poll\" at the address https://dudle.inf.tu-dresden.de/YOUR_NICKNAME. Then modify the code presented during the lecture to vote 3 times automatically (using a loop for example). **CAREFUL:** do not vote more times not to create trouble on the remote server!\n",
    "\n",
    "This example proves that bots can interact massively with web interfaces without any human intervention.\n",
    "\n",
    "Write your solution here:"
   ]
  },
  {
   "cell_type": "code",
   "execution_count": 30,
   "metadata": {},
   "outputs": [],
   "source": [
    "import werkzeug\n",
    "import string\n",
    "werkzeug.cached_property = werkzeug.utils.cached_property  # Fix a bug in werkzeug.\n",
    "from robobrowser import RoboBrowser\n",
    "import random\n",
    "\n",
    "def random_username():\n",
    "    l = string.ascii_lowercase\n",
    "    return ''.join(random.choice(l) for i in range(5))\n",
    "\n",
    "def random_response():\n",
    "    random_number = random.randint(0,1)\n",
    "    if random_number == 0:\n",
    "        return 'a_yes__'\n",
    "    return 'c_no___'\n",
    "\n",
    "for i in range(3):\n",
    "    browser = RoboBrowser()\n",
    "    browser.open('https://dudle.inf.tu-dresden.de/rick/')\n",
    "\n",
    "    forms= browser.get_forms()\n",
    "    form = forms[0]   # not strictly necessary since there is only ONE form in this page\n",
    "\n",
    "    form['add_participant'] = random_username()\n",
    "    form['add_participant_checked_cucumber'] = random_response()\n",
    "    form['add_participant_checked_pickle'] = random_response()\n",
    "    \n",
    "    browser.submit_form(form)"
   ]
  },
  {
   "cell_type": "markdown",
   "metadata": {},
   "source": [
    "# Micro exercise 4 (advanced and optional)\n",
    "The site http://httpbin.org/ has been created by the same author of the module ```requests``` and it is an excellent site to test the functionality of the module.\n",
    "\n",
    "For example, at the address:\n",
    "\n",
    "http://httpbin.org/basic-auth/some_user/some_password (click on the link and log in with 'some_user' and 'some_password')\n",
    "\n",
    "it is possible to test the authentication method with the chosen user name and password.\n",
    "\n",
    "For more information watch this video at minute 10:\n",
    "* Python Requests Tutorial: Request Web Pages, Download Images, POST Data, Read JSON, and More https://www.youtube.com/watch?v=tb8gHvYlCFs \n",
    "\n",
    "Run a few examples of your choice using the httpbin.org website."
   ]
  },
  {
   "cell_type": "code",
   "execution_count": null,
   "metadata": {},
   "outputs": [],
   "source": []
  },
  {
   "cell_type": "markdown",
   "metadata": {},
   "source": [
    "# Multithreading with `concurrent.futures.ThreadPoolExecutor`\n",
    "\n",
    "[Documentation Link](https://docs.python.org/3/library/concurrent.futures.html?highlight=concurrent%20future#module-concurrent.futures)\n",
    "\n",
    "According to the documentation, \"the `concurrent.futures` module provides a high-level interface for asynchronously executing callables\". In this sentence, \"asynchronously executing callables\" means launching functions but do not wait for them to return before continuing. It provides a high-level way for multithreading.\n",
    "\n",
    "Let's look at the following example:"
   ]
  },
  {
   "cell_type": "code",
   "execution_count": 32,
   "metadata": {},
   "outputs": [],
   "source": [
    "from concurrent.futures import ThreadPoolExecutor"
   ]
  },
  {
   "cell_type": "code",
   "execution_count": 33,
   "metadata": {},
   "outputs": [
    {
     "name": "stdout",
     "output_type": "stream",
     "text": [
      "733018741971166252529244672995227796776583345783942437386911678051742014907619818389889490523633966891088361470574959346120460571462260749066868322280895817921819178047106351622746089787222709001409723271535998886740900624008120633567081904814632812393533764463134148203902627783449817391855430335563732106041226371560673691183984708116601872233266074247493626304648260263767914583249791984053769482918833516091413131011123944919964273965579371981208614941585953495908535921540210708056885341387737215923345202544222865141850763901074317449693617326298168109535915635940121796253976420394712905525890085230066381155268301872764521970724361150250533240741250911370641578495445037349949847056446112243875919940177685220040160664042867777937760175315580842852772334361081793849764931709880797656009445214260838004008425745329486287217583337196739975624879209997958066918269289529173759400388462627027867023449158801888859657106016910393756105722308386102404609268566550368738720443422703712421937413064228232666730605742388335837146714118055611327514203299723649208298344877573265368313069762781039793226859829488229032564965635731481369752167217585943588854930073123415040389709513212962223638396059885947892393069120539629752913087293860710229309854604802321674065167382714715102476300146693438431833224964213369532024918771644330976993898734654636960222338307689812245659000814812860386873604770823862137671384853381092605916632447158620208279102871362522121737075798746297634021439677681885846906025762209900264981149145400622176046541895913713446104210012678561757945542108470975177238574885971783008091688989094139568186322074509855040235429441987295597788583656003164149522040284092940950997841383270838931250004957560959392148357213125798758355221152004876638131530060401294918574742158403027075892317311713232948774508045444387008377268956511566790988750066274475945057011826156359365664084922898519338475775136584478799585953802786369705215183341960068786541347670144480851661915646211142904738434781594527201521904996219737980968884208250267436396423981779399709186303960293407672554877346877193170897982220120029537710504050457313802321446995592434916524383256286111803049392908220573240027642399185919278901303127877945119916025120410258623536046989159056988455695917457277794657573586903543406892809506842341172324188614146189747989997492566982444418485858555939830994931765546646159933948646331181720254477223093614552419921625948715007606190469859917311824745902574837132432028609681828479562137848761003845549339456254612745501089667544053262976758087180329859844324991679303251520118205924889348811070368534970345655190383142368597970622914787824113699770230464815835988172741718871079971541784210688842581288010501153867757557117911157916834496975757069921359922064002354851413718493414469919988528124300509472377943419402710070938638340816072261896269139282992942967710326722487988387814927252378444344275944579731813013115789048970941051188880593003843626208600970181761638829477861608229607983725051555487136745926844381097959339538810272017727875770008857972396527027073630500507\n"
     ]
    }
   ],
   "source": [
    "with ThreadPoolExecutor(max_workers=1) as executor:\n",
    "    future = executor.submit(pow, 323, 1235)  # (1)\n",
    "    print(future.result())  # (2)"
   ]
  },
  {
   "cell_type": "markdown",
   "metadata": {},
   "source": [
    "In the above example:\n",
    "\n",
    "* line (1): starts a thread in the background which calculates the 1235th power of 323, but the main program continues!\n",
    "* line (2): stops the main program until the future (i.e. the return value of pow()) is available.\n",
    "\n",
    "So you submit callable objects (`pow` in the example above) to the `executor.submit()` function alongside its arguments. N.b.: You can also use `executor.map` for multiple sets of arguments.\n",
    "\n",
    "There is also a `ProcessPoolExecutor` which starts a new process for every submission, instead of a new thread.\n",
    "\n",
    "**Warning:** The usual multi-threading difficulties apply also here. Make sure you don't actually produce overhead by having to create threads/processes compared to your actual time of the task.\n",
    "\n",
    "For a simple web-access, the networking time is usually the time-limiting factor and it could pay off to parallelize the network accesses. In the following example, we want to get the total size of the HTML of some webpages. For that, we are using the `requests` package."
   ]
  },
  {
   "cell_type": "code",
   "execution_count": 34,
   "metadata": {},
   "outputs": [],
   "source": [
    "import requests\n",
    "\n",
    "pages = [\n",
    "    'http://www.cnn.com/',\n",
    "    'http://europe.wsj.com/',\n",
    "    'http://www.bbc.co.uk/',\n",
    "    'http://www.nzz.ch/',\n",
    "    'http://some-non-existing-example.domain/'\n",
    "]\n",
    "\n",
    "def load_url(url, timeout):\n",
    "    response = requests.get(url, timeout=timeout)\n",
    "    return response.text"
   ]
  },
  {
   "cell_type": "code",
   "execution_count": 35,
   "metadata": {
    "scrolled": true
   },
   "outputs": [
    {
     "name": "stdout",
     "output_type": "stream",
     "text": [
      "'http://www.cnn.com/' page is 1131375 bytes\n",
      "'http://europe.wsj.com/' page is 614935 bytes\n",
      "'http://www.bbc.co.uk/' page is 282111 bytes\n",
      "'http://www.nzz.ch/' page is 829468 bytes\n",
      "'http://some-non-existing-example.domain/' generated an exception: HTTPConnectionPool(host='some-non-existing-example.domain', port=80): Max retries exceeded with url: / (Caused by NewConnectionError('<requests.packages.urllib3.connection.HTTPConnection object at 0x000001E736879F60>: Failed to establish a new connection: [Errno 11001] getaddrinfo failed'))\n"
     ]
    }
   ],
   "source": [
    "# Launch requests to pages in parallel\n",
    "with ThreadPoolExecutor(max_workers=5) as executor:\n",
    "    futures_to_url = {executor.submit(load_url, url, 10): url for url in pages}\n",
    "    \n",
    "# For every future, investigate result\n",
    "for future, url in futures_to_url.items():\n",
    "    try:\n",
    "        data = future.result()\n",
    "    except Exception as exc:\n",
    "        print('%r generated an exception: %s' % (url, exc))\n",
    "    else:\n",
    "        print('%r page is %d bytes' % (url, len(data)))"
   ]
  },
  {
   "cell_type": "markdown",
   "metadata": {},
   "source": [
    "Let's compare the runtime between multi-threaded and serial execution."
   ]
  },
  {
   "cell_type": "code",
   "execution_count": 41,
   "metadata": {},
   "outputs": [
    {
     "name": "stdout",
     "output_type": "stream",
     "text": [
      "382 ms ± 35.9 ms per loop (mean ± std. dev. of 7 runs, 1 loop each)\n"
     ]
    }
   ],
   "source": [
    "%%timeit \n",
    "\n",
    "with ThreadPoolExecutor(max_workers=100) as executor:\n",
    "    futures_to_url = {executor.submit(load_url, url, 10): url for url in pages}\n",
    "    \n",
    "for future, url in futures_to_url.items():\n",
    "    try:\n",
    "        data = future.result()\n",
    "    except Exception as exc:\n",
    "        #print('%r generated an exception: %s' % (url, exc)) # not printing for more precise time measurement\n",
    "        pass\n",
    "    else:\n",
    "        #print('%r page is %d bytes' % (url, len(data)))\n",
    "        pass"
   ]
  },
  {
   "cell_type": "code",
   "execution_count": 40,
   "metadata": {},
   "outputs": [
    {
     "name": "stdout",
     "output_type": "stream",
     "text": [
      "1.13 s ± 93.5 ms per loop (mean ± std. dev. of 7 runs, 1 loop each)\n"
     ]
    }
   ],
   "source": [
    "%%timeit\n",
    "\n",
    "results = {}\n",
    "for page in pages:\n",
    "    try:\n",
    "        data = load_url(page, 10)\n",
    "    except:\n",
    "        # non-existing-exmple.domain will raise error\n",
    "        pass"
   ]
  },
  {
   "cell_type": "markdown",
   "metadata": {},
   "source": [
    "Depending on your OS and CPU configuration, the results will of course vary."
   ]
  },
  {
   "cell_type": "markdown",
   "metadata": {},
   "source": [
    "# Exercise 1: Find password of administrator page\n",
    "\n",
    "Switch to the \"Exercise_13.ipynb\" notebook and solve exercise 1."
   ]
  },
  {
   "cell_type": "markdown",
   "metadata": {},
   "source": [
    "# SSH botnet\n",
    "Most servers implement a simple security feature to prevent password-cracking attacks like the one above: they simply notice a too large number of requests from the same IP and block it for a certain amount of time. Fail2ban (https://www.fail2ban.org) is an example of program implementing such a feature.\n",
    "\n",
    "A possible solution to this problem, is to automate connections from a large pool of different servers, a so-called *botnet*.\n",
    "\n",
    "Python allows to run SSH connections therefore simplifying the construction of a large number of computers on the network controllable from a single terminal."
   ]
  },
  {
   "cell_type": "markdown",
   "metadata": {},
   "source": [
    "### Running SSH with the ```paramiko``` module\n",
    "Some computers have not the ssh libraries installed and do not work as ssh servers. This is common for Windows computers, unless software such as Putty has been installed.\n",
    "\n",
    "However, if the remote computer has Python and the module paramiko installed, it is possible to transform it to either a client or server for ssh connections. \n",
    "\n",
    "The example below is a client which connects to a remote server.\n",
    "\n",
    "The `paramiko` module may have to be installed first. For example with `pip install paramiko`."
   ]
  },
  {
   "cell_type": "code",
   "execution_count": 44,
   "metadata": {},
   "outputs": [
    {
     "ename": "TimeoutError",
     "evalue": "[WinError 10060] Ein Verbindungsversuch ist fehlgeschlagen, da die Gegenstelle nach einer bestimmten Zeitspanne nicht richtig reagiert hat, oder die hergestellte Verbindung war fehlerhaft, da der verbundene Host nicht reagiert hat",
     "output_type": "error",
     "traceback": [
      "\u001b[1;31m---------------------------------------------------------------------------\u001b[0m",
      "\u001b[1;31mTimeoutError\u001b[0m                              Traceback (most recent call last)",
      "\u001b[1;32m<ipython-input-44-b46dbc5a98c4>\u001b[0m in \u001b[0;36m<module>\u001b[1;34m\u001b[0m\n\u001b[0;32m     30\u001b[0m \u001b[0mclear_output\u001b[0m\u001b[1;33m(\u001b[0m\u001b[1;33m)\u001b[0m \u001b[1;31m# Wipe the output such that the password does not get printed there.\u001b[0m\u001b[1;33m\u001b[0m\u001b[0m\n\u001b[0;32m     31\u001b[0m \u001b[1;33m\u001b[0m\u001b[0m\n\u001b[1;32m---> 32\u001b[1;33m \u001b[0mssh_command\u001b[0m\u001b[1;33m(\u001b[0m\u001b[0mip\u001b[0m\u001b[1;33m,\u001b[0m \u001b[0musername\u001b[0m\u001b[1;33m,\u001b[0m \u001b[0mpassword\u001b[0m\u001b[1;33m,\u001b[0m \u001b[0mcommand\u001b[0m\u001b[1;33m)\u001b[0m\u001b[1;33m\u001b[0m\u001b[0m\n\u001b[0m",
      "\u001b[1;32m<ipython-input-44-b46dbc5a98c4>\u001b[0m in \u001b[0;36mssh_command\u001b[1;34m(ip, user, pwd, command)\u001b[0m\n\u001b[0;32m     10\u001b[0m \u001b[1;33m\u001b[0m\u001b[0m\n\u001b[0;32m     11\u001b[0m     \u001b[0mclient\u001b[0m\u001b[1;33m.\u001b[0m\u001b[0mset_missing_host_key_policy\u001b[0m\u001b[1;33m(\u001b[0m\u001b[0mparamiko\u001b[0m\u001b[1;33m.\u001b[0m\u001b[0mAutoAddPolicy\u001b[0m\u001b[1;33m(\u001b[0m\u001b[1;33m)\u001b[0m\u001b[1;33m)\u001b[0m\u001b[1;33m\u001b[0m\u001b[0m\n\u001b[1;32m---> 12\u001b[1;33m     \u001b[0mclient\u001b[0m\u001b[1;33m.\u001b[0m\u001b[0mconnect\u001b[0m\u001b[1;33m(\u001b[0m\u001b[0mip\u001b[0m\u001b[1;33m,\u001b[0m \u001b[0musername\u001b[0m \u001b[1;33m=\u001b[0m \u001b[0muser\u001b[0m\u001b[1;33m,\u001b[0m \u001b[0mpassword\u001b[0m \u001b[1;33m=\u001b[0m \u001b[0mpwd\u001b[0m\u001b[1;33m)\u001b[0m\u001b[1;33m\u001b[0m\u001b[0m\n\u001b[0m\u001b[0;32m     13\u001b[0m     \u001b[0mssh_session\u001b[0m \u001b[1;33m=\u001b[0m \u001b[0mclient\u001b[0m\u001b[1;33m.\u001b[0m\u001b[0mget_transport\u001b[0m\u001b[1;33m(\u001b[0m\u001b[1;33m)\u001b[0m\u001b[1;33m.\u001b[0m\u001b[0mopen_session\u001b[0m\u001b[1;33m(\u001b[0m\u001b[1;33m)\u001b[0m\u001b[1;33m\u001b[0m\u001b[0m\n\u001b[0;32m     14\u001b[0m     \u001b[1;32mif\u001b[0m \u001b[0mssh_session\u001b[0m\u001b[1;33m.\u001b[0m\u001b[0mactive\u001b[0m\u001b[1;33m:\u001b[0m\u001b[1;33m\u001b[0m\u001b[0m\n",
      "\u001b[1;32mc:\\users\\mathi\\appdata\\local\\programs\\python\\python37\\lib\\site-packages\\paramiko\\client.py\u001b[0m in \u001b[0;36mconnect\u001b[1;34m(self, hostname, port, username, password, pkey, key_filename, timeout, allow_agent, look_for_keys, compress, sock, gss_auth, gss_kex, gss_deleg_creds, gss_host, banner_timeout, auth_timeout, gss_trust_dns, passphrase, disabled_algorithms)\u001b[0m\n\u001b[0;32m    347\u001b[0m                         \u001b[1;32mexcept\u001b[0m\u001b[1;33m:\u001b[0m\u001b[1;33m\u001b[0m\u001b[0m\n\u001b[0;32m    348\u001b[0m                             \u001b[1;32mpass\u001b[0m\u001b[1;33m\u001b[0m\u001b[0m\n\u001b[1;32m--> 349\u001b[1;33m                     \u001b[0mretry_on_signal\u001b[0m\u001b[1;33m(\u001b[0m\u001b[1;32mlambda\u001b[0m\u001b[1;33m:\u001b[0m \u001b[0msock\u001b[0m\u001b[1;33m.\u001b[0m\u001b[0mconnect\u001b[0m\u001b[1;33m(\u001b[0m\u001b[0maddr\u001b[0m\u001b[1;33m)\u001b[0m\u001b[1;33m)\u001b[0m\u001b[1;33m\u001b[0m\u001b[0m\n\u001b[0m\u001b[0;32m    350\u001b[0m                     \u001b[1;31m# Break out of the loop on success\u001b[0m\u001b[1;33m\u001b[0m\u001b[1;33m\u001b[0m\u001b[0m\n\u001b[0;32m    351\u001b[0m                     \u001b[1;32mbreak\u001b[0m\u001b[1;33m\u001b[0m\u001b[0m\n",
      "\u001b[1;32mc:\\users\\mathi\\appdata\\local\\programs\\python\\python37\\lib\\site-packages\\paramiko\\util.py\u001b[0m in \u001b[0;36mretry_on_signal\u001b[1;34m(function)\u001b[0m\n\u001b[0;32m    281\u001b[0m     \u001b[1;32mwhile\u001b[0m \u001b[1;32mTrue\u001b[0m\u001b[1;33m:\u001b[0m\u001b[1;33m\u001b[0m\u001b[0m\n\u001b[0;32m    282\u001b[0m         \u001b[1;32mtry\u001b[0m\u001b[1;33m:\u001b[0m\u001b[1;33m\u001b[0m\u001b[0m\n\u001b[1;32m--> 283\u001b[1;33m             \u001b[1;32mreturn\u001b[0m \u001b[0mfunction\u001b[0m\u001b[1;33m(\u001b[0m\u001b[1;33m)\u001b[0m\u001b[1;33m\u001b[0m\u001b[0m\n\u001b[0m\u001b[0;32m    284\u001b[0m         \u001b[1;32mexcept\u001b[0m \u001b[0mEnvironmentError\u001b[0m \u001b[1;32mas\u001b[0m \u001b[0me\u001b[0m\u001b[1;33m:\u001b[0m\u001b[1;33m\u001b[0m\u001b[0m\n\u001b[0;32m    285\u001b[0m             \u001b[1;32mif\u001b[0m \u001b[0me\u001b[0m\u001b[1;33m.\u001b[0m\u001b[0merrno\u001b[0m \u001b[1;33m!=\u001b[0m \u001b[0merrno\u001b[0m\u001b[1;33m.\u001b[0m\u001b[0mEINTR\u001b[0m\u001b[1;33m:\u001b[0m\u001b[1;33m\u001b[0m\u001b[0m\n",
      "\u001b[1;32mc:\\users\\mathi\\appdata\\local\\programs\\python\\python37\\lib\\site-packages\\paramiko\\client.py\u001b[0m in \u001b[0;36m<lambda>\u001b[1;34m()\u001b[0m\n\u001b[0;32m    347\u001b[0m                         \u001b[1;32mexcept\u001b[0m\u001b[1;33m:\u001b[0m\u001b[1;33m\u001b[0m\u001b[0m\n\u001b[0;32m    348\u001b[0m                             \u001b[1;32mpass\u001b[0m\u001b[1;33m\u001b[0m\u001b[0m\n\u001b[1;32m--> 349\u001b[1;33m                     \u001b[0mretry_on_signal\u001b[0m\u001b[1;33m(\u001b[0m\u001b[1;32mlambda\u001b[0m\u001b[1;33m:\u001b[0m \u001b[0msock\u001b[0m\u001b[1;33m.\u001b[0m\u001b[0mconnect\u001b[0m\u001b[1;33m(\u001b[0m\u001b[0maddr\u001b[0m\u001b[1;33m)\u001b[0m\u001b[1;33m)\u001b[0m\u001b[1;33m\u001b[0m\u001b[0m\n\u001b[0m\u001b[0;32m    350\u001b[0m                     \u001b[1;31m# Break out of the loop on success\u001b[0m\u001b[1;33m\u001b[0m\u001b[1;33m\u001b[0m\u001b[0m\n\u001b[0;32m    351\u001b[0m                     \u001b[1;32mbreak\u001b[0m\u001b[1;33m\u001b[0m\u001b[0m\n",
      "\u001b[1;31mTimeoutError\u001b[0m: [WinError 10060] Ein Verbindungsversuch ist fehlgeschlagen, da die Gegenstelle nach einer bestimmten Zeitspanne nicht richtig reagiert hat, oder die hergestellte Verbindung war fehlerhaft, da der verbundene Host nicht reagiert hat"
     ]
    }
   ],
   "source": [
    "# The module paramiko does not require special installation:\n",
    "# it is available in the folder paramiko inside the Lecture_13 folder.\n",
    "# Best copy-paste this code to a separate file. Otherwise\n",
    "# your NETHZ credentials could accidentially end up into the git repo.\n",
    "import paramiko\n",
    "\n",
    "ip = '129.132.3.158'  # tardis-c23.ee.ethz.ch is 129.132.3.158\n",
    "def ssh_command(ip, user, pwd, command):\n",
    "    client = paramiko.SSHClient()\n",
    "    \n",
    "    client.set_missing_host_key_policy(paramiko.AutoAddPolicy())\n",
    "    client.connect(ip, username = user, password = pwd)\n",
    "    ssh_session = client.get_transport().open_session()\n",
    "    if ssh_session.active:\n",
    "        ssh_session.exec_command(command)\n",
    "        print(ssh_session.recv(1024))\n",
    "    return\n",
    "\n",
    "command = 'ls -la'\n",
    "# command = 'python3 write.py'  # notice that it is possible to launch python scripts too!\n",
    "print(\"CLEAR THIS CELL BEFORE UPLOADING YOUR USERNAME AND PASSWORD TO THE GIT REPO!\")\n",
    "\n",
    "print(\"Enter your ETH username:\")\n",
    "username = input()\n",
    "\n",
    "print(\"Enter your ETH password:\")\n",
    "password = input()\n",
    "\n",
    "from IPython.display import clear_output\n",
    "clear_output() # Wipe the output such that the password does not get printed there.\n",
    "\n",
    "ssh_command(ip, username, password, command)\n"
   ]
  },
  {
   "cell_type": "code",
   "execution_count": null,
   "metadata": {},
   "outputs": [],
   "source": []
  },
  {
   "cell_type": "markdown",
   "metadata": {},
   "source": [
    "### Domain name resolution\n",
    "It is possible to use the domain name instead and let Python respolve the IP address:"
   ]
  },
  {
   "cell_type": "code",
   "execution_count": 45,
   "metadata": {},
   "outputs": [
    {
     "name": "stdout",
     "output_type": "stream",
     "text": [
      "The representation of the answer is :  ('tardis-c23.ee.ethz.ch', [], ['129.132.3.158'])\n",
      "The IP Address of the Domain Name is:  129.132.3.158\n"
     ]
    }
   ],
   "source": [
    "import socket\n",
    "\n",
    "domain_name = 'tardis-c23.ee.ethz.ch'\n",
    "\n",
    "data = socket.gethostbyname_ex(domain_name)\n",
    "print (\"The representation of the answer is : \", repr(data) )  \n",
    "print (\"The IP Address of the Domain Name is: \", data[2][0])\n"
   ]
  },
  {
   "cell_type": "markdown",
   "metadata": {},
   "source": [
    "### Running multiple commands\n",
    "\n",
    "In `paramiko`, a session is a remote execution of a program. The program may be a shell, an application, a system command, or some built-in subsystem. Once the command has executed, the session is finished. Therefore, it is not possible to execute multiple commands in one session. What is possible, however, is to start a remote shell (which is *one* command), and interact with that shell through stdin etc. This is exemplified below:"
   ]
  },
  {
   "cell_type": "code",
   "execution_count": null,
   "metadata": {},
   "outputs": [],
   "source": [
    "\n",
    "import paramiko\n",
    "import socket\n",
    "\n",
    "# Use socket to resolve the domain name into an IP address.\n",
    "domain_name = 'tardis-c06.ee.ethz.ch'  # Choose a random XX = 01 to 38 here, do not overload a single PC!\n",
    "data = socket.gethostbyname_ex(domain_name)\n",
    "ip = data[2][0] \n",
    "\n",
    "def ssh_connect(ip, user, pwd):\n",
    "    client = paramiko.SSHClient()    \n",
    "    client.set_missing_host_key_policy(paramiko.AutoAddPolicy())\n",
    "    client.connect(ip, username = user, password = pwd)\n",
    "    #ssh_session = client.get_transport().open_session()\n",
    "    channel = client.invoke_shell()\n",
    "    return client, channel\n",
    "\n",
    "print(\"Enter your ETH username:\")\n",
    "username = input()\n",
    "\n",
    "print(\"Enter your ETH password:\")\n",
    "password = input()\n",
    "\n",
    "from IPython.display import clear_output\n",
    "clear_output() # Wipe the output such that the password does not get printed there.\n",
    "\n",
    "client, channel = ssh_connect(ip, username, password)\n",
    "\n",
    "stdin = channel.makefile('wb')\n",
    "stdout = channel.makefile('rb')\n",
    "\n",
    "# Send multiple commands:\n",
    "# the \"exit\" command seems important\n",
    "stdin.write('''\n",
    "id\n",
    "ls\n",
    "exit\n",
    "''')\n",
    "\n",
    "print(stdout.read())\n",
    "\n",
    "# closing everything:\n",
    "stdout.close()\n",
    "stdin.close()\n",
    "client.close()"
   ]
  },
  {
   "cell_type": "markdown",
   "metadata": {},
   "source": [
    "### Micro exercise 5\n",
    "The Python code below writes into a file the host name (like \"tardis-c01\") of the machine which is executing the code.\n",
    "\n",
    "Write a code which logs into each of the 38 tardis computers and appends in the same file the current hostname.\n",
    "\n",
    "Notice that all tardis-cXX computers share the **same network-attached drive**. Hence a file written on a remote machine will immediately be visible on the local machine as well."
   ]
  },
  {
   "cell_type": "code",
   "execution_count": null,
   "metadata": {},
   "outputs": [
    {
     "name": "stdout",
     "output_type": "stream",
     "text": [
      "Enter your ETH username:\n"
     ]
    }
   ],
   "source": [
    "# Hint: Run this on each tardis machine.\n",
    "\n",
    "import socket\n",
    "import paramiko\n",
    "\n",
    "def ssh_connect(ip, user, pwd):\n",
    "        client = paramiko.SSHClient()    \n",
    "        client.set_missing_host_key_policy(paramiko.AutoAddPolicy())\n",
    "        client.connect(ip, username = user, password = pwd)\n",
    "        #ssh_session = client.get_transport().open_session()\n",
    "        channel = client.invoke_shell()\n",
    "        return client, channel\n",
    "\n",
    "print(\"Enter your ETH username:\")\n",
    "username = input()\n",
    "print(\"Enter your ETH password:\")\n",
    "password = input()\n",
    "from IPython.display import clear_output\n",
    "clear_output() # Wipe the output such that the password does not get printed there.\n",
    "\n",
    "for i in range(38):\n",
    "    if (i<10):\n",
    "        computer_number = '0'+ str(i+1) \n",
    "    else:\n",
    "        computer_number = str(i+1)\n",
    "        \n",
    "    # Use socket to resolve the domain name into an IP address.\n",
    "    domain_name = 'tardis-c'+computer_number+'.ee.ethz.ch'  # Choose a random XX = 01 to 38 here, do not overload a single PC!\n",
    "    data = socket.gethostbyname_ex(domain_name)\n",
    "    ip = data[2][0] \n",
    "\n",
    "    client, channel = ssh_connect(ip, username, password)\n",
    "\n",
    "    hostname = socket.gethostname() # does that line still work?\n",
    "    with open('bot-micro-exercise.txt', 'a') as f:\n",
    "        f.write(hostname)\n",
    "        f.write('\\n')\n",
    "\n",
    "f.close() #doesn t with host name already close the file automatically?"
   ]
  },
  {
   "cell_type": "code",
   "execution_count": null,
   "metadata": {},
   "outputs": [],
   "source": []
  },
  {
   "cell_type": "markdown",
   "metadata": {},
   "source": [
    "# Exercise 2: Simulate a DDoS attack\n",
    "Switch to the \"Exercise_13.ipynb\" notebook and solve exercise 2."
   ]
  }
 ],
 "metadata": {
  "kernelspec": {
   "display_name": "Python 3",
   "language": "python",
   "name": "python3"
  },
  "language_info": {
   "codemirror_mode": {
    "name": "ipython",
    "version": 3
   },
   "file_extension": ".py",
   "mimetype": "text/x-python",
   "name": "python",
   "nbconvert_exporter": "python",
   "pygments_lexer": "ipython3",
   "version": "3.7.0"
  }
 },
 "nbformat": 4,
 "nbformat_minor": 2
}
