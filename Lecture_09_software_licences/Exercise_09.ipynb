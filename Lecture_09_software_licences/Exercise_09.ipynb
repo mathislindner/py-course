{
 "cells": [
  {
   "cell_type": "markdown",
   "metadata": {},
   "source": [
    "### $\\mu$-exercise 1: matplotlib refresher\n",
    "Use `matplotlib.pyplot.plot` to produce a plot of the functions $f(x) = e^{-x/10}\\sin(\\pi x)$ and $g(x) = x e^{-x/3}$ over the interval \\[0,10\\]. Use different colors and different marker and line styles. Include labels for the x- and y-axes, and a legend explaining which line is which plot."
   ]
  },
  {
   "cell_type": "code",
   "execution_count": null,
   "metadata": {},
   "outputs": [],
   "source": []
  },
  {
   "cell_type": "markdown",
   "metadata": {},
   "source": [
    "### $\\mu$-exercise 2: SciPy refresher\n",
    "Below is given some random data. Fit it using `scipy.optimize` and by assuming a fitting function of the form $f(x) = A \\sin(x + \\phi)$, where $A$ and $\\phi$ are the values to optimize for the fit."
   ]
  },
  {
   "cell_type": "code",
   "execution_count": null,
   "metadata": {},
   "outputs": [],
   "source": [
    "import scipy.optimize\n",
    "import numpy as np\n",
    "import matplotlib.pyplot as plt\n",
    "\n",
    "# Generate a sine with random noise\n",
    "num = 100 # number of points\n",
    "xdata = np.linspace(start = 0, stop = 2*np.pi, num = num)\n",
    "ydata = np.sin(xdata) + 0.1 * np.random.normal(size = num)\n",
    "print(xdata)\n",
    "\n",
    "# Plot the data\n",
    "plt.plot(xdata, ydata, 'x', label='Measurement points')\n",
    "plt.legend()\n",
    "plt.show()\n",
    "\n",
    "## START SOLUTION\n",
    "\n",
    "\n",
    "## END SOLUTION"
   ]
  },
  {
   "cell_type": "markdown",
   "metadata": {},
   "source": [
    "### $\\mu$-exercise 3: Find link to the source code for an AGPL program\n",
    "Visit the site https://dudle.hu-berlin.de/ and find the link to the source code.\n",
    "    \n",
    "Paste the link here (double-click to edit):    "
   ]
  },
  {
   "cell_type": "markdown",
   "metadata": {},
   "source": [
    "### $\\mu$-exercise 4: choosealicense.com about the MIT licence\n",
    "\n",
    "Visit the page https://choosealicense.com/licenses/mit/ and try to understand whether the original author can sue or not one of the users of the published software. \n",
    "\n",
    "What does the website tell about it? Write your answer here: ...\n",
    "\n",
    "Notice: https://choosealicense.com  is the website where https://github.com redirects to when inquiring about a licence.  "
   ]
  },
  {
   "cell_type": "markdown",
   "metadata": {},
   "source": [
    "# Exercise 1\n",
    "* Create a folder called Exercise_1 in the Lecture_09 folder and add some Python files in it: you can either write some new code or write some code you wrote ealier. It is not imporant if your program does not work (just imagine it does).\n",
    "* Choose a licence which suites your requirements/wishes. To this end you can to check:\n",
    "    * the notes in the lecture\n",
    "    * https://www.gnu.org/licenses/license-list.html\n",
    "    * https://en.wikipedia.org/wiki/Comparison_of_free_and_open-source_software_licenses\n",
    "    * https://choosealicense.com/licenses/ (misleading)\n",
    "\n",
    "* Add the licence to your program like if you were publishing the code somewhere (e.g. on\n",
    "https://codeberg.org/ , on https://sourceforge.net/ or on https://github.com/ )"
   ]
  },
  {
   "cell_type": "markdown",
   "metadata": {},
   "source": [
    "# Exercise 2\n",
    "\n",
    "* Create a folder called Exercise 2 and copy in it the files of Exercise 1.\n",
    "* Download the source code of some Python libraries of your choice from the Internet (for example from https://codeberg.org/explore/repos ) and add them to your program (it is not necessary that the program works -just imagine it does).\n",
    "* Re-package the new and larger project with a new licence:\n",
    "    * make sure that you do not violate any incompatibility between different licences (check the details of your licence)\n",
    "    * as an example, if file A is under GPL and file B is under MIT/Apache/BSD, the larger project containing files A and B has to be licensed GPL as a whole, and the individual files with their original licence.\n",
    "* What is the licence you chose in Exercise 1? Write your answer here (double-click to edit): \n",
    "* What is the licence of the code you downloaded? Write your answer here: \n",
    "* What is the licence of the overall project? Write your answer here: \n",
    "* Imagine that the author of the code you downloaded from the internet has a secret patent which is implemented inside the code he shared with you.\n",
    "    * Can he sue you for patent infringement and why? Write your answer here:\n"
   ]
  },
  {
   "cell_type": "markdown",
   "metadata": {},
   "source": [
    "# Exercise 3 (optional)\n",
    "Solve the following quiz at https://www.gnu.org/cgi-bin/license-quiz.cgi\n",
    "\n",
    "Hints: \n",
    "1. The quiz was written in the old times when source code was mainly distributed via CDs, but it is still valid today\n",
    "2. The quiz refers to an older version of (L)GPL (version 2 instead of 3), therefore you can consult the text at\n",
    "https://www.gnu.org/licenses/gpl-2.0.html or at https://www.gnu.org/licenses/lgpl-2.1.html\n",
    "\n",
    "Once you solved the quiz, make a screenshot and call it Exercise_3.jpg (or similar).\n"
   ]
  },
  {
   "cell_type": "code",
   "execution_count": null,
   "metadata": {},
   "outputs": [],
   "source": []
  }
 ],
 "metadata": {
  "kernelspec": {
   "display_name": "Python 3",
   "language": "python",
   "name": "python3"
  },
  "language_info": {
   "codemirror_mode": {
    "name": "ipython",
    "version": 3
   },
   "file_extension": ".py",
   "mimetype": "text/x-python",
   "name": "python",
   "nbconvert_exporter": "python",
   "pygments_lexer": "ipython3",
   "version": "3.7.3"
  }
 },
 "nbformat": 4,
 "nbformat_minor": 2
}
