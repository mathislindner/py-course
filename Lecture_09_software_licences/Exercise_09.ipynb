{
 "cells": [
  {
   "cell_type": "markdown",
   "metadata": {},
   "source": [
    "### $\\mu$-exercise 1: matplotlib refresher\n",
    "Use `matplotlib.pyplot.plot` to produce a plot of the functions $f(x) = e^{-x/10}\\sin(\\pi x)$ and $g(x) = x e^{-x/3}$ over the interval \\[0,10\\]. Use different colors and different marker and line styles. Include labels for the x- and y-axes, and a legend explaining which line is which plot."
   ]
  },
  {
   "cell_type": "code",
   "execution_count": 25,
   "metadata": {},
   "outputs": [
    {
     "data": {
      "image/png": "[encoded data removed]",
      "text/plain": [
       "<Figure size 432x288 with 2 Axes>"
      ]
     },
     "metadata": {
      "needs_background": "light"
     },
     "output_type": "display_data"
    }
   ],
   "source": [
    "import matplotlib.pyplot as plt\n",
    "import numpy as np\n",
    "\n",
    "def f(x):\n",
    "    return np.exp(-x/10)*np.sin(np.pi*x)\n",
    "\n",
    "def g(x):\n",
    "    return x*np.exp(-x/3)\n",
    "\n",
    "interval = np.arange(0.0, 10.0, 0.1)\n",
    "\n",
    "plt.figure()\n",
    "plt.subplot(211)\n",
    "plt.plot(interval, f(interval),'.',color = \"red\")\n",
    "plt.xlabel(\"1<x<10\")\n",
    "plt.ylabel(\"f(x)\")\n",
    "\n",
    "\n",
    "plt.subplot(212)\n",
    "plt.plot(interval,g(interval),'2',\"g(x)\",color = 'blue')\n",
    "plt.xlabel(\"1<x<10\")\n",
    "plt.ylabel(\"g(x)\")\n",
    "\n",
    "plt.show()"
   ]
  },
  {
   "cell_type": "markdown",
   "metadata": {},
   "source": [
    "### $\\mu$-exercise 2: SciPy refresher\n",
    "Below is given some random data. Fit it using `scipy.optimize` and by assuming a fitting function of the form $f(x) = A \\sin(x + \\phi)$, where $A$ and $\\phi$ are the values to optimize for the fit."
   ]
  },
  {
   "cell_type": "code",
   "execution_count": 41,
   "metadata": {},
   "outputs": [
    {
     "name": "stdout",
     "output_type": "stream",
     "text": [
      "[0.         0.06346652 0.12693304 0.19039955 0.25386607 0.31733259\n",
      " 0.38079911 0.44426563 0.50773215 0.57119866 0.63466518 0.6981317\n",
      " 0.76159822 0.82506474 0.88853126 0.95199777 1.01546429 1.07893081\n",
      " 1.14239733 1.20586385 1.26933037 1.33279688 1.3962634  1.45972992\n",
      " 1.52319644 1.58666296 1.65012947 1.71359599 1.77706251 1.84052903\n",
      " 1.90399555 1.96746207 2.03092858 2.0943951  2.15786162 2.22132814\n",
      " 2.28479466 2.34826118 2.41172769 2.47519421 2.53866073 2.60212725\n",
      " 2.66559377 2.72906028 2.7925268  2.85599332 2.91945984 2.98292636\n",
      " 3.04639288 3.10985939 3.17332591 3.23679243 3.30025895 3.36372547\n",
      " 3.42719199 3.4906585  3.55412502 3.61759154 3.68105806 3.74452458\n",
      " 3.8079911  3.87145761 3.93492413 3.99839065 4.06185717 4.12532369\n",
      " 4.1887902  4.25225672 4.31572324 4.37918976 4.44265628 4.5061228\n",
      " 4.56958931 4.63305583 4.69652235 4.75998887 4.82345539 4.88692191\n",
      " 4.95038842 5.01385494 5.07732146 5.14078798 5.2042545  5.26772102\n",
      " 5.33118753 5.39465405 5.45812057 5.52158709 5.58505361 5.64852012\n",
      " 5.71198664 5.77545316 5.83891968 5.9023862  5.96585272 6.02931923\n",
      " 6.09278575 6.15625227 6.21971879 6.28318531]\n"
     ]
    },
    {
     "data": {
      "image/png": "[encoded data removed]",
      "text/plain": [
       "<Figure size 432x288 with 1 Axes>"
      ]
     },
     "metadata": {
      "needs_background": "light"
     },
     "output_type": "display_data"
    }
   ],
   "source": [
    "import scipy.optimize as optimize\n",
    "import numpy as np\n",
    "import matplotlib.pyplot as plt\n",
    "\n",
    "# Generate a sine with random noise\n",
    "num = 100 # number of points\n",
    "xdata = np.linspace(start = 0, stop = 2*np.pi, num = num)\n",
    "ydata = np.sin(xdata) + 0.1 * np.random.normal(size = num)\n",
    "print(xdata)\n",
    "\n",
    "# Plot the data\n",
    "plt.plot(xdata, ydata, 'x', label='Measurement points')\n",
    "plt.legend()\n",
    "\n",
    "\n",
    "## START SOLUTION\n",
    "def f(x,parameters):\n",
    "    a,phi = parameters\n",
    "    return a*np.sin(x+phi)\n",
    "\n",
    "def error(parameters):\n",
    "    total = 0\n",
    "    for i in range(len(ydata)):\n",
    "        total += (ydata[i]-f(xdata[i],parameters))**2\n",
    "    return total\n",
    "\n",
    "initial_guess = [1,1]\n",
    "result = scipy.optimize.minimize(fun = error,x0 = initial_guess, tol = 0.0001)\n",
    "\n",
    "a, phi = result.x\n",
    "plt.plot(xdata, f(xdata,[a,phi]), 'k', label = 'fitted function')\n",
    "\n",
    "plt.show()\n",
    "## END SOLUTION"
   ]
  },
  {
   "cell_type": "markdown",
   "metadata": {},
   "source": [
    "### $\\mu$-exercise 3: Find link to the source code for an AGPL program\n",
    "Visit the site https://dudle.hu-berlin.de/ and find the link to the source code.\n",
    "    \n",
    "Paste the link here (double-click to edit): http://www.gnu.org/licenses/  "
   ]
  },
  {
   "cell_type": "markdown",
   "metadata": {},
   "source": [
    "### $\\mu$-exercise 4: choosealicense.com about the MIT licence\n",
    "\n",
    "Visit the page https://choosealicense.com/licenses/mit/ and try to understand whether the original author can sue or not one of the users of the published software. \n",
    "\n",
    "What does the website tell about it? Write your answer here: \n",
    "Commercial use\n",
    "Distribution\n",
    "Modification\n",
    "Private use\n",
    "\n",
    "as long as there s License and copyright notice and the conditions are met, not allowed to sue\n",
    "\n",
    "Notice: https://choosealicense.com  is the website where https://github.com redirects to when inquiring about a licence.  "
   ]
  },
  {
   "cell_type": "markdown",
   "metadata": {},
   "source": [
    "# Exercise 1\n",
    "* Create a folder called Exercise_1 in the Lecture_09 folder and add some Python files in it: you can either write some new code or write some code you wrote ealier. It is not imporant if your program does not work (just imagine it does).\n",
    "* Choose a licence which suites your requirements/wishes. To this end you can to check:\n",
    "    * the notes in the lecture\n",
    "    * https://www.gnu.org/licenses/license-list.html\n",
    "    * https://en.wikipedia.org/wiki/Comparison_of_free_and_open-source_software_licenses\n",
    "    * https://choosealicense.com/licenses/ (misleading)\n",
    "\n",
    "* Add the licence to your program like if you were publishing the code somewhere (e.g. on\n",
    "https://codeberg.org/ , on https://sourceforge.net/ or on https://github.com/ )"
   ]
  },
  {
   "cell_type": "markdown",
   "metadata": {},
   "source": [
    "# Exercise 2\n",
    "\n",
    "* Create a folder called Exercise 2 and copy in it the files of Exercise 1.\n",
    "* Download the source code of some Python libraries of your choice from the Internet (for example from https://codeberg.org/explore/repos ) and add them to your program (it is not necessary that the program works -just imagine it does).\n",
    "* Re-package the new and larger project with a new licence:\n",
    "    * make sure that you do not violate any incompatibility between different licences (check the details of your licence)\n",
    "    * as an example, if file A is under GPL and file B is under MIT/Apache/BSD, the larger project containing files A and B has to be licensed GPL as a whole, and the individual files with their original licence.\n",
    "* What is the licence you chose in Exercise 1? \n",
    "GPL\n",
    "* What is the licence of the code you downloaded? Write your answer here: \n",
    "MIT\n",
    "* What is the licence of the overall project? Write your answer here: \n",
    "larger project containing files A and B has to be licensed GPL as a whole, and the individual files with their original licence.\n",
    "\n",
    "* Imagine that the author of the code you downloaded from the internet has a secret patent which is implemented inside the code he shared with you.\n",
    "    * Can he sue you for patent infringement and why? Write your answer here:\n",
    "yes for not meeting the agreed conditions"
   ]
  },
  {
   "cell_type": "markdown",
   "metadata": {},
   "source": [
    "# Exercise 3 (optional)\n",
    "Solve the following quiz at https://www.gnu.org/cgi-bin/license-quiz.cgi\n",
    "\n",
    "Hints: \n",
    "1. The quiz was written in the old times when source code was mainly distributed via CDs, but it is still valid today\n",
    "2. The quiz refers to an older version of (L)GPL (version 2 instead of 3), therefore you can consult the text at\n",
    "https://www.gnu.org/licenses/gpl-2.0.html or at https://www.gnu.org/licenses/lgpl-2.1.html\n",
    "\n",
    "Once you solved the quiz, make a screenshot and call it Exercise_3.jpg (or similar).\n"
   ]
  },
  {
   "cell_type": "code",
   "execution_count": null,
   "metadata": {},
   "outputs": [],
   "source": []
  }
 ],
 "metadata": {
  "kernelspec": {
   "display_name": "Python 3",
   "language": "python",
   "name": "python3"
  },
  "language_info": {
   "codemirror_mode": {
    "name": "ipython",
    "version": 3
   },
   "file_extension": ".py",
   "mimetype": "text/x-python",
   "name": "python",
   "nbconvert_exporter": "python",
   "pygments_lexer": "ipython3",
   "version": "3.7.0"
  }
 },
 "nbformat": 4,
 "nbformat_minor": 2
}
