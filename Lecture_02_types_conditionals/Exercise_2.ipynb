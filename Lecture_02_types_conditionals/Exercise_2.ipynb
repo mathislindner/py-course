{
 "cells": [
  {
   "cell_type": "markdown",
   "metadata": {},
   "source": [
    "# Python Basics 1 - Exercises"
   ]
  },
  {
   "cell_type": "markdown",
   "metadata": {},
   "source": [
    "## $\\mu$-exercises"
   ]
  },
  {
   "cell_type": "markdown",
   "metadata": {},
   "source": [
    "#### 1\n",
    "\n",
    "Calculate how many micro-seconds there are in a decade."
   ]
  },
  {
   "cell_type": "code",
   "execution_count": null,
   "metadata": {
    "scrolled": true
   },
   "outputs": [],
   "source": [
    "x=10*365*24*60*60*100\n",
    "print(x)"
   ]
  },
  {
   "cell_type": "markdown",
   "metadata": {},
   "source": [
    "#### 2\n",
    "\n",
    "Write a program that calculates and prints the sum, the product, and the floating-point quotient of two variables you chose. Indicate for each result which operation it is from within your `print` output."
   ]
  },
  {
   "cell_type": "code",
   "execution_count": null,
   "metadata": {},
   "outputs": [],
   "source": [
    "a=1\n",
    "b=3\n",
    "\n",
    "Sum=a+b\n",
    "Prod=a*b\n",
    "Quot=a/b\n",
    "\n",
    "print('Sum = ',Sum,'\\n'+'Product =',Prod,'\\n'+'Quotient= ',Quot)\n",
    "    "
   ]
  },
  {
   "cell_type": "markdown",
   "metadata": {},
   "source": [
    "#### 3\n",
    "\n",
    "Ask the user for a text string and split the string in half. Print the second part of the string.\n",
    "\n",
    "__Hint:__ Strings can be split by specifying the indexes at which the string should be split, e.g. ```print('hello'[0:3])``` prints ```hel```. Use the `input()` function to ask the user for input, and the `len()` function to find the length of the string."
   ]
  },
  {
   "cell_type": "code",
   "execution_count": null,
   "metadata": {},
   "outputs": [],
   "source": [
    "S = input()\n",
    "length=len(S)\n",
    "print(S[int(length/2):length])"
   ]
  },
  {
   "cell_type": "markdown",
   "metadata": {},
   "source": [
    "#### 4\n",
    "\n",
    "Enhance your solution to 3: Count how many words are in the input string and print it.\n",
    "\n",
    "**Hint:** Words are separated by spaces."
   ]
  },
  {
   "cell_type": "code",
   "execution_count": null,
   "metadata": {},
   "outputs": [],
   "source": [
    "S=input()\n",
    "    \n",
    "print(S.count(' ')+1) #doesn t work with random spaces at the end"
   ]
  },
  {
   "cell_type": "markdown",
   "metadata": {},
   "source": [
    "#### 5\n",
    "\n",
    "Using the `cmath` module, calculate the solution of $e^{j\\pi}+1$. See [the module documentation](https://docs.python.org/3.7/library/cmath.html) for all available functions."
   ]
  },
  {
   "cell_type": "code",
   "execution_count": null,
   "metadata": {},
   "outputs": [],
   "source": [
    "import cmath\n",
    "\n",
    "print(cmath.e**(cmath.pi*1j)+1)"
   ]
  },
  {
   "cell_type": "markdown",
   "metadata": {},
   "source": [
    "#### 6\n",
    "\n",
    "Create a list of strings of your choice (names, fruits, beverages etc.), sort it alphabetically and print it."
   ]
  },
  {
   "cell_type": "code",
   "execution_count": null,
   "metadata": {},
   "outputs": [],
   "source": [
    "li=['dog','string','nice']\n",
    "\n",
    "print(sorted(li))"
   ]
  },
  {
   "cell_type": "markdown",
   "metadata": {},
   "source": [
    "#### 7\n",
    "\n",
    "From the list of task 6, put the first and the last element into a new list and print it. To this new list, add another element of your chosing in between the two already present. Print the list again."
   ]
  },
  {
   "cell_type": "code",
   "execution_count": null,
   "metadata": {},
   "outputs": [],
   "source": [
    "newli=[li[0],(li[len(li)-1])]\n",
    "newli.append('sup')\n",
    "print(newli)"
   ]
  },
  {
   "cell_type": "markdown",
   "metadata": {},
   "source": [
    "#### 8\n",
    "\n",
    "Create a dictionary of 3 people with their telephone numbers and print it. Use the people's names as key, their telephone number as value."
   ]
  },
  {
   "cell_type": "code",
   "execution_count": null,
   "metadata": {},
   "outputs": [],
   "source": [
    "dic = {'jack':117,'jones':112,'john':911}\n",
    "print(dic)"
   ]
  },
  {
   "cell_type": "markdown",
   "metadata": {},
   "source": [
    "#### 9\n",
    "\n",
    "Alter the dictionary from 8 by adding one more person and his/her telephone number."
   ]
  },
  {
   "cell_type": "code",
   "execution_count": null,
   "metadata": {},
   "outputs": [],
   "source": [
    "dic['jessica']=5\n",
    "print(dic)"
   ]
  },
  {
   "cell_type": "markdown",
   "metadata": {},
   "source": [
    "#### 10\n",
    "\n",
    "Ask the user for a number using the `input` function. Print whether the number is even or odd using the `if` statement to make the distinction.\n",
    "\n",
    "**Hints:**\n",
    "\n",
    "1. The `input` function always returns a string, so use an appropriate function to convert the data types from string to integer.\n",
    "1. The modulo operator calculates the rest of an integer division and is denoted by ```%``` in Python.\n",
    "1. Do not forget the colon and to indent!"
   ]
  },
  {
   "cell_type": "code",
   "execution_count": null,
   "metadata": {},
   "outputs": [],
   "source": [
    "a=int(input())\n",
    "if (a%2==0):\n",
    "    print('even')\n",
    "else:\n",
    "    print('odd')"
   ]
  },
  {
   "cell_type": "markdown",
   "metadata": {},
   "source": [
    "#### 11\n",
    "\n",
    "Save a list of any 5 numbers and print it. Then add 1 to each number in a for loop and print the list again."
   ]
  },
  {
   "cell_type": "code",
   "execution_count": null,
   "metadata": {},
   "outputs": [],
   "source": []
  },
  {
   "cell_type": "markdown",
   "metadata": {},
   "source": [
    "# Task 1: Loops\n",
    "\n",
    "## 1)\n",
    "\n",
    "Using a `for` loop, loop through the strings in the list from $\\mu$-exercise 6: append \"_N\" to each string, where N is the number of characters in the string and store the new strings in a new list."
   ]
  },
  {
   "cell_type": "code",
   "execution_count": null,
   "metadata": {},
   "outputs": [],
   "source": []
  },
  {
   "cell_type": "markdown",
   "metadata": {},
   "source": [
    "## 2)\n",
    "\n",
    "Out of the following telephone book dict, create a new dict which has the phone numbers as dictionary keys and names as dictionary values (i.e. inverse to what it is now)."
   ]
  },
  {
   "cell_type": "code",
   "execution_count": null,
   "metadata": {},
   "outputs": [],
   "source": [
    "for i in range(len(li)):\n",
    "    length = str(len(li[i]))\n",
    "    new_string=li[i]+'_'+length\n",
    "    li[i]= new_string\n",
    "print(li)"
   ]
  },
  {
   "cell_type": "code",
   "execution_count": null,
   "metadata": {},
   "outputs": [],
   "source": [
    "telephone_book = {'Alice': 25763, 'Bob': 25764, 'Eve': 25666}\n",
    "new_book=telephone_book\n",
    "\n",
    "for i in range (len(telephone_book)):\n",
    "    tu = {get(telephone_book[i][1]:telephone_book[i][0]}\n",
    "    new_book[i]=tu\n",
    "    \n",
    "print(new_book)\n"
   ]
  },
  {
   "cell_type": "markdown",
   "metadata": {},
   "source": [
    "## 3)\n",
    "Count the occurences of each color in the given list using a dict: the key of the dict should be the colors themselves whereas the values are integers representing the number of occurences."
   ]
  },
  {
   "cell_type": "code",
   "execution_count": null,
   "metadata": {},
   "outputs": [],
   "source": [
    "colors = ['red', 'red', 'green', 'red', 'blue', 'green', 'red', 'green', 'yellow', 'orange']\n"
   ]
  },
  {
   "cell_type": "markdown",
   "metadata": {},
   "source": [
    "# Task 2: Functions\n",
    "From here on, we also ask you to write some functions. Don't forget to test them by calling with some arguments of your chosing."
   ]
  },
  {
   "cell_type": "markdown",
   "metadata": {},
   "source": [
    "## 1)\n",
    "\n",
    "Create a function that returns the product of two numbers and test it with an example you chose."
   ]
  },
  {
   "cell_type": "code",
   "execution_count": null,
   "metadata": {},
   "outputs": [],
   "source": []
  },
  {
   "cell_type": "markdown",
   "metadata": {},
   "source": [
    "## 2)\n",
    "\n",
    "Create a function that returns the biggest number in a list of integers. Test it with an example list you chose."
   ]
  },
  {
   "cell_type": "code",
   "execution_count": null,
   "metadata": {},
   "outputs": [],
   "source": []
  },
  {
   "cell_type": "markdown",
   "metadata": {},
   "source": [
    "## 3)\n",
    "\n",
    "Calculate the sum of all the values in a list using a recursive function, i.e. one that calls itself again."
   ]
  },
  {
   "cell_type": "markdown",
   "metadata": {},
   "source": [
    "**Hint:** The sum of all elements of a list with length 3, is the sum of the first element with the sum of the second and third element."
   ]
  },
  {
   "cell_type": "code",
   "execution_count": null,
   "metadata": {},
   "outputs": [],
   "source": []
  },
  {
   "cell_type": "markdown",
   "metadata": {},
   "source": [
    "## 4)\n",
    "\n",
    "Now achieve the same as in 3 by using a Python builtin function."
   ]
  },
  {
   "cell_type": "markdown",
   "metadata": {},
   "source": [
    "**Hint:** Take a look at the [Python documentation](https://docs.python.org/3/library/functions.html#built-in-funcs). The search bar might come in handy."
   ]
  },
  {
   "cell_type": "code",
   "execution_count": null,
   "metadata": {},
   "outputs": [],
   "source": []
  },
  {
   "cell_type": "markdown",
   "metadata": {},
   "source": [
    "# Task 3: Mutability\n",
    "\n",
    "Check that lists are mutable, i.e. changing of the same list object in memory is possible. Then check that strings are immutable by using `id()`, i.e. that a new memory object is generated every time you change a string. Use the `+=` operator to change the list or the string.\n",
    "\n",
    "**Hint:** In our implementation of Python, the `id()` function prints out the memory address where your variable is pointing at. Due to Python's internal working, use a string with some spaces and longer than 20 characters."
   ]
  },
  {
   "cell_type": "code",
   "execution_count": null,
   "metadata": {},
   "outputs": [],
   "source": []
  },
  {
   "cell_type": "markdown",
   "metadata": {},
   "source": [
    "What does the concept of mutability mean from an efficiency perspective when you have the choice between lists and tuples? For what kind of tasks would you use a list? For what a tuple?"
   ]
  },
  {
   "cell_type": "code",
   "execution_count": null,
   "metadata": {},
   "outputs": [],
   "source": []
  },
  {
   "cell_type": "markdown",
   "metadata": {},
   "source": [
    "# Task 4: Numerics and Control Flow\n",
    "\n",
    "**Hint:** The math heavy tasks are easier if you take a pen and paper first and sketch a solution of what you want to do, instead of jumping right into programming.\n",
    "\n",
    "## 1) Wallis' Formula.\n",
    "\n",
    "Calculate and print digits of pi using [Wallis' formula.](https://en.wikipedia.org/wiki/Wallis_product) \n",
    "\n",
    "The Wallis' formula states: $\\pi = 2 \\prod^{\\infty}_{i=1}{\\frac{4i^2}{4i^2-1}}$\n",
    "\n",
    "As we cannot do an infinite amount of iterations, let the user choose how many he wants to calculate. Example with 2 iterations: $\\pi=8/3$."
   ]
  },
  {
   "cell_type": "code",
   "execution_count": null,
   "metadata": {},
   "outputs": [],
   "source": []
  },
  {
   "cell_type": "markdown",
   "metadata": {},
   "source": [
    "## 2) Complex Sine\n",
    "\n",
    "Verify the equality of the complex sine formula for various real and complex x:\n",
    "\n",
    "Let Python nummerically calculate both sides of the equal sign of $sin(x) = \\frac{e^{jx}-e^{-jx}}{2j}$ for various x and check if they are reasonably close. You may use the `math` and `cmath` modules for this."
   ]
  },
  {
   "cell_type": "code",
   "execution_count": null,
   "metadata": {},
   "outputs": [],
   "source": []
  },
  {
   "cell_type": "markdown",
   "metadata": {},
   "source": [
    "# Task 5: User Interaction"
   ]
  },
  {
   "cell_type": "markdown",
   "metadata": {},
   "source": [
    "## 1) Celsius to Fahrenheit and vice-versa\n",
    "\n",
    "Write a program that converts degree Celsius to degree Fahrenheit and vice-versa. Your program should first ask the user if (s)he wants to convert °C to °F or °F to °C and then ask for the value.\n",
    "\n",
    "It is also advisable to write two different function to convert °C to °F and another one for converting °F to °C. This makes your code cleaner and easier to read."
   ]
  },
  {
   "cell_type": "code",
   "execution_count": null,
   "metadata": {},
   "outputs": [],
   "source": [
    "def c_f(c):\n",
    "\n",
    "def f_c(f):\n",
    "    \n",
    "print('Fahrenheit to C (fc), or Celsius to Fahrenheit')"
   ]
  },
  {
   "cell_type": "markdown",
   "metadata": {},
   "source": [
    "## 2) Guess the Number\n",
    "\n",
    "Write a program that generates a secret random number (integer) between a predefined minimum and maximum. The user can then guess a number and the program should answer whether the guessed number is bigger or smaller than the generated secret number. The game stops when the user has guessed the generated number. Your program should then print how many tries were needed.\n",
    "\n",
    "**Note:** Since generating a random number requires importing another module (we'll come to that later), we have provided you with code to get started."
   ]
  },
  {
   "cell_type": "code",
   "execution_count": null,
   "metadata": {},
   "outputs": [
    {
     "name": "stdout",
     "output_type": "stream",
     "text": [
      "your guess?(0-10) =\n",
      "11\n",
      "the secret number is smoler\n",
      "your guess?(0-10) =\n"
     ]
    }
   ],
   "source": [
    "import random\n",
    "    \n",
    "secret_number = random.randint(0, 10)\n",
    "win=False\n",
    "\n",
    "def smoler(x):\n",
    "    if (x>secret_number):\n",
    "        return True\n",
    "    else:\n",
    "        return False\n",
    "    \n",
    "while(win==False):\n",
    "    print('your guess?(0-10) =')\n",
    "    user_guess=int(input())\n",
    "    \n",
    "    if(user_guess>10|user_guess<0): #outofrange\n",
    "        print(\"...\")\n",
    "    elif(user_guess == secret_number): #correct guess\n",
    "        win=True\n",
    "        print('Congrats, you wasted 1 min of your time')\n",
    "        \n",
    "    else:                                    #smaller or bigger\n",
    "        if(smoler(user_guess)):\n",
    "            print(\"the secret number is smoler\")\n",
    "        else:\n",
    "            print(\"the secret number is bigga\")\n"
   ]
  },
  {
   "cell_type": "markdown",
   "metadata": {},
   "source": [
    "Now let your neighbor play your game!"
   ]
  },
  {
   "cell_type": "markdown",
   "metadata": {},
   "source": [
    "# Extra Task 6: Bridge and Torch Problem\n",
    "\n",
    "**Disclaimer:** This task is intended to present a challenge for the more experienced users. If you are new to Python or programming, don't worry. It presents purposely little guidance.\n",
    "\n",
    "*From wikipedia.org*:\n",
    "\n",
    "Four people come to a river in the night. There is a narrow bridge, but it can only hold two people at a time. They have one torch and, because it's night, the torch has to be used when crossing the bridge. Person A can cross the bridge in 1 minute, B in 2 minutes, C in 5 minutes, and D in 8 minutes. When two people cross the bridge together, they must move at the slower person's pace."
   ]
  },
  {
   "cell_type": "markdown",
   "metadata": {},
   "source": [
    "#### 1) Can they all get across the bridge if the torch lasts only 15 minutes? Solve the riddle and give one possible solution without any programming."
   ]
  },
  {
   "cell_type": "code",
   "execution_count": null,
   "metadata": {},
   "outputs": [],
   "source": []
  },
  {
   "cell_type": "markdown",
   "metadata": {},
   "source": [
    "#### 2) The people were lucky and found that the torch actually burns for 20 minutes! Use your newly acquired skills in Python and make a list of all possible solutions to the problem given the new conditions and identify the quickest one.\n",
    "**Hints:** It may be useful to recall the notion of backtracking, i.e. splitting the problem into simpler sub-problems with the same structure and early abandoning of solutions which are clearly infeasible."
   ]
  },
  {
   "cell_type": "code",
   "execution_count": null,
   "metadata": {},
   "outputs": [],
   "source": []
  },
  {
   "cell_type": "markdown",
   "metadata": {},
   "source": [
    "# Extra Task 7: Newton's method"
   ]
  },
  {
   "cell_type": "markdown",
   "metadata": {},
   "source": [
    "**Disclaimer:** This task is intended to present a challenge for the more experienced users. If you are new to Python or programming, don't worry. It presents purposely little guidance.\n",
    "\n",
    "Write a function that calculates the square root of a floating point number using [Newton's method](https://en.wikipedia.org/wiki/Newton%27s_method). \n",
    "\n",
    "**Hints:** You will need an initial guess and an appropriate function ```f``` for Newton's method. How can you make sure that the method converges?"
   ]
  },
  {
   "cell_type": "code",
   "execution_count": null,
   "metadata": {},
   "outputs": [],
   "source": []
  }
 ],
 "metadata": {
  "kernelspec": {
   "display_name": "Python 3",
   "language": "python",
   "name": "python3"
  },
  "language_info": {
   "codemirror_mode": {
    "name": "ipython",
    "version": 3
   },
   "file_extension": ".py",
   "mimetype": "text/x-python",
   "name": "python",
   "nbconvert_exporter": "python",
   "pygments_lexer": "ipython3",
   "version": "3.7.5"
  }
 },
 "nbformat": 4,
 "nbformat_minor": 2
