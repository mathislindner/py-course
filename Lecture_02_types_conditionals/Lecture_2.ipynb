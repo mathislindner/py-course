{
 "cells": [
  {
   "cell_type": "markdown",
   "metadata": {},
   "source": [
    "# Python Basics 1 - Datatypes, Conditionals, Functions\n",
    "\n",
    "This is a jupyter-notebook. It uses python in the background to execute code. After every code block (gray background), the output of this code block is printed. Variables are always shared between all code blocks."
   ]
  },
  {
   "cell_type": "markdown",
   "metadata": {},
   "source": [
    "## Elementary Types\n",
    "[Documentation Link](https://docs.python.org/3/library/stdtypes.html)\n",
    "\n",
    "To start off, we have to get to know the elementary types of data. Python knows three kinds of elementary types: booleans, numbers, and strings."
   ]
  },
  {
   "cell_type": "markdown",
   "metadata": {},
   "source": [
    "### Booleans\n",
    "Booleans can only have two values: True or False.\n",
    "\n",
    "Note: `type` returns the datatype of its argument."
   ]
  },
  {
   "cell_type": "code",
   "execution_count": null,
   "metadata": {},
   "outputs": [],
   "source": [
    "type(False)  # note: python is case sensitive!"
   ]
  },
  {
   "cell_type": "code",
   "execution_count": null,
   "metadata": {},
   "outputs": [],
   "source": [
    "type(True)"
   ]
  },
  {
   "cell_type": "code",
   "execution_count": null,
   "metadata": {},
   "outputs": [],
   "source": [
    "type(1 == 2)"
   ]
  },
  {
   "cell_type": "markdown",
   "metadata": {},
   "source": [
    "### Numbers\n",
    "There is only one type of integer in python: `int`. It is unbounded, so the number of bytes representing the value adapt automatically in the background to whatever is needed to store the assigned value.\n",
    "The same goes for floating point values, there is only the classic IEEE-754 double precision datatype: `float`.\n",
    "Python has also a built-in complex datatype but it generally is better to use the `numpy` package for complex calculations."
   ]
  },
  {
   "cell_type": "code",
   "execution_count": null,
   "metadata": {},
   "outputs": [],
   "source": [
    "type(+1337)"
   ]
  },
  {
   "cell_type": "code",
   "execution_count": null,
   "metadata": {},
   "outputs": [],
   "source": [
    "type(-1337)"
   ]
  },
  {
   "cell_type": "markdown",
   "metadata": {},
   "source": [
    "There are the four basic operators:"
   ]
  },
  {
   "cell_type": "code",
   "execution_count": null,
   "metadata": {},
   "outputs": [],
   "source": [
    "3 + 2"
   ]
  },
  {
   "cell_type": "code",
   "execution_count": null,
   "metadata": {},
   "outputs": [],
   "source": [
    "3 - 2"
   ]
  },
  {
   "cell_type": "code",
   "execution_count": null,
   "metadata": {},
   "outputs": [],
   "source": [
    "3 * 2"
   ]
  },
  {
   "cell_type": "code",
   "execution_count": null,
   "metadata": {},
   "outputs": [],
   "source": [
    "3 / 2  # int / int = float"
   ]
  },
  {
   "cell_type": "markdown",
   "metadata": {},
   "source": [
    "Since Python3, the slash operator \"/\" means floating point division. For integer division, use the double slash operator \"//\"."
   ]
  },
  {
   "cell_type": "code",
   "execution_count": null,
   "metadata": {},
   "outputs": [],
   "source": [
    "3 // 2  # rounded towards -infinity"
   ]
  },
  {
   "cell_type": "markdown",
   "metadata": {},
   "source": [
    "Additional built-in operators are:"
   ]
  },
  {
   "cell_type": "code",
   "execution_count": null,
   "metadata": {},
   "outputs": [],
   "source": [
    "3 % 2  # modulo (rest of division)"
   ]
  },
  {
   "cell_type": "code",
   "execution_count": null,
   "metadata": {},
   "outputs": [],
   "source": [
    "3 ** 2  # exponentiation"
   ]
  },
  {
   "cell_type": "markdown",
   "metadata": {},
   "source": [
    "Obviously, parenthesesis work as with any other language to select precedence:"
   ]
  },
  {
   "cell_type": "code",
   "execution_count": null,
   "metadata": {},
   "outputs": [],
   "source": [
    "1 + (2 * 3)"
   ]
  },
  {
   "cell_type": "code",
   "execution_count": null,
   "metadata": {},
   "outputs": [],
   "source": [
    "(1 + 2) * 3"
   ]
  },
  {
   "cell_type": "markdown",
   "metadata": {},
   "source": [
    "For float values, today's Python3 truncates the values when printing:"
   ]
  },
  {
   "cell_type": "code",
   "execution_count": null,
   "metadata": {},
   "outputs": [],
   "source": [
    "format(0.1, '.1f')  # give 1 digit after the decimal point"
   ]
  },
  {
   "cell_type": "code",
   "execution_count": null,
   "metadata": {},
   "outputs": [],
   "source": [
    "format(0.1, '.32f')  # give 32 digits after the decimal point"
   ]
  },
  {
   "cell_type": "code",
   "execution_count": null,
   "metadata": {},
   "outputs": [],
   "source": [
    "0.1 + 0.1 + 0.1 == 0.3  # never compare using floats!"
   ]
  },
  {
   "cell_type": "markdown",
   "metadata": {},
   "source": [
    "For a completeness' sake, we also make an example with the built-in complex type. See also later numpy-lecture."
   ]
  },
  {
   "cell_type": "code",
   "execution_count": null,
   "metadata": {},
   "outputs": [],
   "source": [
    "(1 + 1j) * (1 - 1j)"
   ]
  },
  {
   "cell_type": "markdown",
   "metadata": {},
   "source": [
    "### ✏️ $\\mu$-exercise\n",
    "\n",
    "Throughout the class, we will switch from the lecture notebook to the exercise notebook to get you coding and immediately apply the learnt theory.\n",
    "\n",
    "At this point, please switch to your Exercise_2 notebook and complete $\\mu$-exercise __1__."
   ]
  },
  {
   "cell_type": "markdown",
   "metadata": {},
   "source": [
    "### Strings\n",
    "Strings simply store text. That's it. Again, there is only one datatype `str` with no length limit (apart from your computer's memory). Use \" or ' to create strings."
   ]
  },
  {
   "cell_type": "code",
   "execution_count": null,
   "metadata": {},
   "outputs": [],
   "source": [
    "\"Hello, world!\""
   ]
  },
  {
   "cell_type": "code",
   "execution_count": null,
   "metadata": {},
   "outputs": [],
   "source": [
    "type(\"Hello, world!\")"
   ]
  },
  {
   "cell_type": "code",
   "execution_count": null,
   "metadata": {},
   "outputs": [],
   "source": [
    "'And Deep Though answered: \"The answer is 42.\"'  # careful with \" and '"
   ]
  },
  {
   "cell_type": "markdown",
   "metadata": {},
   "source": [
    "In Python, nearly everything can be printed with the `print` function. Use commas for multiple printing."
   ]
  },
  {
   "cell_type": "code",
   "execution_count": null,
   "metadata": {},
   "outputs": [],
   "source": [
    "print(\"And\", \"Deep\", \"Thought\", \"answered\", 42, \".\")  # spaces get inserted automatically"
   ]
  },
  {
   "cell_type": "markdown",
   "metadata": {},
   "source": [
    "You can concatenate strings as well with + and * operators:"
   ]
  },
  {
   "cell_type": "code",
<<<<<<< HEAD
   "execution_count": 18,
   "metadata": {},
   "outputs": [
    {
     "data": {
      "text/plain": [
       "'NaNaNaNaNaNaNaNaNaNaNaNaNaNaNaNa Batman!'"
      ]
     },
     "execution_count": 18,
     "metadata": {},
     "output_type": "execute_result"
    }
   ],
=======
   "execution_count": null,
   "metadata": {},
   "outputs": [],
>>>>>>> 3bf9d79b99f6e8aabe1e6f9931c5ade7e1d2ef06
   "source": [
    "'Na' * 16 + ' Batman!'"
   ]
  },
  {
   "cell_type": "markdown",
   "metadata": {},
   "source": [
    "Get the length of a string with the built-in `len()` function. Note that there is no terminating 0-character as in C. (This function actually works too for lists, tuples, dicts, and arrays which we will come to later on.)"
   ]
  },
  {
   "cell_type": "code",
   "execution_count": null,
   "metadata": {},
   "outputs": [],
   "source": [
    "len('Na' * 16 + ' Batman!')"
   ]
  },
  {
   "cell_type": "markdown",
   "metadata": {},
   "source": [
    "Use `\\n` for newlines and `\\t` for tabs. See https://docs.python.org/2.0/ref/strings.html for all available characters."
   ]
  },
  {
   "cell_type": "code",
   "execution_count": null,
   "metadata": {},
   "outputs": [],
   "source": [
    "print(\"There comes a newline: \\n I'm on a newline. Also, there is a tab: \\t I'm tabbed!\")"
   ]
  },
  {
   "cell_type": "code",
   "execution_count": null,
   "metadata": {},
   "outputs": [],
   "source": [
    "# note the r\"\" at the start!\n",
    "print(r\"There comes a newline: \\n I'm on a newline. Also, there is a tab: \\t I'm tabbed!\")"
   ]
  },
  {
   "cell_type": "markdown",
   "metadata": {},
   "source": [
    "For better printing, python supports string formatting with `\"\".format()`. There exists a very powerful formatting mini-language, similar to `fprintf` in C. See https://docs.python.org/3.7/library/string.html#format-string-syntax for the full documentation."
   ]
  },
  {
   "cell_type": "code",
   "execution_count": null,
   "metadata": {},
   "outputs": [],
   "source": [
    "# string to format            format method call on string\n",
    "# |                           |       content to format into string as arguments\n",
    "# |                           |       |\n",
    "\"And {:s}'s answer was {:d}.\".format('Deep Thought', 42)"
   ]
  },
  {
   "cell_type": "markdown",
   "metadata": {},
   "source": [
    "#### String Functions\n",
    "Strings offer some very handy functions for manipulation."
   ]
  },
  {
   "cell_type": "code",
   "execution_count": null,
   "metadata": {},
   "outputs": [],
   "source": [
    "# split a string into many strings at occurence of given character combination (in this example ,-space)\n",
    "random_noise_str = '-6.6380844020e-1, -3.3111813230e-2, -8.6608909150e-1, -2.8282884620e-1, -9.7009928310e-1'\n",
    "random_noise = random_noise_str.split(', ')\n",
    "print(random_noise)"
   ]
  },
  {
   "cell_type": "code",
   "execution_count": null,
   "metadata": {},
   "outputs": [],
   "source": [
    "# join a list of strings with a given character combination in between\n",
    "\" <-> \".join(random_noise)"
   ]
  },
  {
   "cell_type": "code",
   "execution_count": null,
   "metadata": {},
   "outputs": [],
   "source": [
    "# get rid of whitespaces at beginning and at end of string. This is especially useful for cleaning user entries.\n",
    "\"  \\n some string with space and newlines at edges  \\n\".strip()"
   ]
  },
  {
   "cell_type": "code",
   "execution_count": null,
   "metadata": {},
   "outputs": [],
   "source": [
    "# find the index of substring in a string (indices start at 0!)\n",
    "\"abcdef ghij\".find('de')"
   ]
  },
  {
   "cell_type": "code",
<<<<<<< HEAD
   "execution_count": 19,
   "metadata": {},
   "outputs": [
    {
     "data": {
      "text/plain": [
       "2"
      ]
     },
     "execution_count": 19,
     "metadata": {},
     "output_type": "execute_result"
    }
   ],
   "source": [
    "# find the number of occurences of substring in string\n",
    "\"abcdef ghijde\".count('de')"
=======
   "execution_count": null,
   "metadata": {},
   "outputs": [],
   "source": [
    "# find the number of occurences of substring in string\n",
    "\"abcdef ghij\".count('de')"
>>>>>>> 3bf9d79b99f6e8aabe1e6f9931c5ade7e1d2ef06
   ]
  },
  {
   "cell_type": "markdown",
   "metadata": {},
   "source": [
    "#### (String) Slicing\n",
    "Slicing an array-like thing denotes selecting parts of it. Strings in Python support slicing. Python uses square brackets \\[ and \\] for any slicing operations. The colon isolates the indices.\n",
    "\n",
    "Indexing starts with 0 in Python, as in C but unlike MATLAB."
   ]
  },
  {
   "cell_type": "code",
<<<<<<< HEAD
   "execution_count": 3,
=======
   "execution_count": null,
>>>>>>> 3bf9d79b99f6e8aabe1e6f9931c5ade7e1d2ef06
   "metadata": {},
   "outputs": [],
   "source": [
    "example = 'some string with no more space and newlines at edges'"
   ]
  },
  {
   "cell_type": "code",
   "execution_count": null,
   "metadata": {},
   "outputs": [],
   "source": [
    "example[0]"
   ]
  },
  {
   "cell_type": "code",
   "execution_count": null,
   "metadata": {},
   "outputs": [],
   "source": [
    "example[1]"
   ]
  },
  {
   "cell_type": "markdown",
   "metadata": {},
   "source": [
    "The start index is always **inclusive**, the end index always **exclusive**!"
   ]
  },
  {
   "cell_type": "code",
   "execution_count": null,
   "metadata": {},
   "outputs": [],
   "source": [
    "example[0:1]"
   ]
  },
  {
   "cell_type": "code",
   "execution_count": null,
   "metadata": {
    "scrolled": true
   },
   "outputs": [],
   "source": [
    "example[5:11]"
   ]
  },
  {
   "cell_type": "markdown",
   "metadata": {},
   "source": [
    "If you want to start to count from the right, use negative indices. You can also leave out an index to denote start or end."
   ]
  },
  {
   "cell_type": "code",
   "execution_count": null,
   "metadata": {},
   "outputs": [],
   "source": [
    "example[-5:]"
   ]
  },
  {
   "cell_type": "markdown",
   "metadata": {},
   "source": [
    "With the third 'argument' in the brackets, we select the step size."
   ]
  },
  {
   "cell_type": "code",
<<<<<<< HEAD
   "execution_count": 4,
   "metadata": {},
   "outputs": [
    {
     "data": {
      "text/plain": [
       "'sm tigwt omr pc n elnsa de'"
      ]
     },
     "execution_count": 4,
     "metadata": {},
     "output_type": "execute_result"
    }
   ],
=======
   "execution_count": null,
   "metadata": {},
   "outputs": [],
>>>>>>> 3bf9d79b99f6e8aabe1e6f9931c5ade7e1d2ef06
   "source": [
    "example[::2]"
   ]
  },
  {
   "cell_type": "code",
<<<<<<< HEAD
   "execution_count": 5,
   "metadata": {
    "scrolled": true
   },
   "outputs": [
    {
     "data": {
      "text/plain": [
       "'segde ta senilwen dna ecaps erom on htiw gnirts emos'"
      ]
     },
     "execution_count": 5,
     "metadata": {},
     "output_type": "execute_result"
    }
   ],
=======
   "execution_count": null,
   "metadata": {
    "scrolled": true
   },
   "outputs": [],
>>>>>>> 3bf9d79b99f6e8aabe1e6f9931c5ade7e1d2ef06
   "source": [
    "# handy trick to invert order of stuff: make step-size -1\n",
    "example[::-1]"
   ]
  },
  {
   "cell_type": "markdown",
   "metadata": {},
   "source": [
    "## Variables and Type Conversions\n",
    "Variables are assigned with the = operator. It assigns a name (left hand side) to an object (right hand side)."
   ]
  },
  {
   "cell_type": "code",
   "execution_count": null,
   "metadata": {},
   "outputs": [],
   "source": [
    "a = 3\n",
    "b = 2\n",
    "c = a + b  # jupyter-notebook and ipython do not print the last result if it's assigned to a variable\n",
    "print(c)"
   ]
  },
  {
   "cell_type": "code",
   "execution_count": null,
   "metadata": {},
   "outputs": [],
   "source": [
    "c += 1  # shortcuts for operations exist\n",
    "print(c)"
   ]
  },
  {
   "cell_type": "markdown",
   "metadata": {},
   "source": [
    "Type-conversion is in most cases automatically done:"
   ]
  },
  {
   "cell_type": "code",
   "execution_count": null,
   "metadata": {},
   "outputs": [],
   "source": [
    "True + False - 2.5 + 5  # can you tell which variables get cast when to what type?"
   ]
  },
  {
   "cell_type": "markdown",
   "metadata": {},
   "source": [
    "Or you can use the explicit type-conversion functions `int()`, `float()`, `bool()`, and `str()`."
   ]
  },
  {
   "cell_type": "code",
   "execution_count": null,
   "metadata": {},
   "outputs": [],
   "source": [
    "type(float(42))"
   ]
  },
  {
   "cell_type": "code",
   "execution_count": null,
   "metadata": {},
   "outputs": [],
   "source": [
    "int(42.0)"
   ]
  },
  {
   "cell_type": "code",
   "execution_count": null,
   "metadata": {},
   "outputs": [],
   "source": [
    "int(42.1)"
   ]
  },
  {
   "cell_type": "code",
   "execution_count": null,
   "metadata": {},
   "outputs": [],
   "source": [
    "int(42.9)"
   ]
  },
  {
   "cell_type": "code",
<<<<<<< HEAD
   "execution_count": 6,
   "metadata": {},
   "outputs": [
    {
     "data": {
      "text/plain": [
       "1.0"
      ]
     },
     "execution_count": 6,
     "metadata": {},
     "output_type": "execute_result"
    }
   ],
=======
   "execution_count": null,
   "metadata": {},
   "outputs": [],
>>>>>>> 3bf9d79b99f6e8aabe1e6f9931c5ade7e1d2ef06
   "source": [
    "float(True)"
   ]
  },
  {
   "cell_type": "code",
<<<<<<< HEAD
   "execution_count": 9,
   "metadata": {},
   "outputs": [
    {
     "data": {
      "text/plain": [
       "1.0"
      ]
     },
     "execution_count": 9,
     "metadata": {},
     "output_type": "execute_result"
    }
   ],
   "source": [
    "float(1.0)"
=======
   "execution_count": null,
   "metadata": {},
   "outputs": [],
   "source": [
    "float('1.0')"
>>>>>>> 3bf9d79b99f6e8aabe1e6f9931c5ade7e1d2ef06
   ]
  },
  {
   "cell_type": "code",
<<<<<<< HEAD
   "execution_count": 12,
   "metadata": {},
   "outputs": [
    {
     "data": {
      "text/plain": [
       "1000"
      ]
     },
     "execution_count": 12,
     "metadata": {},
     "output_type": "execute_result"
    }
   ],
   "source": [
    "int(float('1e3'))  # 1e3 = 1000, but does it work for int?"
=======
   "execution_count": null,
   "metadata": {},
   "outputs": [],
   "source": [
    "float('1e3')  # 1e3 = 1000, but does it work for int?"
>>>>>>> 3bf9d79b99f6e8aabe1e6f9931c5ade7e1d2ef06
   ]
  },
  {
   "cell_type": "code",
   "execution_count": null,
   "metadata": {},
   "outputs": [],
   "source": [
    "str(1.0)"
   ]
  },
  {
   "cell_type": "code",
   "execution_count": null,
   "metadata": {},
   "outputs": [],
   "source": [
    "str(True)"
   ]
  },
  {
   "cell_type": "markdown",
   "metadata": {},
   "source": [
    "Note that all numbers with value 0 evaluate to False, everything else to True. Strings, lists, and everything that has a length evaluate to False if they are empty. This is super handy to test empty-ness of things."
   ]
  },
  {
   "cell_type": "code",
<<<<<<< HEAD
   "execution_count": 17,
   "metadata": {},
   "outputs": [
    {
     "data": {
      "text/plain": [
       "False"
      ]
     },
     "execution_count": 17,
     "metadata": {},
     "output_type": "execute_result"
    }
   ],
   "source": [
    "bool(\"\")"
=======
   "execution_count": null,
   "metadata": {},
   "outputs": [],
   "source": [
    "bool(\"lkjlkj\")"
>>>>>>> 3bf9d79b99f6e8aabe1e6f9931c5ade7e1d2ef06
   ]
  },
  {
   "cell_type": "markdown",
   "metadata": {},
   "source": [
    "Let's look at the first unique Python feature: simultaneous assignments. You can swap or reassign variables without using temporary variables by doing the following:"
   ]
  },
  {
   "cell_type": "code",
   "execution_count": null,
   "metadata": {},
   "outputs": [],
   "source": [
    "print('a:', a, 'b:', b)\n",
    "\n",
    "a, b = b, a  # handy trick with no temporary variables!\n",
    "\n",
    "print('a:', a, 'b:', b)"
   ]
  },
  {
   "cell_type": "markdown",
   "metadata": {},
   "source": [
    "### ✏️ $\\mu$-exercise\n",
    "\n",
    "At this point, please switch to your Exercise_2 notebook and complete $\\mu$-exercise __2, 3 and 4__."
   ]
  },
  {
   "cell_type": "markdown",
   "metadata": {},
   "source": [
    "## The `math` module\n",
    "[Documentation Link](https://docs.python.org/3/library/math.html)\n",
    "\n",
    "There are many built-in so called modules. You can load them via the `import` statement. We will see later how we can use very powerful modules for all kinds of purposes, but we focus first on math.\n",
    "\n",
    "Again, later on we will see the numpy module which offers much more functionality and gives you full MATLAB-like capabilities."
   ]
  },
  {
   "cell_type": "code",
<<<<<<< HEAD
   "execution_count": 21,
=======
   "execution_count": null,
>>>>>>> 3bf9d79b99f6e8aabe1e6f9931c5ade7e1d2ef06
   "metadata": {},
   "outputs": [],
   "source": [
    "import math"
   ]
  },
  {
   "cell_type": "code",
   "execution_count": null,
   "metadata": {},
   "outputs": [],
   "source": [
    "math.e + math.pi"
   ]
  },
  {
   "cell_type": "code",
   "execution_count": null,
   "metadata": {},
   "outputs": [],
   "source": [
    "math.fabs(-12)"
   ]
  },
  {
   "cell_type": "code",
<<<<<<< HEAD
   "execution_count": 22,
   "metadata": {},
   "outputs": [
    {
     "data": {
      "text/plain": [
       "43"
      ]
     },
     "execution_count": 22,
     "metadata": {},
     "output_type": "execute_result"
    }
   ],
=======
   "execution_count": null,
   "metadata": {},
   "outputs": [],
>>>>>>> 3bf9d79b99f6e8aabe1e6f9931c5ade7e1d2ef06
   "source": [
    "math.ceil(42.5)"
   ]
  },
  {
   "cell_type": "code",
   "execution_count": null,
   "metadata": {},
   "outputs": [],
   "source": [
    "math.sin(math.pi)"
   ]
  },
  {
   "cell_type": "markdown",
   "metadata": {},
   "source": [
    "Similarly, the `cmath` module gives you functions for complex numbers."
   ]
  },
  {
   "cell_type": "markdown",
   "metadata": {},
   "source": [
    "### ✏️ $\\mu$-exercise\n",
    "\n",
    "At this point, please switch to your Exercise_2 notebook and complete $\\mu$-exercise __5__."
   ]
  },
  {
   "cell_type": "markdown",
   "metadata": {},
   "source": [
    "# Combined Datatypes\n",
    "\n",
    "[Documentation Link](https://docs.python.org/3/tutorial/datastructures.html)\n",
    "\n",
    "Python has very powerful combined datatypes, which are containers for any kind of data. We go through three types: lists, tuples, and dictionaries.\n",
    "List and dictionary types are something you will encounter incredibly often and are one of Python's most powerful feature."
   ]
  },
  {
   "cell_type": "markdown",
   "metadata": {},
   "source": [
    "## Lists\n",
    "Lists can be created with square brackets. Use `len()` to get the number of elements in the list."
   ]
  },
  {
   "cell_type": "code",
   "execution_count": null,
   "metadata": {},
   "outputs": [],
   "source": [
    "my_list = []\n",
    "print(my_list)"
   ]
  },
  {
   "cell_type": "code",
   "execution_count": null,
   "metadata": {},
   "outputs": [],
   "source": [
    "my_list = list()  # equivalent to []\n",
    "len(my_list)"
   ]
  },
  {
   "cell_type": "code",
   "execution_count": null,
   "metadata": {},
   "outputs": [],
   "source": [
    "bool(my_list)  # things with len = 0 evaluate to False"
   ]
  },
  {
   "cell_type": "code",
   "execution_count": null,
   "metadata": {},
   "outputs": [],
   "source": [
    "random_numbers = [85, 95, 1, 42, 78]\n",
    "print(random_numbers)\n",
    "print(len(random_numbers))"
   ]
  },
  {
   "cell_type": "markdown",
   "metadata": {},
   "source": [
    "A list can take any data type you like. Even other lists."
   ]
  },
  {
   "cell_type": "code",
   "execution_count": null,
   "metadata": {},
   "outputs": [],
   "source": [
    "list_1 = ['a', 2, 'cdefg', True]\n",
    "list_2 = [1, 'b', 3, False]\n",
    "list_comb = [list_1, list_2]\n",
    "print(list_comb)"
   ]
  },
  {
   "cell_type": "markdown",
   "metadata": {},
   "source": [
    "### List Slicing\n",
    "The slicing notation also applies to lists. Remember that i) indices start at 0, ii) the start index is inclusive, iii) the end index is exclusive."
   ]
  },
  {
   "cell_type": "code",
<<<<<<< HEAD
   "execution_count": 23,
=======
   "execution_count": null,
>>>>>>> 3bf9d79b99f6e8aabe1e6f9931c5ade7e1d2ef06
   "metadata": {},
   "outputs": [],
   "source": [
    "example = ['a', 'b', 'c', 'd', 'e']"
   ]
  },
  {
   "cell_type": "code",
<<<<<<< HEAD
   "execution_count": 24,
   "metadata": {},
   "outputs": [
    {
     "data": {
      "text/plain": [
       "'a'"
      ]
     },
     "execution_count": 24,
     "metadata": {},
     "output_type": "execute_result"
    }
   ],
=======
   "execution_count": null,
   "metadata": {},
   "outputs": [],
>>>>>>> 3bf9d79b99f6e8aabe1e6f9931c5ade7e1d2ef06
   "source": [
    "example[0]"
   ]
  },
  {
   "cell_type": "code",
<<<<<<< HEAD
   "execution_count": 25,
   "metadata": {},
   "outputs": [
    {
     "data": {
      "text/plain": [
       "'b'"
      ]
     },
     "execution_count": 25,
     "metadata": {},
     "output_type": "execute_result"
    }
   ],
=======
   "execution_count": null,
   "metadata": {},
   "outputs": [],
>>>>>>> 3bf9d79b99f6e8aabe1e6f9931c5ade7e1d2ef06
   "source": [
    "example[1]"
   ]
  },
  {
   "cell_type": "code",
<<<<<<< HEAD
   "execution_count": 26,
   "metadata": {},
   "outputs": [
    {
     "data": {
      "text/plain": [
       "['a']"
      ]
     },
     "execution_count": 26,
     "metadata": {},
     "output_type": "execute_result"
    }
   ],
=======
   "execution_count": null,
   "metadata": {},
   "outputs": [],
>>>>>>> 3bf9d79b99f6e8aabe1e6f9931c5ade7e1d2ef06
   "source": [
    "example[0:1]  # note the difference!"
   ]
  },
  {
   "cell_type": "code",
   "execution_count": null,
   "metadata": {},
   "outputs": [],
   "source": [
    "example[2:5]"
   ]
  },
  {
   "cell_type": "code",
   "execution_count": null,
   "metadata": {},
   "outputs": [],
   "source": [
    "example[-3:]"
   ]
  },
  {
   "cell_type": "code",
   "execution_count": null,
   "metadata": {},
   "outputs": [],
   "source": [
    "example[::2]"
   ]
  },
  {
   "cell_type": "code",
   "execution_count": null,
   "metadata": {
    "scrolled": true
   },
   "outputs": [],
   "source": [
    "example[::-1]"
   ]
  },
  {
   "cell_type": "markdown",
   "metadata": {},
   "source": [
    "### List Functions\n",
    "For adding objects to lists, use `append`, `insert`, or `extend`."
   ]
  },
  {
   "cell_type": "code",
   "execution_count": null,
   "metadata": {},
   "outputs": [],
   "source": [
    "example = ['a', 'b', 'c', 'd', 'e']"
   ]
  },
  {
   "cell_type": "code",
   "execution_count": null,
   "metadata": {},
   "outputs": [],
   "source": [
    "# append is a method of a list, call it with the . notation, it adds its first argument to the end of the list\n",
    "example = ['a', 'b', 'c', 'd', 'e']\n",
    "example.append('something')\n",
    "print(example)"
   ]
  },
  {
   "cell_type": "code",
   "execution_count": null,
   "metadata": {},
   "outputs": [],
   "source": [
    "example = ['a', 'b', 'c', 'd', 'e']\n",
    "example.insert(2, 'element!')\n",
    "print(example)"
   ]
  },
  {
   "cell_type": "code",
   "execution_count": null,
   "metadata": {},
   "outputs": [],
   "source": [
    "example = ['a', 'b', 'c', 'd', 'e']\n",
    "example.append(['this','is','another','list'])\n",
    "print(example)"
   ]
  },
  {
   "cell_type": "code",
   "execution_count": null,
   "metadata": {},
   "outputs": [],
   "source": [
    "# combining lists can be done with extend\n",
    "example = ['a', 'b', 'c', 'd', 'e']\n",
    "example.extend(['this','is','another','list'])\n",
    "print(example)"
   ]
  },
  {
   "cell_type": "code",
   "execution_count": null,
   "metadata": {},
   "outputs": [],
   "source": [
    "# ... or simply the + operator\n",
    "example = ['a', 'b', 'c', 'd', 'e'] + ['this','is','another','list']\n",
    "print(example)"
   ]
  },
  {
   "cell_type": "markdown",
   "metadata": {},
   "source": [
    "For deleting, use `del` or `remove`."
   ]
  },
  {
   "cell_type": "code",
   "execution_count": null,
   "metadata": {},
   "outputs": [],
   "source": [
    "example = ['a', 'b', 'c', 'd', 'e']\n",
    "del example[2]\n",
    "print(example)"
   ]
  },
  {
   "cell_type": "code",
   "execution_count": null,
   "metadata": {},
   "outputs": [],
   "source": [
    "example = ['a', 'b', 'c', 'd', 'e']\n",
    "example.remove('c')\n",
    "print(example)"
   ]
  },
  {
   "cell_type": "markdown",
   "metadata": {},
   "source": [
    "As with practically all datatypes in Python, some handy functions come with lists."
   ]
  },
  {
   "cell_type": "code",
<<<<<<< HEAD
   "execution_count": 27,
   "metadata": {},
   "outputs": [
    {
     "data": {
      "text/plain": [
       "2"
      ]
     },
     "execution_count": 27,
     "metadata": {},
     "output_type": "execute_result"
    }
   ],
=======
   "execution_count": null,
   "metadata": {},
   "outputs": [],
>>>>>>> 3bf9d79b99f6e8aabe1e6f9931c5ade7e1d2ef06
   "source": [
    "example = ['a', 'b', 'c', 'd', 'e']\n",
    "example.index('c')"
   ]
  },
  {
   "cell_type": "code",
   "execution_count": null,
   "metadata": {},
   "outputs": [],
   "source": [
    "example = ['a', 'b', 'c', 'd', 'e', 'c']\n",
    "example.count('c')"
   ]
  },
  {
   "cell_type": "code",
   "execution_count": null,
   "metadata": {},
   "outputs": [],
   "source": [
    "example = ['e', 'c', 'd', 'a', 'b']\n",
    "print(sorted(example))\n",
    "print(example)"
   ]
  },
  {
   "cell_type": "code",
   "execution_count": null,
   "metadata": {},
   "outputs": [],
   "source": [
    "example = ['e', 'c', 'd', 'a', 'b']\n",
    "example.sort()  # works inplace!\n",
    "print(example)"
   ]
  },
  {
   "cell_type": "markdown",
   "metadata": {},
   "source": [
    "### Change List Elements\n",
    "Lists are mutable! This means that you can change its elements."
   ]
  },
  {
   "cell_type": "code",
   "execution_count": null,
   "metadata": {},
   "outputs": [],
   "source": [
    "example = ['a', 'b', 'c', 'd', 'e']\n",
    "example[0] = 'z'\n",
    "example[4] = 'y'\n",
    "print(example)"
   ]
  },
  {
   "cell_type": "markdown",
   "metadata": {},
   "source": [
    "### Testing Membership of Elements\n",
    "The `in` keyword is an easy way to test the membership of an object in a list and returns a boolean value."
   ]
  },
  {
   "cell_type": "code",
   "execution_count": null,
   "metadata": {},
   "outputs": [],
   "source": [
    "example = ['a', 'b', 'c', 'd', 'e']\n",
    "print('a' in example)\n",
    "print('example' in example)"
   ]
  },
  {
   "cell_type": "markdown",
   "metadata": {},
   "source": [
    "### Copying of Lists and Mutability\n",
    "Lists are so called mutable objects. We can replace one or more elements in the list and we can delete things all in the same object in memory. In Python, this also means that variables to lists are references!"
   ]
  },
  {
   "cell_type": "code",
   "execution_count": null,
   "metadata": {},
   "outputs": [],
   "source": [
    "example = ['a', 'b', 'c', 'd', 'e']\n",
    "example_2 = example\n",
    "print(example_2)"
   ]
  },
  {
   "cell_type": "code",
   "execution_count": null,
   "metadata": {},
   "outputs": [],
   "source": [
    "example_2.append('f')\n",
    "print(example_2)"
   ]
  },
  {
   "cell_type": "code",
   "execution_count": null,
   "metadata": {},
   "outputs": [],
   "source": [
    "print(example)  # oh noez!"
   ]
  },
  {
   "cell_type": "code",
   "execution_count": null,
   "metadata": {},
   "outputs": [],
   "source": [
    "# check memory addresses\n",
    "print('Address of example:  ', id(example))\n",
    "print('Address of example_2:', id(example_2))"
   ]
  },
  {
   "cell_type": "markdown",
   "metadata": {},
   "source": [
    "If you want an independent copy of a list, you need to do some tricks:"
   ]
  },
  {
   "cell_type": "code",
   "execution_count": null,
   "metadata": {},
   "outputs": [],
   "source": [
    "example = ['a', 'b', 'c', 'd', 'e']\n",
    "\n",
    "# ways to copy a list\n",
    "example_copy_1 = example[:]  # use slicing to copy\n",
    "example_copy_2 = example.copy()  # use copy method\n",
    "example_copy_3 = list(example)  # use the list function\n",
    "\n",
    "example.append('f')\n",
    "\n",
    "print(example_copy_1)\n",
    "print(example_copy_2)\n",
    "print(example_copy_3)"
   ]
  },
  {
   "cell_type": "markdown",
   "metadata": {},
   "source": [
    "If you have lists of lists, then the [copy module](https://docs.python.org/3/library/copy.html) must be used to create so-called deep copies of every hierarchy level."
   ]
  },
  {
   "cell_type": "markdown",
   "metadata": {},
   "source": [
    "### ✏️ $\\mu$-exercise\n",
    "\n",
    "At this point, please switch to your Exercise_2 notebook and complete $\\mu$-exercises __6 and 7__."
   ]
  },
  {
   "cell_type": "markdown",
   "metadata": {},
   "source": [
    "## Tuples\n",
    "Tuples are very similar to lists, except that they are immutable. So once created, you cannot change the object in memory and always must create a new one on any change. In practice, you will end up using lists for almost everything.\n",
    "\n",
    "Tuples are created by using commas. If you want to have a one-tuple, set a comma at the end."
   ]
  },
  {
   "cell_type": "code",
   "execution_count": null,
   "metadata": {},
   "outputs": [],
   "source": [
    "three_tuple = 'a', 'b', 'c'\n",
    "print(three_tuple)"
   ]
  },
  {
   "cell_type": "code",
   "execution_count": null,
   "metadata": {},
   "outputs": [],
   "source": [
    "not_a_tuple = ('a')\n",
    "print(not_a_tuple)"
   ]
  },
  {
   "cell_type": "code",
   "execution_count": null,
   "metadata": {
    "scrolled": true
   },
   "outputs": [],
   "source": [
    "one_tuple = 'a',\n",
    "print(one_tuple)"
   ]
  },
  {
   "cell_type": "code",
   "execution_count": null,
   "metadata": {},
   "outputs": [],
   "source": [
    "# conversion also works\n",
    "three_tuple = tuple(['a', 'b', 'c'])\n",
    "print(three_tuple)"
   ]
  },
  {
   "cell_type": "code",
   "execution_count": null,
   "metadata": {},
   "outputs": [],
   "source": [
    "# tuple unpacking can come in handy\n",
    "letter_1, letter_2, letter_3 = three_tuple\n",
    "print(letter_2)"
   ]
  },
  {
   "cell_type": "markdown",
   "metadata": {},
   "source": [
    "As said above, tuples are immutable:"
   ]
  },
  {
   "cell_type": "code",
   "execution_count": null,
   "metadata": {},
   "outputs": [],
   "source": [
    "five_tuple = 'a', 'b', 'c', 'd', 'e'\n",
    "print(five_tuple)\n",
    "five_tuple[1] = 'B'"
   ]
  },
  {
   "cell_type": "code",
   "execution_count": null,
   "metadata": {},
   "outputs": [],
   "source": [
    "# must create a new tuple when changing:\n",
    "five_tuple_new = five_tuple[:1] + ('B',) + five_tuple[2:]\n",
    "print(five_tuple_new)"
   ]
  },
  {
   "cell_type": "markdown",
   "metadata": {},
   "source": [
    "By the way, strings are also immutable! (Showing this is an exercise.)"
   ]
  },
  {
   "cell_type": "markdown",
   "metadata": {},
   "source": [
    "## Dictionaries\n",
    "Are the third container type we are looking at and together with the list one of the most powerful features of Python.\n",
    "\n",
    "Dictionaries are key-value-storages. You can store a 'value' (i.e. any Python object) under a 'key' (any immutable Python object).\n",
    "\n",
    "Dictionaries are created with `dict()` or curly braces. Use the colon to specify the value for each key."
   ]
  },
  {
   "cell_type": "code",
   "execution_count": null,
   "metadata": {},
   "outputs": [],
   "source": [
    "my_class = {'name': 'PythonP&S',\n",
    "           'students': 38}\n",
    "print(my_class)"
   ]
  },
  {
   "cell_type": "markdown",
   "metadata": {},
   "source": [
    "Accessing values is done via square brackets \\[ and \\] with the key."
   ]
  },
  {
   "cell_type": "code",
   "execution_count": null,
   "metadata": {},
   "outputs": [],
   "source": [
    "# access elements\n",
    "my_class['students']"
   ]
  },
  {
   "cell_type": "code",
   "execution_count": null,
   "metadata": {},
   "outputs": [],
   "source": [
    "my_class['room']"
   ]
  },
  {
   "cell_type": "code",
   "execution_count": null,
   "metadata": {},
   "outputs": [],
   "source": [
    "# or use get to assume a default value on non-existing keys\n",
    "my_class.get('room', 'not specified')"
   ]
  },
  {
   "cell_type": "markdown",
   "metadata": {},
   "source": [
    "Adding and changing entries is also done via the same syntax."
   ]
  },
  {
   "cell_type": "code",
   "execution_count": null,
   "metadata": {},
   "outputs": [],
   "source": [
    "# add entry\n",
    "my_class['professor'] = 'Juerg Leuthold'\n",
    "print(my_class)"
   ]
  },
  {
   "cell_type": "code",
   "execution_count": null,
   "metadata": {},
   "outputs": [],
   "source": [
    "# update entry\n",
    "my_class['students'] = 40\n",
    "print(my_class)"
   ]
  },
  {
   "cell_type": "code",
   "execution_count": null,
   "metadata": {},
   "outputs": [],
   "source": [
    "# change multiple elements with update()\n",
    "my_class.update({'students': 38, 'ECTS': 3})\n",
    "print(my_class)"
   ]
  },
  {
   "cell_type": "code",
   "execution_count": null,
   "metadata": {},
   "outputs": [],
   "source": [
    "# delete elements with del (very similar to lists)\n",
    "del my_class['ECTS']\n",
    "print(my_class)"
   ]
  },
  {
   "cell_type": "markdown",
   "metadata": {},
   "source": [
    "### Dictionary Functions\n",
    "If you want to obtain a list of all values or keys in a dictionary, use the `keys` or `values` methods. To get all key-value pairs as tuples in a list, use the `items` method.\n",
    "\n",
    "Note that these functions return an iterable which we convert to lists with the `list` function."
   ]
  },
  {
   "cell_type": "code",
   "execution_count": null,
   "metadata": {},
   "outputs": [],
   "source": [
    "print(my_class)"
   ]
  },
  {
   "cell_type": "code",
   "execution_count": null,
   "metadata": {},
   "outputs": [],
   "source": [
    "list(my_class.keys())"
   ]
  },
  {
   "cell_type": "code",
   "execution_count": null,
   "metadata": {},
   "outputs": [],
   "source": [
    "list(my_class.values())"
   ]
  },
  {
   "cell_type": "code",
   "execution_count": null,
   "metadata": {},
   "outputs": [],
   "source": [
    "list(my_class.items())"
   ]
  },
  {
   "cell_type": "markdown",
   "metadata": {},
   "source": [
    "Checking the membership of a key is done with in, as in the case with lists."
   ]
  },
  {
   "cell_type": "code",
   "execution_count": null,
   "metadata": {},
   "outputs": [],
   "source": [
    "'students' in my_class  # only checks keys!"
   ]
  },
  {
   "cell_type": "markdown",
   "metadata": {},
   "source": [
    "### Dictionaries are Mutable\n",
    "Like lists, if you want to a copy of a dictionary, you need to explicitly copy it as follows:"
   ]
  },
  {
   "cell_type": "code",
   "execution_count": null,
   "metadata": {},
   "outputs": [],
   "source": [
    "my_class = {'name': 'PythonP&S', 'students': 38, 'professor': 'Juerg Leuthold', 'ECTS': 3}\n",
    "\n",
    "my_class_1 = my_class\n",
    "\n",
    "# ways to copy a dict\n",
    "my_class_2 = dict(my_class)  # use dict function\n",
    "my_class_3 = my_class.copy()  # use copy method\n",
    "\n",
    "del my_class['ECTS']\n",
    "\n",
    "print(my_class_1)\n",
    "print(my_class_2)\n",
    "print(my_class_3)"
   ]
  },
  {
   "cell_type": "markdown",
   "metadata": {},
   "source": [
    "### ✏️ $\\mu$-exercise\n",
    "\n",
    "At this point, please switch to your Exercise_2 notebook and complete $\\mu$-exercises __8 and 9__."
   ]
  },
  {
   "cell_type": "markdown",
   "metadata": {},
   "source": [
    "# Control Flow\n",
    "\n",
    "[Documentation Link](https://docs.python.org/3/tutorial/controlflow.html)\n",
    "\n",
    "Diverting the flow of the program is done via conditionals, so chosing if you want to execute a statement or not, and loops, so repeating statements for a certain amount.\n",
    "\n",
    "## Conditional statements with `if`,  `elif`, `else`\n",
    "As in C and Java, the `if` statement executes a block of statements based on a boolean condition.\n",
    "\n",
    "In Python a block always starts with a colon \":\" and all lines of the block are indented!"
   ]
  },
  {
   "cell_type": "code",
   "execution_count": null,
   "metadata": {},
   "outputs": [],
   "source": [
    "color = 'violet'\n",
    "\n",
    "if color == 'red':  # no parentheses needed around condition\n",
    "    print('It is a tomato!')  # scopes are indented\n",
    "    print('It is also a tomato!')\n",
    "elif color == 'yellow':\n",
    "    print('It is a yellow pepper!')\n",
    "elif color == 'violet': \n",
    "    print('It is an onion!')\n",
    "else:\n",
    "    print('No idea what this is.')"
   ]
  },
  {
   "cell_type": "markdown",
   "metadata": {},
   "source": [
    "### Boolean Comparison Operators\n",
    "You can use pretty much anything as a condition, it will get evaluated as boolean.\n",
    "\n",
    "A quick overview over some of the possible comparators:"
   ]
  },
  {
   "cell_type": "code",
   "execution_count": null,
   "metadata": {},
   "outputs": [],
   "source": [
    "# x is 7 as an example\n",
    "x = 7"
   ]
  },
  {
   "cell_type": "code",
   "execution_count": null,
   "metadata": {},
   "outputs": [],
   "source": [
    "x < 7"
   ]
  },
  {
   "cell_type": "code",
   "execution_count": null,
   "metadata": {},
   "outputs": [],
   "source": [
    "x <= 7"
   ]
  },
  {
   "cell_type": "code",
   "execution_count": null,
   "metadata": {},
   "outputs": [],
   "source": [
    "number_list = [5, 6, 7]"
   ]
  },
  {
   "cell_type": "code",
   "execution_count": null,
   "metadata": {},
   "outputs": [],
   "source": [
    "x in number_list  # check membership"
   ]
  },
  {
   "cell_type": "code",
   "execution_count": null,
   "metadata": {},
   "outputs": [],
   "source": [
    "x not in number_list"
   ]
  },
  {
   "cell_type": "code",
   "execution_count": null,
   "metadata": {},
   "outputs": [],
   "source": [
    "x < 5 or x >= 7"
   ]
  },
  {
   "cell_type": "code",
   "execution_count": null,
   "metadata": {},
   "outputs": [],
   "source": [
    "x < 5 and x >= 7"
   ]
  },
  {
   "cell_type": "code",
   "execution_count": null,
   "metadata": {},
   "outputs": [],
   "source": [
    "5 < x < 10  # how cool is this?"
   ]
  },
  {
   "cell_type": "markdown",
   "metadata": {},
   "source": [
    "## Repeating statements with `while` loops\n",
    "Same as in C and Java, statements in a `while` block get executed until the condition is not true anymore."
   ]
  },
  {
   "cell_type": "code",
   "execution_count": null,
   "metadata": {},
   "outputs": [],
   "source": [
    "count = 1\n",
    "while count <= 5:\n",
    "    # the following statements will get repeated 5 times\n",
    "    print(count)\n",
    "    count += 1"
   ]
  },
  {
   "cell_type": "markdown",
   "metadata": {},
   "source": [
    "The `break` statement can be used to prematurely exit a loop. The `continue` statements on the other hand aborts the current execution of the loop and directly continues with the next one.\n",
    "\n",
    "This can for example be used to repeat statements infinitely (`True` condition) until an exit condition is met.\n",
    "\n",
    "Hint: The `input` function asks the user for a string input."
   ]
  },
  {
   "cell_type": "code",
   "execution_count": null,
   "metadata": {},
   "outputs": [],
   "source": [
    "while True: \n",
    "    value = input('What do you want to do? ')\n",
    "    if value == 'quit':\n",
    "        break  # exits the while loop\n",
    "    if value != 'run':\n",
    "        continue  # continues with the next loop iteration\n",
    "    print(\"Run user, run!\")"
   ]
  },
  {
   "cell_type": "markdown",
   "metadata": {},
   "source": [
    "## Repeating statements with `for` loops\n",
    "The `for` loop executes a set of statements for every element in an iterable, such as a list, tuple, etc.\n",
    "\n",
    "Note that the `for` in Python might rather be called `foreach` in other languages because you have to give it an iterable and not a counting variable. "
   ]
  },
  {
   "cell_type": "code",
   "execution_count": null,
   "metadata": {},
   "outputs": [],
   "source": [
    "example = ['a', 'b', 'c', 'd', 'e']"
   ]
  },
  {
   "cell_type": "code",
   "execution_count": null,
   "metadata": {},
   "outputs": [],
   "source": [
    "# print each element with while\n",
    "index = 0\n",
    "while index < len(example):\n",
    "    print(example[index])\n",
    "    index += 1"
   ]
  },
  {
   "cell_type": "code",
   "execution_count": null,
   "metadata": {},
   "outputs": [],
   "source": [
    "# much easier: use for loop\n",
    "for element in example:\n",
    "    print(element)"
   ]
  },
  {
   "cell_type": "markdown",
   "metadata": {},
   "source": [
    "But sometimes, we want the index of the element also to be available. We can either solve it MATLAB style by first creating a list of all indices with `range`.\n",
    "\n",
    "The `range(N)` function simply returns an iterable going from 0 to N-1. More complex ranges are also possible, see [its documentation](https://docs.python.org/3/library/stdtypes.html#range)."
   ]
  },
  {
   "cell_type": "code",
   "execution_count": null,
   "metadata": {
    "scrolled": false
   },
   "outputs": [],
   "source": [
    "range?"
   ]
  },
  {
   "cell_type": "code",
   "execution_count": null,
   "metadata": {},
   "outputs": [],
   "source": [
    "# generate a list of indices first and loop over them\n",
    "for index in range(len(example)):\n",
    "    print(index, '=>', example[index])"
   ]
  },
  {
   "cell_type": "markdown",
   "metadata": {},
   "source": [
    "By using the `enumerate` function, we automatically generate a list containing all the indices too."
   ]
  },
  {
   "cell_type": "code",
   "execution_count": null,
   "metadata": {},
   "outputs": [],
   "source": [
    "# more elegant way to loop over indices and elements at the same time\n",
    "for index, element in enumerate(example):\n",
    "    print(index, '=>', element)"
   ]
  },
  {
   "cell_type": "markdown",
   "metadata": {},
   "source": [
    "There is also an else statement to the for loop. It triggers when the for loop exited regularly and not via a break statement."
   ]
  },
  {
   "cell_type": "code",
   "execution_count": null,
   "metadata": {},
   "outputs": [],
   "source": [
    "example = ['a', 'B', 'c', 'd', 'e']\n",
    "\n",
    "for element in example:\n",
    "    if 'b' == element:\n",
    "        print('found b!')\n",
    "        break  # exits the for loop\n",
    "else:  # gets executed only if break was NOT hit!\n",
    "    print('did not find b...')"
   ]
  },
  {
   "cell_type": "markdown",
   "metadata": {},
   "source": [
    "### ✏️ $\\mu$-exercise\n",
    "\n",
    "At this point, please switch to your Exercise_2 notebook and complete $\\mu$-exercises __10 and 11__."
   ]
  },
  {
   "cell_type": "markdown",
   "metadata": {},
   "source": [
    "# Functions\n",
    "The last piece of today's lecture are the functions. We will touch only upon the very basic syntax, all other properties will come later.\n",
    "\n",
    "Functions are defined with the `def` keyword. They can take an arbitrary amount of arguments. Use `return` to quit the function and return a value to the caller.\n",
    "\n",
    "Don't forget to execute the cell in jupyter-notebook after changing the function, otherwise your changes won't be reflected."
   ]
  },
  {
   "cell_type": "code",
   "execution_count": null,
   "metadata": {},
   "outputs": [],
   "source": [
    "def square(x):\n",
    "    sq = x * x\n",
    "    return sq"
   ]
  },
  {
   "cell_type": "code",
   "execution_count": null,
   "metadata": {},
   "outputs": [],
   "source": [
    "square(5)"
   ]
  },
  {
   "cell_type": "code",
   "execution_count": null,
   "metadata": {},
   "outputs": [],
   "source": [
    "x = 5\n",
    "x_sq = square(x)\n",
    "print(x, 'squared is', x_sq)"
   ]
  },
  {
   "cell_type": "markdown",
   "metadata": {},
   "source": [
    "At last, another example with two function arguments separated by commas."
   ]
  },
  {
   "cell_type": "code",
   "execution_count": null,
   "metadata": {},
   "outputs": [],
   "source": [
    "def arithmetic_mean(x, y):\n",
    "    t = (x + y) / 2\n",
    "    return t"
   ]
  },
  {
   "cell_type": "code",
   "execution_count": null,
   "metadata": {},
   "outputs": [],
   "source": [
    "arithmetic_mean(1, 2)"
   ]
  },
  {
   "cell_type": "markdown",
   "metadata": {},
   "source": [
    "# jupyter-notebook and ipython\n",
    "\n",
    "At this point, you can already use python as a fancy calculator. Let's also have a quick look at jupyter-notebook and ipython tricks. \n",
    "\n",
    "* __ipython__ is the executor of python in the background of jupyter-notebook. If you want to try ipython standalone, open a terminal and type `ipython`.\n",
    "* __jupyter-notebook__ only supplies the nice browser interface (the one you are looking at now)\n",
    "\n",
    "\n",
    "\n",
    "There exist many magic commands starting with a %. We show a few handy ones here. Also see [the ipython documentation](https://ipython.readthedocs.io/en/stable/interactive/magics.html?highlight=magic)."
   ]
  },
  {
   "cell_type": "code",
   "execution_count": null,
   "metadata": {},
   "outputs": [],
   "source": [
    "# access help of a function\n",
    "math.floor?"
   ]
  },
  {
   "cell_type": "code",
   "execution_count": null,
   "metadata": {},
   "outputs": [],
   "source": [
    "# tab-completion is supported\n",
    "math.fabs"
   ]
  },
  {
   "cell_type": "code",
   "execution_count": null,
   "metadata": {},
   "outputs": [],
   "source": [
    "# access the result of the last evaluation with underscore \"_\", like ans in MATLAB\n",
    "print(_)"
   ]
  },
  {
   "cell_type": "code",
   "execution_count": null,
   "metadata": {},
   "outputs": [],
   "source": [
    "# measure the execution time of an operation\n",
    "%timeit str(int(float('1e4')))"
   ]
  },
  {
   "cell_type": "code",
   "execution_count": null,
   "metadata": {},
   "outputs": [],
   "source": [
    "# print all previously defined variables\n",
    "%who"
   ]
  },
  {
   "cell_type": "code",
   "execution_count": null,
   "metadata": {},
   "outputs": [],
   "source": [
    "# %load hello_world.py\n",
    "class HelloWorldPrinter(object):\n",
    "    \"\"\" example class \"\"\"\n",
    "    def print_hello_world(self):\n",
    "        print(\"Hello, World!\")\n",
    "\n",
    "def greetings():\n",
    "    \"\"\" example function \"\"\"\n",
    "    h = HelloWorldPrinter()\n",
    "    h.print_hello_world()\n",
    "\n",
    "greetings()\n"
   ]
  },
  {
   "cell_type": "markdown",
   "metadata": {},
   "source": [
    "# ✏️ Exercise Time!\n",
    "Now its your turn! Solve the rest of the exercises."
   ]
  },
  {
   "cell_type": "markdown",
   "metadata": {},
   "source": [
    "# Imprint\n",
    "\n",
    "Licensed CC-by-nc-sa\n",
    "\n",
    "Written by Marco Eppenberger <mebg@ethz.ch> with a lot of inspiration from the great work of the [pp4rs course](https://github.com/pp4rs/2018-uzh-course-material). I am very open about suggestions for improvements!\n",
    "\n",
    "Sources:\n",
    "1. Ulrich Bergmann, Lachlan Deer, Adran Etter, Julian Langer, Ursina Schaede, Dora Simon, Max Winkler, Carlo Zanella & Christian Zund, 2018, Programming Practices for Research in Economics, University of Zurich (https://github.com/pp4rs/2018-uzh-course-material)\n",
    "1. Blog post \"Assignment statements in Python are more interesting than you might think\" (https://medium.com/broken-window/many-names-one-memory-address-122f78734cb6)\n",
    "1. Talk by Python author Raymond Hettinger (https://speakerdeck.com/pyconslides/transforming-code-into-beautiful-idiomatic-python-by-raymond-hettinger-1)"
   ]
  }
 ],
 "metadata": {
  "kernelspec": {
   "display_name": "Python 3",
   "language": "python",
   "name": "python3"
  },
  "language_info": {
   "codemirror_mode": {
    "name": "ipython",
    "version": 3
   },
   "file_extension": ".py",
   "mimetype": "text/x-python",
   "name": "python",
   "nbconvert_exporter": "python",
   "pygments_lexer": "ipython3",
<<<<<<< HEAD
   "version": "3.7.5"
=======
   "version": "3.7.3"
>>>>>>> 3bf9d79b99f6e8aabe1e6f9931c5ade7e1d2ef06
  }
 },
 "nbformat": 4,
 "nbformat_minor": 2
}
