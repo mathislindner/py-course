{
 "cells": [
  {
   "cell_type": "markdown",
   "metadata": {},
   "source": [
    "# Notes about this lecture\n",
    "Because of the Corona virus outbreak, this lecture will not be held in the classroom but online only. Further, the lecture will only be available in this written form. In order to offer support for the students we will use the gitlab issue tracker as a question & answer forum: https://git.ee.ethz.ch/python-for-engineers/class-fs20-forum and individual videoconference sessions when needed.\n",
    "\n",
    "## Software\n",
    "\n",
    "### Necessary software\n",
    "Please install the following tools:\n",
    "* python3 (https://www.python.org/downloads/ version 3.8.2 is fine.\n",
    "Python is a prerequisite for jupyter)\n",
    "* jupyter-notebook (https://jupyter.org/install.html)\n",
    "* **Hint for Windows and OSX**: Try to install conda or miniconda (https://docs.conda.io/en/latest/miniconda.html) first. This will install Python and jupyter-notebook automatically.\n",
    "\n",
    "### Optional (but highly recommended) software\n",
    "* git (https://git-scm.com/download/). Git is harder to install but not strictly necessary. **Hint**: On Windows Git will automatically install a Linux compatible shell which can then be found as 'Git BASH'.\n",
    "* If git is not available, solutions shall be uploaded on https://polybox.ethz.ch instead and the folder shall be shared with the lecturers. \n",
    "\n",
    "## Support\n",
    "**For any issues please use the forum** at: https://git.ee.ethz.ch/python-for-engineers/class-fs20-forum and follow the instructions therein. In case of need, we will open a room on https://jitsi.riot.im/ and share the audio, video or the screen: make sure you have a microphone and speakers functioning. \n",
    "\n",
    "This service is offered only **during the normal lecture hours**."
   ]
  },
  {
   "cell_type": "markdown",
   "metadata": {},
   "source": [
    "# Obtaining the material for this lecture\n",
    "### If git is available on your system (preferred option)\n",
    "Pull the new material from the upstream repository:\n",
    "\n",
    "```bash\n",
    "cd class-fs20\n",
    "git pull upstream master\n",
    "```\n",
    "\n",
    "Then launch the jupyter-notebook and open the Lecture_04 file:\n",
    "\n",
    "```bash\n",
    "anaconda # Only on ETH computers to load the Python environment.\n",
    "jupyter-notebook &\n",
    "```\n",
    "\n",
    "### If git is **not** available on your system\n",
    "Download the latest material from:\n",
    "https://git.ee.ethz.ch/python-for-engineers/class-fs20/-/archive/master/class-fs20-master.zip\n",
    "and unpack it on your computer."
   ]
  },
  {
   "cell_type": "markdown",
   "metadata": {},
   "source": [
    "# Summary of previous lecture\n",
    "\n",
    "Please open the jupyter-notebook of the past lecture and read through it. This will help fixing the learned notions into the long-term memory."
   ]
  },
  {
   "cell_type": "markdown",
   "metadata": {},
   "source": [
    "### ✏️ $\\mu$-exercise\n",
    "\n",
    "After having refreshed the last lecture, please switch to the Exercise notebook and complete $\\mu$-exercises **1 to 8**."
   ]
  },
  {
   "cell_type": "markdown",
   "metadata": {},
   "source": [
    "# Object-oriented programming in Python\n",
    "\n",
    "## What is object-oriented programming (OOP)?\n",
    "OOP is a way of programming based on the concept of *objects*. Usually *objects* bundle together data, so-called *attributes*. *Objects* can also be associated with code, so-called *methods*. In Python, *objects* are instances of a *class* wich defines the structure of the *objects*. *Class*es can be thought-of as construction plans or blueprints for *objects*.\n",
    "OOP is particularly useful in large programming projects since it facilitates maintating and/or extending them.\n",
    "\n",
    "There are several languages utilizing the concept of *objects*. In most programming languages, these *objects* are based on *classes* and on their *instantiations*. In other languages, such as JavaScript, the objects consist of *prototypes* instead of *classes*.\n",
    "\n",
    "## Object-oriented programming vs. NON object-oriented programming\n",
    "\n",
    "Fundamentally, the difference between OOP and non-OOP is that in OOP there are more complex *data types* (which are called *classes*) than just the fundamental data types (such as integer, float or string). This more complex data types not only bundle other data types but also code, such as functions. This leads to a fundamentally different approach of programmers towards a given problem:\n",
    "\n",
    "* In OOP, when a programmer is given a problem to solve, he will start *first* to think which *data types* (or *objects*) best describe his problem and only *afterwards* he will think about which *relation* there is between these new data types. For example, if a programmer must write a program for a health insurance which determines the price of the insurance policy, the programmer will possibly first define the class *patient* which contains properties like age, height, previous health conditions, and later determine the algorithm, or the relation between the class *patient* and the insurance cost.\n",
    "\n",
    "* In non-OOP, instead, there are no such new data types (or classes), but just the *fundamental* data types (like integer or float). The programmer therefore will immediately focus on what is the relationship between all the different *fundamental* data types which describe the problem.\n",
    "\n",
    "OOP also comes with new concepts such as *inheritance* and *polymorphism*. For non-OOP the usual relation between data types is *combination*: Data types can hold other data types. For example a `Forest` contains `Animals`. However, *inheritance* (also called *sub-typing*) is another type of relation between data types: It is a hierarchical relation, which allows to build abstraction. For example one could write a general class `Animal` and create a sub-type `Cat`. This reflects the fact that a `Cat` *is* an `Animal`. `Animal` is called the *super-class* of `Cat` and `Cat` is called *sub-class* of `Animal`. This allows to write more abstract code that for example cares only about `Animals` and does not have to distinguish between `Cat`s, `Bird`s etcetera.\n",
    "*Polymorphism* refers to the concept that code can be agnostic whether it deals with `Cat`s or `Bird`s as long as they are `Animal`s."
   ]
  },
  {
   "cell_type": "markdown",
   "metadata": {},
   "source": [
    "## Classes\n",
    "An *object* is an *instance* of a *class*. As mentioned above, *classes* can be imagined as the construction plans or the blueprints of an object. Every object therefore will inherit a number of properties from the class (such as the name of the *attributes* and the *methods*) when such a class is instantiated. For example, if the *class* \"patient\" has the attributes \"age\" and \"height\", and if *Ms. Roth* and *Mr. Braun* are both instances (objects) of the class *patient*, then they both will inherit the attributes \"age\" and \"height\".\n",
    "\n",
    "**Observation**: In Python, creating a new *class* does not create a new *object*, but a new *type of object* (or a new *data type*).\n",
    "\n",
    "### Attributes and methods\n",
    "When dealing with classes, *variables* are called *attributes* and *functions* are called *methods*. In other words:\n",
    "* *attributes* are *variables* related to a class, and\n",
    "* *methods* are *functions* related to a class.\n",
    "\n",
    "Both, *attributes* and *methods*, are called *members* of the class. *Members* can be accessed with the `.` dot operator, for example: `<object_name>.<member_name>`.\n",
    "\n",
    "\n",
    "### Our first class definition \n",
    "\n",
    "[Documentation Link](https://docs.python.org/3/tutorial/classes.html)\n",
    "\n",
    "**Nomenclature:** it is recommended to use CapitalizedWords for class names (*not* for names of their instances which remain in lower case with underscores when needed to improve readability).\n",
    "\n",
    "The definition of the class in Python starts with the **`class`** statement, followed by the name of the class:"
   ]
  },
  {
   "cell_type": "code",
   "execution_count": null,
   "metadata": {},
   "outputs": [],
   "source": [
    "# First class definition.\n",
    "class Cat:\n",
    "    pass\n",
    "\n",
    "# Create two objects (i.e. two instances of \n",
    "# the same class Cat).\n",
    "my_cat = Cat()\n",
    "your_cat = Cat()\n",
    "\n",
    "# Print the types of the both objects.\n",
    "# The `type` function returns the class of the object.\n",
    "print(type(my_cat))\n",
    "print(type(your_cat))\n",
    "\n",
    "# Define an attribute of my_cat.\n",
    "# Notice: it is not a good practice to define \n",
    "# an attribute **outside** of the class definition\n",
    "# as here: this misses the point of having\n",
    "# a class in the first place.\n",
    "my_cat.weight = 1.1\n",
    "your_cat.color = \"black\"\n",
    "\n",
    "print(my_cat.weight)\n",
    "print(your_cat.color)"
   ]
  },
  {
   "cell_type": "markdown",
   "metadata": {},
   "source": [
    "# A better class definition: attributes defined inside the class definition\n",
    "Let's define an improved version of the class above: an example where the attributes are defined *within* the class definition itself.\n",
    "\n",
    "Let's use again the example of the \"Cat\" and let's say that a cat should have the following two attributes:\n",
    "1. the \"weight\", and\n",
    "1. the \"color\"\n",
    "\n",
    "So let's proceed by defining such definitions right after the `class` statement:"
   ]
  },
  {
   "cell_type": "code",
   "execution_count": null,
   "metadata": {},
   "outputs": [],
   "source": [
    "# Class definition with *internally-defined* attributes:\n",
    "class Cat:\n",
    "    \n",
    "    def __init__(self):\n",
    "        # The `__init__` function is called just after an object of\n",
    "        # this class is created.\n",
    "        # `self` is this new object.\n",
    "        # This allows to add attributes to an object automatically during creation.\n",
    "        \n",
    "        # Help observing the call of __init__.\n",
    "        print('Calling __init__ of object: ', self)\n",
    "        \n",
    "        self.weight = 1 \n",
    "        self.color = 'white'\n",
    "\n",
    "# Create two objects (i.e. two instances of \n",
    "# the same class Cat)\n",
    "my_cat = Cat()\n",
    "your_cat = Cat()\n",
    "\n",
    "print(\"Initial weight: \", my_cat.weight)\n",
    "print(\"Initial color: \", your_cat.color)\n",
    "\n",
    "# Change the weight of one object.\n",
    "your_cat.weight = 1.3 # The attribute can be modified\n",
    "print(\"New weight of 'your_cat': \", your_cat.weight)\n",
    "print(\"Color of 'my_cat' remains unchanged: \", my_cat.color)"
   ]
  },
  {
   "cell_type": "markdown",
   "metadata": {},
   "source": [
    "## Defining a class method\n",
    "\n",
    "Classes in Python allow to define functions or so-called 'methods'. Methods are associated with objects of the class and can be called with the `.` dot operator: `my_object.my_function()`\n",
    "\n",
    "Methods can be defined like any other function but there are two specialities: First, the methods must be defined inside the class definition, second the first argument of a method is always `self`. The name `self` is a convention though, any other valid variable name could be chosen. What is special is that each time a method is called on an object the method recieves this object as the first argument.\n",
    "\n",
    "A method call with the dot operator on an object `x` can be seen as a shorthand notation for calling the function defined in the class while inserting `x` as first argument:\n",
    "\n",
    "```python\n",
    "\n",
    "# Create an object.\n",
    "x = MyClass()\n",
    "\n",
    "# Method call with the dot operator.\n",
    "x.my_function()\n",
    "\n",
    "# ... is in this case the same as:\n",
    "# (Because `my_function()` is defined in the class `MyClass`)\n",
    "MyClass.my_function(x)\n",
    "\n",
    "```\n",
    "\n",
    "The following example shows the above `Cat` class with an additional method defined."
   ]
  },
  {
   "cell_type": "code",
   "execution_count": null,
   "metadata": {},
   "outputs": [],
   "source": [
    "# Class definition with *internally-defined* METHOD:\n",
    "\n",
    "class Cat:\n",
    "    \n",
    "    def __init__(self):\n",
    "        # Create the object attributes and assign default values.\n",
    "        self.weight = 2.4 \n",
    "        self.color = 'orange'\n",
    "    \n",
    "    def get_info_string(self):\n",
    "        \"\"\"\n",
    "        Return a string that describes the object attributes.\n",
    "        \"\"\"\n",
    "        return \"color: {}, weight: {}\".format(self.color, self.weight)\n",
    "       \n",
    "# Create an instance of the class `Cat`.\n",
    "my_cat = Cat()\n",
    "\n",
    "print(my_cat.get_info_string())\n",
    "\n",
    "# The above method call can be thought of a shorthand notation for the following:\n",
    "# (This holds in most practical cases but not in general.)\n",
    "print(Cat.get_info_string(my_cat))"
   ]
  },
  {
   "cell_type": "markdown",
   "metadata": {},
   "source": [
    "# Constructor: Making use of the `__init__` function\n",
    "\n",
    "In the previous examples the `__init__` function has been used to create attributes and assign them with default values. Usually, attribute values differ between objects. Therefore it is convenient to pass arguments to the *constructor* method `__init__` to parametrize a new object. The `__init__` method is not different from any other method, except that it is called during object instantiation and that arguments can be passed during object creation. Because of this `__init__` is considered a *special method*. Special methods in Python are named with heading and trailing double-underscore `__*__`. \n",
    "\n",
    "As for other methods the first argument of `__init__` must be `self` which will be used to pass the object under construction. Further `__init__` can hold additional positional arguments or keyword arguments:"
   ]
  },
  {
   "cell_type": "code",
   "execution_count": null,
   "metadata": {},
   "outputs": [],
   "source": [
    "# A class definition using the __init__ constructor.\n",
    "# The name of the __init__ keyword (weight_WHATEVER_NAME)\n",
    "# can be different from the name of the attribute (weight),\n",
    "# but this is not best practice.\n",
    "class Cat:\n",
    "    def __init__(self, weight_WHATEVER_NAME = 2.1):\n",
    "        # Define the class attribute \"weight\"\n",
    "        # and assign the initial value \"weight_WHATEVER_NAME\".\n",
    "        \n",
    "        # | `self` is used to access the object which is created right now.\n",
    "        # |\n",
    "        self.weight = weight_WHATEVER_NAME  # Notice: names can differ BUT it is not best practice.\n",
    "        \n",
    "# Create an object.\n",
    "# Thanks to __init__, \"Cat\" can be called \n",
    "# with parentheses: \"Cat()\"\n",
    "your_cat = Cat(weight_WHATEVER_NAME = 1.5) # Using \"keywords argument\" instead of \"positional argument\"\n",
    "#your_cat = Cat(150) # Works too. Using \"positional argument\" instead of \"keyword argument\" \n",
    "print('your_cat:', your_cat.weight)"
   ]
  },
  {
   "cell_type": "code",
   "execution_count": null,
   "metadata": {},
   "outputs": [],
   "source": [
    "# Same example as above, but the name of the __init__\n",
    "# keyword (weight) is now the same as the \n",
    "# name of the attribute: This can be confusing, \n",
    "# but it is common practice.\n",
    "class Cat:\n",
    "    def __init__(self, weight = 210):\n",
    "        self.weight = weight  # Notice: the two names are the same.\n",
    "        \n",
    "# Create an object.\n",
    "your_cat = Cat(weight = 150) \n",
    "print('your_cat:', your_cat.weight)\n",
    "\n",
    "# Arguments to the constructor can be omitted in this case \n",
    "# because they all have default values:\n",
    "default_cat = Cat()\n",
    "print('default_cat:', default_cat.weight)"
   ]
  },
  {
   "cell_type": "markdown",
   "metadata": {},
   "source": [
    "### ✏️ $\\mu$-exercise\n",
    "\n",
    "At this point, please switch to your exercise notebook and complete $\\mu$-exercises __9 and 10__."
   ]
  },
  {
   "cell_type": "markdown",
   "metadata": {},
   "source": [
    "## Special methods \n",
    "The method `__init__`, with **double** underscores before (leading underscores) and after (trailing underscores), is an example of a special method. Special methods are predefined and have an additional special meaning in Python. For example, the `__init__` method is always executed right after the creation of a new instance with the purpose to set initial argument values. The `__init__` special method is also called *constructor*.\n",
    "\n",
    "The *special methods* include:\n",
    "* `__init__` Called after the instance has been created, but before it is returned to the caller. The arguments are those passed to the class constructor expression.\n",
    "* `__del__` Called when the instance is about to be destroyed. This is also called a finalizer or (improperly) a destructor. \n",
    "* `__str__` Called by str(object) and the built-in functions format() and print() to compute the “informal” or nicely printable **string** representation of an object.)\n",
    "* `__repr__` Called by the repr() built-in function to compute the “official” string **representation** of an object. If at all possible, this should look like a valid Python expression that could be used to recreate an object with the same value (given an appropriate environment).\n",
    "\n",
    "There are also special metods which define how operators like `+=`, `==`, `>`, `+`, `/`, etcetera act on one or more instances of a class. These include:\n",
    "* `__iadd__` --> += (increment add)\n",
    "* `__eq__`   --> == (equal)\n",
    "* `__ge__`   --> >= (greater or equal)\n",
    "* `__lt__`   --> < (less than)\n",
    "* `__add__`  --> + (add)\n",
    "* `__sub__`  --> - (subtract)\n",
    "* `__mul__`  --> * (multiply)\n",
    "* `__div__`  --> / (divide)\n",
    "* `__pow__`  --> ^ (to the power of)\n",
    "\n",
    "For more special methods and more documentation see:\n",
    "https://docs.python.org/3/reference/datamodel.html "
   ]
  },
  {
   "cell_type": "code",
   "execution_count": null,
   "metadata": {},
   "outputs": [],
   "source": [
    "# Example of the special method __str__\n",
    "class Cat:\n",
    "    \n",
    "    def __init__(self, color, weight):\n",
    "        self.color = color\n",
    "        self.weight = weight\n",
    "        \n",
    "    def __str__(self):\n",
    "        return 'The cat is {:s} and weights {:.2f} kg.'.format(self.color, self.weight)\n",
    "    \n",
    "your_cat = Cat('white', 2.31)\n",
    "my_cat = Cat('orange', 1079252848.8)\n",
    "\n",
    "s = str(your_cat) # Call the __str__ special method.\n",
    "print(s)\n",
    "\n",
    "# Print also calls the `__str__` method in the background.\n",
    "print(my_cat)"
   ]
  },
  {
   "cell_type": "code",
   "execution_count": null,
   "metadata": {},
   "outputs": [],
   "source": [
    "# Example of the special method __sub__\n",
    "class Cat:\n",
    "    \n",
    "    def __init__(self, color, weight):\n",
    "        self.color = color\n",
    "        self.weight = weight\n",
    "        \n",
    "    def __sub__(self, rhs):\n",
    "        \"\"\"\n",
    "        Define the `-` operator. \n",
    "        `self` is the object on the left-hand side of the `-`.\n",
    "        `rhs` is the value on the right-hand side (rhs) of the `-`.\n",
    "        \"\"\"\n",
    "        return self.weight - rhs.weight\n",
    "    \n",
    "your_cat = Cat('white', 3.0)\n",
    "his_cat = Cat('pink', 2.5)\n",
    "\n",
    "print(your_cat - his_cat)  # Call the __sub__ special method."
   ]
  },
  {
   "cell_type": "markdown",
   "metadata": {},
   "source": [
    "### ✏️ $\\mu$-exercise\n",
    "\n",
    "At this point, please switch to the Exercise notebook and complete $\\mu$-exercises __11 and 12__."
   ]
  },
  {
   "cell_type": "markdown",
   "metadata": {},
   "source": [
    "## Observation on \"`self`\"\n",
    "As mentioned above, it is good practice to use the name \"`self`\" for the **first argument** of a class method, but it is not strictly necessary. For example:"
   ]
  },
  {
   "cell_type": "code",
   "execution_count": null,
   "metadata": {},
   "outputs": [],
   "source": [
    "class Cat:\n",
    "    \n",
    "    def __init__(whatever_name_but_self, cat_name, weight):\n",
    "        whatever_name_but_self.cat_name = cat_name\n",
    "        whatever_name_but_self.weight = weight\n",
    "        \n",
    "    def __sub__(xxx, yyy):  # the same applies to the name \"other\" here replaced with \"yyy\"\n",
    "        return xxx.weight - yyy.weight\n",
    "    \n",
    "your_cat = Cat('Chilli', 300)\n",
    "his_cat = Cat('Scratchy', 210)\n",
    "\n",
    "print(your_cat - his_cat)"
   ]
  },
  {
   "cell_type": "markdown",
   "metadata": {},
   "source": [
    "## Instance attributes vs. class attributes \n",
    "\n",
    "Based on the examples above and on the functioning of the `__init__` constructor, it is clear that the attributes defined withint the constructor are generally different for each object (=instance). Such attributes are called **instance attributes**.\n",
    "\n",
    "Instead, the variables defined *outside* the construtor are the same for all objects (at least right after their creation). Such attributes are called **class attributes**.\n",
    "\n",
    "This is illustrated below:\n",
    "``` python\n",
    "class ClassName:\n",
    "    \n",
    "    class_attributes = value  # <-- Notice this location.\n",
    "    \n",
    "    def __init__(self,...):\n",
    "        self.instance_attributes = value   # <-- Notice this location.\n",
    "    \n",
    "    def method_1(self,...):\n",
    "        return something\n",
    "```"
   ]
  },
  {
   "cell_type": "code",
   "execution_count": null,
   "metadata": {},
   "outputs": [],
   "source": [
    "class Cat:\n",
    "    \n",
    "    # Define a class attribute.\n",
    "    format_string = 'The cat is {:s} and has a weight of {:.2f} kg.'\n",
    "    \n",
    "    def __init__(self, color, weight):\n",
    "        self.color = color\n",
    "        self.weight = weight\n",
    "    \n",
    "    def description(self):\n",
    "        # Use the format string defined as class attribute.\n",
    "        # Class attributes can be accessed with `self` like instance attributes.\n",
    "        return self.format_string.format(self.color, self.weight)\n",
    "    \n",
    "my_cat = Cat('white', 2.1)\n",
    "your_cat = Cat('orange', 4.5)\n",
    "print(my_cat.description())\n",
    "print(your_cat.description())\n",
    "print()\n",
    "\n",
    "# The class attribute can be accessed over the class and over the instances.\n",
    "assert Cat.format_string == my_cat.format_string\n",
    "\n",
    "# Changing a class attribute automatically changes it for the instances.\n",
    "Cat.format_string = 'color: {}, weight: {}'\n",
    "assert Cat.format_string == my_cat.format_string\n",
    "assert Cat.format_string == your_cat.format_string\n",
    "print(my_cat.description())\n",
    "print(your_cat.description())\n",
    "print()\n",
    "\n",
    "# Caution: a class attribute can be 'overwritten' by an instance attribute.\n",
    "your_cat.format_string = 'Cat(color=\"{}\", weight={})'\n",
    "\n",
    "# Now the format of 'your_cat' is independent.\n",
    "print(my_cat.description())\n",
    "print(your_cat.description())\n",
    "    "
   ]
  },
  {
   "cell_type": "markdown",
   "metadata": {},
   "source": [
    "## Most things behave like objects in Python\n",
    "\n",
    "Most things show an object-like behaviour in Python. This is obviously true for class instances but also built-in types such as a `dict` or even functions can be treated as object instances.\n",
    "An easy way to find out what functions and attributes are associated with something the `dir()` function can be used.\n",
    "\n",
    "### Display attributes and methods with `dir()`"
   ]
  },
  {
   "cell_type": "code",
   "execution_count": null,
   "metadata": {},
   "outputs": [],
   "source": [
    "# Display documentation of `dir`\n",
    "help(dir)"
   ]
  },
  {
   "cell_type": "code",
   "execution_count": null,
   "metadata": {},
   "outputs": [],
   "source": [
    "# The `dir` function creates a list with all methods and attributes of `my_cat`\n",
    "# There are many special functions (`__something__`) that are already pre-defined.\n",
    "# The attributes and functions we defined manually are at the end of the list.\n",
    "dir(my_cat)"
   ]
  },
  {
   "cell_type": "code",
   "execution_count": null,
   "metadata": {},
   "outputs": [],
   "source": [
    "# Also functions can be treated as objects.\n",
    "\n",
    "def f(x):\n",
    "    return x**2\n",
    "\n",
    "# Even a function can have attributes.\n",
    "f.my_attribute = 42\n",
    "\n",
    "print('Type of f:', type(f))\n",
    "\n",
    "dir(f)"
   ]
  },
  {
   "cell_type": "code",
   "execution_count": null,
   "metadata": {},
   "outputs": [],
   "source": [
    "# `dir` can be used to display all variables,\n",
    "# functions and classes in the scope when\n",
    "# called without arguments.\n",
    "\n",
    "my_random_variable = 1\n",
    "\n",
    "all_variable_names = dir()\n",
    "\n",
    "assert 'my_random_variable' in all_variable_names\n",
    "all_variable_names"
   ]
  },
  {
   "cell_type": "code",
   "execution_count": null,
   "metadata": {},
   "outputs": [],
   "source": [
    "# One way to define list is to initialize \n",
    "# the default (empty) list.\n",
    "\n",
    "l = list((1, 2, 3))  # Call the constructor of the list class.\n",
    "print(l)\n",
    "\n",
    "# Initialize the list again by calling the __init__ function directly.\n",
    "# This is not clean coding style and is just meant to demonstrate that\n",
    "# a list behaves very similar to another class.\n",
    "l.__init__((10, 11, 12))\n",
    "print(l)\n",
    "\n",
    "# However, for built-in types it is not possible to define new attributes.\n",
    "# This would raise an `AttributeError`:\n",
    "#l.my_attribute = 1"
   ]
  },
  {
   "cell_type": "code",
   "execution_count": null,
   "metadata": {},
   "outputs": [],
   "source": [
    "# Get all function (and possibly attribute) names of lists.\n",
    "[s for s in dir(list) if '__' not in s]"
   ]
  },
  {
   "cell_type": "markdown",
   "metadata": {},
   "source": [
    "Paradoxically even classes behave like objects:"
   ]
  },
  {
   "cell_type": "code",
   "execution_count": null,
   "metadata": {},
   "outputs": [],
   "source": [
    "class A:\n",
    "    pass\n",
    "\n",
    "# Attributes can be added to the class like it is possible for an object.\n",
    "A.class_attribute = 'asdf'\n",
    "\n",
    "# The `class_attribute` will now be listed here.\n",
    "assert 'class_attribute' in dir(A)\n",
    "\n",
    "# The class is actually an instance of the `type` class.\n",
    "print('Type of the class A:', type(A))\n"
   ]
  },
  {
   "cell_type": "markdown",
   "metadata": {},
   "source": [
    "The `type` function returns the class of an object."
   ]
  },
  {
   "cell_type": "code",
   "execution_count": null,
   "metadata": {},
   "outputs": [],
   "source": [
    "\n",
    "a = A()\n",
    "\n",
    "print(type(a))\n",
    "\n",
    "# Notice that `type(a)` and `A` are equivalent in this case.\n",
    "assert type(a) is A"
   ]
  },
  {
   "cell_type": "code",
   "execution_count": null,
   "metadata": {},
   "outputs": [],
   "source": [
    "# *Optional*\n",
    "# Because `type(a)` and `A` are equivalent `type(a)()` is equivalent to `A()`.\n",
    "# This means `type(x)()` can be used to construct a new instance with the \n",
    "# same type as `x`.\n",
    "\n",
    "def create_new_instance(some_object):\n",
    "    \"\"\"\n",
    "    Create a new instance of the same type as the input object.\n",
    "    \"\"\"\n",
    "    \n",
    "    # Get the class of the object.\n",
    "    the_type = type(some_object)\n",
    "    \n",
    "    # Create a new instance of this type.\n",
    "    return the_type()\n",
    "\n",
    "d1 = {1: 'one'}\n",
    "l1 = [1, 2, 3]\n",
    "\n",
    "# Now create a new dict and a new list.\n",
    "d2 = create_new_instance(d1)\n",
    "l2 = create_new_instance(l1)\n",
    "\n",
    "# The types should match.\n",
    "assert type(d1) is type(d2)\n",
    "assert type(l1) is type(l2)\n",
    "\n",
    "# Print the empty new dict and list.\n",
    "print(d2)\n",
    "print(l2)"
   ]
  },
  {
   "cell_type": "markdown",
   "metadata": {},
   "source": [
    "## Private/protected access modifiers in Python\n",
    "\n",
    "In contrast to other programming languages such as C++ or Java there are no access modifiers `protected` and `private` in Python. In Java `protected` is used to enforce that a method or attribute can only be used from within the package, `private` asserts that the method or attribute can only be used from within the class itself.\n",
    "In Python some similar access control can be done by attaching leading underscores in front of a name. A single leading underscore means that an attribute or function is not intended to be used from the outside of the class or module. It is still possible to use it though.\n",
    "Names starting double-underscore can **not** be accessed from outside the class. Any attempt will raise an `AttributError`."
   ]
  },
  {
   "cell_type": "code",
   "execution_count": null,
   "metadata": {},
   "outputs": [],
   "source": [
    "class SomeClass:\n",
    "    \n",
    "    def __init__(self):\n",
    "        # The `_` hints that this attribute is not intended\n",
    "        # to be used from outside of this class definition.\n",
    "        self._protected_data = 'protected data'\n",
    "        \n",
    "        # Attributes or functions starting with double-underscore are 'private'.\n",
    "        self.__private_data = 'private data'\n",
    "        \n",
    "    def _internal_function(self):\n",
    "        # The `_` hints that this function is not intended\n",
    "        # to be used from outside of this class definition.\n",
    "        pass\n",
    "    \n",
    "    def get_private_data(self):\n",
    "        # Private attributes can be accessed from within the class.\n",
    "        return self.__private_data\n",
    "    \n",
    "sc = SomeClass()\n",
    "\n",
    "# This still works.\n",
    "print(sc._protected_data)\n",
    "\n",
    "try:\n",
    "    # This fails.\n",
    "    print(sc.__private_data)\n",
    "except:\n",
    "    print('Attributes and functions starting with \"__\" cannot be accessed from the outside.')\n",
    "    \n",
    "# However it for a class method to use or even return private attributes.\n",
    "print(sc.get_private_data())"
   ]
  },
  {
   "cell_type": "markdown",
   "metadata": {},
   "source": [
    "# Class inheritance \n",
    "A fundamental concept of OOP is __class inheritance__. In other words, this is the way to reuse data and functionality binding that we talked about so far.\n",
    "\n",
    "So, the two basic and most important terms are:\n",
    "* `BaseClass`\n",
    "    * This is the class that creates pattern (attributes, methods) that child classes can use.\n",
    "* `ChildClass`\n",
    "    * This is the class (on its own) that __inherits__ attributes and methods from parent class. `ChildClass` can:\n",
    "        * Use all attributes and methods from the `BaseClass`.\n",
    "        * Define its own implementation of methods (__overriding__)."
   ]
  },
  {
   "cell_type": "markdown",
   "metadata": {},
   "source": [
    "## Syntax\n",
    "\n",
    "In Python, class inheritance is defined upon class definition. Don't confuse it with instances!"
   ]
  },
  {
   "cell_type": "code",
   "execution_count": null,
   "metadata": {},
   "outputs": [],
   "source": [
    "class BaseClass():\n",
    "    pass\n",
    "\n",
    "# Create a class that inherits from `BaseClass`\n",
    "class ChildClass(BaseClass):\n",
    "    pass"
   ]
  },
  {
   "cell_type": "markdown",
   "metadata": {},
   "source": [
    "Inheritance means that methods and attributes from the `BaseClass` are available to the `ChildClass`. In addition, `ChildClass` can define its own methods and attributes."
   ]
  },
  {
   "cell_type": "code",
   "execution_count": null,
   "metadata": {},
   "outputs": [],
   "source": [
    "class BaseClass():\n",
    "    \n",
    "    def function_in_base_class():\n",
    "        pass\n",
    "\n",
    "class ChildClass(BaseClass):\n",
    "    pass\n",
    "\n",
    "# Functions in the base class are also accessible in child classes.\n",
    "'function_in_base_class' in dir(ChildClass)"
   ]
  },
  {
   "cell_type": "markdown",
   "metadata": {},
   "source": [
    "## Inheritance: Example"
   ]
  },
  {
   "cell_type": "markdown",
   "metadata": {},
   "source": [
    "The following examples illustrate the inheritance as it is typical for OOP. First, the most general class `Animal` is defined together with attributes and methods that are general for animals."
   ]
  },
  {
   "cell_type": "code",
   "execution_count": null,
   "metadata": {},
   "outputs": [],
   "source": [
    "class Animal:\n",
    "    \n",
    "    def __init__(self, weight):\n",
    "        self.weight = weight\n",
    "        \n",
    "    def eat(self, amount):\n",
    "        assert amount >= 0, \"Cannot eat a negative amount.\"\n",
    "        print(\"{} eats {} kg.\".format(type(self).__name__, amount))\n",
    "        self.weight += amount\n",
    "    \n",
    "    def sleep(self, duration):\n",
    "        print(\"{} sleeps for {} hours.\".format(type(self).__name__, duration))\n",
    "        \n",
    "    def sound(self):\n",
    "        return \"<sound not specified>\""
   ]
  },
  {
   "cell_type": "markdown",
   "metadata": {},
   "source": [
    "The `Cat` class inherits from `Animal`, which states that a `Cat` *is* a special case of an `Animal`. Special cases, or sub-classes, inherit attributes and methods from the super-class and can define further attributes and methods on top."
   ]
  },
  {
   "cell_type": "code",
   "execution_count": null,
   "metadata": {},
   "outputs": [],
   "source": [
    "class Cat(Animal):\n",
    "    # `Cat` inherits the properties of the more general `Animal`.\n",
    "    \n",
    "    def sound(self):\n",
    "        # Overrides (overwrites) the `sound` function of `Animal`.\n",
    "        return \"Miauu!\"\n",
    "    \n",
    "    def run(self, distance):\n",
    "        # Animal has no `run` function.\n",
    "        # This is specific to the `Cat` class.\n",
    "        print(\"Cat runs for {} m.\".format(distance))\n",
    "\n",
    "# Create a new cat.\n",
    "cat = Cat(weight=4)\n",
    "\n",
    "# cat is an `Animal` and a `Cat`.\n",
    "assert isinstance(cat, Animal)\n",
    "assert isinstance(cat, Cat)\n",
    "\n",
    "# The cat can sleep.\n",
    "# This method is not defined in the class `Cat` but in the super-class `Animal`.\n",
    "cat.sleep(1)\n",
    "\n",
    "# Also `eat` is defined by the `Animal` class.\n",
    "cat.eat(0.1)\n",
    "# Access the `weight` attribute which is also defined in the super-class.\n",
    "print('Weight of cat:', cat.weight)\n",
    "\n",
    "# Call a method of the `Cat` class.\n",
    "# `Animal`s have no `run` function in general.\n",
    "cat.run(10)\n",
    "\n",
    "# Call the `sound` function which is now overwritten\n",
    "# by the cat-specific sound.\n",
    "print('Cat makes', cat.sound())\n"
   ]
  },
  {
   "cell_type": "markdown",
   "metadata": {},
   "source": [
    "The following example is very similar than the one above except that there is an additional level of hierarchy: The `FlyingInsect` class inherits from `Animal` while the `Bee` class inherits from `FlyingInsect`. `Bee` now inherits indirectly from `Animal`."
   ]
  },
  {
   "cell_type": "code",
   "execution_count": null,
   "metadata": {},
   "outputs": [],
   "source": [
    "\n",
    "class FlyingInsect(Animal):\n",
    "    # `FlyingInsect` inherits the properties of the more general `Animal`.\n",
    "    \n",
    "    def fly(self, distance):\n",
    "        # Add specialized function for `FlyingInsect`\n",
    "        # This method is not defined in `Animal`.\n",
    "        print(\"{} flies {} m.\".format(type(self).__name__, distance))\n",
    "    \n",
    "class Bee(FlyingInsect):\n",
    "    # `Bee` inherits the properties of the more general `FlyingInsect`.\n",
    "    # And indirectly inherits the properties of `Animal`.\n",
    "    \n",
    "    def sting(self):\n",
    "        # Add another specialized function.\n",
    "        print(\"Bee stings!\")\n",
    "        \n",
    "    def sound(self):\n",
    "        # Override the `sound` function of the `Animal` class.\n",
    "        return \"Bssssssssbsssssss\"\n",
    "    \n",
    "# Create a bee.\n",
    "# The constructors are inherited from `Animal`\n",
    "# because `__init__` is not overwritten in this example.\n",
    "bee = Bee(weight=100e-6)\n",
    "\n",
    "# bee is an `Animal`, an `FlyingInsect` and a `Bee`.\n",
    "assert isinstance(bee, Animal)\n",
    "assert isinstance(bee, FlyingInsect)\n",
    "assert isinstance(bee, Bee)\n",
    "\n",
    "print('Bee makes', bee.sound())\n",
    "\n",
    "# A `Bee` object can `sleep` because its super-class `Animal` defines `sleep`.\n",
    "# `Bee` *inherits* `sleep` from `Animal`.\n",
    "bee.sleep(0)\n",
    "\n",
    "# Also `Bee` inherits the function `eat()` from `Animal`. \n",
    "bee.eat(1e-6)\n",
    "\n",
    "# A `Bee` object can `fly` because its super-class `FlyingInsect` defines `fly`.\n",
    "bee.fly(1000)\n",
    "\n",
    "# The `sting` function only works for `Bee`.\n",
    "bee.sting()\n",
    "\n",
    "# The same inheritance happens also for attributes.\n",
    "# The `weight` attribute can be accessed even if it is defined in the `Animal` class.\n",
    "print('Weight of bee:', bee.weight)"
   ]
  },
  {
   "cell_type": "markdown",
   "metadata": {},
   "source": [
    "## Method *overriding*\n",
    "Replacing methods of a super-class with a more specialized method is often called method *overriding*.\n",
    "In the above examples `Animal` defines the function `sound()`. This can serve as a default implementation for all sub-types. However, usually different sub-classes need a different implementation of `sound`. For example `Cat` defines its own version of `sound` which *overrides* the `sound` function of the super-class."
   ]
  },
  {
   "cell_type": "markdown",
   "metadata": {},
   "source": [
    "## Calling the constructor of the super class\n",
    "\n",
    "In the above example also attributes were inherited from the super-class. The reason for this is that actually the `__init__` function is inherited from the super-class. If the same `__init__` function is called as in the super-class then also the same attributes will be created.\n",
    "However, it is possible to override the `__init__` function. \n",
    "In the following example `__init__` is overridden to allow to define a color attribute. This implies though that the `__init__` of `Animal` will not be called anymore. And therefore the `weight` attribute is never created in this example."
   ]
  },
  {
   "cell_type": "code",
   "execution_count": null,
   "metadata": {},
   "outputs": [],
   "source": [
    "class Elephant(Animal):\n",
    "    \n",
    "    def __init__(self, age):\n",
    "        self.age = age\n",
    "        \n",
    "elephant = Elephant(42)\n",
    "\n",
    "# `weight` can not be accessed anymore.\n",
    "print(elephant.weight)"
   ]
  },
  {
   "cell_type": "markdown",
   "metadata": {},
   "source": [
    "A common way to solve this problem is to explicitly call the `__init__` function of the super class. Overridden functions of a super-class can be accessed using the `super()` function (https://docs.python.org/3/library/functions.html#super).\n",
    "The next examlpe shows how the constructor of `Animal` can be used even if `__init__` is overridden."
   ]
  },
  {
   "cell_type": "code",
   "execution_count": null,
   "metadata": {},
   "outputs": [],
   "source": [
    "class Elephant(Animal):\n",
    "    \n",
    "    def __init__(self, weight, age):\n",
    "        \n",
    "        # Call the constructor of the super class\n",
    "        # and pass on the `age`.\n",
    "        super().__init__(weight)\n",
    "        \n",
    "        # Observation: this synatx is also often seen:\n",
    "        # super(Elephant, self).__init__(weight)\n",
    "        \n",
    "        self.age = age\n",
    "        \n",
    "    def sleep(self, duration):\n",
    "        # Specalized `sleep` function for `Elephant`.\n",
    "        \n",
    "        # super() can also be used to access other overridden functions.\n",
    "        super().sleep(duration)\n",
    "        \n",
    "        # Do something special for the `Elephant` class.\n",
    "        print('... and it snores.')\n",
    "        \n",
    "elephant = Elephant(5e3, 42)\n",
    "\n",
    "# `weight` can be accessed again.\n",
    "print('weight:', elephant.weight)\n",
    "\n",
    "# Call the overridden `sleep` function which in the background\n",
    "# also calls the original `sleep` function.\n",
    "elephant.sleep(1)\n"
   ]
  },
  {
   "cell_type": "markdown",
   "metadata": {},
   "source": [
    "# Exercise time\n",
    "Please solve the rest of the exercises."
   ]
  },
  {
   "cell_type": "markdown",
   "metadata": {},
   "source": [
    "# Uploading solutions\n",
    "Before the end of the class at about 16:00, please \"push\" your solutions. \n",
    "\n",
    "Please do so even if you have not solved all problems: additional\n",
    "uploads can be made in the following days. Instructions are below.\n",
    "\n",
    "### If git is available on your system (preferred option)\n",
    "Add, commit and push your changes to the remote server:\n",
    "\n",
    "`git add -A`\n",
    "\n",
    "`git commit -m 'My solutions to Lecture XX'`\n",
    "\n",
    "`git push origin master`\n",
    "\n",
    "### If git is **not** available on your system\n",
    "This is **not** the favourite solution and it should be avoided whenever possible.\n",
    "\n",
    "Upload your Lecture_XX folder (containing the Exercise file) to the polybox https://polybox.ethz.ch and share the folder with luca.alloatti@ief.ee.ethz.ch, thomas.kramer@ief.ee.ethz.ch, and raphael.schwanninger@ief.ee.ethz.ch . To share the folder go on https://polybox.ethz.ch , then on the right of the folder there is a graph with one vertex connecting to two other vertices: click on it and then type the three emails."
   ]
  },
  {
   "cell_type": "code",
   "execution_count": null,
   "metadata": {},
   "outputs": [],
   "source": []
  }
 ],
 "metadata": {
  "kernelspec": {
   "display_name": "Python 3",
   "language": "python",
   "name": "python3"
  },
  "language_info": {
   "codemirror_mode": {
    "name": "ipython",
    "version": 3
   },
   "file_extension": ".py",
   "mimetype": "text/x-python",
   "name": "python",
   "nbconvert_exporter": "python",
   "pygments_lexer": "ipython3",
   "version": "3.7.3"
  }
 },
 "nbformat": 4,
 "nbformat_minor": 2
}
