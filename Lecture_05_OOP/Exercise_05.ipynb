{
 "cells": [
  {
   "cell_type": "markdown",
   "metadata": {},
   "source": [
    "# Object-Oriented Programming in Python - Exercises"
   ]
  },
  {
   "cell_type": "markdown",
   "metadata": {},
   "source": [
    "## $\\mu$-exercises"
   ]
  },
  {
   "cell_type": "markdown",
   "metadata": {},
   "source": [
    "#### 1\n",
    "\n",
    "Define a function of your choice and use it as a **predicate** for defining a comprehension of your choice. "
   ]
  },
  {
   "cell_type": "code",
   "execution_count": 28,
   "metadata": {},
   "outputs": [
    {
     "data": {
      "text/plain": [
       "[2, 4, 6, 8]"
      ]
     },
     "execution_count": 28,
     "metadata": {},
     "output_type": "execute_result"
    }
   ],
   "source": [
    "def is_even(x):\n",
    "    if(x%2 == 0):\n",
    "        return x\n",
    "\n",
    "[i for i in range(1,10) if is_even(i)]"
   ]
  },
  {
   "cell_type": "markdown",
   "metadata": {},
   "source": [
    "#### 2\n",
    "\n",
    "Spell the comprehension that you created above like if it was a mathematical set."
   ]
  },
  {
   "cell_type": "markdown",
   "metadata": {},
   "source": [
    "The comprehension can be spelled as: (2x, x in Z)"
   ]
  },
  {
   "cell_type": "markdown",
   "metadata": {
    "collapsed": true
   },
   "source": [
    "#### 3\n",
    "Define a function of your choice, and use it as an **expression** in the definition of a comprehension (remember the formal definition of a comprehension)."
   ]
  },
  {
   "cell_type": "code",
   "execution_count": 30,
   "metadata": {},
   "outputs": [
    {
     "data": {
      "text/plain": [
       "[6, 6, 6, 6, 6, 6, 6, 6, 6, 6]"
      ]
     },
     "execution_count": 30,
     "metadata": {},
     "output_type": "execute_result"
    }
   ],
   "source": [
    "def x3(x):\n",
    "    return x*3\n",
    "\n",
    "[x3(x) for i in range(10)]"
   ]
  },
  {
   "cell_type": "markdown",
   "metadata": {},
   "source": [
    "#### 4\n",
    "\n",
    "Flatten the following list of lists: `[[1, 2], [3, 4], [5, 6]]` using a comprehension construct."
   ]
  },
  {
   "cell_type": "code",
   "execution_count": 35,
   "metadata": {},
   "outputs": [
    {
     "name": "stdout",
     "output_type": "stream",
     "text": [
      "[1, 2, 3, 4, 5, 6]\n"
     ]
    }
   ],
   "source": [
    "a = [[1, 2], [3, 4], [5, 6]]\n",
    "b = [alpha for row in a for alpha in row]\n",
    "print(b)"
   ]
  },
  {
   "cell_type": "markdown",
   "metadata": {},
   "source": [
    "#### 5\n",
    "Verify using the example below, or using an example of your choice, that the order of the `for` statements is important:"
   ]
  },
  {
   "cell_type": "code",
   "execution_count": null,
   "metadata": {},
   "outputs": [],
   "source": [
    "three_levels_list = [[[1, 2, 3]]]\n",
    "one_level_list = [x for level_1 in three_levels_list for level_2 in level_1 for x in level_2]\n",
    "print(one_level_list)\n"
   ]
  },
  {
   "cell_type": "markdown",
   "metadata": {},
   "source": [
    "#### 6\n",
    "\n",
    "Try the `zip` function on three or more lists. Experiment what happens if they have different lengths."
   ]
  },
  {
   "cell_type": "code",
   "execution_count": 41,
   "metadata": {},
   "outputs": [
    {
     "name": "stdout",
     "output_type": "stream",
     "text": [
      "[(1, 4, 9), (2, 5, 10), (3, 6, 11)]\n"
     ]
    }
   ],
   "source": [
    "a = [1,2,3]\n",
    "b = [4,5,6,7,8]\n",
    "c = [9,10,11,12,13]\n",
    "zipped = zip(a,b,c)\n",
    "print(list(zipped))"
   ]
  },
  {
   "cell_type": "markdown",
   "metadata": {},
   "source": [
    "#### 7\n",
    "\n",
    "Create a $3\\times 3$ matrix having at the position (i,j) the element $i+2^j$ for i,j=0,1,2."
   ]
  },
  {
   "cell_type": "code",
   "execution_count": 64,
   "metadata": {},
   "outputs": [
    {
     "name": "stdout",
     "output_type": "stream",
     "text": [
      "[[1, 2, 3], [2, 3, 4], [4, 5, 6]]\n"
     ]
    }
   ],
   "source": [
    "matrix = [[i + 2**j for i in range(3)] for j in range(3)]\n",
    "print (matrix)"
   ]
  },
  {
   "cell_type": "markdown",
   "metadata": {},
   "source": [
    "#### 8\n",
    "Write the content of the matrix of micro-exercise 7 into a file called matrix.txt. Make sure that the format of the matrix is maintained."
   ]
  },
  {
   "cell_type": "code",
   "execution_count": 65,
   "metadata": {},
   "outputs": [],
   "source": [
    "f = open (\"matrix.txt\", \"w\")\n",
    "\n",
    "for j in range(3):\n",
    "    for i in range(3):\n",
    "        f.write(str(matrix[i][j])+' ')\n",
    "    f. write('\\n')\n",
    "f.close()"
   ]
  },
  {
   "cell_type": "markdown",
   "metadata": {},
   "source": [
    "#### 9\n",
    "Redefine the class `Cat` from the lecture notes and give it default constructor arguments."
   ]
  },
  {
   "cell_type": "code",
   "execution_count": null,
   "metadata": {},
   "outputs": [],
   "source": [
    "class Cat:\n",
    "    def __init__(self, weight= 1.2, color= 'Unknown', name= \"default cat\"):\n",
    "        self.weight = weight\n",
    "        self.color = color\n",
    "        self.name = name\n",
    "        \n",
    "# Make it possible to create a `Cat` \n",
    "# without necessarily passing arguments to the constructor.\n",
    "default_cat = Cat()\n",
    "cat = Cat(weight=3.0, color='yellow', name = 'frank')"
   ]
  },
  {
   "cell_type": "markdown",
   "metadata": {},
   "source": [
    "#### 10\n",
    "Instantiate two objects of your class from above. One instance should have the default attributes, the other one something else."
   ]
  },
  {
   "cell_type": "code",
   "execution_count": null,
   "metadata": {},
   "outputs": [],
   "source": [
    "defaulty_catty = Cat()\n",
    "my_favorite_cat = Cat(weight=4.0, color='black and yellow', name = 'Wiz')"
   ]
  },
  {
   "cell_type": "markdown",
   "metadata": {},
   "source": [
    "#### 11\n",
    "Extend the `Forest` class by the `+=` and `-=` operators such that animals can be added and removed using them. Use the `add_animal` and `remove_animal` functions in the operator definition."
   ]
  },
  {
   "cell_type": "code",
   "execution_count": 3,
   "metadata": {},
   "outputs": [
    {
     "name": "stdout",
     "output_type": "stream",
     "text": [
      "Animal \"bear\" enters the forest.\n",
      "Animal \"deer\" enters the forest.\n",
      "Animal \"bear\" leaves the forest.\n",
      "Animal \"deer\" leaves the forest.\n"
     ]
    }
   ],
   "source": [
    "class Animal:\n",
    "    \n",
    "    def __init__(self, name):\n",
    "        self.name = name\n",
    "        \n",
    "    def __str__(self):\n",
    "        return self.name\n",
    "\n",
    "class Forest:\n",
    "    \n",
    "    def __init__(self):\n",
    "        # Create an empty set of animals.\n",
    "        self.animals = set()\n",
    "        \n",
    "    def add_animal(self, animal):\n",
    "        # Add an animal to the forest.\n",
    "        # Check that this is really an animal.\n",
    "        assert isinstance(animal, Animal), 'This is not an animal.'\n",
    "        if animal in self.animals:\n",
    "            print('Cannot enter: Animal \"{}\" is already in the forest.'.format(animal))\n",
    "        else:\n",
    "            print('Animal \"{}\" enters the forest.'.format(animal))\n",
    "            self.animals.add(animal)\n",
    "            \n",
    "    def remove_animal(self, animal):\n",
    "        # Remove an animal from the forest.\n",
    "        assert isinstance(animal, Animal), 'This is not an animal.'\n",
    "        if animal not in self.animals:\n",
    "            print('Cannot leave: Animal \"{}\" is not in the forest.'.format(animal))\n",
    "        else:\n",
    "            print('Animal \"{}\" leaves the forest.'.format(animal))\n",
    "            self.animals.remove(animal)\n",
    "    \n",
    "    def __iadd__(self,animal):\n",
    "        self.add_animal(animal)\n",
    "    \n",
    "    def __isub__(self, animal):\n",
    "        self.remove_animal(animal)\n",
    "        \n",
    "forest = Forest()\n",
    "bear = Animal('bear')\n",
    "deer = Animal('deer')\n",
    "\n",
    "forest.add_animal(bear)\n",
    "forest.add_animal(deer)\n",
    "forest.remove_animal(bear)\n",
    "forest.remove_animal(deer)\n"
   ]
  },
  {
   "cell_type": "markdown",
   "metadata": {},
   "source": [
    "#### 12\n",
    "Test the new operators defined in the `Forest` class and use them to make the bear leave the forest."
   ]
  },
  {
   "cell_type": "code",
   "execution_count": 5,
   "metadata": {},
   "outputs": [
    {
     "ename": "TypeError",
     "evalue": "unsupported operand type(s) for +=: 'NoneType' and 'Animal'",
     "output_type": "error",
     "traceback": [
      "\u001b[1;31m---------------------------------------------------------------------------\u001b[0m",
      "\u001b[1;31mTypeError\u001b[0m                                 Traceback (most recent call last)",
      "\u001b[1;32m<ipython-input-5-658ed5421ccc>\u001b[0m in \u001b[0;36m<module>\u001b[1;34m\u001b[0m\n\u001b[0;32m      1\u001b[0m \u001b[1;31m# If the '+=' operators are defined in `Forest`\u001b[0m\u001b[1;33m\u001b[0m\u001b[1;33m\u001b[0m\u001b[0m\n\u001b[0;32m      2\u001b[0m \u001b[1;31m# adding animals can be written more compactly.\u001b[0m\u001b[1;33m\u001b[0m\u001b[1;33m\u001b[0m\u001b[0m\n\u001b[1;32m----> 3\u001b[1;33m \u001b[0mforest\u001b[0m\u001b[1;33m+=\u001b[0m\u001b[0mdeer\u001b[0m\u001b[1;33m\u001b[0m\u001b[0m\n\u001b[0m\u001b[0;32m      4\u001b[0m \u001b[0mforest\u001b[0m\u001b[1;33m+=\u001b[0m\u001b[0mbear\u001b[0m\u001b[1;33m\u001b[0m\u001b[0m\n\u001b[0;32m      5\u001b[0m \u001b[1;33m\u001b[0m\u001b[0m\n",
      "\u001b[1;31mTypeError\u001b[0m: unsupported operand type(s) for +=: 'NoneType' and 'Animal'"
     ]
    }
   ],
   "source": [
    "# If the '+=' operators are defined in `Forest`\n",
    "# adding animals can be written more compactly.\n",
    "forest += deer\n",
    "forest += bear\n",
    "\n",
    "forest -= bear\n",
    "\n",
    "# Make the bear leave the forest again using the newly defined operators!"
   ]
  },
  {
   "cell_type": "markdown",
   "metadata": {},
   "source": [
    "# Task 1: Class Basics"
   ]
  },
  {
   "cell_type": "markdown",
   "metadata": {},
   "source": [
    "As we learned in the lecture, classes are a powerful way to write code, which is easy to maintain. They are used to combine related data and functionality. "
   ]
  },
  {
   "cell_type": "markdown",
   "metadata": {},
   "source": [
    "## 1.1 Class for storing data about students"
   ]
  },
  {
   "cell_type": "markdown",
   "metadata": {},
   "source": [
    "Create a new class called `Student`. \n",
    "\n",
    "Every student should have the following attributes:\n",
    "* first name\n",
    "* last name\n",
    "* email address\n",
    "* list made of elements of class `Lecture`\n",
    "\n",
    "Now implement three methods for the class `Student`:\n",
    "* `add`, that can add a new lecture to the list of lectures of the `Student`\n",
    "* `show_lectures`, that prints all lectures of the `Student`\n",
    "* `calculate_average_grade`, that calculates and prints the average grade of all lectures of the `Student`\n",
    "\n",
    "The class `Lecture` has attributes `name` and `student_grade`. Take a look at its implementation below:"
   ]
  },
  {
   "cell_type": "code",
   "execution_count": 68,
   "metadata": {},
   "outputs": [],
   "source": [
    "class Lecture():\n",
    "    def __init__(self, name='PythonForEngineers', student_grade=6.0):\n",
    "        self.name = name\n",
    "        self.student_grade = student_grade\n",
    "    \n",
    "    def __str__(self):\n",
    "        return 'In lecture {:s} this student obtained grade of {:f}.'.format(self.name, self.student_grade)"
   ]
  },
  {
   "cell_type": "code",
   "execution_count": 66,
   "metadata": {},
   "outputs": [],
   "source": [
    "class Student():\n",
    "    def __init__(self, first_name, last_name, email, lectures=[]):\n",
    "        self.first_name = first_name\n",
    "        self.last_name= last_name\n",
    "        self.email = email\n",
    "        self.lectures = lectures\n",
    "        \n",
    "    def add_lecture(self, lecture):\n",
    "        if(isinstance(lecture,Lecture)):\n",
    "            self.lectures.append(lecture)\n",
    "        else:\n",
    "            print(\"please add a valid Lecture\")\n",
    "            \n",
    "    def show_lectures (self):\n",
    "        for lecture in self.lectures:\n",
    "            print(lecture)\n",
    "        \n",
    "    def calculate_average_grade(self):\n",
    "        average=0\n",
    "        number_of_lectures = len(self.lectures)\n",
    "        for lecture in self.lectures:\n",
    "            average +=lecture.student_grade\n",
    "        average /= number_of_lectures        \n",
    "        return (average)"
   ]
  },
  {
   "cell_type": "markdown",
   "metadata": {},
   "source": [
    "Try out your implementation."
   ]
  },
  {
   "cell_type": "code",
   "execution_count": 69,
   "metadata": {},
   "outputs": [
    {
     "name": "stdout",
     "output_type": "stream",
     "text": [
      "In lecture PythonForEngineers this student obtained grade of 6.000000.\n",
      "In lecture Analysis_I this student obtained grade of 4.200000.\n",
      "In lecture Analysis_II this student obtained grade of 4.900000.\n"
     ]
    },
    {
     "data": {
      "text/plain": [
       "5.033333333333333"
      ]
     },
     "execution_count": 69,
     "metadata": {},
     "output_type": "execute_result"
    }
   ],
   "source": [
    "python_class = Lecture()\n",
    "Analysis_I = Lecture(\"Analysis_I\",4.2)\n",
    "Analysis_II = Lecture(\"Analysis_II\",4.9)\n",
    "\n",
    "jid = Student(first_name = \"Jid\",last_name = \"Dreamville\", email = \"jid.dreamville@ethz.ch\", lectures= [python_class,Analysis_I])\n",
    "\n",
    "jid.add_lecture(Analysis_II)\n",
    "\n",
    "jid.show_lectures()\n",
    "jid.calculate_average_grade()"
   ]
  },
  {
   "cell_type": "markdown",
   "metadata": {},
   "source": [
    "## 1.2 `Classroom()`"
   ]
  },
  {
   "cell_type": "markdown",
   "metadata": {},
   "source": [
    "Create a class `Classroom` which holds a list of `Students`. Each `Student` can have random `Lectures` assigned, and every `Student` should have the same amount of `Lectures`.\n",
    "Create methods which:\n",
    "* Tell who is the student with the highest GPA (grade point average)\n",
    "* Prints out the lecture with lowest/highest GPA\n",
    "\n",
    "__HINT__: Here, you should create another list on the go, which would store all different lectures that are available. Then, figure out which students are taking the lecture, and calculate GPA per lecture based on grades given to `Students` in the lecture."
   ]
  },
  {
   "cell_type": "code",
   "execution_count": 81,
   "metadata": {},
   "outputs": [
    {
     "name": "stdout",
     "output_type": "stream",
     "text": [
      "James  with a gpa of 3.75\n"
     ]
    }
   ],
   "source": [
    "#shouldn t the attibute \"grade\" be in the class student, \n",
    "#since you re not giving grades to the Lecture but the students?\n",
    "#bc i m basically just creating idk how many lectures, even though the students just have different grades but the same lectures\n",
    "import random\n",
    "possible_lectures_strings=[\"Analysis_I\",\"Analysis_II\",\"Analysis_III\",\"Semi-Conductors\",\"ML\"]\n",
    "\n",
    "def get_random_grade():\n",
    "    return random.randrange(1,6)\n",
    "\n",
    "def get_random_lecture_name():\n",
    "    return possible_lectures_strings[random.randrange(0,len(possible_lectures_strings)-1)]\n",
    "\n",
    "\n",
    "\n",
    "james_lectures=[] #ik this is ugly but i didn t know better\n",
    "mary_lectures=[]\n",
    "john_lectures=[]\n",
    "robert_lectures=[]\n",
    "patricia_lectures=[]\n",
    "jennifer_lectures=[]\n",
    "\n",
    "students_lectures=[james_lectures,mary_lectures,john_lectures,robert_lectures,patricia_lectures,jennifer_lectures]\n",
    "\n",
    "for students_lec in students_lectures: #all students\n",
    "    for i in (range(4)):    #all lectures\n",
    "        students_lec.append(Lecture(get_random_lecture_name(),get_random_grade()))\n",
    "\n",
    "James = Student(first_name = \"James\",last_name = \"zuk\", email = \"jj@ethz.ch\",lectures= james_lectures) #hurts my eyes too\n",
    "Mary = Student(first_name = \"Mary\",last_name = \"erbbre\", email = \"fgn@ethz.ch\", lectures= mary_lectures)\n",
    "John = Student(first_name = \"John\",last_name = \"erb\", email = \"serz@ethz.ch\", lectures =john_lectures)\n",
    "Robert = Student(first_name = \"Robert\",last_name = \"kzk\", email = \"strhhv@ethz.ch\", lectures =robert_lectures)\n",
    "Patricia = Student(first_name = \"Patricia\",last_name = \"reg\", email = \"45f@ethz.ch\", lectures =patricia_lectures)\n",
    "Jennifer = Student(first_name = \"Jennifer\",last_name = \"wreg\", email = \"jsdg@ethz.ch\", lectures= jennifer_lectures)\n",
    "\n",
    "all_students=[James,Mary,John,Robert,Patricia,Jennifer]\n",
    "\n",
    "class Classroom():\n",
    "    def __init__(self,all_students):\n",
    "        self.students = all_students\n",
    "    \n",
    "    def best_student(self):\n",
    "        best_student=all_students[0]\n",
    "        for student in self.students:\n",
    "            if (student.calculate_average_grade()>best_student.calculate_average_grade()):\n",
    "                best_student = student\n",
    "        print (best_student.first_name,\" with a gpa of\", best_student.calculate_average_grade())\n",
    "    \n",
    "    def worst_lecture(self):\n",
    "        pass\n",
    "    \n",
    "clas = Classroom(all_students)\n",
    "clas.best_student()\n",
    "clas.worst_lecture()"
   ]
  },
  {
   "cell_type": "markdown",
   "metadata": {},
   "source": [
    "# Task 2: Class Inheritance"
   ]
  },
  {
   "cell_type": "markdown",
   "metadata": {},
   "source": [
    "Class inheritance is powerful way to generalize and extend the code that you are writing. It is also possible to make use of already defined Python functionalities."
   ]
  },
  {
   "cell_type": "markdown",
   "metadata": {},
   "source": [
    "## 2.1 Simple List Class "
   ]
  },
  {
   "cell_type": "markdown",
   "metadata": {},
   "source": [
    "Write a simple class `MyList` that has a `list` as an attribute. (Make sure that default constructor works). This class should contain the methods:\n",
    "* `add` --> that adds item to certain position in the list (default is to the end of the list)\n",
    "* `delete` --> that deletes element from the list at given position (default is the last item)\n",
    "\n",
    "__HINT__: Use default parameters for the position in the list. What is the index of the first and last element in a list?"
   ]
  },
  {
   "cell_type": "code",
   "execution_count": 122,
   "metadata": {},
   "outputs": [],
   "source": [
    "class MyList():\n",
    "    def __init__(self,li=[]):\n",
    "        self.li = li\n",
    "        \n",
    "    def add(self, item, position):\n",
    "        if position>=len(self.li):\n",
    "            l.append(item)\n",
    "        else:\n",
    "            new_list = []\n",
    "            for i in range(position-1): #til pos\n",
    "                new_list.append(li[i])\n",
    "            new_list.append(item)\n",
    "            for i in range(position,len(self.li)): #til pos\n",
    "                new_list.append(li[i])\n",
    "        self.li = new_list\n",
    "    \n",
    "    def delete(self, position):\n",
    "        if position>=len(self.li):\n",
    "            l.pop()\n",
    "        else:\n",
    "            new_list = []\n",
    "            for i in range(position-1): #til pos\n",
    "                new_list.append(li[i])\n",
    "            for i in range(position+1,len(self.li)): #til pos\n",
    "                new_list.append(li[i])\n",
    "        self.li = new_list"
   ]
  },
  {
   "cell_type": "markdown",
   "metadata": {},
   "source": [
    "## 2.2 Extending  `MyList()`"
   ]
  },
  {
   "cell_type": "markdown",
   "metadata": {},
   "source": [
    "Having the base class `MyList`, we want to extend it with:\n",
    "\n",
    "``` python\n",
    "class MyNumberList(MyList); # this class supports ONLY numbers [any kind of a number]\n",
    "class MyStringList(MyList); # this class should support only strings\n",
    "\n",
    "```\n",
    "\n",
    "* Make sure that adding elements adheres to the rules, assert that a new element is of the correct type\n",
    "* Create methods that allow you to manipulate elements\n",
    "    * `MyNumberList()`: \n",
    "        * sort by ascending/descending\n",
    "        * `max()`, `min()`, `average()`\n",
    "    * `MyStringList()`:\n",
    "        * sort by the first letter: A/Z, Z/A\n",
    "        * print out the average number of letters, shortest and longest string\n",
    "\n",
    "__NOTE__: For finding the max, min and sorting, you should use your own code.  \n"
   ]
  },
  {
   "cell_type": "code",
   "execution_count": 164,
   "metadata": {},
   "outputs": [],
   "source": [
    "class MyNumberList(MyList):\n",
    "    def __init__(self,li=[]):\n",
    "        for i in li:\n",
    "            assert(isinstance(i,int))\n",
    "        super().__init__(li)\n",
    "        \n",
    "    \n",
    "    def swap(self,posa,posb):\n",
    "        temp = self.li[posa]\n",
    "        self.li[posa] = self.li[posb]\n",
    "        self.li[posb] = temp\n",
    "        \n",
    "    def sort(self):\n",
    "        for zzz in range(len(self.li)-1):\n",
    "            for i in range(len(self.li)-1):\n",
    "                if (self.li[i]>self.li[i+1]):\n",
    "                    self.swap(i,i+1)   \n",
    "                \n",
    "    def maxi(self):\n",
    "        maxval = self.li[0]\n",
    "        for i in range(len(self.li)):\n",
    "                if (self.li[i]>maxval):\n",
    "                    maxval = self.li[i]\n",
    "        return maxval\n",
    "    \n",
    "    def mini(self):\n",
    "        minval = self.li[0]\n",
    "        for i in range(len(self.li)):\n",
    "                if (self.li[i]<minval):\n",
    "                    maxval = self.li[i]\n",
    "        return minval\n",
    "    \n",
    "    def average(self):\n",
    "        sum = 0\n",
    "        for i in range(len(self.li)):\n",
    "            sum += self.li[i]\n",
    "        return (sum / len(self.li))"
   ]
  },
  {
   "cell_type": "code",
   "execution_count": null,
   "metadata": {},
   "outputs": [],
   "source": [
    "class MyStringList(MyList):\n",
    "    pass  # fill your code here"
   ]
  },
  {
   "cell_type": "markdown",
   "metadata": {},
   "source": [
    "## 2.3 Testing \n",
    "Create one instance each of `MyNumberList()` and `MyStringList()` and show functionality of the methods."
   ]
  },
  {
   "cell_type": "code",
   "execution_count": 165,
   "metadata": {},
   "outputs": [
    {
     "name": "stdout",
     "output_type": "stream",
     "text": [
      "[1, 2, 4, 4, 5, 5, 5, 5, 12, 14, 54, 54, 65]\n",
      "65\n",
      "1\n",
      "17.692307692307693\n"
     ]
    }
   ],
   "source": [
    "a = MyNumberList([2,54,5,1,5,5,14,65,4,12,5,4,54])\n",
    "a.sort()\n",
    "print(a.li)\n",
    "print(a.maxi())\n",
    "print(a.mini())\n",
    "print(a.average())"
   ]
  },
  {
   "cell_type": "markdown",
   "metadata": {},
   "source": [
    "# Extra Task 3: Shop Example in OOP\n",
    "\n",
    "In the last exercise we created a simulation of a shop. However, we were very limited by our datastructure (`dict` in most cases), since we were only able to save the item's name and price.\n",
    "\n",
    "We will now extend our previous program by replacing the primitive datastructure by a class `Item`. It should have the mandatory attributes `name` and `price`.\n",
    "\n",
    "Next, group the items into a class `Basket`. It should have an attribute `size` limiting the number of items per basket. Implement a method `add_item`, that checks if the basket's capacity is exceeded before adding the item to the basket.\n",
    "\n",
    "Finally, create a class `Customer` that has the attributes `name`, `email`, `budget` and `basket`.\n",
    "\n",
    "Last but foremost, do not forget to also create a class `Shop` holding all available items of the store.\n"
   ]
  },
  {
   "cell_type": "code",
   "execution_count": null,
   "metadata": {},
   "outputs": [],
   "source": [
    "class Item():\n",
    "    pass  # fill your code here"
   ]
  },
  {
   "cell_type": "code",
   "execution_count": null,
   "metadata": {},
   "outputs": [],
   "source": [
    "class Basket():\n",
    "    pass  # fill your code here"
   ]
  },
  {
   "cell_type": "code",
   "execution_count": null,
   "metadata": {},
   "outputs": [],
   "source": [
    "class Customer():\n",
    "    pass  # fill your code here"
   ]
  },
  {
   "cell_type": "code",
   "execution_count": null,
   "metadata": {},
   "outputs": [],
   "source": [
    "class Shop():\n",
    "    pass  # fill your code here"
   ]
  },
  {
   "cell_type": "markdown",
   "metadata": {},
   "source": [
    "Now try out your implementation using the menus you created last week. You will have to add more methods in some classes to support all the different actions by the customer and the shop."
   ]
  },
  {
   "cell_type": "code",
   "execution_count": null,
   "metadata": {},
   "outputs": [],
   "source": []
  }
 ],
 "metadata": {
  "kernelspec": {
   "display_name": "Python 3",
   "language": "python",
   "name": "python3"
  },
  "language_info": {
   "codemirror_mode": {
    "name": "ipython",
    "version": 3
   },
   "file_extension": ".py",
   "mimetype": "text/x-python",
   "name": "python",
   "nbconvert_exporter": "python",
   "pygments_lexer": "ipython3",
   "version": "3.7.0"
  }
 },
 "nbformat": 4,
 "nbformat_minor": 2
}
