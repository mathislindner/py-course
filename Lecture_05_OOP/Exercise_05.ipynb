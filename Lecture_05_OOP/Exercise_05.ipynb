{
 "cells": [
  {
   "cell_type": "markdown",
   "metadata": {},
   "source": [
    "# Object-Oriented Programming in Python - Exercises"
   ]
  },
  {
   "cell_type": "markdown",
   "metadata": {},
   "source": [
    "## $\\mu$-exercises"
   ]
  },
  {
   "cell_type": "markdown",
   "metadata": {},
   "source": [
    "#### 1\n",
    "\n",
    "Define a function of your choice and use it as a **predicate** for defining a comprehension of your choice. "
   ]
  },
  {
   "cell_type": "code",
   "execution_count": null,
   "metadata": {},
   "outputs": [],
   "source": [
    "def f(x):\n",
    "    return x == 2\n",
    "\n"
   ]
  },
  {
   "cell_type": "markdown",
   "metadata": {},
   "source": [
    "#### 2\n",
    "\n",
    "Spell the comprehension that you created above like if it was a mathematical set."
   ]
  },
  {
   "cell_type": "markdown",
   "metadata": {},
   "source": [
    "The comprehension can be spelled as: .."
   ]
  },
  {
   "cell_type": "markdown",
   "metadata": {
    "collapsed": true
   },
   "source": [
    "#### 3\n",
    "Define a function of your choice, and use it as an **expression** in the definition of a comprehension (remember the formal definition of a comprehension)."
   ]
  },
  {
   "cell_type": "code",
   "execution_count": null,
   "metadata": {},
   "outputs": [],
   "source": []
  },
  {
   "cell_type": "markdown",
   "metadata": {},
   "source": [
    "#### 4\n",
    "\n",
    "Flatten the following list of lists: `[[1, 2], [3, 4], [5, 6]]` using a comprehension construct."
   ]
  },
  {
   "cell_type": "code",
   "execution_count": null,
   "metadata": {},
   "outputs": [],
   "source": []
  },
  {
   "cell_type": "markdown",
   "metadata": {},
   "source": [
    "#### 5\n",
    "Verify using the example below, or using an example of your choice, that the order of the `for` statements is important:"
   ]
  },
  {
   "cell_type": "code",
   "execution_count": null,
   "metadata": {},
   "outputs": [],
   "source": [
    "three_levels_list = [[[1, 2, 3]]]\n",
    "one_level_list = [x for level_1 in three_levels_list for level_2 in level_1 for x in level_2]\n",
    "print(one_level_list)"
   ]
  },
  {
   "cell_type": "markdown",
   "metadata": {},
   "source": [
    "#### 6\n",
    "\n",
    "Try the `zip` function on three or more lists. Experiment what happens if they have different lengths."
   ]
  },
  {
   "cell_type": "code",
   "execution_count": null,
   "metadata": {},
   "outputs": [],
   "source": []
  },
  {
   "cell_type": "markdown",
   "metadata": {},
   "source": [
    "#### 7\n",
    "\n",
    "Create a $3\\times 3$ matrix having at the position (i,j) the element $i+2^j$ for i,j=0,1,2."
   ]
  },
  {
   "cell_type": "code",
   "execution_count": null,
   "metadata": {},
   "outputs": [],
   "source": []
  },
  {
   "cell_type": "markdown",
   "metadata": {},
   "source": [
    "#### 8\n",
    "Write the content of the matrix of micro-exercise 7 into a file called matrix.txt. Make sure that the format of the matrix is maintained."
   ]
  },
  {
   "cell_type": "code",
   "execution_count": null,
   "metadata": {},
   "outputs": [],
   "source": []
  },
  {
   "cell_type": "markdown",
   "metadata": {},
   "source": [
    "#### 9\n",
    "Redefine the class `Cat` from the lecture notes and give it default constructor arguments."
   ]
  },
  {
   "cell_type": "code",
   "execution_count": 1,
   "metadata": {},
   "outputs": [
    {
     "ename": "IndentationError",
     "evalue": "expected an indented block (<ipython-input-1-b5d7899d804e>, line 6)",
     "output_type": "error",
     "traceback": [
      "\u001b[1;36m  File \u001b[1;32m\"<ipython-input-1-b5d7899d804e>\"\u001b[1;36m, line \u001b[1;32m6\u001b[0m\n\u001b[1;33m    default_cat = Cat()\u001b[0m\n\u001b[1;37m              ^\u001b[0m\n\u001b[1;31mIndentationError\u001b[0m\u001b[1;31m:\u001b[0m expected an indented block\n"
     ]
    }
   ],
   "source": [
    "class Cat:\n",
    "    # TODO...\n",
    "\n",
    "# Make it possible to create a `Cat` \n",
    "# without necessarily passing arguments to the constructor.\n",
    "default_cat = Cat()\n",
    "cat = Cat(weight=3.0, color='yellow')"
   ]
  },
  {
   "cell_type": "markdown",
   "metadata": {},
   "source": [
    "#### 10\n",
    "Instantiate two objects of your class from above. One instance should have the default attributes, the other one something else."
   ]
  },
  {
   "cell_type": "code",
   "execution_count": null,
   "metadata": {},
   "outputs": [],
   "source": []
  },
  {
   "cell_type": "markdown",
   "metadata": {},
   "source": [
    "#### 11\n",
    "Extend the `Forest` class by the `+=` and `-=` operators such that animals can be added and removed using them. Use the `add_animal` and `remove_animal` functions in the operator definition."
   ]
  },
  {
   "cell_type": "code",
   "execution_count": null,
   "metadata": {},
   "outputs": [],
   "source": [
    "class Animal:\n",
    "    \n",
    "    def __init__(self, name):\n",
    "        self.name = name\n",
    "        \n",
    "    def __str__(self):\n",
    "        return self.name\n",
    "\n",
    "class Forest:\n",
    "    \n",
    "    def __init__(self):\n",
    "        # Create an empty set of animals.\n",
    "        self.animals = set()\n",
    "        \n",
    "    def add_animal(self, animal):\n",
    "        # Add an animal to the forest.\n",
    "        # Check that this is really an animal.\n",
    "        assert isinstance(animal, Animal), 'This is not an animal.'\n",
    "        if animal in self.animals:\n",
    "            print('Cannot enter: Animal \"{}\" is already in the forest.'.format(animal))\n",
    "        else:\n",
    "            print('Animal \"{}\" enters the forest.'.format(animal))\n",
    "            self.animals.add(animal)\n",
    "            \n",
    "    def remove_animal(self, animal):\n",
    "        # Remove an animal from the forest.\n",
    "        assert isinstance(animal, Animal), 'This is not an animal.'\n",
    "        if animal not in self.animals:\n",
    "            print('Cannot leave: Animal \"{}\" is not in the forest.'.format(animal))\n",
    "        else:\n",
    "            print('Animal \"{}\" leaves the forest.'.format(animal))\n",
    "            self.animals.remove(animal)\n",
    "    \n",
    "    # def ....... TODO: Implement the += and -= operators here!\n",
    "            \n",
    "forest = Forest()\n",
    "bear = Animal('bear')\n",
    "deer = Animal('deer')\n",
    "\n",
    "forest.add_animal(bear)\n",
    "forest.add_animal(deer)\n",
    "forest.remove_animal(bear)\n",
    "forest.remove_animal(deer)\n"
   ]
  },
  {
   "cell_type": "markdown",
   "metadata": {},
   "source": [
    "#### 12\n",
    "Test the new operators defined in the `Forest` class and use them to make the bear leave the forest."
   ]
  },
  {
   "cell_type": "code",
   "execution_count": null,
   "metadata": {},
   "outputs": [],
   "source": [
    "# If the '+=' operators are defined in `Forest`\n",
    "# adding animals can be written more compactly.\n",
    "forest += deer\n",
    "forest += bear\n",
    "\n",
    "# Make the bear leave the forest again using the newly defined operators!"
   ]
  },
  {
   "cell_type": "markdown",
   "metadata": {},
   "source": [
    "# Task 1: Class Basics"
   ]
  },
  {
   "cell_type": "markdown",
   "metadata": {},
   "source": [
    "As we learned in the lecture, classes are a powerful way to write code, which is easy to maintain. They are used to combine related data and functionality. "
   ]
  },
  {
   "cell_type": "markdown",
   "metadata": {},
   "source": [
    "## 1.1 Class for storing data about students"
   ]
  },
  {
   "cell_type": "markdown",
   "metadata": {},
   "source": [
    "Create a new class called `Student`. \n",
    "\n",
    "Every student should have the following attributes:\n",
    "* first name\n",
    "* last name\n",
    "* email address\n",
    "* list made of elements of class `Lecture`\n",
    "\n",
    "Now implement three methods for the class `Student`:\n",
    "* `add`, that can add a new lecture to the list of lectures of the `Student`\n",
    "* `show_lectures`, that prints all lectures of the `Student`\n",
    "* `calculate_average_grade`, that calculates and prints the average grade of all lectures of the `Student`\n",
    "\n",
    "The class `Lecture` has attributes `name` and `student_grade`. Take a look at its implementation below:"
   ]
  },
  {
   "cell_type": "code",
   "execution_count": null,
   "metadata": {},
   "outputs": [],
   "source": [
    "class Lecture():\n",
    "    def __init__(self, name='PythonForEngineers', student_grade=6.0):\n",
    "        self.name = name\n",
    "        self.student_grade = student_grade\n",
    "    \n",
    "    def __str__(self):\n",
    "        return 'In lecture {:s} this student obtained grade of {:f}.'.format(self.name, self.student_grade)"
   ]
  },
  {
   "cell_type": "code",
   "execution_count": null,
   "metadata": {},
   "outputs": [],
   "source": [
    "class Student():\n",
    "    pass  # fill your code here"
   ]
  },
  {
   "cell_type": "markdown",
   "metadata": {},
   "source": [
    "Try out your implementation."
   ]
  },
  {
   "cell_type": "code",
   "execution_count": null,
   "metadata": {},
   "outputs": [],
   "source": []
  },
  {
   "cell_type": "markdown",
   "metadata": {},
   "source": [
    "## 1.2 `Classroom()`"
   ]
  },
  {
   "cell_type": "markdown",
   "metadata": {},
   "source": [
    "Create a class `Classroom` which holds a list of `Students`. Each `Student` can have random `Lectures` assigned, and every `Student` should have the same amount of `Lectures`.\n",
    "Create methods which:\n",
    "* Tell who is the student with the highest GPA (grade point average)\n",
    "* Prints out the lecture with lowest/highest GPA\n",
    "\n",
    "__HINT__: Here, you should create another list on the go, which would store all different lectures that are available. Then, figure out which students are taking the lecture, and calculate GPA per lecture based on grades given to `Students` in the lecture."
   ]
  },
  {
   "cell_type": "code",
   "execution_count": null,
   "metadata": {},
   "outputs": [],
   "source": []
  },
  {
   "cell_type": "markdown",
   "metadata": {},
   "source": [
    "# Task 2: Class Inheritance"
   ]
  },
  {
   "cell_type": "markdown",
   "metadata": {},
   "source": [
    "Class inheritance is powerful way to generalize and extend the code that you are writing. It is also possible to make use of already defined Python functionalities."
   ]
  },
  {
   "cell_type": "markdown",
   "metadata": {},
   "source": [
    "## 2.1 Simple List Class "
   ]
  },
  {
   "cell_type": "markdown",
   "metadata": {},
   "source": [
    "Write a simple class `MyList` that has a `list` as an attribute. (Make sure that default constructor works). This class should contain the methods:\n",
    "* `add` --> that adds item to certain position in the list (default is to the end of the list)\n",
    "* `delete` --> that deletes element from the list at given position (default is the last item)\n",
    "\n",
    "__HINT__: Use default parameters for the position in the list. What is the index of the first and last element in a list?"
   ]
  },
  {
   "cell_type": "code",
   "execution_count": null,
   "metadata": {},
   "outputs": [],
   "source": [
    "class MyList():\n",
    "    pass  # fill your code here"
   ]
  },
  {
   "cell_type": "markdown",
   "metadata": {},
   "source": [
    "## 2.2 Extending  `MyList()`"
   ]
  },
  {
   "cell_type": "markdown",
   "metadata": {},
   "source": [
    "Having the base class `MyList`, we want to extend it with:\n",
    "\n",
    "``` python\n",
    "class MyNumberList(MyList); # this class supports ONLY numbers [any kind of a number]\n",
    "class MyStringList(MyList); # this class should support only strings\n",
    "\n",
    "```\n",
    "\n",
    "* Make sure that adding elements adheres to the rules, assert that a new element is of the correct type\n",
    "* Create methods that allow you to manipulate elements\n",
    "    * `MyNumberList()`: \n",
    "        * sort by ascending/descending\n",
    "        * `max()`, `min()`, `average()`\n",
    "    * `MyStringList()`:\n",
    "        * sort by the first letter: A/Z, Z/A\n",
    "        * print out the average number of letters, shortest and longest string\n",
    "\n",
    "__NOTE__: For finding the max, min and sorting, you should use your own code.  \n"
   ]
  },
  {
   "cell_type": "code",
   "execution_count": null,
   "metadata": {},
   "outputs": [],
   "source": [
    "class MyNumberList(MyList):\n",
    "    pass  # fill your code here"
   ]
  },
  {
   "cell_type": "code",
   "execution_count": null,
   "metadata": {},
   "outputs": [],
   "source": [
    "class MyStringList(MyList):\n",
    "    pass  # fill your code here"
   ]
  },
  {
   "cell_type": "markdown",
   "metadata": {},
   "source": [
    "## 2.3 Testing \n",
    "Create one instance each of `MyNumberList()` and `MyStringList()` and show functionality of the methods."
   ]
  },
  {
   "cell_type": "code",
   "execution_count": null,
   "metadata": {},
   "outputs": [],
   "source": []
  },
  {
   "cell_type": "markdown",
   "metadata": {},
   "source": [
    "# Extra Task 3: Shop Example in OOP\n",
    "\n",
    "In the last exercise we created a simulation of a shop. However, we were very limited by our datastructure (`dict` in most cases), since we were only able to save the item's name and price.\n",
    "\n",
    "We will now extend our previous program by replacing the primitive datastructure by a class `Item`. It should have the mandatory attributes `name` and `price`.\n",
    "\n",
    "Next, group the items into a class `Basket`. It should have an attribute `size` limiting the number of items per basket. Implement a method `add_item`, that checks if the basket's capacity is exceeded before adding the item to the basket.\n",
    "\n",
    "Finally, create a class `Customer` that has the attributes `name`, `email`, `budget` and `basket`.\n",
    "\n",
    "Last but foremost, do not forget to also create a class `Shop` holding all available items of the store.\n"
   ]
  },
  {
   "cell_type": "code",
   "execution_count": null,
   "metadata": {},
   "outputs": [],
   "source": [
    "class Item():\n",
    "    pass  # fill your code here"
   ]
  },
  {
   "cell_type": "code",
   "execution_count": null,
   "metadata": {},
   "outputs": [],
   "source": [
    "class Basket():\n",
    "    pass  # fill your code here"
   ]
  },
  {
   "cell_type": "code",
   "execution_count": null,
   "metadata": {},
   "outputs": [],
   "source": [
    "class Customer():\n",
    "    pass  # fill your code here"
   ]
  },
  {
   "cell_type": "code",
   "execution_count": null,
   "metadata": {},
   "outputs": [],
   "source": [
    "class Shop():\n",
    "    pass  # fill your code here"
   ]
  },
  {
   "cell_type": "markdown",
   "metadata": {},
   "source": [
    "Now try out your implementation using the menus you created last week. You will have to add more methods in some classes to support all the different actions by the customer and the shop."
   ]
  },
  {
   "cell_type": "code",
   "execution_count": null,
   "metadata": {},
   "outputs": [],
   "source": []
  }
 ],
 "metadata": {
  "kernelspec": {
   "display_name": "Python 3",
   "language": "python",
   "name": "python3"
  },
  "language_info": {
   "codemirror_mode": {
    "name": "ipython",
    "version": 3
   },
   "file_extension": ".py",
   "mimetype": "text/x-python",
   "name": "python",
   "nbconvert_exporter": "python",
   "pygments_lexer": "ipython3",
   "version": "3.7.3"
  }
 },
 "nbformat": 4,
 "nbformat_minor": 2
}
