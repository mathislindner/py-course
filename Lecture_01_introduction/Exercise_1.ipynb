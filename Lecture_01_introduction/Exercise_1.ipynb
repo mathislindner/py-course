{
 "cells": [
  {
   "cell_type": "markdown",
   "metadata": {},
   "source": [
    "# Introduction - Exercises"
   ]
  },
  {
   "cell_type": "markdown",
   "metadata": {},
   "source": [
    "# Task 1: Markdown\n",
    "\n",
    "This box is a \"Markdown\" box. Markdown is a text formatting syntax (https://en.wikipedia.org/wiki/Markdown). Double click on this text to start editing. After editing a Markdown cell, you can compile the markdown text by pressing \"shift + enter\".\n",
    "\n",
    "Be creative and write something below. Then compile this cell.\n",
    "\n",
    "xxxxx "
   ]
  },
  {
   "cell_type": "markdown",
   "metadata": {},
   "source": [
    "# Task 2: Hello World!\n",
    "The cells below are Python cells. As a matter of fact, when opening this notebook, Jupyter already started a Python interpreter in the background called the kernel (not to be confused with your operating system's kernel). Everything you type in these cells will be sent to the kernel and its output will be printed below the cell.\n",
    "\n",
    "To run a cell, place the cursor in it (such that the cell gets a blue or green border) and either click the \"Run\" button above or press \"shift + enter\".\n",
    "\n",
    "Try running the cell below which contains Python code."
   ]
  },
  {
   "cell_type": "code",
   "execution_count": null,
   "metadata": {},
   "outputs": [],
   "source": [
    "# Single-line comments can begin with \"#\".\n",
    "\n",
    "\"\"\"This is a comment\n",
    "over multiple lines\"\"\"\n",
    "\n",
    "# This cell is a \"Code\" cell. This option can be changed with _Cell _Cell Type from the menu.\n",
    "\n",
    "print('Hello, World!')\n",
    "\n",
    "a = 1  # this sets the variable a to 1."
   ]
  },
  {
   "cell_type": "markdown",
   "metadata": {},
   "source": [
    "The state of the interpreter is shared between all cells, i.e. variables you define in one cell are automatically known in all other cells in subsequent runs. You can reset the state and delete all variables by restarting the Kernel.\n",
    "\n",
    "Do the following:\n",
    "1. Run the cell below. \n",
    "1. If it gives an error, run the cell above and rerun the cell below.\n",
    "1. If it prints \"1\" click _Kernel _Restart & Clear Output and \n",
    "1. Run this cell again: you should get an error because the variable \"a\" has been cleared.\n",
    "1. Restarting the kernel is the first thing to do if you encounter a bug in the future!"
   ]
  },
  {
   "cell_type": "code",
   "execution_count": null,
   "metadata": {},
   "outputs": [],
   "source": [
    "print(a)"
   ]
  },
  {
   "cell_type": "markdown",
   "metadata": {},
   "source": [
    "You can find a jupyter-notebook cheatsheet in the lecture Git repo which contains many handy keyboard shortcuts for working with notebooks."
   ]
  }
 ],
 "metadata": {
  "kernelspec": {
   "display_name": "Python 3",
   "language": "python",
   "name": "python3"
  },
  "language_info": {
   "codemirror_mode": {
    "name": "ipython",
    "version": 3
   },
   "file_extension": ".py",
   "mimetype": "text/x-python",
   "name": "python",
   "nbconvert_exporter": "python",
   "pygments_lexer": "ipython3",
   "version": "3.7.3"
  }
 },
 "nbformat": 4,
 "nbformat_minor": 2
}
