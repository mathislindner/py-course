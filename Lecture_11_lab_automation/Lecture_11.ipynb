{
 "cells": [
  {
   "cell_type": "markdown",
   "metadata": {},
   "source": [
    "# Notes about this lecture\n",
    "Because of the Corona virus outbreak, this lecture will not be held in the classroom but online only. Further, the lecture will only be available in this written form. In order to offer support for the students we will use the gitlab issue tracker as a question & answer forum: https://git.ee.ethz.ch/python-for-engineers/class-fs20-forum and individual videoconference sessions when needed.\n",
    "\n",
    "## Software\n",
    "\n",
    "### Necessary software\n",
    "Please install the following tools:\n",
    "* python3 (https://www.python.org/downloads/ version 3.8.2 is fine.\n",
    "Python is a prerequisite for jupyter)\n",
    "* jupyter-notebook (https://jupyter.org/install.html)\n",
    "* **Hint for Windows and OSX**: Try to install conda or miniconda (https://docs.conda.io/en/latest/miniconda.html) first. This will install Python and jupyter-notebook automatically.\n",
    "\n",
    "### Optional (but highly recommended) software\n",
    "* git (https://git-scm.com/download/). Git is harder to install but not strictly necessary. **Hint**: On Windows Git will automatically install a Linux compatible shell which can then be found as 'Git BASH'.\n",
    "* If git is not available, solutions shall be uploaded on https://polybox.ethz.ch instead and the folder shall be shared with the lecturers. \n",
    "\n",
    "## Support\n",
    "**For any issues please use the forum** at: https://git.ee.ethz.ch/python-for-engineers/class-fs20-forum and follow the instructions therein. In case of need, we will open a room using Jitsi or BigBlueButton and share the audio, video or the screen: make sure you have a microphone and speakers functioning. \n",
    "\n",
    "This service is offered only **during the normal lecture hours**."
   ]
  },
  {
   "cell_type": "markdown",
   "metadata": {},
   "source": [
    "# Obtaining the material for this lecture\n",
    "### If git is available on your system (preferred option)\n",
    "Pull the new material from the upstream repository:\n",
    "\n",
    "```bash\n",
    "cd class-fs20\n",
    "git pull upstream master\n",
    "```\n",
    "\n",
    "Then launch the jupyter-notebook and open the Lecture_XX file:\n",
    "\n",
    "```bash\n",
    "anaconda # Only on ETH computers to load the Python environment.\n",
    "jupyter-notebook &\n",
    "```\n",
    "\n",
    "### If git is **not** available on your system\n",
    "Download the latest material from:\n",
    "https://git.ee.ethz.ch/python-for-engineers/class-fs20/-/archive/master/class-fs20-master.zip\n",
    "and unpack it on your computer."
   ]
  },
  {
   "cell_type": "markdown",
   "metadata": {},
   "source": [
    "# Refreshing previous lecture\n",
    "\n",
    "Please open the jupyter-notebook of the past lecture and read through it. This will help fixing the learned notions into the long-term memory.\n",
    "\n",
    "Today's lecture will use *TKinter*, therefore it is highly recommended to refresh the corresponding lecture.\n",
    "\n",
    "### ✏️ $\\mu$-exercise\n",
    "\n",
    "After having refreshed the last lecture, please switch to the Exercise notebook and complete $\\mu$-exercise **1**."
   ]
  },
  {
   "cell_type": "markdown",
   "metadata": {},
   "source": [
    "# Lecture 11: Laboratory test and measurement automation\n",
    "\n",
    "In the previous editions of the Python P&S, the present lecture involved interacting with real laboratory equipment (such as voltage sources or network analyzers) which were physically brought into the classroom. Due to COVID, however, this is clearly not possible. Therefore, today's lecture will take a slightly different approach, but it will still try to transmit the basic knowledge required to handle laboratory equipment. If you will need to program lab equipment in the future, you will hopefully be in the position of getting started in the shortest time.\n",
    "\n",
    "## The lecture continues on the file *Python_for_engineers_lecture_Lab_automation.pdf*."
   ]
  },
  {
   "cell_type": "code",
   "execution_count": null,
   "metadata": {},
   "outputs": [],
   "source": []
  }
 ],
 "metadata": {
  "kernelspec": {
   "display_name": "Python 3",
   "language": "python",
   "name": "python3"
  },
  "language_info": {
   "codemirror_mode": {
    "name": "ipython",
    "version": 3
   },
   "file_extension": ".py",
   "mimetype": "text/x-python",
   "name": "python",
   "nbconvert_exporter": "python",
   "pygments_lexer": "ipython3",
   "version": "3.7.3"
  }
 },
 "nbformat": 4,
 "nbformat_minor": 2
}
